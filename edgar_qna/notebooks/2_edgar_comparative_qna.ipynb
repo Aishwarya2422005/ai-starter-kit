{
 "cells": [
  {
   "cell_type": "markdown",
   "metadata": {},
   "source": [
    "# Edgar: Comparative Q&A"
   ]
  },
  {
   "cell_type": "code",
   "execution_count": 1,
   "metadata": {},
   "outputs": [
    {
     "name": "stderr",
     "output_type": "stream",
     "text": [
      "/var/folders/g3/mcw1yd_565l486ztq80gf9kw0000gp/T/ipykernel_9481/709950162.py:7: TqdmExperimentalWarning: Using `tqdm.autonotebook.tqdm` in notebook mode. Use `tqdm.tqdm` instead to force console mode (e.g. in jupyter console)\n",
      "  from tqdm.autonotebook import trange\n"
     ]
    }
   ],
   "source": [
    "import os\n",
    "import sys\n",
    "from pprint import pprint\n",
    "import nest_asyncio\n",
    "nest_asyncio.apply()\n",
    "from typing import List, Any\n",
    "from tqdm.autonotebook import trange\n",
    "from pydantic import BaseModel, Field\n",
    "import logging\n",
    "sys.path.append(\"../../\")\n",
    "\n",
    "# Langchain imports\n",
    "from langchain.vectorstores import Chroma\n",
    "from langchain.embeddings.huggingface import HuggingFaceInstructEmbeddings\n",
    "from langchain.chains import LLMChain\n",
    "from langchain.chains.combine_documents.stuff import StuffDocumentsChain\n",
    "from langchain.prompts import (\n",
    "    PromptTemplate,\n",
    "    load_prompt\n",
    ")\n",
    "from langchain_community.document_loaders import PyPDFLoader\n",
    "from langchain.text_splitter import RecursiveCharacterTextSplitter\n",
    "from langchain.output_parsers import PydanticOutputParser\n",
    "from langchain.retrievers.multi_query import MultiQueryRetriever\n",
    "\n",
    "# Llama index imports\n",
    "from llama_index import SimpleDirectoryReader, ServiceContext, VectorStoreIndex\n",
    "from llama_index.tools import QueryEngineTool, ToolMetadata\n",
    "from llama_index.query_engine import SubQuestionQueryEngine\n",
    "from llama_index.llms import (\n",
    "    CustomLLM,\n",
    "    CompletionResponse,\n",
    "    CompletionResponseGen,\n",
    "    LLMMetadata,\n",
    ")\n",
    "from llama_index.llms.base import llm_completion_callback\n",
    "\n",
    "\n",
    "from utils.sambanova_endpoint import SambaNovaEndpoint\n",
    "\n",
    "from dotenv import load_dotenv\n",
    "load_dotenv('../../export.env')\n",
    "\n",
    "logging.basicConfig()\n",
    "logging.getLogger(\"langchain.retrievers.multi_query\").setLevel(logging.INFO)"
   ]
  },
  {
   "cell_type": "markdown",
   "metadata": {},
   "source": [
    "## Llama index"
   ]
  },
  {
   "cell_type": "markdown",
   "metadata": {},
   "source": [
    "### Uber vs Lift 2021"
   ]
  },
  {
   "cell_type": "code",
   "execution_count": null,
   "metadata": {},
   "outputs": [],
   "source": [
    "class SambaNovaLLMWrapper(CustomLLM):\n",
    "    context_window: int = 3900\n",
    "    num_output: int = 256\n",
    "    model_name: str = \"sambanova_llama7b\"\n",
    "    \n",
    "    def _get_sambanova_llm(self):\n",
    "\n",
    "        llm = SambaNovaEndpoint(\n",
    "            base_url=os.getenv('BASE_URL'),\n",
    "            project_id=os.getenv('PROJECT_ID'),\n",
    "            endpoint_id=os.getenv('ENDPOINT_ID'),\n",
    "            api_key=os.getenv('API_KEY'),\n",
    "            model_kwargs={\n",
    "                \"do_sample\": False, \n",
    "                \"temperature\": 0.0,\n",
    "                \"max_tokens_to_generate\": 1000\n",
    "            },\n",
    "        )\n",
    "        return llm\n",
    "\n",
    "    @property\n",
    "    def metadata(self) -> LLMMetadata:\n",
    "        \"\"\"Get LLM metadata.\"\"\"\n",
    "        return LLMMetadata(\n",
    "            context_window=self.context_window,\n",
    "            num_output=self.num_output,\n",
    "            model_name=self.model_name,\n",
    "        )\n",
    "\n",
    "    @llm_completion_callback()\n",
    "    def complete(self, prompt: str, **kwargs: Any) -> CompletionResponse:\n",
    "        llm = self._get_sambanova_llm()\n",
    "        response = llm(prompt)\n",
    "        return CompletionResponse(text=response)\n",
    "\n",
    "    @llm_completion_callback()\n",
    "    def stream_complete(\n",
    "        self, prompt: str, **kwargs: Any\n",
    "    ) -> CompletionResponseGen:\n",
    "        llm = self._get_sambanova_llm()\n",
    "        llm_response = llm(prompt)\n",
    "        for token in llm_response:\n",
    "            response += token\n",
    "            yield CompletionResponse(text=response, delta=token)"
   ]
  },
  {
   "cell_type": "code",
   "execution_count": null,
   "metadata": {},
   "outputs": [],
   "source": [
    "# Instantiate LLM \n",
    "llm = SambaNovaLLMWrapper()"
   ]
  },
  {
   "cell_type": "code",
   "execution_count": null,
   "metadata": {},
   "outputs": [
    {
     "name": "stdout",
     "output_type": "stream",
     "text": [
      "load INSTRUCTOR_Transformer\n",
      "max_seq_length  512\n"
     ]
    }
   ],
   "source": [
    "# Instatiate embedding model\n",
    "embedding_model = HuggingFaceInstructEmbeddings(\n",
    "    query_instruction=\"Represent the query for retrieval: \"\n",
    ")"
   ]
  },
  {
   "cell_type": "code",
   "execution_count": null,
   "metadata": {},
   "outputs": [],
   "source": [
    "# Declare service context\n",
    "service_context = ServiceContext.from_defaults(llm=llm, embed_model=embedding_model)"
   ]
  },
  {
   "cell_type": "code",
   "execution_count": null,
   "metadata": {},
   "outputs": [
    {
     "data": {
      "application/vnd.jupyter.widget-view+json": {
       "model_id": "bf8aeff8b58e41ec9e77e8aad21ba023",
       "version_major": 2,
       "version_minor": 0
      },
      "text/plain": [
       "Parsing nodes:   0%|          | 0/238 [00:00<?, ?it/s]"
      ]
     },
     "metadata": {},
     "output_type": "display_data"
    },
    {
     "data": {
      "application/vnd.jupyter.widget-view+json": {
       "model_id": "ebf6bd9a2f354099957e770ff25470b6",
       "version_major": 2,
       "version_minor": 0
      },
      "text/plain": [
       "Generating embeddings:   0%|          | 0/344 [00:00<?, ?it/s]"
      ]
     },
     "metadata": {},
     "output_type": "display_data"
    },
    {
     "data": {
      "application/vnd.jupyter.widget-view+json": {
       "model_id": "4308f2f038ac447e9c0d52da8ba5c358",
       "version_major": 2,
       "version_minor": 0
      },
      "text/plain": [
       "Parsing nodes:   0%|          | 0/307 [00:00<?, ?it/s]"
      ]
     },
     "metadata": {},
     "output_type": "display_data"
    },
    {
     "data": {
      "application/vnd.jupyter.widget-view+json": {
       "model_id": "8b5031bb317744d0b057b9196924735b",
       "version_major": 2,
       "version_minor": 0
      },
      "text/plain": [
       "Generating embeddings:   0%|          | 0/412 [00:00<?, ?it/s]"
      ]
     },
     "metadata": {},
     "output_type": "display_data"
    }
   ],
   "source": [
    "## Load data \n",
    "lyft_docs = SimpleDirectoryReader(\n",
    "    input_files=[\"../data/sec-edgar-filings/pdfs/lyft_10k_2021.pdf\"]\n",
    ").load_data()\n",
    "uber_docs = SimpleDirectoryReader(\n",
    "    input_files=[\"../data/sec-edgar-filings/pdfs/uber_10k_2021.pdf\"]\n",
    ").load_data()\n",
    "\n",
    "## Build indices\n",
    "lyft_index = VectorStoreIndex.from_documents(lyft_docs, show_progress=True, service_context=service_context)\n",
    "\n",
    "uber_index = VectorStoreIndex.from_documents(uber_docs, show_progress=True, service_context=service_context)\n",
    "\n",
    "## Build query engines\n",
    "lyft_engine = lyft_index.as_query_engine(similarity_top_k=3)\n",
    "\n",
    "uber_engine = uber_index.as_query_engine(similarity_top_k=3)"
   ]
  },
  {
   "cell_type": "code",
   "execution_count": null,
   "metadata": {},
   "outputs": [],
   "source": [
    "# Instantiate query engine tools\n",
    "query_engine_tools = [\n",
    "    QueryEngineTool(\n",
    "        query_engine=lyft_engine,\n",
    "        metadata=ToolMetadata(\n",
    "            name=\"lyft_10k\",\n",
    "            description=(\n",
    "                \"Provides information about Lyft financials for year 2021\"\n",
    "            ),\n",
    "        ),\n",
    "    ),\n",
    "    QueryEngineTool(\n",
    "        query_engine=uber_engine,\n",
    "        metadata=ToolMetadata(\n",
    "            name=\"uber_10k\",\n",
    "            description=(\n",
    "                \"Provides information about Uber financials for year 2021\"\n",
    "            ),\n",
    "        ),\n",
    "    ),\n",
    "]\n",
    "\n",
    "# Instantiate Sub query engine\n",
    "s_engine = SubQuestionQueryEngine.from_defaults(\n",
    "    query_engine_tools=query_engine_tools,\n",
    "    service_context=service_context\n",
    ")"
   ]
  },
  {
   "cell_type": "code",
   "execution_count": null,
   "metadata": {},
   "outputs": [
    {
     "name": "stderr",
     "output_type": "stream",
     "text": [
      "/opt/homebrew/Caskroom/miniconda/base/envs/py310/lib/python3.10/site-packages/langchain_core/_api/deprecation.py:117: LangChainDeprecationWarning: The function `__call__` was deprecated in LangChain 0.1.7 and will be removed in 0.2.0. Use invoke instead.\n",
      "  warn_deprecated(\n"
     ]
    },
    {
     "name": "stdout",
     "output_type": "stream",
     "text": [
      "Generated 4 sub questions.\n",
      "\u001b[1;3;38;2;237;90;200m[lyft_10k] Q: What are the customer segments that grew the fastest for Lyft\n",
      "\u001b[0m\u001b[1;3;38;2;90;149;237m[lyft_10k] Q: What are the geographies that grew the fastest for Lyft\n",
      "\u001b[0m\u001b[1;3;38;2;11;159;203m[uber_10k] Q: What are the customer segments that grew the fastest for Uber\n",
      "\u001b[0m\u001b[1;3;38;2;155;135;227m[uber_10k] Q: What are the geographies that grew the fastest for Uber\n",
      "\u001b[0m\u001b[1;3;38;2;11;159;203m[uber_10k] A: \n",
      "Uber's customer segments that grew the fastest are not explicitly stated in the provided context information. However, we can infer that Uber's customer base has expanded across various segments, given the growth in the number of Mobility drivers, Delivery and Grocery orders, and the acquisition of Transplace, which expanded Uber's Freight revenue.\n",
      "\n",
      "The context information highlights Uber's efforts to expand its platform by offering new services, such as Uber One, Uber Pass, Eats Pass, and Rides Pass subscription memberships, and its focus on improving the convenience and seamless experience for its consumers. It also mentions the growth in active advertising merchants and the expansion of Uber's Delivery services to include grocery, alcohol, and convenience store delivery, as well as select other goods.\n",
      "\n",
      "Therefore, it can be inferred that Uber's customer segments that grew the fastest are likely those who have adopted these new services and offerings, such as subscription members, advertising merchants, and customers utilizing the expanded Delivery services. However, without further information, it is not possible to determine the exact customer segments that grew the fastest.\n",
      "\u001b[0m\u001b[1;3;38;2;237;90;200m[lyft_10k] A: According to the provided information, Lyft's customer segments that grew the fastest are not explicitly stated. However, the information does mention that Lyft's marketing efforts aim to educate people about Lyft's products in creative and memorable ways, generate greater brand awareness among potential drivers and riders, and engage with current riders through various initiatives. Additionally, Lyft's commitment to safety is mentioned, which is a strong guiding principle for the company and a key factor in building trust with drivers and riders.\n",
      "\n",
      "Therefore, it can be inferred that Lyft's customer segments that grew the fastest are likely the riders and drivers who value the company's commitment to safety, convenience, affordability, and technology infrastructure. These segments may include individuals who are looking for alternative transportation options to car ownership, those who prioritize safety and trust in their ride-sharing experiences, and those who appreciate the convenience and efficiency of Lyft's platform and services. However, without further information, it is not possible to provide a more specific answer to the query.\n",
      "\u001b[0m\u001b[1;3;38;2;155;135;227m[uber_10k] A: \n",
      "\n",
      "The fastest growing geographies for Uber are:\n",
      "\n",
      "1. Asia Pacific (APAC) - revenue grew from $821 in 2019 to $2,731 in 2021, a significant increase of 235% over the three-year period.\n",
      "2. Latin America (LatAm) - revenue grew from $1,862 in 2019 to $3,217 in 2021, a substantial increase of 73% over the three-year period.\n",
      "3. Europe, Middle East, and Africa (EMEA) - revenue grew from $1,852 in 2019 to $3,213 in 2021, a notable increase of 74% over the three-year period.\n",
      "\n",
      "It's important to note that the revenue growth rates for these geographies may vary from year to year, and the relative growth rates may also differ. However, based on the information provided, APAC, LatAm, and EMEA are the fastest growing geographies for Uber.\n",
      "\u001b[0m\n",
      "\n",
      "Comparison of customer segments:\n",
      "\n",
      "Lyft's fastest growing customer segments are likely riders and drivers who value the company's commitment to safety, convenience, affordability, and technology infrastructure. These segments may include individuals who are looking for alternative transportation options to car ownership, those who prioritize safety and trust in their ride-sharing experiences, and those who appreciate the convenience and efficiency of Lyft's platform and services.\n",
      "\n",
      "Uber's fastest growing customer segments are likely those who have adopted its new services and offerings, such as subscription members, advertising merchants, and customers utilizing the expanded Delivery services.\n",
      "\n",
      "Comparison of geographies:\n",
      "\n",
      "Lyft's fastest growing geographies are not explicitly stated in the provided context information.\n",
      "\n",
      "Uber's fastest growing geographies are APAC, LatAm, and EMEA. APAC revenue grew by 235% over the three-year period, LatAm revenue grew by 73% over the three-year period, and EMEA revenue grew by 74% over the three-year period.\n",
      "\n",
      "Contrast:\n",
      "\n",
      "While both Lyft and Uber have grown their customer segments and geographies, there are differences in the specific segments and geographies that have grown the fastest. Lyft's fastest growing customer segments are likely riders and drivers who value safety, convenience, affordability, and technology infrastructure, while Uber's fastest growing customer segments are those who have adopted its new services and offerings.\n",
      "\n",
      "In terms of geographies, Uber's fastest growing regions are APAC, LatAm, and EMEA, while Lyft's fastest growing geographies are not explicitly stated.\n",
      "\n",
      "In summary, while both Lyft and Uber have experienced growth in their customer segments and geographies, the specific segments and geographies that have grown the fastest differ between the two companies.\n",
      "Generated 2 sub questions.\n",
      "\u001b[1;3;38;2;237;90;200m[uber_10k] Q: What is the revenue growth of Uber from 2020 to 2021\n",
      "\u001b[0m\u001b[1;3;38;2;90;149;237m[lyft_10k] Q: What is the revenue growth of Lyft from 2020 to 2021\n",
      "\u001b[0m\u001b[1;3;38;2;90;149;237m[lyft_10k] A: 14%\n",
      "Explanation: According to the provided information, Lyft's revenue increased by 14% from 2020 to 2021, which means the revenue growth of Lyft from 2020 to 2021 is 14%.\n",
      "\u001b[0mAccording to the provided information, Uber's revenue increased by 8% from 2020 to 2021, while Lyft's revenue increased by 14% during the same period. Therefore, Lyft's revenue growth from 2020 to 2021 is higher than Uber's.\n"
     ]
    }
   ],
   "source": [
    "## Run queries\n",
    "response = s_engine.query(\n",
    "    \"Compare and contrast the customer segments and geographies that grew the fastest\"\n",
    ")\n",
    "\n",
    "print(response)\n",
    "\n",
    "response = s_engine.query(\n",
    "    \"Compare revenue growth of Uber and Lyft from 2020 to 2021\"\n",
    ")\n",
    "\n",
    "print(response)"
   ]
  },
  {
   "cell_type": "markdown",
   "metadata": {},
   "source": [
    "### ADI: max20710 vs max20810"
   ]
  },
  {
   "cell_type": "code",
   "execution_count": 14,
   "metadata": {},
   "outputs": [
    {
     "name": "stdout",
     "output_type": "stream",
     "text": [
      "load INSTRUCTOR_Transformer\n",
      "max_seq_length  512\n"
     ]
    }
   ],
   "source": [
    "# Instantiate LLM \n",
    "llm = SambaNovaLLMWrapper()\n",
    "\n",
    "# Instatiate embedding model\n",
    "embedding_model = HuggingFaceInstructEmbeddings(\n",
    "    query_instruction=\"Represent the query for retrieval: \"\n",
    ")\n",
    "\n",
    "# Declare service context\n",
    "service_context = ServiceContext.from_defaults(llm=llm, embed_model=embedding_model)"
   ]
  },
  {
   "cell_type": "code",
   "execution_count": 15,
   "metadata": {},
   "outputs": [],
   "source": [
    "## Load data \n",
    "max207_docs = SimpleDirectoryReader(\n",
    "    input_files=[\"../data/adi/max20710#_#max20710.pdf.md\"]\n",
    ").load_data()\n",
    "max208_docs = SimpleDirectoryReader(\n",
    "    input_files=[\"../data/adi/max20810#_#max20810.pdf.md\"]\n",
    ").load_data()"
   ]
  },
  {
   "cell_type": "code",
   "execution_count": 16,
   "metadata": {},
   "outputs": [
    {
     "data": {
      "application/vnd.jupyter.widget-view+json": {
       "model_id": "684f7945d1944549bbf8116dee6ba93c",
       "version_major": 2,
       "version_minor": 0
      },
      "text/plain": [
       "Parsing nodes:   0%|          | 0/48 [00:00<?, ?it/s]"
      ]
     },
     "metadata": {},
     "output_type": "display_data"
    },
    {
     "data": {
      "application/vnd.jupyter.widget-view+json": {
       "model_id": "292db0ccb083406f87fe681c52cc1630",
       "version_major": 2,
       "version_minor": 0
      },
      "text/plain": [
       "Generating embeddings:   0%|          | 0/63 [00:00<?, ?it/s]"
      ]
     },
     "metadata": {},
     "output_type": "display_data"
    },
    {
     "data": {
      "application/vnd.jupyter.widget-view+json": {
       "model_id": "23a9e0ff6e0e451d82bcb35537a4c13a",
       "version_major": 2,
       "version_minor": 0
      },
      "text/plain": [
       "Parsing nodes:   0%|          | 0/32 [00:00<?, ?it/s]"
      ]
     },
     "metadata": {},
     "output_type": "display_data"
    },
    {
     "data": {
      "application/vnd.jupyter.widget-view+json": {
       "model_id": "67fe9a5aaf4d4849bad385779ff18a6a",
       "version_major": 2,
       "version_minor": 0
      },
      "text/plain": [
       "Generating embeddings:   0%|          | 0/38 [00:00<?, ?it/s]"
      ]
     },
     "metadata": {},
     "output_type": "display_data"
    }
   ],
   "source": [
    "## Build indices\n",
    "max207_index = VectorStoreIndex.from_documents(max207_docs, show_progress=True, service_context=service_context)\n",
    "\n",
    "max208_index = VectorStoreIndex.from_documents(max208_docs, show_progress=True, service_context=service_context)\n",
    "\n",
    "## Build query engines\n",
    "max207_engine = max207_index.as_query_engine(similarity_top_k=3)\n",
    "\n",
    "max208_engine = max208_index.as_query_engine(similarity_top_k=3)\n"
   ]
  },
  {
   "cell_type": "code",
   "execution_count": 17,
   "metadata": {},
   "outputs": [],
   "source": [
    "# Instantiate query engine tools\n",
    "query_engine_tools = [\n",
    "    QueryEngineTool(\n",
    "        query_engine=max207_engine,\n",
    "        metadata=ToolMetadata(\n",
    "            name=\"max207\",\n",
    "            description=(\n",
    "                \"Provides information about max20710 device\"\n",
    "            ),\n",
    "        ),\n",
    "    ),\n",
    "    QueryEngineTool(\n",
    "        query_engine=max208_engine,\n",
    "        metadata=ToolMetadata(\n",
    "            name=\"max208\",\n",
    "            description=(\n",
    "                \"Provides information about max20810 device\"\n",
    "            ),\n",
    "        ),\n",
    "    ),\n",
    "]\n",
    "\n",
    "# Instantiate Sub query engine\n",
    "s_engine = SubQuestionQueryEngine.from_defaults(\n",
    "    query_engine_tools=query_engine_tools,\n",
    "    service_context=service_context\n",
    ")"
   ]
  },
  {
   "cell_type": "code",
   "execution_count": 18,
   "metadata": {},
   "outputs": [
    {
     "name": "stdout",
     "output_type": "stream",
     "text": [
      "Generated 4 sub questions.\n",
      "\u001b[1;3;38;2;237;90;200m[max207] Q: What are the advantages of max2070\n",
      "\u001b[0m\u001b[1;3;38;2;90;149;237m[max207] Q: What are the disadvantages of max2070\n",
      "\u001b[0m\u001b[1;3;38;2;11;159;203m[max208] Q: What are the advantages of max20810\n",
      "\u001b[0m\u001b[1;3;38;2;155;135;227m[max208] Q: What are the disadvantages of max20810\n",
      "\u001b[0m\u001b[1;3;38;2;237;90;200m[max207] A: According to the provided information, the MAX20710 offers several advantages, including:\n",
      "\n",
      "1. High power density and low component count, making it an extremely compact, high-efficiency regulator solution.\n",
      "2. Overall solution size, including inductor and output capacitors, is $509 \\mathrm{~mm}^{2}$.\n",
      "3. High peak efficiency of $90.5 \\%$ with $\\mathrm{V}_{\\mathrm{DDH}}=12 \\mathrm{~V}$ and $\\mathrm{V}_{\\mathrm{OUT}}$ $=1 \\mathrm{~V}$.\n",
      "4. Fast transient response, supporting up to 300A/ps load-step transients.\n",
      "5. Optimized component performance and efficiency with reduced design-in time.\n",
      "6. PMBus-compliant interface for telemetry and power management.\n",
      "7. Voltage, current, and temperature reporting through the digital bus.\n",
      "8. Increased power-supply reliability with system and IC self-protection features.\n",
      "9. Differential remote sense with open-circuit detection.\n",
      "10. Hiccup overcurrent protection.\n",
      "11. Programmable thermal shutdown.\n",
      "\n",
      "These advantages make the MAX20710 an attractive choice for applications requiring a high-efficiency, compact, and highly integrated switching regulator with advanced features and protections.\n",
      "\u001b[0m\u001b[1;3;38;2;11;159;203m[max208] A: \n",
      "\n",
      "Relying on the context information provided, the advantages of the max20810 include:\n",
      "\n",
      "1. High power density with low component count.\n",
      "2. Compact $4.3 \\mathrm{~mm} \\times 6.55 \\mathrm{~mm}$ FC2QFN package.\n",
      "3. Internal compensation.\n",
      "4. Single-supply operation with integrated LDO for bias generation.\n",
      "5. Wide operating range: $2.7 \\mathrm{~V}$ to $16 \\mathrm{~V}$ input voltage range and $0.4 \\mathrm{~V}$ to $5.8 \\mathrm{~V}$ output voltage range.\n",
      "6. Configurable switching frequency: $500 \\mathrm{kHz}$ to $2 \\mathrm{MHz}$.\n",
      "7. Optimized performance and efficiency: 93.8\\% peak efficiency with $\\mathrm{V}_{\\mathrm{DDH}}=12 \\mathrm{~V}$ and $\\mathrm{V}_{\\mathrm{OUT}}=1.8 \\mathrm{~V}$.\n",
      "8. High efficiency with optional external bias input supply.\n",
      "9. AMS to improve load transient response.\n",
      "10. Differential remote sense.\n",
      "11. PMBus interface.\n",
      "12. Adaptive voltage scaling of $0.4 \\mathrm{~V}$ to $0.8 \\mathrm{~V}$ reference range.\n",
      "13. PMBus telemetry of output current, output voltage, input voltage, and junction temperature.\n",
      "\n",
      "These advantages make the max20810 an efficient and versatile DC-DC switching regulator suitable for various applications.\n",
      "\u001b[0m\u001b[1;3;38;2;90;149;237m[max207] A: \n",
      "\n",
      "There are no explicit disadvantages of the MAX20710 mentioned in the provided context information. The MAX20710 is described as a highly efficient and compact switching regulator with advanced features such as valley current-mode control, adaptive switching frequency, and PMBus interface. It also has protection and telemetry features, including overcurrent protection, overtemperature protection, and input undervoltage lockout.\n",
      "\n",
      "The only potential disadvantage mentioned in the context information is the limited operating range of the device, which is specified to operate from 4.5 V to 16 V and support up to 10 A (max) load. However, this limitation is not explicitly mentioned as a disadvantage.\n",
      "\n",
      "Therefore, based on the provided context information, there are no explicit disadvantages of the MAX20710.\n",
      "\u001b[0m\u001b[1;3;38;2;155;135;227m[max208] A: \n",
      "\n",
      "Explanation: \n",
      "\n",
      "The MAX20810 is a highly efficient, step-down DC-DC switching regulator with PMBus interface. It has multiple protections, including positive and negative overcurrent protection, output overvoltage protection, and overtemperature protection, to ensure a robust design. However, there are no explicit disadvantages mentioned in the given context information. Therefore, I cannot provide any disadvantages of the MAX20810.\n",
      "\u001b[0m\n",
      "\n",
      "Comparison of the advantages and disadvantages of max2070 and max20810:\n",
      "\n",
      "Advantages:\n",
      "\n",
      "MAX20710:\n",
      "\n",
      "* High power density and low component count.\n",
      "* High peak efficiency of $90.5 \\%$ with $\\mathrm{V}_{\\mathrm{DDH}}=12 \\mathrm{~V}$ and $\\mathrm{V}_{\\mathrm{OUT}}$ $=1 \\mathrm{~V}$.\n",
      "* Fast transient response, supporting up to 300A/ps load-step transients.\n",
      "* PMBus-compliant interface for telemetry and power management.\n",
      "* Voltage, current, and temperature reporting through the digital bus.\n",
      "* Increased power-supply reliability with system and IC self-protection features.\n",
      "* Differential remote sense with open-circuit detection.\n",
      "* Hiccup overcurrent protection.\n",
      "* Programmable thermal shutdown.\n",
      "\n",
      "MAX20810:\n",
      "\n",
      "* High power density with low component count.\n",
      "* Compact $4.3 \\mathrm{~mm} \\times 6.55 \\mathrm{~mm}$ FC2QFN package.\n",
      "* Internal compensation.\n",
      "* Single-supply operation with integrated LDO for bias generation.\n",
      "* Wide operating range: $2.7 \\mathrm{~V}$ to $16 \\mathrm{~V}$ input voltage range and $0.4 \\mathrm{~V}$ to $5.8 \\mathrm{~V}$ output voltage range.\n",
      "* Configurable switching frequency: $500 \\mathrm{kHz}$ to $2 \\mathrm{MHz}$.\n",
      "* Optimized performance and efficiency: 93.8\\% peak efficiency with $\\mathrm{V}_{\\mathrm{DDH}}=12 \\mathrm{~V}$ and $\\mathrm{V}_{\\mathrm{OUT}}=1.8 \\mathrm{~V}$.\n",
      "* High efficiency with optional external bias input supply.\n",
      "* AMS to improve load transient response.\n",
      "* Differential remote sense.\n",
      "* PMBus interface.\n",
      "* Adaptive voltage scaling of $0.4 \\mathrm{~V}$ to $0.8 \\mathrm{~V}$ reference range.\n",
      "* PMBus telemetry of output current, output voltage, input voltage, and junction temperature.\n",
      "\n",
      "Disadvantages:\n",
      "\n",
      "MAX20710:\n",
      "\n",
      "* No explicit disadvantages mentioned in the provided context information.\n",
      "\n",
      "MAX20810:\n",
      "\n",
      "* No explicit disadvantages mentioned in the provided context information.\n",
      "\n",
      "Comparison:\n",
      "\n",
      "Both the MAX20710 and MAX20810 have similar advantages, such as high power density, low component count, internal compensation, single-supply operation, and PMBus interface. They also share similar protection features, such as overcurrent protection, overtemperature protection, and input undervoltage lockout.\n",
      "\n",
      "However, the MAX20710 has a narrower operating range compared to the MAX20810. The MAX20710 operates from 4.5 V to 16 V and supports up to 10 A (max) load, while the MAX20810 operates from 2.7 V to 16 V and supports up to 5.8 V output voltage. The MAX20810 also has a wider input voltage range and a configurable switching frequency, which makes it more versatile.\n",
      "\n",
      "In summary, both the MAX20710 and MAX20810 are efficient and compact DC-DC switching regulators with advanced features and protections. The MAX20810 has a wider operating range and configurable switching frequency, while the MAX20710 has a narrower operating range but faster transient response and programmable thermal shutdown.\n"
     ]
    }
   ],
   "source": [
    "## Run queries\n",
    "response = s_engine.query(\n",
    "    \"Compare and contrast the advantages and disadvantages of max2070 and max20810\"\n",
    ")\n",
    "\n",
    "print(response)"
   ]
  },
  {
   "cell_type": "code",
   "execution_count": 19,
   "metadata": {},
   "outputs": [
    {
     "name": "stdout",
     "output_type": "stream",
     "text": [
      "Generated 4 sub questions.\n",
      "\u001b[1;3;38;2;237;90;200m[max207] Q: What are the advantages of max20710\n",
      "\u001b[0m\u001b[1;3;38;2;90;149;237m[max207] Q: What are the disadvantages of max20710\n",
      "\u001b[0m\u001b[1;3;38;2;11;159;203m[max208] Q: What are the advantages of max20810\n",
      "\u001b[0m\u001b[1;3;38;2;155;135;227m[max208] Q: What are the disadvantages of max20810\n",
      "\u001b[0m\u001b[1;3;38;2;11;159;203m[max208] A: \n",
      "\n",
      "Relying on the context information provided, the advantages of the max20810 include:\n",
      "\n",
      "1. High power density with low component count.\n",
      "2. Compact $4.3 \\mathrm{~mm} \\times 6.55 \\mathrm{~mm}$ FC2QFN package.\n",
      "3. Internal compensation.\n",
      "4. Single-supply operation with integrated LDO for bias generation.\n",
      "5. Wide operating range: $2.7 \\mathrm{~V}$ to $16 \\mathrm{~V}$ input voltage range and $0.4 \\mathrm{~V}$ to $5.8 \\mathrm{~V}$ output voltage range.\n",
      "6. Configurable switching frequency: $500 \\mathrm{kHz}$ to $2 \\mathrm{MHz}$.\n",
      "7. Optimized performance and efficiency: 93.8\\% peak efficiency with $\\mathrm{V}_{\\mathrm{DDH}}=12 \\mathrm{~V}$ and $\\mathrm{V}_{\\mathrm{OUT}}=1.8 \\mathrm{~V}$.\n",
      "8. High efficiency with optional external bias input supply.\n",
      "9. AMS to improve load transient response.\n",
      "10. Differential remote sense.\n",
      "11. PMBus interface.\n",
      "12. Adaptive voltage scaling of $0.4 \\mathrm{~V}$ to $0.8 \\mathrm{~V}$ reference range.\n",
      "13. PMBus telemetry of output current, output voltage, input voltage, and junction temperature.\n",
      "\n",
      "These advantages make the max20810 an efficient and versatile DC-DC switching regulator suitable for various applications.\n",
      "\u001b[0m\u001b[1;3;38;2;90;149;237m[max207] A: \n",
      "\n",
      "The MAX20710 has the following disadvantages:\n",
      "\n",
      "1. Limited output voltage range: The MAX20710 can only regulate output voltages between 4.5V and 16V, which may limit its applicability in certain applications requiring a wider output voltage range.\n",
      "2. Low efficiency at light loads: The MAX20710 has a peak efficiency of 90.5% at a load of 12V and 1A, but its efficiency decreases significantly at lighter loads. This may result in higher power consumption and heat generation in certain applications.\n",
      "3. Limited power handling capability: The MAX20710 can handle up to 10A of load current, which may not be sufficient for applications requiring higher current handling capabilities.\n",
      "4. Limited thermal performance: The MAX20710 has a maximum operating temperature of 150°C, which may limit its use in high-temperature applications. Additionally, it has a relatively low thermal shutdown temperature of 135°C, which may require additional cooling mechanisms in some applications.\n",
      "5. Limited programmability: Although the MAX20710 has programmable features through the PMBus interface, it has limited programmability compared to other power management ICs. This may limit its ability to adapt to specific application requirements.\n",
      "6. No internal voltage regulation: The MAX20710 requires an external voltage regulator to regulate the output voltage, which may add complexity and cost to the overall design.\n",
      "7. Limited EMI performance: The MAX20710 has a relatively high switching frequency of 400kHz to 900kHz, which may result in higher EMI emissions compared to other power management ICs with lower switching frequencies.\n",
      "8. No built-in voltage monitoring: The MAX20710 does not have built-in voltage monitoring capabilities, which may require additional components and circuitry to monitor the output voltage.\n",
      "\n",
      "It is important to note that these disadvantages are relative to other power management ICs and may not necessarily be significant drawbacks in all applications. A thorough evaluation of the MAX20710's features and performance should be conducted for each specific application to determine its suitability.\n",
      "\u001b[0m\u001b[1;3;38;2;237;90;200m[max207] A: \n",
      "\n",
      "Advantages of max20710 include:\n",
      "\n",
      "1. High power density and low component count, making it an overall compact solution.\n",
      "2. High efficiency with a peak efficiency of 90.5% at 12V and 1V output.\n",
      "3. Fast transient response, supporting up to 300A/ps load-step transients.\n",
      "4. Optimized component performance and efficiency with reduced design-in time.\n",
      "5. PMBus-compliant interface for telemetry and power management.\n",
      "6. Voltage, current, and temperature reporting through the digital bus.\n",
      "7. Increased power-supply reliability with system and IC self-protection features.\n",
      "8. Differential remote sense with open-circuit detection.\n",
      "9. Hiccup overcurrent protection.\n",
      "10. Programmable thermal shutdown.\n",
      "\n",
      "These advantages make the max20710 an attractive choice for applications that require a high-performance, efficient, and reliable power supply solution with a small footprint.\n",
      "\u001b[0m\u001b[1;3;38;2;155;135;227m[max208] A: \n",
      "\n",
      "Explanation: \n",
      "\n",
      "The MAX20810 is a highly efficient, step-down DC-DC switching regulator with PMBus interface. It has multiple protections, including positive and negative overcurrent protection, output overvoltage protection, and overtemperature protection, to ensure a robust design. However, there are no explicit disadvantages mentioned in the given context information. Therefore, I cannot provide any disadvantages of the MAX20810.\n",
      "\u001b[0m\n",
      "\n",
      "Comparison of MAX20710 and MAX20810:\n",
      "\n",
      "Advantages:\n",
      "\n",
      "MAX20710:\n",
      "\n",
      "1. High power density and low component count.\n",
      "2. High efficiency with a peak efficiency of 90.5% at 12V and 1V output.\n",
      "3. Fast transient response.\n",
      "4. Optimized component performance and efficiency with reduced design-in time.\n",
      "5. PMBus-compliant interface for telemetry and power management.\n",
      "6. Increased power-supply reliability with system and IC self-protection features.\n",
      "7. Differential remote sense.\n",
      "8. Hiccup overcurrent protection.\n",
      "9. Programmable thermal shutdown.\n",
      "\n",
      "MAX20810:\n",
      "\n",
      "1. High power density with low component count.\n",
      "2. Compact $4.3 \\times 6.55 \\mathrm{~mm}$ FC2QFN package.\n",
      "3. Internal compensation.\n",
      "4. Single-supply operation with integrated LDO for bias generation.\n",
      "5. Wide operating range: $2.7 \\mathrm{~V}$ to $16 \\mathrm{~V}$ input voltage range and $0.4 \\mathrm{~V}$ to $5.8 \\mathrm{~V}$ output voltage range.\n",
      "6. Configurable switching frequency: $500 \\mathrm{kHz}$ to $2 \\mathrm{MHz}$.\n",
      "7. Optimized performance and efficiency: 93.8\\% peak efficiency with $\\mathrm{V}_{\\mathrm{DDH}}=12 \\mathrm{~V}$ and $\\mathrm{V}_{\\mathrm{OUT}}=1.8 \\mathrm{~V}$.\n",
      "8. High efficiency with optional external bias input supply.\n",
      "9. AMS to improve load transient response.\n",
      "10. Differential remote sense.\n",
      "11. PMBus interface.\n",
      "12. Adaptive voltage scaling of $0.4 \\mathrm{~V}$ to $0.8 \\mathrm{~V}$ reference range.\n",
      "13. PMBus telemetry of output current, output voltage, input voltage, and junction temperature.\n",
      "\n",
      "Disadvantages:\n",
      "\n",
      "MAX20710:\n",
      "\n",
      "1. Limited output voltage range: 4.5V to 16V.\n",
      "2. Low efficiency at light loads.\n",
      "3. Limited power handling capability: 10A.\n",
      "4. Limited thermal performance: 150°C.\n",
      "5. Limited programmability.\n",
      "6. No internal voltage regulation.\n",
      "7. Limited EMI performance.\n",
      "8. No built-in voltage monitoring.\n",
      "\n",
      "MAX20810:\n",
      "\n",
      "No explicit disadvantages mentioned in the given context information.\n",
      "\n",
      "Comparison:\n",
      "\n",
      "Both devices have similar advantages, such as high power density, low component count, internal compensation, single-supply operation, and PMBus interface. They also share similarities in their disadvantages, such as limited output voltage range and limited thermal performance. However, the MAX20810 has a wider input voltage range and a higher peak efficiency than the MAX20710. The MAX20710 has a programmable thermal shutdown, while the MAX20810 has adaptive voltage scaling and PMBus telemetry. The MAX20710 has a lower switching frequency than the MAX20810.\n",
      "\n",
      "In summary, both devices have their unique advantages and disadvantages, but they share some similarities. The MAX20810 has a wider input voltage range, higher peak efficiency, adaptive voltage scaling, and PMBus telemetry, while the MAX20710 has a programmable thermal shutdown and a lower switching frequency. The choice between the two devices depends on the specific requirements of the application.\n"
     ]
    }
   ],
   "source": [
    "response = s_engine.query(\n",
    "    \"Compare and contrast the advantages and disadvantages of both devices\"\n",
    ")\n",
    "\n",
    "print(response)"
   ]
  },
  {
   "cell_type": "code",
   "execution_count": 20,
   "metadata": {},
   "outputs": [
    {
     "name": "stdout",
     "output_type": "stream",
     "text": [
      "Generated 3 sub questions.\n",
      "\u001b[1;3;38;2;237;90;200m[max208] Q: What are the differences in the electrical characteristics of the MAX20810 and the MAX20710\n",
      "\u001b[0m\u001b[1;3;38;2;90;149;237m[max208] Q: What are the differences in the mechanical characteristics of the MAX20810 and the MAX20710\n",
      "\u001b[0m\u001b[1;3;38;2;11;159;203m[max208] Q: Are there any differences in the certifications and compliance of the MAX20810 and the MAX20710\n",
      "\u001b[0m\u001b[1;3;38;2;11;159;203m[max208] A: \n",
      "\n",
      "There are no differences in the certifications and compliance of the MAX20810 and the MAX20710.\n",
      "\n",
      "Explanation:\n",
      "The MAX20810 and the MAX20710 are both designed to meet the same industry standards and regulations, such as the PMBus interface, and have similar operating conditions and characteristics. They also share similar packaging and footprint, which suggests that they have similar certifications and compliance.\n",
      "\n",
      "However, it is important to note that the MAX20810 has additional features and improved specifications compared to the MAX20710, such as higher efficiency, lower noise, and better thermal performance. These differences may result in different certifications and compliance for the two devices, but this information is not provided in the given context. Therefore, without further information, it is assumed that the devices have the same certifications and compliance.\n",
      "\u001b[0m\u001b[1;3;38;2;237;90;200m[max208] A: \n",
      "\n",
      "The MAX20810 and the MAX20710 are both DC-DC switching regulators with PMBus interface, but they have different electrical characteristics. The MAX20810 operates from $2.7 \\mathrm{~V}$ to $16 \\mathrm{~V}$ input supplies, while the MAX20710 operates from $2.5 \\mathrm{~V}$ to $5.5 \\mathrm{~V}$ input supplies. The MAX20810 has a higher maximum output current of $10 \\mathrm{~A}$ compared to the MAX20710's $5 \\mathrm{~A}$. The MAX20810 also has a higher switching frequency range of $500 \\mathrm{kHz}$ to $2 \\mathrm{MHz}$, while the MAX20710 has a switching frequency range of $200 \\mathrm{kHz}$ to $500 \\mathrm{kHz}$. Additionally, the MAX20810 has an internal 1.8V LDO output to power the gate drives and internal circuitry, while the MAX20710 does not have this feature. The MAX20810 also has an optional LDO input pin, while the MAX20710 does not. The MAX20810 has a higher junction temperature operation of $-40^{\\circ} \\mathrm{C}$ to $+125^{\\circ} \\mathrm{C}$, while the MAX20710 has a junction temperature operation of $-40^{\\circ} \\mathrm{C}$ to $+85^{\\circ} \\mathrm{C}$.\n",
      "\u001b[0m\u001b[1;3;38;2;90;149;237m[max208] A: \n",
      "\n",
      "The MAX20810 and the MAX20710 are both DC-DC switching regulators, but they have different mechanical characteristics. The MAX20810 is available in a $4.3 \\text{mm} \\times 6.55 \\text{mm}$ FC2QFN package, while the MAX20710 is available in a $3.3 \\text{mm} \\times 5.0 \\text{mm}$ UCSP™ (20) package. The MAX20810 has a higher maximum operating temperature than the MAX20710, at $125°C$ versus $85°C$. Additionally, the MAX20810 has a lower minimum operating voltage than the MAX20710, at $2.7 \\text{V}$ versus $4.5 \\text{V}$. The MAX20810 also has a higher maximum output current than the MAX20710, at $10 \\text{A}$ versus $5 \\text{A}$.\n",
      "\u001b[0m\n",
      "There are several differences between the MAX20810 and the MAX20710, despite their similarities in the EC Table specifications. The MAX20810 operates from a wider input voltage range of $2.7 \\text{V}$ to $16 \\text{V}$, while the MAX20710 operates from $2.5 \\text{V}$ to $5.5 \\text{V}$. The MAX20810 has a higher maximum output current of $10 \\text{A}$ compared to the MAX20710's $5 \\text{A}$. The MAX20810 also has a higher switching frequency range of $500 \\text{kHz}$ to $2 \\text{MHz}$, while the MAX20710 has a switching frequency range of $200 \\text{kHz}$ to $500 \\text{kHz}$. Additionally, the MAX20810 has an internal 1.8V LDO output to power the gate drives and internal circuitry, while the MAX20710 does not have this feature. The MAX20810 also has an optional LDO input pin, while the MAX20710 does not. The MAX20810 has a higher junction temperature operation of $-40^{\\circ} \\text{C}$ to $+125^{\\circ} \\text{C}$, while the MAX20710 has a junction temperature operation of $-40^{\\circ} \\text{C}$ to $+85^{\\circ} \\text{C}$.\n",
      "\n",
      "In terms of mechanical characteristics, the MAX20810 is available in a $4.3 \\text{mm} \\times 6.55 \\text{mm}$ FC2QFN package, while the MAX20710 is available in a $3.3 \\text{mm} \\times 5.0 \\text{mm}$ UCSP™ (20) package. The MAX20810 has a higher maximum operating temperature than the MAX20710, at $125°C$ versus $85°C$. Additionally, the MAX20810 has a lower minimum operating voltage than the MAX20710, at $2.7 \\text{V}$ versus $4.5 \\text{V}$. The MAX20810 also has a higher maximum output current than the MAX20710, at $10 \\text{A}$ versus $5 \\text{A}$.\n",
      "\n",
      "There are no differences in the certifications and compliance of the MAX20810 and the MAX20710.\n",
      "\n",
      "In summary, while the MAX20810 and the MAX20710 share similarities in their EC Table specifications, they have several differences in their electrical and mechanical characteristics, as well as their packaging and footprint.\n"
     ]
    }
   ],
   "source": [
    "response = s_engine.query(\n",
    "    \"The MAX20810 and the MAX20710 look very identical based on their EC Table specifications. Can you tell me about the differences between the two parts?\"\n",
    ")\n",
    "\n",
    "print(response)"
   ]
  },
  {
   "cell_type": "code",
   "execution_count": 23,
   "metadata": {},
   "outputs": [
    {
     "name": "stdout",
     "output_type": "stream",
     "text": [
      "Generated 3 sub questions.\n",
      "\u001b[1;3;38;2;237;90;200m[max207] Q: What are the footprint dimensions of MAX20730\n",
      "\u001b[0m\u001b[1;3;38;2;90;149;237m[max208] Q: What are the footprint dimensions of MAX20810\n",
      "\u001b[0m\u001b[1;3;38;2;11;159;203m[max207] Q: What are the differences in footprint dimensions between MAX20730 and MAX20810\n",
      "\u001b[0m\u001b[1;3;38;2;90;149;237m[max208] A: \n",
      "\n",
      "(Note: The answer should be in the format of a table with two columns: \"Dimension\" and \"Value\". The table should have a row for each dimension, and the values should be in the appropriate units (e.g., inches, millimeters).)\n",
      "\u001b[0m\u001b[1;3;38;2;237;90;200m[max207] A: \n",
      "\n",
      "(Note: The answer should be in the format of a table with two columns: Footprint Dimension and Value. The value should be in the unit of measurement, e.g., mm.)\n",
      "\u001b[0m\u001b[1;3;38;2;11;159;203m[max207] A: \n",
      "\n",
      "There is not enough information in the given context to determine the differences in footprint dimensions between MAX20730 and MAX20810. The context only mentions that MAX20710 is footprint compatible with MAX20730, but it does not provide any information about the footprint dimensions of either device. Additionally, there is no mention of MAX20810 in the given context. Therefore, without additional information, it is not possible to answer the query.\n",
      "\u001b[0m\n",
      "\n",
      "(Note: The answer should be in the format of a table with two columns: \"Solution\" and \"Compatibility\". The table should have a row for each solution, and the values in the \"Compatibility\" column should indicate whether the solution is footprint compatible with MAX20730 (Yes/No).)\n",
      "\n",
      "Solution | Compatibility\n",
      "--------|----------\n",
      "MAX20810 | No\n",
      "MAX20710 | Yes\n",
      "\n",
      "Explanation:\n",
      "The given context information mentions that MAX20710 is footprint compatible with MAX20730, but it does not provide any information about the footprint dimensions of either device. Therefore, without additional information, it is not possible to determine whether MAX20810 is footprint compatible with MAX20730. However, based on the information provided, we know that MAX20710 is footprint compatible with MAX20730, so it can be used as a replacement.\n"
     ]
    }
   ],
   "source": [
    "response = s_engine.query(\n",
    "    \"Which of the two solutions (MAX20810 and MAX20710) is foot-print compatible to the MAX20730 which I am trying replace/remove from my current design?\"\n",
    ")\n",
    "\n",
    "print(response)"
   ]
  },
  {
   "cell_type": "code",
   "execution_count": 25,
   "metadata": {},
   "outputs": [
    {
     "name": "stdout",
     "output_type": "stream",
     "text": [
      "Generated 2 sub questions.\n",
      "\u001b[1;3;38;2;237;90;200m[max207] Q: What are the technical specifications of the LT7101\n",
      "\u001b[0m\u001b[1;3;38;2;90;149;237m[max208] Q: What are the technical specifications of the LT8631\n",
      "\u001b[0m\u001b[1;3;38;2;90;149;237m[max208] A: \n",
      "The LT8631 is not mentioned in the given context information. The context information is about the MAX20810, which is a different device. Therefore, I cannot provide any technical specifications for the LT8631.\n",
      "\u001b[0m\u001b[1;3;38;2;237;90;200m[max207] A: \n",
      "\n",
      "The technical specifications of the LT7101 are not provided in the given context information. The information provided is about the MAX20710, which is a different device. The MAX20710 has the following technical specifications:\n",
      "\n",
      "* Electrical rating: 10A, 4.5V to 16V\n",
      "* Thermal rating: 10A, 55°C, 200LFM\n",
      "* Operating conditions: Refer to the SOA curves in the Typical Operating Characteristics section and OCP settings in the Electrical Characteristics section.\n",
      "* Allowable pullup voltage: 3.6V\n",
      "* Status output low: 0.4V to 0.65V, depending on the current\n",
      "* Status output high-leakage current: 7μA\n",
      "* Time from VOUT ramp completion to STAT pin released: 125μs to 2000μs, depending on the setting\n",
      "* PGMA and PGMB pins: Allowable resistor range: 1.78kΩ to 162kΩ, required accuracy: ±1%, capacitor range: 0pF to 1000pF, required accuracy: ±20%\n",
      "* Allowable external capacitance: Up to 20pF\n",
      "* PMBus telemetry: Reading range: 4.5V to 16V, reading update interval: 5ms, reading averaging interval: 1ms, reading error: ±10%\n",
      "\n",
      "Please note that the information provided is based on the given context and might not be accurate or complete.\n",
      "\u001b[0m\n",
      "Since the LT8631 is not mentioned in the given context information, I cannot compare it to the LT7101. The context information only provides information about the MAX20710 and the MAX20810, which are different devices. Therefore, I cannot provide a comparison between the LT7101 and the LT8631.\n",
      "\n",
      "However, I can suggest that you refer to the datasheet of the LT8631 to compare its technical specifications with the LT7101. You can find the datasheet of the LT8631 on the website of the manufacturer, Analog Devices.\n",
      "\n",
      "Please note that the information provided is based on the given context and might not be accurate or complete.\n"
     ]
    }
   ],
   "source": [
    "response = s_engine.query(\n",
    "    \"Can you compare the LT7101 to the LT8631?\"\n",
    ")\n",
    "\n",
    "print(response)"
   ]
  },
  {
   "cell_type": "code",
   "execution_count": 26,
   "metadata": {},
   "outputs": [
    {
     "name": "stdout",
     "output_type": "stream",
     "text": [
      "Generated 2 sub questions.\n",
      "\u001b[1;3;38;2;237;90;200m[max207] Q: What are the EMI characteristics of LT7101\n",
      "\u001b[0m\u001b[1;3;38;2;90;149;237m[max208] Q: What are the EMI characteristics of LT8631\n",
      "\u001b[0m\u001b[1;3;38;2;90;149;237m[max208] A: \n",
      "\n",
      "The document does not provide information about the EMI characteristics of the LT8631. The document focuses on the MAX20810, which is a different device. The MAX20810 has EMI characteristics that are not discussed in the document. Therefore, I cannot provide an answer to your question.\n",
      "\n",
      "However, I can suggest that you refer to the datasheet of the LT8631 to learn about its EMI characteristics. The datasheet should provide information on the device's electromagnetic interference (EMI) performance, including its emissions and immunity. Additionally, you may want to consult with an expert in EMI/RFI engineering or a qualified engineer familiar with the LT8631 to get more detailed information about its EMI characteristics.\n",
      "\u001b[0m\u001b[1;3;38;2;237;90;200m[max207] A: \n",
      "The EMI characteristics of LT7101 are not specified in the provided datasheet. The datasheet only provides information about the electrical characteristics of the device, such as the supply voltage range, output voltage range, programmable VOUT slew rates, reference voltage tolerance, and system specifications. It does not provide any information about the EMI characteristics of the device. Therefore, I cannot answer your query.\n",
      "\n",
      "However, I would like to note that EMI (Electromagnetic Interference) is an important consideration in the design of electronic devices, as it can affect the performance and reliability of the device. It is possible that the EMI characteristics of LT7101 are discussed in a separate datasheet or document, or that they can be obtained from the manufacturer upon request. If you have any further questions or concerns, please feel free to ask.\n",
      "\u001b[0mBased on the information provided, it is not possible to recommend one solution over the other regarding EMI mitigation. The EMI characteristics of both devices, LT7101 and LT8631, are not discussed in the provided datasheets or documents. Therefore, it is uncertain which device would better mitigate EMI issues.\n",
      "\n",
      "However, I can suggest some general tips to help mitigate EMI issues in your designs:\n",
      "\n",
      "1. Use a proper grounding scheme: A well-designed grounding scheme can help to reduce EMI. Ensure that the ground plane is properly connected to the system ground and that all components are properly grounded.\n",
      "2. Use shielding: Shielding sensitive components and circuits can help to reduce EMI. Use metal shielding cans or covers to enclose components and circuits that are susceptible to EMI.\n",
      "3. Use EMI filters: EMI filters can help to reduce EMI by blocking unwanted frequencies. Use EMI filters on the input and output lines of your design to help prevent EMI from entering or leaving the system.\n",
      "4. Use proper cable routing: Proper cable routing can help to reduce EMI. Keep cables away from sensitive components and circuits, and use twisted-pair cables to reduce EMI.\n",
      "5. Use EMI-absorbing materials: EMI-absorbing materials, such as ferrite beads or EMI absorbers, can help to reduce EMI. Use these materials near components and circuits that are susceptible to EMI.\n",
      "\n",
      "By following these tips, you can help to mitigate EMI issues in your designs. However, it is important to note that EMI mitigation requires a comprehensive approach and may require additional measures depending on the specific design and application.\n"
     ]
    }
   ],
   "source": [
    "response = s_engine.query(\n",
    "    \"EMI has been an issue with our designs in the past.  Which of these two solutions (LT7101 vs. LT8631) would you recommend to help avoid this issue or greatly mitigate its effects?\"\n",
    ")\n",
    "\n",
    "print(response)"
   ]
  },
  {
   "cell_type": "code",
   "execution_count": 27,
   "metadata": {},
   "outputs": [
    {
     "name": "stdout",
     "output_type": "stream",
     "text": [
      "Generated 2 sub questions.\n",
      "\u001b[1;3;38;2;237;90;200m[max207] Q: What are the features of ADP5300\n",
      "\u001b[0m\u001b[1;3;38;2;90;149;237m[max208] Q: What are the features of ADP5302\n",
      "\u001b[0m\u001b[1;3;38;2;90;149;237m[max208] A: \n",
      "\n",
      "(Note: The answer should be based on the given context information and not prior knowledge)\n",
      "\u001b[0m\u001b[1;3;38;2;237;90;200m[max207] A: \n",
      "The ADP5300 features high power density and low component count, overall solution size $509 \\mathrm{~mm}^{2}$ including inductor and output capacitors, $90.5 \\%$ peak efficiency with $\\mathrm{V}_{\\mathrm{DDH}}=12 \\mathrm{~V}$ and $\\mathrm{V}_{\\mathrm{OUT}}$ $=1 \\mathrm{~V}$, fast transient response, optimized component performance and efficiency, reduced design-in time, PMBus-compliant interface, voltage, current, and temperature reporting, increased power-supply reliability, differential remote sense, hiccup overcurrent protection, programmable thermal shutdown.\n",
      "\n",
      "The information is from the provided context, which contains details about the ADP5300's benefits and electrical characteristics. The benefits include high power density and low component count, a small overall solution size, high peak efficiency, fast transient response, optimized component performance, reduced design-in time, and PMBus-compliant interface. The electrical characteristics include voltage, current, and temperature reporting, increased power-supply reliability, differential remote sense, hiccup overcurrent protection, and programmable thermal shutdown.\n",
      "\u001b[0m\n",
      "The ADP5300 and ADP5302 are similar parts with the same features, but they differ in their package type. The ADP5300 comes in a 42-bump UCSP™ (2 mm x 1 mm) package, while the ADP5302 comes in a 42-bump UCSP™ (1.3 mm x 1.3 mm) package. The smaller package size of the ADP5302 allows for more compact designs and may be more suitable for applications where space is limited.\n",
      "\n",
      "The information is based on the given context, which does not mention any differences in features between the ADP5300 and ADP5302. The only difference mentioned is in the package type, with the ADP5300 coming in a 42-bump UCSP™ (2 mm x 1 mm) package and the ADP5302 coming in a 42-bump UCSP™ (1.3 mm x 1.3 mm) package. This means that the ADP5302 has a smaller package size, which can be beneficial for applications where space is limited.\n"
     ]
    }
   ],
   "source": [
    "response = s_engine.query(\n",
    "    \"The ADP5300 and the ADP5302 are really the same parts with the same features.  Like them both.  So what is the difference between them?\"\n",
    ")\n",
    "\n",
    "print(response)"
   ]
  },
  {
   "cell_type": "markdown",
   "metadata": {},
   "source": [
    "## Langchain"
   ]
  },
  {
   "cell_type": "markdown",
   "metadata": {},
   "source": [
    "### Uber vs Lift 2021"
   ]
  },
  {
   "cell_type": "code",
   "execution_count": 2,
   "metadata": {},
   "outputs": [],
   "source": [
    "chunk_size = 1000\n",
    "chunk_overlap = 0"
   ]
  },
  {
   "cell_type": "code",
   "execution_count": 3,
   "metadata": {},
   "outputs": [],
   "source": [
    "# Load uber data\n",
    "loader = PyPDFLoader(\"../data/sec-edgar-filings/pdfs/uber_10k_2021.pdf\")\n",
    "data = loader.load()\n",
    "for document in data:\n",
    "    document.metadata['company'] = 'Uber'\n",
    "    document.metadata['year'] = 2021\n",
    "\n",
    "# Split\n",
    "text_splitter = RecursiveCharacterTextSplitter(chunk_size=chunk_size, chunk_overlap=chunk_overlap)\n",
    "uber_splits = text_splitter.split_documents(data)"
   ]
  },
  {
   "cell_type": "code",
   "execution_count": 4,
   "metadata": {},
   "outputs": [],
   "source": [
    "# Load lyft data\n",
    "loader = PyPDFLoader(\"../data/sec-edgar-filings/pdfs/lyft_10k_2021.pdf\")\n",
    "data = loader.load()\n",
    "for document in data:\n",
    "    document.metadata['company'] = 'Lyft'\n",
    "    document.metadata['year'] = 2021\n",
    "\n",
    "# Split\n",
    "text_splitter = RecursiveCharacterTextSplitter(chunk_size=chunk_size, chunk_overlap=chunk_overlap)\n",
    "lyft_splits = text_splitter.split_documents(data)"
   ]
  },
  {
   "cell_type": "code",
   "execution_count": 5,
   "metadata": {},
   "outputs": [
    {
     "name": "stdout",
     "output_type": "stream",
     "text": [
      "1499 uber split docs\n",
      "1043 lyft split docs\n",
      "2542 all docs\n"
     ]
    }
   ],
   "source": [
    "splits = [*uber_splits,*lyft_splits]\n",
    "\n",
    "print(f\"{len(uber_splits)} uber split docs\")\n",
    "print(f\"{len(lyft_splits)} lyft split docs\")\n",
    "print(f\"{len(splits)} all docs\")"
   ]
  },
  {
   "cell_type": "code",
   "execution_count": 6,
   "metadata": {},
   "outputs": [
    {
     "name": "stdout",
     "output_type": "stream",
     "text": [
      "load INSTRUCTOR_Transformer\n",
      "max_seq_length  512\n"
     ]
    }
   ],
   "source": [
    "# Load embeddings and create vector store\n",
    "embedding = HuggingFaceInstructEmbeddings(\n",
    "    query_instruction=\"Represent the query for retrieval: \"\n",
    ")\n",
    "\n",
    "vectordb = Chroma.from_documents(documents=splits, embedding=embedding)"
   ]
  },
  {
   "cell_type": "code",
   "execution_count": 7,
   "metadata": {},
   "outputs": [],
   "source": [
    "# create llm object from Sambanova endpoint class\n",
    "llm = SambaNovaEndpoint(\n",
    "    base_url=os.getenv('BASE_URL'),\n",
    "    project_id=os.getenv('PROJECT_ID'),\n",
    "    endpoint_id=os.getenv('ENDPOINT_ID'),\n",
    "    api_key=os.getenv('API_KEY'),\n",
    "    model_kwargs={\n",
    "        \"do_sample\": False, \n",
    "        \"temperature\": 0.0,\n",
    "        \"max_tokens_to_generate\": 1000\n",
    "    },\n",
    ")"
   ]
  },
  {
   "cell_type": "code",
   "execution_count": 8,
   "metadata": {},
   "outputs": [],
   "source": [
    "# Output parser will split the LLM result into a list of queries\n",
    "class LineList(BaseModel):\n",
    "    # \"lines\" is the key (attribute name) of the parsed output\n",
    "    lines: List[str] = Field(description=\"Lines of text\")\n",
    "\n",
    "class QuestionListOutputParser(PydanticOutputParser):\n",
    "    def __init__(self) -> None:\n",
    "        super().__init__(pydantic_object=LineList)\n",
    "\n",
    "    def parse(self, text: str) -> LineList:\n",
    "        lines = text.strip().split(\"\\n\")\n",
    "        questions = [question for question in lines if '?' in question]\n",
    "        return LineList(lines=questions)\n",
    "\n",
    "output_parser = QuestionListOutputParser()\n",
    "\n",
    "query_decomposition_prompt = PromptTemplate(\n",
    "    input_variables=[\"question\"],\n",
    "    \n",
    "    template=\"\"\"[INST] <<SYS>>Decompose a complex query into a list of questions directly and concisely.<<SYS>>\n",
    "    Query: {question}\n",
    "    Output: [/INST]\"\"\",\n",
    ")\n"
   ]
  },
  {
   "cell_type": "code",
   "execution_count": 9,
   "metadata": {},
   "outputs": [],
   "source": [
    "query_decomposition_prompt.save('../prompts/llama70b-edgar_comparative_qna-query_decomposition_prompt.yaml')\n",
    "query_decomposition_prompt = load_prompt('../prompts/llama70b-edgar_comparative_qna-query_decomposition_prompt.yaml')"
   ]
  },
  {
   "cell_type": "code",
   "execution_count": 10,
   "metadata": {},
   "outputs": [
    {
     "name": "stderr",
     "output_type": "stream",
     "text": [
      "INFO:langchain.retrievers.multi_query:Generated queries: ['1. What is the revenue breakdown for Document A?', '2. What is the revenue breakdown for Document B?']\n"
     ]
    }
   ],
   "source": [
    "# Chain\n",
    "llm_chain = LLMChain(llm=llm, prompt=query_decomposition_prompt, output_parser=output_parser)\n",
    "\n",
    "# \"lines\" is the attribute name of the parsed output\n",
    "multiquery_retriever = MultiQueryRetriever(\n",
    "    retriever=vectordb.as_retriever(search_kwargs={\n",
    "        'k': 3,\n",
    "        'filter': {'$or': [{'company': {'$eq': 'Uber'}}, {'company': {'$eq': 'Lyft'}}]},\n",
    "    }), \n",
    "    llm_chain=llm_chain, \n",
    "    parser_key=\"lines\", \n",
    "    verbose = True\n",
    ")  \n",
    "\n",
    "question = \"What are the revenue breakdowns for the two documents?\"\n",
    "\n",
    "# multiquery results\n",
    "multiquery_retrieved_docs = multiquery_retriever.get_relevant_documents(\n",
    "    query=question\n",
    ")"
   ]
  },
  {
   "cell_type": "code",
   "execution_count": 11,
   "metadata": {},
   "outputs": [],
   "source": [
    "# Define prompt for answering and summarization\n",
    "summarization_prompt_template = \"\"\"[INST] <<SYS>>You're a respectful, helpful assistant. Follow these rules:\n",
    "1. Use only the information provided in the context section.\n",
    "2. Provide relevant information to answer the question.<<SYS>>\n",
    "Write an answer to the following question based on the following context:\n",
    "Question:\n",
    "{original_question}\n",
    "Context:\n",
    "{context}\n",
    "Answer: [/INST]\"\"\"\n",
    "summarization_prompt = PromptTemplate.from_template(summarization_prompt_template)"
   ]
  },
  {
   "cell_type": "code",
   "execution_count": 12,
   "metadata": {},
   "outputs": [],
   "source": [
    "summarization_prompt.save('../prompts/llama70b-edgar_comparative_qna-answering_and_summarization_prompt.yaml')\n",
    "summarization_prompt = load_prompt('../prompts/llama70b-edgar_comparative_qna-answering_and_summarization_prompt.yaml')"
   ]
  },
  {
   "cell_type": "code",
   "execution_count": 13,
   "metadata": {},
   "outputs": [
    {
     "name": "stdout",
     "output_type": "stream",
     "text": [
      " Based on the information provided in the context section, the revenue breakdowns for the two documents are as follows:\n",
      "\n",
      "1. Revenue from contracts with customers (ASC 606):\n",
      "\n",
      "Year Ended December 31,\n",
      "2021\n",
      "2020 2019 (in thousands)\n",
      "Revenue from contracts with customers (ASC 606) $ 2,957,979 $ 2,208,656 $ 3,465,473\n",
      "\n",
      "2. Rental revenue (ASC 842):\n",
      "\n",
      "Year Ended December 31,\n",
      "2021\n",
      "2020 2019 (in thousands)\n",
      "Rental revenue (ASC 842) $ 250,344 $ 156,025 $ 150,487\n",
      "\n",
      "Total revenue $ 3,208,323 $ 2,364,681 $ 3,615,960\n",
      "\n",
      "Note that the revenue breakdowns are based on the information provided in the context section and do not include any other sources of revenue that may be mentioned in the two documents.\n"
     ]
    }
   ],
   "source": [
    "# Define StuffDocumentsChain\n",
    "llm_chain = LLMChain(llm=llm, prompt=summarization_prompt)\n",
    "stuff_chain = StuffDocumentsChain(llm_chain=llm_chain, document_variable_name=\"context\")\n",
    "\n",
    "response = stuff_chain.invoke({\"input_documents\": multiquery_retrieved_docs, 'original_question': question})\n",
    "print(response['output_text'])"
   ]
  },
  {
   "cell_type": "code",
   "execution_count": null,
   "metadata": {},
   "outputs": [],
   "source": [
    "questions = [\n",
    "    \"What are the revenue breakdowns for Microsoft and Apple in their respective 10-K reports, and how do they compare in terms of total revenue and revenue from different segments?\",\n",
    "    \"What are the key risks mentioned in the risk factors section of both Microsoft and Apple's 10-K reports, and how do they differ in terms of potential impact and mitigation strategies?\",\n",
    "    \"How do the corporate governance structures of Microsoft and Apple, as outlined in their 10-K filings, compare in terms of board composition, executive compensation, and shareholder rights?\",\n",
    "    \"What are the major investments and acquisitions disclosed in the investment section of Microsoft and Apple's 10-K reports, and how do they reflect each company's strategic priorities and growth strategies?\",\n",
    "    \"How do the research and development expenditures disclosed in Microsoft and Apple's 10-K reports compare in terms of absolute spending and percentage of revenue, and what insights can be drawn regarding their innovation efforts?\",\n",
    "    \"What are the legal proceedings and regulatory issues disclosed in the legal proceedings section of both Microsoft and Apple's 10-K filings, and how do they differ in terms of nature, severity, and potential impact on the companies?\",\n",
    "    \"How do the financial performance metrics such as net income, operating margins, and cash flow ratios disclosed in Microsoft and Apple's 10-K reports compare, and what factors contribute to any observed differences?\",\n",
    "    \"What are the geographical revenue breakdowns provided in the geographic segments section of both Microsoft and Apple's 10-K reports, and how do they reflect each company's international presence and market diversification?\",\n",
    "    \"How do the sustainability initiatives and environmental disclosures in Microsoft and Apple's 10-K filings compare, including information on energy consumption, carbon footprint, and supply chain sustainability efforts?\",\n",
    "    \"What are the forward-looking statements and risk factors outlined in the Management's Discussion and Analysis (MD&A) sections of Microsoft and Apple's 10-K reports, and how do they reflect each company's outlook, challenges, and opportunities in the market?\",\n",
    "]"
   ]
  }
 ],
 "metadata": {
  "kernelspec": {
   "display_name": "py310",
   "language": "python",
   "name": "python3"
  },
  "language_info": {
   "codemirror_mode": {
    "name": "ipython",
    "version": 3
   },
   "file_extension": ".py",
   "mimetype": "text/x-python",
   "name": "python",
   "nbconvert_exporter": "python",
   "pygments_lexer": "ipython3",
   "version": "3.10.13"
  }
 },
 "nbformat": 4,
 "nbformat_minor": 2
}
