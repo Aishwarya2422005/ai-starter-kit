{
 "cells": [
  {
   "cell_type": "markdown",
   "metadata": {},
   "source": [
    "# Edgar: Comparative Q&A"
   ]
  },
  {
   "cell_type": "code",
   "execution_count": 1,
   "metadata": {},
   "outputs": [
    {
     "name": "stderr",
     "output_type": "stream",
     "text": [
      "/var/folders/5p/79s0z9ss0dd6__6jc245j5t40000gp/T/ipykernel_33704/3150193592.py:7: TqdmWarning: IProgress not found. Please update jupyter and ipywidgets. See https://ipywidgets.readthedocs.io/en/stable/user_install.html\n",
      "  from tqdm.autonotebook import trange\n"
     ]
    }
   ],
   "source": [
    "import os\n",
    "import sys\n",
    "import nest_asyncio\n",
    "nest_asyncio.apply()\n",
    "from typing import List, Any\n",
    "import logging\n",
    "\n",
    "\n",
    "current_dir = os.getcwd()\n",
    "kit_dir = os.path.abspath(os.path.join(current_dir, \"..\"))\n",
    "repo_dir = os.path.abspath(os.path.join(kit_dir, \"..\"))\n",
    "\n",
    "sys.path.append(kit_dir)\n",
    "sys.path.append(repo_dir)\n",
    "\n",
    "# Langchain imports\n",
    "from langchain.vectorstores import Chroma\n",
    "from langchain.embeddings.huggingface import HuggingFaceInstructEmbeddings\n",
    "from langchain.chains import LLMChain\n",
    "from langchain.chains.combine_documents.stuff import StuffDocumentsChain\n",
    "from langchain.prompts import (\n",
    "    PromptTemplate,\n",
    "    load_prompt\n",
    ")\n",
    "from langchain_community.document_loaders import PyPDFLoader\n",
    "from langchain.text_splitter import RecursiveCharacterTextSplitter\n",
    "from langchain_core.output_parsers import BaseOutputParser\n",
    "from langchain.retrievers.multi_query import MultiQueryRetriever\n",
    "\n",
    "# Llama index imports\n",
    "from llama_index import SimpleDirectoryReader, ServiceContext, VectorStoreIndex\n",
    "from llama_index.tools import QueryEngineTool, ToolMetadata\n",
    "from llama_index.query_engine import SubQuestionQueryEngine\n",
    "from llama_index.llms import (\n",
    "    CustomLLM,\n",
    "    CompletionResponse,\n",
    "    CompletionResponseGen,\n",
    "    LLMMetadata,\n",
    ")\n",
    "from llama_index.llms.base import llm_completion_callback\n",
    "\n",
    "\n",
    "#from utils.sambanova_endpoint import SambaNovaEndpoint\n",
    "from langchain_community.llms.sambanova import SambaStudio, Sambaverse\n",
    "\n",
    "\n",
    "from dotenv import load_dotenv\n",
    "load_dotenv(os.path.join(repo_dir,'.env'))\n",
    "\n",
    "logging.basicConfig()\n",
    "logging.getLogger(\"langchain.retrievers.multi_query\").setLevel(logging.INFO)"
   ]
  },
  {
   "cell_type": "markdown",
   "metadata": {},
   "source": [
    "## Get the data"
   ]
  },
  {
   "cell_type": "code",
   "execution_count": 38,
   "metadata": {},
   "outputs": [
    {
     "name": "stdout",
     "output_type": "stream",
     "text": [
      "--2024-08-07 15:58:19--  https://raw.githubusercontent.com/run-llama/llama_index/main/docs/docs/examples/data/10k/uber_2021.pdf\n",
      "Resolving raw.githubusercontent.com (raw.githubusercontent.com)... 2606:50c0:8000::154, 2606:50c0:8002::154, 2606:50c0:8003::154, ...\n",
      "Connecting to raw.githubusercontent.com (raw.githubusercontent.com)|2606:50c0:8000::154|:443... connected.\n",
      "HTTP request sent, awaiting response... 200 OK\n",
      "Length: 1880483 (1.8M) [application/octet-stream]\n",
      "Saving to: ‘../data/sec-edgar-filings/reports/uber_2021.pdf’\n",
      "\n",
      "../data/sec-edgar-f 100%[===================>]   1.79M  --.-KB/s    in 0.06s   \n",
      "\n",
      "2024-08-07 15:58:19 (30.0 MB/s) - ‘../data/sec-edgar-filings/reports/uber_2021.pdf’ saved [1880483/1880483]\n",
      "\n",
      "--2024-08-07 15:58:20--  https://raw.githubusercontent.com/run-llama/llama_index/main/docs/docs/examples/data/10k/lyft_2021.pdf\n",
      "Resolving raw.githubusercontent.com (raw.githubusercontent.com)... 2606:50c0:8000::154, 2606:50c0:8002::154, 2606:50c0:8003::154, ...\n",
      "Connecting to raw.githubusercontent.com (raw.githubusercontent.com)|2606:50c0:8000::154|:443... connected.\n",
      "HTTP request sent, awaiting response... 200 OK\n",
      "Length: 1440303 (1.4M) [application/octet-stream]\n",
      "Saving to: ‘../data/sec-edgar-filings/reports/lyft_2021.pdf’\n",
      "\n",
      "../data/sec-edgar-f 100%[===================>]   1.37M  --.-KB/s    in 0.1s    \n",
      "\n",
      "2024-08-07 15:58:20 (13.8 MB/s) - ‘../data/sec-edgar-filings/reports/lyft_2021.pdf’ saved [1440303/1440303]\n",
      "\n"
     ]
    }
   ],
   "source": [
    "!wget 'https://raw.githubusercontent.com/run-llama/llama_index/main/docs/docs/examples/data/10k/uber_2021.pdf' -O '../data/sec-edgar-filings/reports/uber_2021.pdf'\n",
    "!wget 'https://raw.githubusercontent.com/run-llama/llama_index/main/docs/docs/examples/data/10k/lyft_2021.pdf' -O '../data/sec-edgar-filings/reports/lyft_2021.pdf'"
   ]
  },
  {
   "cell_type": "markdown",
   "metadata": {},
   "source": [
    "## Llama index"
   ]
  },
  {
   "cell_type": "markdown",
   "metadata": {},
   "source": [
    "### Uber vs Lift 2021"
   ]
  },
  {
   "cell_type": "code",
   "execution_count": 39,
   "metadata": {},
   "outputs": [],
   "source": [
    "class SambaNovaLLMWrapper(CustomLLM):\n",
    "    context_window: int = 3900\n",
    "    num_output: int = 256\n",
    "    model_name: str = \"sambanova_llama7b\"\n",
    "    \n",
    "    def _get_sambanova_llm(self):\n",
    "\n",
    "        #llm = Sambaverse(\n",
    "        #    sambaverse_model_name='Meta/llama-2-7b-chat-hf',\n",
    "        #    model_kwargs={\n",
    "        #        'do_sample': False,\n",
    "        #        'max_tokens_to_generate': 512,\n",
    "        #        'select_expert': 'llama-2-7b-chat-hf',\n",
    "        #        'process_prompt': False,\n",
    "        #        'temperature': 0.01,\n",
    "        #    },\n",
    "        #)\n",
    "\n",
    "        llm = SambaStudio(\n",
    "            streaming=True,\n",
    "            model_kwargs={\n",
    "                'max_tokens_to_generate': 512,\n",
    "                'select_expert': 'Meta-Llama-3-70B-Instruct',\n",
    "                'process_prompt': False,\n",
    "            },\n",
    "        )\n",
    "\n",
    "        return llm\n",
    "\n",
    "    @property\n",
    "    def metadata(self) -> LLMMetadata:\n",
    "        \"\"\"Get LLM metadata.\"\"\"\n",
    "        return LLMMetadata(\n",
    "            context_window=self.context_window,\n",
    "            num_output=self.num_output,\n",
    "            model_name=self.model_name,\n",
    "        )\n",
    "\n",
    "    @llm_completion_callback()\n",
    "    def complete(self, prompt: str, **kwargs: Any) -> CompletionResponse:\n",
    "        llm = self._get_sambanova_llm()\n",
    "        response = llm(prompt)\n",
    "        return CompletionResponse(text=response)\n",
    "\n",
    "    @llm_completion_callback()\n",
    "    def stream_complete(\n",
    "        self, prompt: str, **kwargs: Any\n",
    "    ) -> CompletionResponseGen:\n",
    "        llm = self._get_sambanova_llm()\n",
    "        llm_response = llm(prompt)\n",
    "        for token in llm_response:\n",
    "            response += token\n",
    "            yield CompletionResponse(text=response, delta=token)"
   ]
  },
  {
   "cell_type": "code",
   "execution_count": 40,
   "metadata": {},
   "outputs": [],
   "source": [
    "# Instantiate LLM \n",
    "llm = SambaNovaLLMWrapper()"
   ]
  },
  {
   "cell_type": "code",
   "execution_count": 41,
   "metadata": {},
   "outputs": [
    {
     "name": "stdout",
     "output_type": "stream",
     "text": [
      "load INSTRUCTOR_Transformer\n",
      "max_seq_length  512\n"
     ]
    }
   ],
   "source": [
    "# Instatiate embedding model\n",
    "embedding_model = HuggingFaceInstructEmbeddings(\n",
    "    query_instruction=\"Represent the query for retrieval: \"\n",
    ")"
   ]
  },
  {
   "cell_type": "code",
   "execution_count": 42,
   "metadata": {},
   "outputs": [],
   "source": [
    "# Declare service context\n",
    "service_context = ServiceContext.from_defaults(llm=llm, embed_model=embedding_model)"
   ]
  },
  {
   "cell_type": "code",
   "execution_count": 43,
   "metadata": {},
   "outputs": [
    {
     "name": "stderr",
     "output_type": "stream",
     "text": [
      "Parsing nodes: 100%|██████████| 238/238 [00:00<00:00, 645.67it/s]\n",
      "Generating embeddings: 100%|██████████| 350/350 [03:14<00:00,  1.80it/s]\n",
      "Parsing nodes: 100%|██████████| 307/307 [00:00<00:00, 678.65it/s]\n",
      "Generating embeddings: 100%|██████████| 419/419 [03:38<00:00,  1.91it/s]\n"
     ]
    }
   ],
   "source": [
    "## Load data \n",
    "lyft_docs = SimpleDirectoryReader(\n",
    "    input_files=[os.path.join(kit_dir,\"data/sec-edgar-filings/reports/lyft_2021.pdf\")]\n",
    ").load_data()\n",
    "uber_docs = SimpleDirectoryReader(\n",
    "    input_files=[os.path.join(kit_dir,\"data/sec-edgar-filings/reports/uber_2021.pdf\")]\n",
    ").load_data()\n",
    "\n",
    "## Build indices\n",
    "lyft_index = VectorStoreIndex.from_documents(lyft_docs, show_progress=True, service_context=service_context)\n",
    "\n",
    "uber_index = VectorStoreIndex.from_documents(uber_docs, show_progress=True, service_context=service_context)\n",
    "\n",
    "## Build query engines\n",
    "lyft_engine = lyft_index.as_query_engine(similarity_top_k=3)\n",
    "\n",
    "uber_engine = uber_index.as_query_engine(similarity_top_k=3)"
   ]
  },
  {
   "cell_type": "code",
   "execution_count": 44,
   "metadata": {},
   "outputs": [],
   "source": [
    "# Instantiate query engine tools\n",
    "query_engine_tools = [\n",
    "    QueryEngineTool(\n",
    "        query_engine=lyft_engine,\n",
    "        metadata=ToolMetadata(\n",
    "            name=\"lyft_10k\",\n",
    "            description=(\n",
    "                \"Provides information about Lyft financials for year 2021\"\n",
    "            ),\n",
    "        ),\n",
    "    ),\n",
    "    QueryEngineTool(\n",
    "        query_engine=uber_engine,\n",
    "        metadata=ToolMetadata(\n",
    "            name=\"uber_10k\",\n",
    "            description=(\n",
    "                \"Provides information about Uber financials for year 2021\"\n",
    "            ),\n",
    "        ),\n",
    "    ),\n",
    "]\n",
    "\n",
    "# Instantiate Sub query engine\n",
    "s_engine = SubQuestionQueryEngine.from_defaults(\n",
    "    query_engine_tools=query_engine_tools,\n",
    "    service_context=service_context\n",
    ")"
   ]
  },
  {
   "cell_type": "code",
   "execution_count": 45,
   "metadata": {},
   "outputs": [
    {
     "name": "stderr",
     "output_type": "stream",
     "text": [
      "/Users/rodrigom/ai-starter-kit-snova/edgar_qna/.venv/lib/python3.11/site-packages/langchain_core/_api/deprecation.py:139: LangChainDeprecationWarning: The method `BaseLLM.__call__` was deprecated in langchain-core 0.1.7 and will be removed in 0.3.0. Use invoke instead.\n",
      "  warn_deprecated(\n"
     ]
    },
    {
     "name": "stdout",
     "output_type": "stream",
     "text": [
      "stream true, handleling requests\n",
      "Generated 4 sub questions.\n",
      "\u001b[1;3;38;2;237;90;200m[uber_10k] Q: What are the customer segments that grew the fastest for Uber\n",
      "\u001b[0m\u001b[1;3;38;2;90;149;237m[uber_10k] Q: What are the geographies that grew the fastest for Uber\n",
      "\u001b[0m\u001b[1;3;38;2;11;159;203m[lyft_10k] Q: What are the customer segments that grew the fastest for Lyft\n",
      "\u001b[0m\u001b[1;3;38;2;155;135;227m[lyft_10k] Q: What are the geographies that grew the fastest for Lyft\n",
      "\u001b[0mstream true, handleling requests\n",
      "\u001b[1;3;38;2;237;90;200m[uber_10k] A:  The customer segments that grew the fastest for Uber are not explicitly mentioned in the provided context. However, it can be inferred that the active advertising merchants grew to over 170,000 during the fourth quarter of 2021, indicating a significant growth in this segment. Additionally, Uber One, Uber Pass, Eats Pass, and Rides Pass membership programs had over 6 million members, suggesting growth in these segments as well.\n",
      "\u001b[0mstream true, handleling requests\n",
      "\u001b[1;3;38;2;90;149;237m[uber_10k] A:  The geographies that grew the fastest for Uber are Asia Pacific (APAC) and Europe, Middle East and Africa (EMEA). APAC grew from $821 million in 2019 to $2,731 million in 2021, and EMEA grew from $1,852 million in 2019 to $3,213 million in 2021.\n",
      "\u001b[0mstream true, handleling requests\n",
      "\u001b[1;3;38;2;155;135;227m[lyft_10k] A:  Not mentioned in the given context.\n",
      "\u001b[0mstream true, handleling requests\n",
      "\u001b[1;3;38;2;11;159;203m[lyft_10k] A:  The customer segments that grew the fastest for Lyft are not explicitly mentioned in the provided context. However, it can be inferred that Lyft's business segment, which includes corporate, healthcare, auto, education, and government sectors, is a growing area for the company.\n",
      "\u001b[0mstream true, handleling requests\n",
      " Based on the provided context, Uber's customer segments that grew the fastest include active advertising merchants and membership programs such as Uber One, Uber Pass, Eats Pass, and Rides Pass. On the other hand, Lyft's fastest-growing customer segments are not explicitly mentioned, but its business segment appears to be a growing area.\n",
      "\n",
      "In terms of geographies, Uber's fastest-growing regions are Asia Pacific (APAC) and Europe, Middle East and Africa (EMEA). Lyft's fastest-growing geographies are not mentioned in the provided context. Overall, Uber provides more information about its growing customer segments and geographies compared to Lyft.\n",
      "stream true, handleling requests\n",
      "Generated 4 sub questions.\n",
      "\u001b[1;3;38;2;237;90;200m[uber_10k] Q: What is the revenue of Uber in 2020\n",
      "\u001b[0m\u001b[1;3;38;2;90;149;237m[uber_10k] Q: What is the revenue of Uber in 2021\n",
      "\u001b[0m\u001b[1;3;38;2;11;159;203m[lyft_10k] Q: What is the revenue of Lyft in 2020\n",
      "\u001b[0m\u001b[1;3;38;2;155;135;227m[lyft_10k] Q: What is the revenue of Lyft in 2021\n",
      "\u001b[0mstream true, handleling requests\n",
      "\u001b[1;3;38;2;237;90;200m[uber_10k] A: 11,139 million dollars.\n",
      "\u001b[0mstream true, handleling requests\n",
      "\u001b[1;3;38;2;155;135;227m[lyft_10k] A: 3,208,323 (in thousands)\n",
      "\u001b[0mstream true, handleling requests\n",
      "\u001b[1;3;38;2;11;159;203m[lyft_10k] A: 2,364,681 (in thousands)\n",
      "\u001b[0mstream true, handleling requests\n",
      "\u001b[1;3;38;2;90;149;237m[uber_10k] A: 17,455 million dollars.\n",
      "\u001b[0mstream true, handleling requests\n",
      " To compare the revenue growth of Uber and Lyft from 2020 to 2021, we need to calculate the growth rate for each company. \n",
      "\n",
      "For Uber, the revenue in 2020 was 11,139 million dollars and in 2021 was 17,455 million dollars. The growth rate is (17,455 - 11,139) / 11,139 = 56.5%.\n",
      "\n",
      "For Lyft, the revenue in 2020 was 2,364,681 (in thousands) and in 2021 was 3,208,323 (in thousands). First, we need to convert both values to millions: 2,364,681 / 1,000 = 2,365 million and 3,208,323 / 1,000 = 3,208 million. The growth rate is (3,208 - 2,365) / 2,365 = 35.4%.\n",
      "\n",
      "Therefore, Uber's revenue growth from 2020 to 2021 was 56.5%, while Lyft's revenue growth was 35.4%. Uber's revenue growth was higher than Lyft's.\n"
     ]
    }
   ],
   "source": [
    "## Run queries\n",
    "response = s_engine.query(\n",
    "    \"Compare and contrast the customer segments and geographies that grew the fastest\"\n",
    ")\n",
    "\n",
    "print(response)\n",
    "\n",
    "response = s_engine.query(\n",
    "    \"Compare revenue growth of Uber and Lyft from 2020 to 2021\"\n",
    ")\n",
    "\n",
    "print(response)"
   ]
  },
  {
   "cell_type": "markdown",
   "metadata": {},
   "source": [
    "## Langchain"
   ]
  },
  {
   "cell_type": "markdown",
   "metadata": {},
   "source": [
    "### Uber vs Lift 2021"
   ]
  },
  {
   "cell_type": "code",
   "execution_count": 46,
   "metadata": {},
   "outputs": [],
   "source": [
    "chunk_size = 1000\n",
    "chunk_overlap = 0"
   ]
  },
  {
   "cell_type": "code",
   "execution_count": 48,
   "metadata": {},
   "outputs": [],
   "source": [
    "# Load uber data\n",
    "loader = PyPDFLoader(os.path.join(kit_dir,\"data/sec-edgar-filings/reports/uber_2021.pdf\"))\n",
    "data = loader.load()\n",
    "for document in data:\n",
    "    document.metadata['company'] = 'Uber'\n",
    "    document.metadata['year'] = 2021\n",
    "\n",
    "# Split\n",
    "text_splitter = RecursiveCharacterTextSplitter(chunk_size=chunk_size, chunk_overlap=chunk_overlap)\n",
    "uber_splits = text_splitter.split_documents(data)"
   ]
  },
  {
   "cell_type": "code",
   "execution_count": 55,
   "metadata": {},
   "outputs": [
    {
     "data": {
      "text/plain": [
       "[Document(metadata={'source': '/Users/rodrigom/ai-starter-kit-snova/edgar_qna/data/sec-edgar-filings/reports/uber_2021.pdf', 'page': 0, 'company': 'Uber', 'year': 2021}, page_content='UNITED STATESSECURITIES AND EXCHANGE COMMISSION\\nWashington, D.C. 20549\\n____________________________________________ \\nFORM\\n 10-K____________________________________________ \\n(Mark One)\\n☒\\n ANNUAL REPORT PURSUANT TO SECTION 13 OR 15(d) OF THE SECURITIES EXCHANGE ACT OF 1934For the fiscal year ended\\n December 31, 2021OR\\n☐\\n TRANSITION REPORT PURSUANT TO SECTION 13 OR 15(d) OF THE SECURITIES EXCHANGE ACT OF 1934For the transition period from_____ to _____            \\nCommission File Number: 001-38902\\n____________________________________________ \\nUBER TECHNOLOGIES, INC.\\n(Exact name of registrant as specif\\nied in its charter)____________________________________________ \\nDelaware\\n45-2647441 (State or other jurisdiction of inco\\nrporation or organization)(I.R.S. Employer Identification No.) 1515 3rd Street\\nSan Francisco, California 94158\\n(Address of principal executive offic\\nes, including zip code)(415) 612-8582\\n(Registrant’s telephone number, including area code)'),\n",
       " Document(metadata={'source': '/Users/rodrigom/ai-starter-kit-snova/edgar_qna/data/sec-edgar-filings/reports/uber_2021.pdf', 'page': 0, 'company': 'Uber', 'year': 2021}, page_content='____________________________________________\\nSecurities registered pursuant to Sect\\nion 12(b) of the Act:Title of each class\\nTrading Symbol(s) Name of each exchange on which registered Common Stock, par value $0.00001 per share\\nUBER New York Stock Exchange Securities register\\ned pursuant to Section 12(g) of the Act: NoneIndicate by check mark whe\\nther the registrant is a well-known seasoned issuer, as defined in Rule 405 of the Securities Act. Yes  ☒  No ☐Indicate by check mark whe\\nther the registrant is not required to file reports pursuant to Section 13 or Section 15(d) of the Act. Yes  ☐  No  ☒Indicate by\\n check mark whether the registrant (1) has filed all reports required to be filed by Section 13 or 15(d) of the Securities Exchange Act of 1934 during thepreceding\\n 12 months (or for such shorter period that the registrant was required to file such reports), and (2) has been subject to such filing requirements for thepast 90 days. Yes  \\n☒  No ☐Indicate'),\n",
       " Document(metadata={'source': '/Users/rodrigom/ai-starter-kit-snova/edgar_qna/data/sec-edgar-filings/reports/uber_2021.pdf', 'page': 0, 'company': 'Uber', 'year': 2021}, page_content='by check mark whether the registrant has submitted electronically every Interactive Data File required to be submitted pursuant to Rule 405 of RegulationS-T (§232.405 of this chapter) during \\nthe preceding 12 months (or for such shorter period that the registrant was required to submit such files). Yes  ☒  No ☐Indicate\\n by check mark whether the registrant is a large accelerated filer, an accelerated filer, a non-accelerated filer, a smaller reporting company, or an emerginggrowth\\n company. See the definitions of “large accelerated filer,” “accelerated filer,” “smaller reporting company,” and “emerging growth company” in Rule 12b-2of the Exchange Act.')]"
      ]
     },
     "execution_count": 55,
     "metadata": {},
     "output_type": "execute_result"
    }
   ],
   "source": [
    "# check uber splits\n",
    "uber_splits[:3]"
   ]
  },
  {
   "cell_type": "code",
   "execution_count": 49,
   "metadata": {},
   "outputs": [],
   "source": [
    "# Load lyft data\n",
    "loader = PyPDFLoader(os.path.join(kit_dir,\"data/sec-edgar-filings/reports/lyft_2021.pdf\"))\n",
    "data = loader.load()\n",
    "for document in data:\n",
    "    document.metadata['company'] = 'Lyft'\n",
    "    document.metadata['year'] = 2021\n",
    "\n",
    "# Split\n",
    "text_splitter = RecursiveCharacterTextSplitter(chunk_size=chunk_size, chunk_overlap=chunk_overlap)\n",
    "lyft_splits = text_splitter.split_documents(data)"
   ]
  },
  {
   "cell_type": "code",
   "execution_count": 54,
   "metadata": {},
   "outputs": [
    {
     "data": {
      "text/plain": [
       "[Document(metadata={'source': '/Users/rodrigom/ai-starter-kit-snova/edgar_qna/data/sec-edgar-filings/reports/lyft_2021.pdf', 'page': 0, 'company': 'Lyft', 'year': 2021}, page_content='UNITED STATESSECURITIES AND EXCHANGE COMMISSION\\nWashington, D.C. 20549\\nFORM 10-K\\n \\n(Mark One)\\n☒\\nANNUAL REPORT PURS UANT TO SECTION 13 OR 15(d) OF THE SECURITIES EXCHANGE ACT OF 1934For the fiscal year ended December 31, 2021\\nOR\\n☐\\nTRANSITION REPORT PURS UANT TO SECTION 13 OR 15(d) OF THE SECURITIES EXCHANGE ACT OF 1934 FOR THE TRANSITION PERIODFROM                      TO\\nCommission File Number 001-38846\\nLyft, Inc.\\n(Exact name of Registrant as specified in i\\nts Charter)Delaware\\n20-8809830 (State or other jurisdiction of\\nincorporation or organization)\\n(I.R.S. EmployerIdentification No.)\\n185 Berry Street, Suite 5000\\nSan Francisco, California\\n94107 (Address of principal executive offices)\\n(Zip Code) Registrant’s telephone number, including area code: (844) 250\\n-2773Securities registered pursuant to Section 12(b) of the Act: \\nTitle of each class\\nTradingSymbol(s)\\nName of each exchange on which registered Class A common stock, par value of $0.00001 per share'),\n",
       " Document(metadata={'source': '/Users/rodrigom/ai-starter-kit-snova/edgar_qna/data/sec-edgar-filings/reports/lyft_2021.pdf', 'page': 0, 'company': 'Lyft', 'year': 2021}, page_content='LYFT Nasdaq Global Select Market Securities registered pursuant to Section 12(g) of the Act: \\nNone Indicate by check mark if the Registrant is a well-known seasoned issuer, as defined in Rule 405 of the Securities Act. Yes \\n☒ \\xa0No ☐Indicate by check mark if the Registrant is not required to file reports pursuant to Section 13 or 15(d) of the Act.  Yes \\n☐ \\xa0No ☒Indicate by check mark whether the Registrant: (1) has filed all reports required to be filed by Section 13 or 15(d) of the Securities Exchange Act of 1934 during the preceding 12 months (or for such\\nshorter period that the Registrant was required to file such reports), and (2) has been subject to such filing requirements for the past 90 days.  Yes \\n☒ \\xa0No ☐Indicate by check mark whether the Registrant has submitted electronically every Interactive Data F'),\n",
       " Document(metadata={'source': '/Users/rodrigom/ai-starter-kit-snova/edgar_qna/data/sec-edgar-filings/reports/lyft_2021.pdf', 'page': 0, 'company': 'Lyft', 'year': 2021}, page_content='ile required to be submitted pursuant to Rule 405 of Regulation S-T (§232.405 of this chapter) duringthe preceding 12 months (or for such shorter period that the Registrant was required to submit such files).  Yes \\n☒ \\xa0No ☐Indicate by check mark whether the registrant is a large accelerated filer, an accelerated filer, a non-accelerated filer, smaller reporting company, or an emerging growth company. See the definitions of\\n“large accelerated filer,” “accelerated filer,” “smaller reporting company,” and “emerging growth company” in Rule 12b-2 of the Exchange Act.\\nLarge accelerated filer\\n☒ Accelerated filer ☐ Non-accelerated filer\\n☐ Smaller reporting company ☐ Emerging growth company\\n☐ If an emerging growth company, indicate by check mark if the registrant has elected not to use the extended transit\\nion period for complying with any new or revised financial accounting standardsprovided pursuant to Section 13(a) of the Exchange Act.')]"
      ]
     },
     "execution_count": 54,
     "metadata": {},
     "output_type": "execute_result"
    }
   ],
   "source": [
    "# check lyft splits\n",
    "lyft_splits[:3]"
   ]
  },
  {
   "cell_type": "code",
   "execution_count": 50,
   "metadata": {},
   "outputs": [
    {
     "name": "stdout",
     "output_type": "stream",
     "text": [
      "1499 uber split docs\n",
      "1043 lyft split docs\n",
      "2542 all docs\n"
     ]
    }
   ],
   "source": [
    "splits = [*uber_splits,*lyft_splits]\n",
    "\n",
    "print(f\"{len(uber_splits)} uber split docs\")\n",
    "print(f\"{len(lyft_splits)} lyft split docs\")\n",
    "print(f\"{len(splits)} all docs\")"
   ]
  },
  {
   "cell_type": "code",
   "execution_count": 51,
   "metadata": {},
   "outputs": [
    {
     "name": "stdout",
     "output_type": "stream",
     "text": [
      "load INSTRUCTOR_Transformer\n",
      "max_seq_length  512\n"
     ]
    }
   ],
   "source": [
    "# Load embeddings and create vector store\n",
    "embedding = HuggingFaceInstructEmbeddings(\n",
    "    query_instruction=\"Represent the query for retrieval: \"\n",
    ")\n",
    "\n",
    "vectordb = Chroma.from_documents(documents=splits, embedding=embedding)"
   ]
  },
  {
   "cell_type": "code",
   "execution_count": 56,
   "metadata": {},
   "outputs": [],
   "source": [
    "# create llm object from Sambanova endpoint class\n",
    "#llm = Sambaverse(\n",
    "#            sambaverse_model_name='Meta/llama-2-7b-chat-hf',\n",
    "#            model_kwargs={\n",
    "#                'do_sample': False,\n",
    "#                'max_tokens_to_generate': 512,\n",
    "#                'select_expert': 'llama-2-7b-chat-hf',\n",
    "#                'process_prompt': False,\n",
    "#                'temperature': 0.01,\n",
    "#            },\n",
    "#        )\n",
    "\n",
    "llm = SambaStudio(\n",
    "            streaming=True,\n",
    "            model_kwargs={\n",
    "                'max_tokens_to_generate': 512,\n",
    "                'select_expert': 'Meta-Llama-3-70B-Instruct',\n",
    "                'process_prompt': False,\n",
    "            },\n",
    "        )"
   ]
  },
  {
   "cell_type": "code",
   "execution_count": 60,
   "metadata": {},
   "outputs": [
    {
     "data": {
      "text/plain": [
       "['1. What are the revenue breakdowns for Document 1?',\n",
       " '2. What are the revenue breakdowns for Document 2?']"
      ]
     },
     "execution_count": 60,
     "metadata": {},
     "output_type": "execute_result"
    }
   ],
   "source": [
    "# Output parser will split the LLM result into a list of queries\n",
    "class LineListOutputParser(BaseOutputParser[List[str]]):\n",
    "    \"\"\"Output parser for a list of lines.\"\"\"\n",
    "\n",
    "    def parse(self, text: str) -> List[str]:\n",
    "        lines = text.strip().split(\"\\n\")\n",
    "        questions = [question.strip() for question in lines if '?' in question]\n",
    "        return list(filter(None, questions))  # Remove empty lines\n",
    "\n",
    "output_parser = LineListOutputParser()\n",
    "\n",
    "# Testing parser\n",
    "parsing = output_parser.parse(\"  1. What are the revenue breakdowns for Document 1?\\n                       2. What are the revenue breakdowns for Document 2?\")\n",
    "parsing"
   ]
  },
  {
   "cell_type": "code",
   "execution_count": 61,
   "metadata": {},
   "outputs": [],
   "source": [
    "query_decomposition_prompt = PromptTemplate(\n",
    "    input_variables=[\"question\"],\n",
    "    \n",
    "    template=\"\"\"Given the following complex query, decompose the query into a list of questions directly and concisely.\n",
    "    Complex query: {question}\n",
    "    List of decomposed questions: \"\"\",\n",
    ")\n",
    "\n",
    "\n",
    "query_decomposition_prompt.save(os.path.join(kit_dir,'prompts/llama70b-edgar_comparative_qna-query_decomposition_prompt.yaml'))\n",
    "query_decomposition_prompt = load_prompt(os.path.join(kit_dir,'prompts/llama70b-edgar_comparative_qna-query_decomposition_prompt.yaml'))"
   ]
  },
  {
   "cell_type": "code",
   "execution_count": 67,
   "metadata": {},
   "outputs": [
    {
     "name": "stdout",
     "output_type": "stream",
     "text": [
      "stream true, handleling requests\n"
     ]
    },
    {
     "name": "stderr",
     "output_type": "stream",
     "text": [
      "INFO:langchain.retrievers.multi_query:Generated queries: ['1. What are the revenue breakdowns for Uber in its 10-K report?', '2. What are the revenue breakdowns for Lyft in its 10-K report?', '3. What is the total revenue for Uber?', '4. What is the total revenue for Lyft?', '5. How do the total revenues of Uber and Lyft compare?', '6. What are the revenue segments for Uber?', '7. What are the revenue segments for Lyft?', '8. How do the revenue segments of Uber and Lyft compare?']\n"
     ]
    },
    {
     "data": {
      "text/plain": [
       "[Document(metadata={'company': 'Uber', 'page': 53, 'source': '/Users/rodrigom/ai-starter-kit-snova/edgar_qna/data/sec-edgar-filings/reports/uber_2021.pdf', 'year': 2021}, page_content='ements and Supplementary Data,” of this Annual Report on Form 10-K.Components of Results of Operations\\nRevenue\\nWe generate substanti\\nally all of our revenue from fees paid by Drivers and Merchants for use of our platform. We have concluded that we are an agent in thesearrangements\\n as we arrange for other parties to provide the service to the end-user. Under this model, revenue is net of Driver and Merchant earnings and Driverincentives. We act as an a\\ngent in these transactions by connecting consumers to Drivers and Merchants to facilitate a Trip, meal or grocery delivery service.For\\n additional  discussion  related  to  our  revenue,  see  the  section  titled  “Management’s  Discussion  and  Analysis  of  Financial  Condition  and  Results  ofOperations\\n - Critical Accounting Estimates - Revenue Recognition,” “Note 1 – Description of Business and Summary of Significant Accounting Policies,” and“Note 2'),\n",
       " Document(metadata={'company': 'Uber', 'page': 53, 'source': '/Users/rodrigom/ai-starter-kit-snova/edgar_qna/data/sec-edgar-filings/reports/uber_2021.pdf', 'year': 2021}, page_content='– Revenue” to our consolidated financial statements included in Part II, Item 8, “Financial Statements and Supplementary Data,” of this Annual Report onForm 10-K.\\nCost of Revenue, Exclusive of Depreciation and Amortizat\\nionCost of\\n revenue, exclusive of depreciation and amortization, primarily consists of certain insurance costs related to our Mobility and Delivery offerings, creditcard\\n processing fees, bank fees, data center and networking expenses, mobile device and service costs, costs incurred for certain Delivery transactions where weare primarily respons\\nible for delivery services and pay Couriers for services provided, costs incurred with carriers for Uber Freight transportation services, amountsrelated to fare chargebacks an\\nd other credit card losses.We expect that cost of \\nrevenue, exclusive of depreciation and amortization, will fluctuate on an absolute dollar basis for the foreseeable future in line with Tripvolume'),\n",
       " Document(metadata={'company': 'Uber', 'source': '/Users/rodrigom/ai-starter-kit-snova/edgar_qna/data/sec-edgar-filings/pdfs/uber_10k_2021.html', 'year': 2021}, page_content='We generate substantially all of our revenue from fees paid by Drivers and Merchants for use of our platform. We have concluded that we are an agent in these arrangements as we arrange for other parties to provide the service to the end-user. Under this model, revenue is net of Driver and Merchant earnings and Driver incentives. We act as an agent in these transactions by connecting consumers to Drivers and Merchants to facilitate a Trip, meal or grocery delivery service.\\n\\nFor additional discussion related to our revenue, see the section titled “Management’s Discussion and Analysis of Financial Condition and Results of Operations - Critical Accounting Estimates - Revenue Recognition,” “Note 1 – Description of Business and Summary of Significant Accounting Policies,” and “Note 2 – Revenue” to our consolidated financial statements included in Part II, Item 8, “Financial Statements and Supplementary Data,” of this Annual Report on Form 10-K.'),\n",
       " Document(metadata={'company': 'Uber', 'source': '/Users/rodrigom/ai-starter-kit-snova/edgar_qna/data/sec-edgar-filings/pdfs/uber_10k_2021.html', 'year': 2021}, page_content='In addition, if we are required to classify Drivers as employees, this may impact our current financial statement presentation including revenue, cost of revenue, incentives and promotions as further described in Note 1 – Description of Business and Summary of Significant Accounting Policies in the notes to the consolidated financial statements included in Part II, Item 8, “Financial Statements and Supplementary Data,” and the section titled “Critical Accounting Estimates” in Part II, Item 7, of this Annual Report on Form 10-K.\\n\\n50\\n\\nFinancial and Operational Highlights\\n\\nYear Ended December 31,\\n\\nConstant Currency (1)\\n\\n(In millions, except percentages)\\n\\n2020\\n\\n2021\\n\\n2020 to 2021 % Change\\n\\n2020 to 2021 % Change\\n\\nMonthly Active Platform Consumers (“MAPCs”) (2), (3)\\n\\n93\\n\\n118\\n\\n27\\n\\nTrips (2)\\n\\n5,025\\n\\n6,368\\n\\n27\\n\\nGross Bookings (2)\\n\\n57,897\\n\\n90,415\\n\\n56\\n\\n53\\n\\nRevenue\\n\\n11,139\\n\\n17,455\\n\\n57\\n\\n54\\n\\nNet loss attributable to Uber Technologies, Inc. (4)\\n\\n(6,768)\\n\\n(496)\\n\\n93\\n\\nMobility Adjusted EBITDA\\n\\n1,169'),\n",
       " Document(metadata={'company': 'Uber', 'page': 97, 'source': '/Users/rodrigom/ai-starter-kit-snova/edgar_qna/data/sec-edgar-filings/reports/uber_2021.pdf', 'year': 2021}, page_content='Note 2 – RevenueThe\\n following  tables  present  our  revenues  disaggregated  by  offering  and  geographical  region.  Revenue  by  geographical  region  is  based  on  where  thetransaction\\n occurred. This level of disaggregation takes into consideration how the nature, amount, timing, and uncertainty of revenue and cash flows are affectedby economic factors. Revenue \\nis presented in the following tables for the years ended December 31, 2019, 2020 and 2021, respectively (in millions):Year Ended December 31,\\n2019\\n2020 2021 Mobility revenue \\n$ 10,707 $ 6,089 $ 6,953 Delivery revenue \\n1,401 3,904 8,362 Freight revenue\\n731 1,011 2,132 All Other revenue\\n161 135 8 Total revenue\\n$ 13,000 $ 11,139 $ 17,455  We\\n offer subscription memberships to end-users including Uber One, Uber Pass, Rides Pass, and Eats Pass (“Subscription”). We recognize Subscriptionfees'),\n",
       " Document(metadata={'company': 'Lyft', 'source': '/Users/rodrigom/ai-starter-kit-snova/edgar_qna/data/sec-edgar-filings/reports/lyft_10k_2021.html', 'year': 2021}, page_content='We believe that the accounting policies described below involve a significant degree of judgment and complexity. Accordingly, we believe these are the most critical to aid in fully understanding and evaluating our consolidated financial condition and results of operations. For further information, see Note 2 of the notes to our consolidated financial statements included elsewhere in this Annual Report on Form 10-K.\\n\\nRevenue Recognition\\n\\nRevenues from Contracts with Customers (ASC 606)\\n\\nWe generate substantially all our revenue from our ridesharing marketplace that connects drivers and riders. We recognize revenue from fees paid by drivers for use of our Lyft Platform offerings in accordance with ASC 606 as described in Note 2 of the notes to our consolidated financial statements. Drivers enter into terms of service (“ToS”) with us in order to use our Lyft Driver App.\\n\\n58'),\n",
       " Document(metadata={'company': 'Lyft', 'page': 57, 'source': '/Users/rodrigom/ai-starter-kit-snova/edgar_qna/data/sec-edgar-filings/reports/lyft_2021.pdf', 'year': 2021}, page_content='believe that the accounting policies described below involve a significant degree of judgment and complexity. Accordingly, we believe these are the mostcritical\\n to aid in fully understanding and evaluating our consolidated financial condition and results of operations. For further information, see Note 2 of the notes to ourconsolidated financia\\nl statements included elsewhere in this Annual Report on Form 10-K.Revenue Recognition\\nRevenues from Contracts with Customers (ASC 606)\\nWe\\n generate substantially all our revenue from our ridesharing marketplace that connects drivers and riders. We recognize revenue from fees paid by drivers foruse\\n of our Lyft Platform offerings in accordance with ASC 606 as described in Note 2 of the notes to our consolidated financial statements. Drivers enter into terms ofservice (“ToS”) with us in orde\\nr to use our Lyft Driver App.58'),\n",
       " Document(metadata={'company': 'Lyft', 'page': 78, 'source': '/Users/rodrigom/ai-starter-kit-snova/edgar_qna/data/sec-edgar-filings/reports/lyft_2021.pdf', 'year': 2021}, page_content='Lyft, Inc.Consolidated Statements of Operations\\n(in thousands, except for per share data\\n) Year Ended December 31,\\n2021\\n2020 2019 Revenue\\n$ 3,208,323 $ 2,364,681 $ 3,615,960 Costs and expenses\\nCost of revenue\\n1,649,532 1,447,516 2,176,469 Operations and support\\n402,233 453,963 636,116 Research and development\\n911,946 909,126 1,505,640 Sales and marketing\\n411,406 416,331 814,122 General and administrative\\n915,638 946,127 1,186,093 Total costs and expenses\\n4,290,755 4,173,063 6,318,440 Loss from operations\\n(1,082,432) (1,808,382) (2,702,480) Interest expense\\n(51,635) (32,678) — Other income, net\\n135,933 43,669 102,595 Loss before income taxes\\n(998,134) (1,797,391) (2,599,885) Provision for (benefit fro\\nm) income taxes11,225 (44,534) 2,356 Net loss\\n$ (1,009,359) $ (1,752,857) $ (2,602,241) Net loss per share, basic and di\\nluted$ (3.02) $ (5.61) $ (11.44) Weighted-average numb'),\n",
       " Document(metadata={'company': 'Lyft', 'source': '/Users/rodrigom/ai-starter-kit-snova/edgar_qna/data/sec-edgar-filings/reports/lyft_10k_2021.html', 'year': 2021}, page_content=\"The Company generates its revenue from its multimodal transportation networks that offer access to a variety of transportation options through the Lyft Platform and mobile-based applications. Substantially all of the Company’s revenue is generated from its ridesharing marketplace that connects drivers and riders and is recognized in accordance with Accounting Standards Codification Topic 606 (“ASC 606”). In addition, the Company generates revenue in accordance with ASC 606 from licensing and data access, primarily with third-party autonomous vehicle companies. The Company also generates rental revenue from Flexdrive, its network of Light Vehicles and Lyft Rentals, which is recognized in accordance with Accounting Standards Codification Topic 842 (“ASC 842”).\\n\\nThe table below presents the Company's revenues as included on the consolidated statements of operations (in thousands):\\n\\nYear Ended December 31,\\n\\n2021\\n\\n2020\\n\\n2019\\n\\nRevenue from contracts with customers (ASC 606)\\n\\n2,957,979\"),\n",
       " Document(metadata={'company': 'Lyft', 'source': '/Users/rodrigom/ai-starter-kit-snova/edgar_qna/data/sec-edgar-filings/reports/lyft_10k_2021.html', 'year': 2021}, page_content='Operations and support\\n\\n24,083\\n\\n15,829\\n\\n75,212\\n\\nResearch and development\\n\\n414,324\\n\\n325,624\\n\\n971,941\\n\\nSales and marketing\\n\\n38,243\\n\\n23,385\\n\\n72,046\\n\\nGeneral and administrative\\n\\n208,419\\n\\n172,226\\n\\n398,791\\n\\nThe accompanying notes are an integral part of these consolidated financial statements.\\n\\n79\\n\\nLyft, Inc.\\n\\nConsolidated Statements of Comprehensive Loss\\n\\n(in thousands)\\n\\nYear Ended December 31,\\n\\n2021\\n\\n2020\\n\\n2019\\n\\nNet loss\\n\\n(1,009,359)\\n\\n(1,752,857)\\n\\n(2,602,241)\\n\\nOther comprehensive income (loss)\\n\\nForeign currency translation adjustment\\n\\n(931)\\n\\n(2,187)\\n\\n162\\n\\nUnrealized gain (loss) on marketable securities, net of taxes\\n\\n(1,107)\\n\\n(1,011)\\n\\n2,430\\n\\nOther comprehensive income (loss)\\n\\n(2,038)\\n\\n(3,198)\\n\\n2,592\\n\\nComprehensive loss\\n\\n(1,011,397)\\n\\n(1,756,055)\\n\\n(2,599,649)\\n\\nThe accompanying notes are an integral part of these consolidated financial statements.\\n\\n80\\n\\nLyft, Inc.\\n\\nConsolidated Statements of Redeemable Convertible Preferred Stock and Stockholders’ Equity (Deficit)\\n\\n(in thousands)'),\n",
       " Document(metadata={'company': 'Lyft', 'source': '/Users/rodrigom/ai-starter-kit-snova/edgar_qna/data/sec-edgar-filings/reports/lyft_10k_2021.html', 'year': 2021}, page_content='2,208,656\\n\\n3,465,473\\n\\nRental revenue (ASC 842)\\n\\n250,344\\n\\n156,025\\n\\n150,487\\n\\nTotal revenue\\n\\n3,208,323\\n\\n2,364,681\\n\\n3,615,960\\n\\n86\\n\\nRevenue from Contracts with Customers (ASC 606)'),\n",
       " Document(metadata={'company': 'Uber', 'source': '/Users/rodrigom/ai-starter-kit-snova/edgar_qna/data/sec-edgar-filings/pdfs/uber_10k_2021.html', 'year': 2021}, page_content='We offer subscription memberships to end-users including Uber One, Uber Pass, Rides Pass, and Eats Pass (“Subscription”). We recognize Subscription fees ratably over the life of the pass. We allocate Subscription fees earned to Mobility and Delivery revenue on a proportional basis, based on usage for each offering during the respective period.\\n\\nYear Ended December 31,\\n\\n2019\\n\\n2020\\n\\n2021\\n\\nUnited States and Canada\\n\\n8,465\\n\\n6,611\\n\\n10,094\\n\\nLatin America (\"LatAm\")\\n\\n1,862\\n\\n1,295\\n\\n1,417\\n\\nEurope, Middle East and Africa (\"EMEA\")\\n\\n1,852\\n\\n2,086\\n\\n3,213\\n\\nAsia Pacific (\"APAC\")\\n\\n821\\n\\n1,147\\n\\n2,731\\n\\nTotal revenue\\n\\n13,000\\n\\n11,139\\n\\n17,455\\n\\nRevenue\\n\\nMobility Revenue'),\n",
       " Document(metadata={'company': 'Lyft', 'source': '/Users/rodrigom/ai-starter-kit-snova/edgar_qna/data/sec-edgar-filings/reports/lyft_10k_2021.html', 'year': 2021}, page_content='Revenue consists of revenue recognized from fees paid by drivers for use of our Lyft Platform offerings, Concierge platform fees from organizations that use our Concierge offering, subscription fees paid by riders to access transportation options through the Lyft Platform, revenue from our vehicle service centers and revenue from licensing and data access agreements. Revenue derived from these offerings are recognized in accordance with ASC 606 as described in the Critical Accounting Policies and Estimates above and in Note 2 of the notes to our consolidated financial statements.'),\n",
       " Document(metadata={'company': 'Lyft', 'source': '/Users/rodrigom/ai-starter-kit-snova/edgar_qna/data/sec-edgar-filings/reports/lyft_10k_2021.html', 'year': 2021}, page_content='We generate substantially all of our revenue from our ridesharing marketplace that connects drivers and riders. We collect service fees and commissions from drivers for their use of our ridesharing marketplace. As drivers accept more rider leads and complete more rides, we earn more revenue. We also generate revenue from riders renting Light Vehicles, drivers renting vehicles through Express Drive, Lyft Rentals renters, Lyft Driver Center and Lyft Auto Care users, and by making our ridesharing marketplace available to organizations through our Lyft Business offerings, such as our Concierge and Corporate Business Travel programs. In the second quarter of 2021, we began generating revenues from licensing and data access agreements, primarily with third-party autonomous vehicle companies.'),\n",
       " Document(metadata={'company': 'Lyft', 'source': '/Users/rodrigom/ai-starter-kit-snova/edgar_qna/data/sec-edgar-filings/reports/lyft_10k_2021.html', 'year': 2021}, page_content='Revenue also consists of rental revenues recognized through leases or subleases primarily from Flexdrive, Lyft Rentals, and our network of Light Vehicles, which includes revenue generated from single-use ride fees paid by riders of Light Vehicles. Revenue derived from these offerings are recognized in accordance with ASC 842 as described in the Critical Accounting Policies and Estimates above and in Note 2 of the notes to our consolidated financial statements.\\n\\nWe offer various incentive programs to drivers that are recorded as reduction to revenue if we do not receive a distinct good or service in consideration or if we cannot reasonably estimate the fair value of goods or services received.\\n\\nCost of Revenue'),\n",
       " Document(metadata={'company': 'Lyft', 'page': 60, 'source': '/Users/rodrigom/ai-starter-kit-snova/edgar_qna/data/sec-edgar-filings/reports/lyft_2021.pdf', 'year': 2021}, page_content='and data access agreements. Revenue derived from these offerings are recognized in accordance with ASC 606 as described in the Critical Accounting Policiesand Estimates above and in Note 2 o\\nf the notes to our consolidated financial statements.Revenue also\\n consists of rental revenues recognized through leases or subleases primarily from Flexdrive, Lyft Rentals, and our network of Light Vehicles, whichincludes revenue\\n generated from single-use ride fees paid by riders of Light Vehicles. Revenue derived from these offerings are recognized in accordance with ASC 842 asdescribed in the Critic\\nal Accounting Policies and Estimates above and in Note 2 of the notes to our consolidated financial statements.We\\n offer various incentive programs to drivers that are recorded as reduction to revenue if we do not receive a distinct good or service in consideration or if wecannot reasonably estim\\nate the fair value of goods or services received.Cost of Revenue\\nCost'),\n",
       " Document(metadata={'company': 'Lyft', 'page': 59, 'source': '/Users/rodrigom/ai-starter-kit-snova/edgar_qna/data/sec-edgar-filings/reports/lyft_2021.pdf', 'year': 2021}, page_content='Revenue generated from single-use ride fees paid by Light Vehicles riders are recognized upon completion of each related ride. Revenue generated from Flexdriveand\\n Lyft Rentals is recognized evenly over the rental period, which is typically seven days or less. Due to the short-term nature of the Flexdrive, Lyft Rentals, and LightVehicle transactions, we c\\nlassify these rentals as operating leases.Insurance Reserves\\nWe\\n utilize both a wholly-owned captive insurance subsidiary and third-party insurance, which may include deductibles and self-insured retentions, to insure orreinsure\\n costs including auto liability, uninsured and underinsured motorist, auto physical damage, first party injury coverages including personal injury protection understate\\n law and general business liabilities up to certain limits. The recorded liabilities reflect the estimated cost for claims incurred but not paid and claims that have beenincurred but not yet'),\n",
       " Document(metadata={'company': 'Lyft', 'source': '/Users/rodrigom/ai-starter-kit-snova/edgar_qna/data/sec-edgar-filings/reports/lyft_10k_2021.html', 'year': 2021}, page_content='The Company recognizes revenue from subscription fees paid to access transportation options through the Lyft Platform and mobile-based applications over the applicable subscription period in accordance with ASC 606. The Company also recognizes revenue from auto maintenance and collision repair services in accordance with ASC 606.'),\n",
       " Document(metadata={'company': 'Uber', 'source': '/Users/rodrigom/ai-starter-kit-snova/edgar_qna/data/sec-edgar-filings/pdfs/uber_10k_2021.html', 'year': 2021}, page_content=\"Revenue Recognition\\n\\nWe recognize revenue when or as we satisfy our obligations. We derive our revenues principally from Drivers’ and Merchants’ use of our platform, on-demand lead generation, and related services, including facilitating payments from end-users. The service enables Drivers and Merchants to seek, receive and fulfill on-demand requests from end-users seeking Mobility or Delivery services (collectively the “Uber Service”). Beginning in 2020, in certain markets we also generate revenue from end-users. We charge a direct fee for use of the platform and in exchange for Delivery services. Additionally, we derive revenue from customers' use of Freight services.\\n\\nWe periodically reassess our revenue recognition policies as new offerings become material, and business models and other factors evolve.\\n\\n87\\n\\nMobility and Delivery Agreements\"),\n",
       " Document(metadata={'company': 'Lyft', 'page': 86, 'source': '/Users/rodrigom/ai-starter-kit-snova/edgar_qna/data/sec-edgar-filings/reports/lyft_2021.pdf', 'year': 2021}, page_content='Revenue from Contracts with Customers (ASC 606)The Company\\n recognizes revenue for its rideshare marketplace in accordance with ASC 606. The Company generates revenue from service fees and commissions(collectively, “fees”) paid by\\n drivers for use of the Lyft Platform and related activities to connect drivers with riders to facilitate and successfully complete rides via the LyftApp\\n where  the  Company  operates  as  a  TNC.  The  Company  recognizes  revenue  upon  completion  of  each  ride.  Drivers  enter  into  terms  of  service  (“ToS”)  with  theCompany\\n in order to use the Lyft Driver App. Under the ToS, drivers agree that the Company retains the applicable fee as consideration for their use of the Lyft Platformand related\\n activities from the fare and related charges it collects from riders on behalf of drivers. The Company is acting as an agent in facilitating the ability of a driver toprovide a'),\n",
       " Document(metadata={'company': 'Lyft', 'source': '/Users/rodrigom/ai-starter-kit-snova/edgar_qna/data/sec-edgar-filings/reports/lyft_10k_2021.html', 'year': 2021}, page_content='Revenue generated from single-use ride fees paid by Light Vehicles riders are recognized upon completion of each related ride. Revenue generated from Flexdrive and Lyft Rentals is recognized evenly over the rental period, which is typically seven days or less. Due to the short-term nature of the Flexdrive, Lyft Rentals, and Light Vehicle transactions, we classify these rentals as operating leases.\\n\\nInsurance Reserves'),\n",
       " Document(metadata={'company': 'Lyft', 'page': 58, 'source': '/Users/rodrigom/ai-starter-kit-snova/edgar_qna/data/sec-edgar-filings/reports/lyft_2021.pdf', 'year': 2021}, page_content='We provide a service to drivers to complete a successful transportation service for riders. This service includes on-demand lead generation that assists drivers tofind,\\n receive and fulfill on-demand requests from riders seeking transportation services and related collection activities using our Lyft Platform. As a result, our singleperformance obligation in t\\nhe transaction is to connect drivers with riders to facilitate the completion of a successful transportation service for riders.We evaluate the presentation of revenue on\\n a gross versus net basis based on whether we act as a principal by controlling the transportation service provided to therider\\n or whether we act as an agent by arranging for third parties to provide the service to the rider. We facilitate the provision of a transportation service by a driver to arider (the driver’s customer) in order for the driver to fulfill their contractual promise to the rider. The driver fulfills their promise to pro')]"
      ]
     },
     "execution_count": 67,
     "metadata": {},
     "output_type": "execute_result"
    }
   ],
   "source": [
    "# Chain\n",
    "llm_chain = LLMChain(llm=llm, prompt=query_decomposition_prompt, output_parser=output_parser)\n",
    "\n",
    "multiquery_retriever = MultiQueryRetriever(\n",
    "    retriever=vectordb.as_retriever(search_kwargs={\n",
    "        'k': 5,\n",
    "        'filter': {'$or': [{'company': {'$eq': 'Uber'}}, {'company': {'$eq': 'Lyft'}}]},\n",
    "    }), \n",
    "    llm_chain=llm_chain, \n",
    "    parser_key=\"decomposed_questions\", \n",
    "    verbose = True\n",
    ")  \n",
    "\n",
    "question = \"What are the revenue breakdowns for Uber and Lyft in their respective 10-K reports, and how do they compare in terms of total revenue and revenue from different segments?\"\n",
    "\n",
    "# multiquery results\n",
    "multiquery_retrieved_docs = multiquery_retriever.get_relevant_documents(\n",
    "    query=question\n",
    ")\n",
    "multiquery_retrieved_docs"
   ]
  },
  {
   "cell_type": "code",
   "execution_count": 68,
   "metadata": {},
   "outputs": [],
   "source": [
    "# Define prompt for answering and summarization\n",
    "summarization_prompt_template = \"\"\"You're a respectful, helpful assistant. Follow these rules:\n",
    "1. Use only the information provided in the context section.\n",
    "2. Provide relevant information to answer the question.\n",
    "Write an answer to the following question based on the following context:\n",
    "Question:\n",
    "{original_question}\n",
    "Context:\n",
    "{context}\n",
    "Answer: \"\"\"\n",
    "summarization_prompt = PromptTemplate.from_template(summarization_prompt_template)\n",
    "\n",
    "summarization_prompt.save(os.path.join(kit_dir,'prompts/llama70b-edgar_comparative_qna-answering_and_summarization_prompt.yaml'))\n",
    "summarization_prompt = load_prompt(os.path.join(kit_dir,'prompts/llama70b-edgar_comparative_qna-answering_and_summarization_prompt.yaml'))"
   ]
  },
  {
   "cell_type": "code",
   "execution_count": 69,
   "metadata": {},
   "outputs": [
    {
     "name": "stdout",
     "output_type": "stream",
     "text": [
      "stream true, handleling requests\n",
      " Uber's revenue breakdown for 2021 is as follows: Mobility revenue: $6,953 million, Delivery revenue: $8,362 million, Freight revenue: $2,132 million, and All Other revenue: $8 million, for a total revenue of $17,455 million.\n",
      "\n",
      "Lyft's revenue breakdown for 2021 is as follows: Revenue from contracts with customers (ASC 606): $2,957,979 thousand, Operations and support: $24,083 thousand, Research and development: $414,324 thousand, Sales and marketing: $38,243 thousand, General and administrative: $208,419 thousand, and Rental revenue (ASC 842): $250,344 thousand, for a total revenue of $3,208,323 thousand.\n",
      "\n",
      "In terms of total revenue, Uber's revenue is significantly higher than Lyft's, with $17,455 million compared to $3,208,323 thousand. Uber's Mobility revenue is also higher than Lyft's revenue from contracts with customers (ASC 606), with $6,953 million compared to $2,957,979 thousand. However, Lyft's rental revenue (ASC 842) is a \n"
     ]
    }
   ],
   "source": [
    "# Define StuffDocumentsChain\n",
    "llm_chain = LLMChain(llm=llm, prompt=summarization_prompt)\n",
    "stuff_chain = StuffDocumentsChain(llm_chain=llm_chain, document_variable_name=\"context\")\n",
    "\n",
    "response = stuff_chain.invoke({\"input_documents\": multiquery_retrieved_docs, 'original_question': question})\n",
    "print(response['output_text'])"
   ]
  },
  {
   "cell_type": "code",
   "execution_count": null,
   "metadata": {},
   "outputs": [],
   "source": [
    "# other questions to try\n",
    "questions = [\n",
    "    \"What are the revenue breakdowns for Uber and Lyft in their respective 10-K reports, and how do they compare in terms of total revenue and revenue from different segments?\",\n",
    "    \"What are the key risks mentioned in the risk factors section of both Uber and Lyft's 10-K reports, and how do they differ in terms of potential impact and mitigation strategies?\",\n",
    "    \"How do the corporate governance structures of Uber and Lyft, as outlined in their 10-K filings, compare in terms of board composition, executive compensation, and shareholder rights?\",\n",
    "    \"What are the major investments and acquisitions disclosed in the investment section of Uber and Lyft's 10-K reports, and how do they reflect each company's strategic priorities and growth strategies?\",\n",
    "    \"How do the research and development expenditures disclosed in Uber and Lyft's 10-K reports compare in terms of absolute spending and percentage of revenue, and what insights can be drawn regarding their innovation efforts?\",\n",
    "    \"What are the legal proceedings and regulatory issues disclosed in the legal proceedings section of both Uber and Lyft's 10-K filings, and how do they differ in terms of nature, severity, and potential impact on the companies?\",\n",
    "    \"How do the financial performance metrics such as net income, operating margins, and cash flow ratios disclosed in Uber and Lyft's 10-K reports compare, and what factors contribute to any observed differences?\",\n",
    "    \"What are the geographical revenue breakdowns provided in the geographic segments section of both Uber and Lyft's 10-K reports, and how do they reflect each company's international presence and market diversification?\",\n",
    "    \"How do the sustainability initiatives and environmental disclosures in Uber and Lyft's 10-K filings compare, including information on energy consumption, carbon footprint, and supply chain sustainability efforts?\",\n",
    "    \"What are the forward-looking statements and risk factors outlined in the Management's Discussion and Analysis (MD&A) sections of Uber and Lyft's 10-K reports, and how do they reflect each company's outlook, challenges, and opportunities in the market?\",\n",
    "]"
   ]
  }
 ],
 "metadata": {
  "kernelspec": {
   "display_name": "py310",
   "language": "python",
   "name": "python3"
  },
  "language_info": {
   "codemirror_mode": {
    "name": "ipython",
    "version": 3
   },
   "file_extension": ".py",
   "mimetype": "text/x-python",
   "name": "python",
   "nbconvert_exporter": "python",
   "pygments_lexer": "ipython3",
   "version": "3.10.11"
  }
 },
 "nbformat": 4,
 "nbformat_minor": 2
}
