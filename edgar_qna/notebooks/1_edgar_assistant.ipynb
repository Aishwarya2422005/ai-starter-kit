{
 "cells": [
  {
   "cell_type": "markdown",
   "id": "4129f9b5",
   "metadata": {},
   "source": [
    "# Edgar Q&A Demo"
   ]
  },
  {
   "cell_type": "code",
   "execution_count": null,
   "id": "c99735fb",
   "metadata": {},
   "outputs": [
    {
     "data": {
      "text/plain": [
       "True"
      ]
     },
     "execution_count": 154,
     "metadata": {},
     "output_type": "execute_result"
    }
   ],
   "source": [
    "import os\n",
    "import sys\n",
    "from pprint import pprint\n",
    "\n",
    "sys.path.append(\"../../\")\n",
    "\n",
    "from langchain.vectorstores import Chroma\n",
    "from langchain.embeddings.huggingface import HuggingFaceInstructEmbeddings\n",
    "from langchain.chains import RetrievalQA, LLMChain, ConversationalRetrievalChain\n",
    "from langchain.memory import ConversationBufferMemory, ConversationSummaryBufferMemory, ConversationSummaryMemory, ChatMessageHistory\n",
    "from langchain.prompts import (\n",
    "    PromptTemplate,\n",
    "    ChatPromptTemplate,\n",
    "    HumanMessagePromptTemplate,\n",
    "    MessagesPlaceholder,\n",
    "    SystemMessagePromptTemplate,\n",
    ")\n",
    "\n",
    "from utils.sambanova_endpoint import SambaNovaEndpoint\n",
    "\n",
    "from dotenv import load_dotenv\n",
    "load_dotenv('../../export.env')"
   ]
  },
  {
   "cell_type": "code",
   "execution_count": 2,
   "id": "49e9ba36",
   "metadata": {},
   "outputs": [],
   "source": [
    "PERSIST_DIRECTORY = '../data/vectordbs/tsla'"
   ]
  },
  {
   "cell_type": "markdown",
   "id": "529c3804",
   "metadata": {},
   "source": [
    "### Load embedding model and SEC vector db"
   ]
  },
  {
   "cell_type": "code",
   "execution_count": 3,
   "id": "79554c96",
   "metadata": {},
   "outputs": [
    {
     "name": "stderr",
     "output_type": "stream",
     "text": [
      "/opt/homebrew/Caskroom/miniconda/base/envs/py310/lib/python3.10/site-packages/InstructorEmbedding/instructor.py:7: TqdmExperimentalWarning: Using `tqdm.autonotebook.tqdm` in notebook mode. Use `tqdm.tqdm` instead to force console mode (e.g. in jupyter console)\n",
      "  from tqdm.autonotebook import trange\n"
     ]
    },
    {
     "name": "stdout",
     "output_type": "stream",
     "text": [
      "load INSTRUCTOR_Transformer\n",
      "max_seq_length  512\n"
     ]
    }
   ],
   "source": [
    "embedding_model = HuggingFaceInstructEmbeddings(\n",
    "    query_instruction=\"Represent the query for retrieval: \"\n",
    ")\n",
    "vectordb = Chroma(persist_directory=PERSIST_DIRECTORY, embedding_function=embedding_model)"
   ]
  },
  {
   "cell_type": "markdown",
   "id": "aa297fb1",
   "metadata": {},
   "source": [
    "### Choose LLM"
   ]
  },
  {
   "cell_type": "code",
   "execution_count": 151,
   "id": "315ad58c",
   "metadata": {},
   "outputs": [],
   "source": [
    "llm = SambaNovaEndpoint(\n",
    "    base_url=os.getenv('BASE_URL'),\n",
    "    project_id=os.getenv('PROJECT_ID'),\n",
    "    endpoint_id=os.getenv('ENDPOINT_ID'),\n",
    "    api_key=os.getenv('API_KEY'),\n",
    "    model_kwargs={\n",
    "        \"do_sample\": False, \n",
    "        \"temperature\": 0.0,\n",
    "        \"max_tokens_to_generate\": 250\n",
    "    },\n",
    ")"
   ]
  },
  {
   "cell_type": "markdown",
   "id": "5c8c1f57",
   "metadata": {},
   "source": [
    "### Retrieve information from vector db"
   ]
  },
  {
   "cell_type": "code",
   "execution_count": null,
   "id": "28a4f49c",
   "metadata": {},
   "outputs": [],
   "source": [
    "retriever = vectordb.as_retriever(search_kwargs={\"k\": 2})\n",
    "\n",
    "qa = RetrievalQA.from_chain_type(\n",
    "    llm=llm,\n",
    "    chain_type=\"stuff\",\n",
    "    retriever=retriever,\n",
    "    input_key=\"question\",\n",
    "    output_key=\"response\",\n",
    "    return_source_documents=True,\n",
    ")\n",
    "\n",
    "custom_prompt_template = \"\"\"\n",
    "<s>[INST] <<SYS>>\\nYou're an expert in filing reports\\n<</SYS>>\\n \n",
    "Given the following context enclosed in backticks regarding a company annual/quarterly report filing:\n",
    "```\n",
    "{context}\n",
    "```\n",
    "Consider the question:  \n",
    "{question}\n",
    "Answer the question using only the information from the context. If the answer to the question can't be extracted from the preovious context, then say \"I do not have information regarding this\".\n",
    "Helpful Answer: [/INST]\"\"\"\n",
    "CUSTOMPROMPT = PromptTemplate(\n",
    "    template=custom_prompt_template, input_variables=[\"context\", \"question\"]\n",
    ")\n",
    "## Inject custom prompt\n",
    "qa.combine_documents_chain.llm_chain.prompt = CUSTOMPROMPT\n",
    "query = \"What's the name of the company of this filing report?\"\n",
    "qa(query)"
   ]
  },
  {
   "cell_type": "markdown",
   "id": "70cd358e",
   "metadata": {},
   "source": [
    "### Q&A chatbot"
   ]
  },
  {
   "cell_type": "markdown",
   "id": "d3dcb221",
   "metadata": {},
   "source": [
    "The following image shows the general idea of the architecture for this retriever chatbot. </br>\n",
    "More resources about how chatbots are implemented with langchain [here](https://python.langchain.com/docs/use_cases/chatbots)"
   ]
  },
  {
   "cell_type": "markdown",
   "id": "935966fa",
   "metadata": {},
   "source": [
    "![retriever_chatbot_architecture](https://python.langchain.com/assets/images/chat_use_case-eb8a4883931d726e9f23628a0d22e315.png )"
   ]
  },
  {
   "cell_type": "markdown",
   "id": "9df36d9e",
   "metadata": {},
   "source": [
    "### Chatbot example"
   ]
  },
  {
   "cell_type": "code",
   "execution_count": 19,
   "id": "f9ebd0e5",
   "metadata": {},
   "outputs": [
    {
     "name": "stdout",
     "output_type": "stream",
     "text": [
      "\n",
      "\n",
      "\u001b[1m> Entering new LLMChain chain...\u001b[0m\n",
      "Prompt after formatting:\n",
      "\u001b[32;1m\u001b[1;3mSystem: You are a helpful assistant. Answer questions with the best of your capabilities and based on the chat history.\n",
      "Human: <s>[INST] hi, my name is Rodrigo [/INST]\u001b[0m\n",
      "\n",
      "\u001b[1m> Finished chain.\u001b[0m\n"
     ]
    },
    {
     "data": {
      "text/plain": [
       "{'question': 'hi, my name is Rodrigo',\n",
       " 'chat_history': [HumanMessage(content='hi, my name is Rodrigo'),\n",
       "  AIMessage(content=\" Assistant: Hello Rodrigo! Nice to meet you. Is there something you need help with or something you'd like to chat about?\")],\n",
       " 'text': \" Assistant: Hello Rodrigo! Nice to meet you. Is there something you need help with or something you'd like to chat about?\"}"
      ]
     },
     "execution_count": 19,
     "metadata": {},
     "output_type": "execute_result"
    }
   ],
   "source": [
    "prompt = ChatPromptTemplate(\n",
    "    messages=[\n",
    "        SystemMessagePromptTemplate.from_template(\n",
    "            \"You are a helpful assistant. Answer questions with the best of your capabilities and based on the chat history.\"\n",
    "        ),\n",
    "        MessagesPlaceholder(variable_name=\"chat_history\"),\n",
    "        HumanMessagePromptTemplate.from_template(\"<s>[INST] {question} [/INST]\"),\n",
    "    ]\n",
    ")\n",
    "\n",
    "memory = ConversationBufferMemory(memory_key=\"chat_history\", return_messages=True)\n",
    "conversation = LLMChain(llm=llm, prompt=prompt, verbose=True, memory=memory)\n",
    "\n",
    "conversation({\"question\": \"hi, my name is Rodrigo\"})"
   ]
  },
  {
   "cell_type": "code",
   "execution_count": 20,
   "id": "fd8dfb57",
   "metadata": {},
   "outputs": [
    {
     "name": "stdout",
     "output_type": "stream",
     "text": [
      "\n",
      "\n",
      "\u001b[1m> Entering new LLMChain chain...\u001b[0m\n",
      "Prompt after formatting:\n",
      "\u001b[32;1m\u001b[1;3mSystem: You are a helpful assistant. Answer questions with the best of your capabilities and based on the chat history.\n",
      "Human: hi, my name is Rodrigo\n",
      "AI:  Assistant: Hello Rodrigo! Nice to meet you. Is there something you need help with or something you'd like to chat about?\n",
      "Human: <s>[INST] can you tell me about the benefits of using AI in society? [/INST]\u001b[0m\n",
      "\n",
      "\u001b[1m> Finished chain.\u001b[0m\n"
     ]
    },
    {
     "data": {
      "text/plain": [
       "{'question': 'can you tell me about the benefits of using AI in society?',\n",
       " 'chat_history': [HumanMessage(content='hi, my name is Rodrigo'),\n",
       "  AIMessage(content=\" Assistant: Hello Rodrigo! Nice to meet you. Is there something you need help with or something you'd like to chat about?\"),\n",
       "  HumanMessage(content='can you tell me about the benefits of using AI in society?'),\n",
       "  AIMessage(content=' Assistant: Of course, Rodrigo! There are many benefits to using AI in society. Some of the most significant advantages include:\\n\\n1. Increased efficiency: AI can automate many repetitive and mundane tasks, freeing up time for people to focus on more important and creative work.\\n2. Improved decision-making: AI can analyze vast amounts of data and provide insights that humans might miss, allowing for more informed')],\n",
       " 'text': ' Assistant: Of course, Rodrigo! There are many benefits to using AI in society. Some of the most significant advantages include:\\n\\n1. Increased efficiency: AI can automate many repetitive and mundane tasks, freeing up time for people to focus on more important and creative work.\\n2. Improved decision-making: AI can analyze vast amounts of data and provide insights that humans might miss, allowing for more informed'}"
      ]
     },
     "execution_count": 20,
     "metadata": {},
     "output_type": "execute_result"
    }
   ],
   "source": [
    "conversation({\"question\": \"can you tell me about the benefits of using AI in society?\"})"
   ]
  },
  {
   "cell_type": "code",
   "execution_count": 21,
   "id": "dd3bf852",
   "metadata": {},
   "outputs": [
    {
     "name": "stdout",
     "output_type": "stream",
     "text": [
      "\n",
      "\n",
      "\u001b[1m> Entering new LLMChain chain...\u001b[0m\n",
      "Prompt after formatting:\n",
      "\u001b[32;1m\u001b[1;3mSystem: You are a helpful assistant. Answer questions with the best of your capabilities and based on the chat history.\n",
      "Human: hi, my name is Rodrigo\n",
      "AI:  Assistant: Hello Rodrigo! Nice to meet you. Is there something you need help with or something you'd like to chat about?\n",
      "Human: can you tell me about the benefits of using AI in society?\n",
      "AI:  Assistant: Of course, Rodrigo! There are many benefits to using AI in society. Some of the most significant advantages include:\n",
      "\n",
      "1. Increased efficiency: AI can automate many repetitive and mundane tasks, freeing up time for people to focus on more important and creative work.\n",
      "2. Improved decision-making: AI can analyze vast amounts of data and provide insights that humans might miss, allowing for more informed\n",
      "Human: <s>[INST] could you tell me more details about point 1? [/INST]\u001b[0m\n",
      "\n",
      "\u001b[1m> Finished chain.\u001b[0m\n"
     ]
    },
    {
     "data": {
      "text/plain": [
       "{'question': 'could you tell me more details about point 1?',\n",
       " 'chat_history': [HumanMessage(content='hi, my name is Rodrigo'),\n",
       "  AIMessage(content=\" Assistant: Hello Rodrigo! Nice to meet you. Is there something you need help with or something you'd like to chat about?\"),\n",
       "  HumanMessage(content='can you tell me about the benefits of using AI in society?'),\n",
       "  AIMessage(content=' Assistant: Of course, Rodrigo! There are many benefits to using AI in society. Some of the most significant advantages include:\\n\\n1. Increased efficiency: AI can automate many repetitive and mundane tasks, freeing up time for people to focus on more important and creative work.\\n2. Improved decision-making: AI can analyze vast amounts of data and provide insights that humans might miss, allowing for more informed'),\n",
       "  HumanMessage(content='could you tell me more details about point 1?'),\n",
       "  AIMessage(content=' AI:  Assistant: Sure, Rodrigo! Point 1 refers to the ability of AI to automate repetitive and mundane tasks. By using AI for tasks such as data entry, scheduling, and customer service, businesses and organizations can free up time for their employees to focus on more important and creative work. This can lead to increased productivity and efficiency, as well as improved job satisfaction for employees who are able to work on more eng')],\n",
       " 'text': ' AI:  Assistant: Sure, Rodrigo! Point 1 refers to the ability of AI to automate repetitive and mundane tasks. By using AI for tasks such as data entry, scheduling, and customer service, businesses and organizations can free up time for their employees to focus on more important and creative work. This can lead to increased productivity and efficiency, as well as improved job satisfaction for employees who are able to work on more eng'}"
      ]
     },
     "execution_count": 21,
     "metadata": {},
     "output_type": "execute_result"
    }
   ],
   "source": [
    "conversation({\"question\": \"could you tell me more details about point 1?\"})"
   ]
  },
  {
   "cell_type": "code",
   "execution_count": 22,
   "id": "2d3f9764",
   "metadata": {},
   "outputs": [
    {
     "name": "stdout",
     "output_type": "stream",
     "text": [
      "\n",
      "\n",
      "\u001b[1m> Entering new LLMChain chain...\u001b[0m\n",
      "Prompt after formatting:\n",
      "\u001b[32;1m\u001b[1;3mSystem: You are a helpful assistant. Answer questions with the best of your capabilities and based on the chat history.\n",
      "Human: hi, my name is Rodrigo\n",
      "AI:  Assistant: Hello Rodrigo! Nice to meet you. Is there something you need help with or something you'd like to chat about?\n",
      "Human: can you tell me about the benefits of using AI in society?\n",
      "AI:  Assistant: Of course, Rodrigo! There are many benefits to using AI in society. Some of the most significant advantages include:\n",
      "\n",
      "1. Increased efficiency: AI can automate many repetitive and mundane tasks, freeing up time for people to focus on more important and creative work.\n",
      "2. Improved decision-making: AI can analyze vast amounts of data and provide insights that humans might miss, allowing for more informed\n",
      "Human: could you tell me more details about point 1?\n",
      "AI:  AI:  Assistant: Sure, Rodrigo! Point 1 refers to the ability of AI to automate repetitive and mundane tasks. By using AI for tasks such as data entry, scheduling, and customer service, businesses and organizations can free up time for their employees to focus on more important and creative work. This can lead to increased productivity and efficiency, as well as improved job satisfaction for employees who are able to work on more eng\n",
      "Human: <s>[INST] Great, what was my name? [/INST]\u001b[0m\n",
      "\n",
      "\u001b[1m> Finished chain.\u001b[0m\n"
     ]
    },
    {
     "data": {
      "text/plain": [
       "{'question': 'Great, what was my name?',\n",
       " 'chat_history': [HumanMessage(content='hi, my name is Rodrigo'),\n",
       "  AIMessage(content=\" Assistant: Hello Rodrigo! Nice to meet you. Is there something you need help with or something you'd like to chat about?\"),\n",
       "  HumanMessage(content='can you tell me about the benefits of using AI in society?'),\n",
       "  AIMessage(content=' Assistant: Of course, Rodrigo! There are many benefits to using AI in society. Some of the most significant advantages include:\\n\\n1. Increased efficiency: AI can automate many repetitive and mundane tasks, freeing up time for people to focus on more important and creative work.\\n2. Improved decision-making: AI can analyze vast amounts of data and provide insights that humans might miss, allowing for more informed'),\n",
       "  HumanMessage(content='could you tell me more details about point 1?'),\n",
       "  AIMessage(content=' AI:  Assistant: Sure, Rodrigo! Point 1 refers to the ability of AI to automate repetitive and mundane tasks. By using AI for tasks such as data entry, scheduling, and customer service, businesses and organizations can free up time for their employees to focus on more important and creative work. This can lead to increased productivity and efficiency, as well as improved job satisfaction for employees who are able to work on more eng'),\n",
       "  HumanMessage(content='Great, what was my name?'),\n",
       "  AIMessage(content=' AI:  Assistant: Your name is Rodrigo, nice to meet you!')],\n",
       " 'text': ' AI:  Assistant: Your name is Rodrigo, nice to meet you!'}"
      ]
     },
     "execution_count": 22,
     "metadata": {},
     "output_type": "execute_result"
    }
   ],
   "source": [
    "conversation({\"question\": \"Great, what was my name?\"})"
   ]
  },
  {
   "cell_type": "markdown",
   "id": "ec57b1a2",
   "metadata": {},
   "source": [
    "### Chatbot with Summary and SEC retriever"
   ]
  },
  {
   "cell_type": "code",
   "execution_count": 112,
   "id": "6845b4e2",
   "metadata": {},
   "outputs": [],
   "source": [
    "def print_response(response: dict) -> None:\n",
    "    \n",
    "    print('\\nQUESTION:')\n",
    "    print(response['question'])\n",
    "    \n",
    "    print('\\nCONTEXT:')\n",
    "    for document in response['source_documents']:\n",
    "        pprint(document.page_content, width=180)\n",
    "        print()\n",
    "    \n",
    "    print('\\nCHAT HISTORY:')\n",
    "    for message in response['chat_history']:\n",
    "        message.pretty_print()\n",
    "        \n",
    "    print('\\nANSWER:')\n",
    "    print(response['answer'])"
   ]
  },
  {
   "cell_type": "code",
   "execution_count": 180,
   "id": "44c01517",
   "metadata": {},
   "outputs": [
    {
     "name": "stdout",
     "output_type": "stream",
     "text": [
      "\n",
      "\n",
      "\u001b[1m> Entering new LLMChain chain...\u001b[0m\n",
      "Prompt after formatting:\n",
      "\u001b[32;1m\u001b[1;3m<s>[INST] <<SYS>>\n",
      "You're an assitant\n",
      "<</SYS>>\n",
      "Given the following chat history and follow up question, rephrase the follow up question using the chat history. Only output the rephrased question.\n",
      "\n",
      "Chat history:\n",
      "\n",
      "system: The human and AI greet each other.\n",
      "\n",
      "Follow up question: what are the biggest risk that the company is facing?\n",
      "\n",
      "Rephrased question: [/INST]\u001b[0m\n",
      "\n",
      "\u001b[1m> Finished chain.\u001b[0m\n",
      "\n",
      "\n",
      "\u001b[1m> Entering new StuffDocumentsChain chain...\u001b[0m\n",
      "\n",
      "\n",
      "\u001b[1m> Entering new LLMChain chain...\u001b[0m\n",
      "Prompt after formatting:\n",
      "\u001b[32;1m\u001b[1;3m\n",
      "<s>[INST] <<SYS>>\n",
      "You're a helpful assistant in filing reports. Follow the following rules:\n",
      "1. If you don't know the answer, respond kindly that you don't have information about it. \n",
      "2. Do not try to make up an answer.\n",
      "3. Start the conversation expressing general assitance in anything the user would like to ask.\n",
      "<</SYS>>\n",
      "Given the following context and follow up question, provide a helpful answer.\n",
      "\n",
      "Context:\n",
      "(e.g., vehicle functionality, Autopilot and FSD Capability), compliance, finance, data privacy, and other matters related to Tesla’s business, its personnel, and related parties. We routinely cooperate with such formal and informal requests for information, investigations, and other inquiries. To our knowledge no government agency in any ongoing investigation has concluded that any wrongdoing occurred. We cannot predict the outcome or impact of any ongoing matters. Should the government decide to pursue an enforcement action, there exists the possibility of a material adverse impact on our business, results of operation, prospects, cash flows, financial position or brand.>> 89 89 89 >>>>>>>> >>>>>> We are also subject to various other legal proceedings, risks and claims that arise from the normal course of business activities. For example, during the second quarter of 2023, a foreign news outlet reported that it obtained certain misappropriated data including, purportedly non-public Tesla business and personal information. Tesla has made notifications to potentially affected individuals (current and former employees) and regulatory authorities and we are working with certain law\n",
      "\n",
      "or other business partners to comply with our public privacy notice or with federal, state or international privacy, data protection or security laws or regulations relating to the processing, collection, use, retention, security and transfer of personally identifiable information could result in regulatory or litigation-related actions against us, legal liability, fines, damages, ongoing audit requirements and other significant costs. Substantial expenses and operational changes may be required in connection with maintaining compliance with such laws, and even an unsuccessful challenge by customers or regulatory authorities of our activities could result in adverse publicity and could require a costly response from and defense by us. In addition, certain privacy laws are still subject to a high degree of uncertainty as to their interpretation, application and impact, and may require extensive system and operational changes, be difficult to implement, increase our operating costs, adversely impact the cost or attractiveness of the products or services we offer, or result in adverse publicity and harm our reputation. For example, the General Data Protection Regulation applies to\n",
      "\n",
      "changing requirements may cause us to incur substantial costs and make enhancements to relevant data practices. Noncompliance could result in significant penalties or legal liability. >> >>>>>>  In addition to the risks related to general privacy regulation, we may also be subject to specific vehicle manufacturer obligations relating to cybersecurity, data privacy and data localization requirements which place additional risks to our international operations. Risks and penalties could include ongoing audit requirements, data protection >> 26>> 26>> 26>> >>>>Table of Contents>> >>Table of Contents>> >>authority investigations, legal proceedings by international governmental entities or others resulting in mandated disclosure of sensitive data or other commercially unfavorable terms. Notwithstanding our efforts to protect the security and integrity of our customers’ personal information, we may be required to expend significant resources to comply with data breach requirements if, for example, third parties improperly obtain and use the personal information of our customers or we otherwise experience a data loss with respect to the personal information we process and handle. A major\n",
      "\n",
      "Follow up question:  Based on the chat history, the rephrased question could be:\n",
      "\n",
      "\"Now that we've exchanged greetings, could you share some information about the current challenges your company is facing, specifically the biggest risks that you're aware of?\"\n",
      "\n",
      "Helpful answer: [/INST]\u001b[0m\n",
      "\n",
      "\u001b[1m> Finished chain.\u001b[0m\n",
      "\n",
      "\u001b[1m> Finished chain.\u001b[0m\n",
      "\n",
      "QUESTION:\n",
      "what are the biggest risk that the company is facing?\n",
      "\n",
      "CONTEXT:\n",
      "('(e.g., vehicle functionality, Autopilot and FSD Capability), compliance, finance, data privacy, and other matters related to Tesla’s business, its personnel, and related '\n",
      " 'parties. We routinely cooperate with such formal and informal requests for information, investigations, and other inquiries. To our knowledge no government agency in any '\n",
      " 'ongoing investigation has concluded that any wrongdoing occurred. We cannot predict the outcome or impact of any ongoing matters. Should the government decide to pursue an '\n",
      " 'enforcement action, there exists the possibility of a material adverse impact on our business, results of operation, prospects, cash flows, financial position or brand.>> 89 89 '\n",
      " '89 >>>>>>>> >>>>>> We are also subject to various other legal proceedings, risks and claims that arise from the normal course of business activities. For example, during the '\n",
      " 'second quarter of 2023, a foreign news outlet reported that it obtained certain misappropriated data including, purportedly non-public Tesla business and personal information. '\n",
      " 'Tesla has made notifications to potentially affected individuals (current and former employees) and regulatory authorities and we are working with certain law')\n",
      "\n",
      "('or other business partners to comply with our public privacy notice or with federal, state or international privacy, data protection or security laws or regulations relating to '\n",
      " 'the processing, collection, use, retention, security and transfer of personally identifiable information could result in regulatory or litigation-related actions against us, '\n",
      " 'legal liability, fines, damages, ongoing audit requirements and other significant costs. Substantial expenses and operational changes may be required in connection with '\n",
      " 'maintaining compliance with such laws, and even an unsuccessful challenge by customers or regulatory authorities of our activities could result in adverse publicity and could '\n",
      " 'require a costly response from and defense by us. In addition, certain privacy laws are still subject to a high degree of uncertainty as to their interpretation, application '\n",
      " 'and impact, and may require extensive system and operational changes, be difficult to implement, increase our operating costs, adversely impact the cost or attractiveness of '\n",
      " 'the products or services we offer, or result in adverse publicity and harm our reputation. For example, the General Data Protection Regulation applies to')\n",
      "\n",
      "('changing requirements may cause us to incur substantial costs and make enhancements to relevant data practices. Noncompliance could result in significant penalties or legal '\n",
      " 'liability. >> >>>>>>  In addition to the risks related to general privacy regulation, we may also be subject to specific vehicle manufacturer obligations relating to '\n",
      " 'cybersecurity, data privacy and data localization requirements which place additional risks to our international operations. Risks and penalties could include ongoing audit '\n",
      " 'requirements, data protection >> 26>> 26>> 26>> >>>>Table of Contents>> >>Table of Contents>> >>authority investigations, legal proceedings by international governmental '\n",
      " 'entities or others resulting in mandated disclosure of sensitive data or other commercially unfavorable terms. Notwithstanding our efforts to protect the security and integrity '\n",
      " 'of our customers’ personal information, we may be required to expend significant resources to comply with data breach requirements if, for example, third parties improperly '\n",
      " 'obtain and use the personal information of our customers or we otherwise experience a data loss with respect to the personal information we process and handle. A major')\n",
      "\n",
      "\n",
      "CHAT HISTORY:\n",
      "================================\u001b[1m System Message \u001b[0m================================\n",
      "\n",
      "The human and AI greet each other.\n",
      "\n",
      "ANSWER:\n",
      " Thank you for your question. I'd be happy to help you understand the current challenges Tesla is facing. As mentioned in our previous conversation, Tesla is subject to various legal proceedings, risks, and claims that arise from the normal course of business activities. One of the biggest risks we're aware of is the ongoing investigation by government agencies, including the DOJ and SEC, related to various matters such as vehicle functionality, Autopilot and FSD Capability, compliance, finance, data privacy, and other matters related to Tesla's business, its personnel, and related parties.\n",
      "\n",
      "We take these investigations seriously and are cooperating fully with the authorities. However, the outcome of these investigations is uncertain, and it's possible that they could result in a material adverse impact on our business, results of operation, prospects, cash flows, financial position, or brand.\n",
      "\n",
      "Another significant risk we're facing is related to data privacy. As a company that processes and handles a large amount of personal information, we're subject to various privacy laws and regulations, including the General Data Prote\n"
     ]
    }
   ],
   "source": [
    "custom_condensed_question_template = \"\"\"<s>[INST] <<SYS>>\\nYou're an assitant\\n<</SYS>>\n",
    "Given the following chat history and follow up question, rephrase the follow up question using the chat history. Only output the rephrased question.\n",
    "\n",
    "Chat history:\n",
    "{chat_history}\n",
    "\n",
    "Follow up question: {question}\n",
    "\n",
    "Rephrased question: [/INST]\"\"\"\n",
    "\n",
    "custom_condensed_question_prompt = PromptTemplate.from_template(custom_condensed_question_template)\n",
    "\n",
    "custom_qa_template = \"\"\"\n",
    "<s>[INST] <<SYS>>\\nYou're a helpful assistant in filing reports. Follow the following rules:\n",
    "1. If you don't know the answer, respond kindly that you don't have information about it. \n",
    "2. Do not try to make up an answer.\n",
    "3. Start the conversation expressing general assitance in anything the user would like to ask.\\n<</SYS>>\n",
    "Given the following context and follow up question, provide a helpful answer.\n",
    "\n",
    "Context:\n",
    "{context}\n",
    "\n",
    "Follow up question: {question}\n",
    "\n",
    "Helpful answer: [/INST]\"\"\"\n",
    "\n",
    "custom_qa_prompt = PromptTemplate.from_template(custom_qa_template)\n",
    "\n",
    "memory = ConversationSummaryMemory(\n",
    "    llm=llm, \n",
    "    max_token_limit=50,\n",
    "    buffer=\"The human and AI greet each other.\",\n",
    "    output_key='answer',\n",
    "    memory_key='chat_history',\n",
    "    return_messages=True,\n",
    ")\n",
    "\n",
    "retriever = vectordb.as_retriever(search_kwargs={\"k\": 3})\n",
    "\n",
    "qa = ConversationalRetrievalChain.from_llm(\n",
    "    llm, \n",
    "    retriever=retriever, \n",
    "    memory=memory, \n",
    "    chain_type=\"stuff\",\n",
    "    return_source_documents=True, \n",
    "    verbose=True,\n",
    "    condense_question_prompt = custom_condensed_question_prompt,\n",
    "    combine_docs_chain_kwargs={'prompt': custom_qa_prompt}\n",
    ")\n",
    "\n",
    "response = qa({\"question\": \"what are the biggest risk that the company is facing?\"})\n",
    "print_response(response)"
   ]
  },
  {
   "cell_type": "code",
   "execution_count": 181,
   "id": "9663d260",
   "metadata": {},
   "outputs": [
    {
     "name": "stdout",
     "output_type": "stream",
     "text": [
      "\n",
      "\n",
      "\u001b[1m> Entering new LLMChain chain...\u001b[0m\n",
      "Prompt after formatting:\n",
      "\u001b[32;1m\u001b[1;3m<s>[INST] <<SYS>>\n",
      "You're an assitant\n",
      "<</SYS>>\n",
      "Given the following chat history and follow up question, rephrase the follow up question using the chat history. Only output the rephrased question.\n",
      "\n",
      "Chat history:\n",
      "\n",
      "system: \n",
      "The human and AI greet each other. The AI thinks artificial intelligence is a force for good because it will help humans reach their full potential. The human asks what the biggest risk the company is facing, and the AI mentions ongoing investigations by government agencies and data privacy concerns.\n",
      "\n",
      "Follow up question: Tell me about the business of the company, what products and services does it offer?\n",
      "\n",
      "Rephrased question: [/INST]\u001b[0m\n",
      "\n",
      "\u001b[1m> Finished chain.\u001b[0m\n",
      "\n",
      "\n",
      "\u001b[1m> Entering new StuffDocumentsChain chain...\u001b[0m\n",
      "\n",
      "\n",
      "\u001b[1m> Entering new LLMChain chain...\u001b[0m\n",
      "Prompt after formatting:\n",
      "\u001b[32;1m\u001b[1;3m\n",
      "<s>[INST] <<SYS>>\n",
      "You're a helpful assistant in filing reports. Follow the following rules:\n",
      "1. If you don't know the answer, respond kindly that you don't have information about it. \n",
      "2. Do not try to make up an answer.\n",
      "3. Start the conversation expressing general assitance in anything the user would like to ask.\n",
      "<</SYS>>\n",
      "Given the following context and follow up question, provide a helpful answer.\n",
      "\n",
      "Context:\n",
      "or other business partners to comply with our public privacy notice or with federal, state or international privacy, data protection or security laws or regulations relating to the processing, collection, use, retention, security and transfer of personally identifiable information could result in regulatory or litigation-related actions against us, legal liability, fines, damages, ongoing audit requirements and other significant costs. Substantial expenses and operational changes may be required in connection with maintaining compliance with such laws, and even an unsuccessful challenge by customers or regulatory authorities of our activities could result in adverse publicity and could require a costly response from and defense by us. In addition, certain privacy laws are still subject to a high degree of uncertainty as to their interpretation, application and impact, and may require extensive system and operational changes, be difficult to implement, increase our operating costs, adversely impact the cost or attractiveness of the products or services we offer, or result in adverse publicity and harm our reputation. For example, the General Data Protection Regulation applies to\n",
      "\n",
      "we, among other things: conduct proactive privacy and cybersecurity reviews of systems and applications, audit applicable data policies, perform penetration testing using external third-party tools and techniques to test security controls, operate a bug bounty program to encourage proactive vulnerability reporting, conduct employee training, monitor emerging laws and regulations related to data protection and information security (including our consumer products) and implement appropriate changes.>> We have implemented incident response and breach management processes which have four overarching and interconnected stages: 1) preparation for a cybersecurity incident, 2) detection and analysis of a security incident, 3) containment, eradication and recovery, and 4) post-incident analysis. Such incident responses are overseen by leaders from our Information Security, Product Security, Compliance and Legal teams regarding matters of cybersecurity.>> Security events and data incidents are evaluated, ranked by severity and prioritized for response and remediation. Incidents are evaluated to determine materiality as well as operational and business impact, and reviewed for privacy\n",
      "\n",
      "(e.g., vehicle functionality, Autopilot and FSD Capability), compliance, finance, data privacy, and other matters related to Tesla’s business, its personnel, and related parties. We routinely cooperate with such formal and informal requests for information, investigations, and other inquiries. To our knowledge no government agency in any ongoing investigation has concluded that any wrongdoing occurred. We cannot predict the outcome or impact of any ongoing matters. Should the government decide to pursue an enforcement action, there exists the possibility of a material adverse impact on our business, results of operation, prospects, cash flows, financial position or brand.>> 89 89 89 >>>>>>>> >>>>>> We are also subject to various other legal proceedings, risks and claims that arise from the normal course of business activities. For example, during the second quarter of 2023, a foreign news outlet reported that it obtained certain misappropriated data including, purportedly non-public Tesla business and personal information. Tesla has made notifications to potentially affected individuals (current and former employees) and regulatory authorities and we are working with certain law\n",
      "\n",
      "Follow up question:  Sure, here's a rephrased version of the follow-up question using the chat history:\n",
      "\n",
      "\"Building on your previous response about data privacy concerns, can you tell me more about the products and services your company offers and how they relate to the collection and use of customer data?\"\n",
      "\n",
      "Helpful answer: [/INST]\u001b[0m\n",
      "\n",
      "\u001b[1m> Finished chain.\u001b[0m\n",
      "\n",
      "\u001b[1m> Finished chain.\u001b[0m\n",
      "\n",
      "QUESTION:\n",
      "Tell me about the business of the company, what products and services does it offer?\n",
      "\n",
      "CONTEXT:\n",
      "('or other business partners to comply with our public privacy notice or with federal, state or international privacy, data protection or security laws or regulations relating to '\n",
      " 'the processing, collection, use, retention, security and transfer of personally identifiable information could result in regulatory or litigation-related actions against us, '\n",
      " 'legal liability, fines, damages, ongoing audit requirements and other significant costs. Substantial expenses and operational changes may be required in connection with '\n",
      " 'maintaining compliance with such laws, and even an unsuccessful challenge by customers or regulatory authorities of our activities could result in adverse publicity and could '\n",
      " 'require a costly response from and defense by us. In addition, certain privacy laws are still subject to a high degree of uncertainty as to their interpretation, application '\n",
      " 'and impact, and may require extensive system and operational changes, be difficult to implement, increase our operating costs, adversely impact the cost or attractiveness of '\n",
      " 'the products or services we offer, or result in adverse publicity and harm our reputation. For example, the General Data Protection Regulation applies to')\n",
      "\n",
      "('we, among other things: conduct proactive privacy and cybersecurity reviews of systems and applications, audit applicable data policies, perform penetration testing using '\n",
      " 'external third-party tools and techniques to test security controls, operate a bug bounty program to encourage proactive vulnerability reporting, conduct employee training, '\n",
      " 'monitor emerging laws and regulations related to data protection and information security (including our consumer products) and implement appropriate changes.>> We have '\n",
      " 'implemented incident response and breach management processes which have four overarching and interconnected stages: 1) preparation for a cybersecurity incident, 2) detection '\n",
      " 'and analysis of a security incident, 3) containment, eradication and recovery, and 4) post-incident analysis. Such incident responses are overseen by leaders from our '\n",
      " 'Information Security, Product Security, Compliance and Legal teams regarding matters of cybersecurity.>> Security events and data incidents are evaluated, ranked by severity '\n",
      " 'and prioritized for response and remediation. Incidents are evaluated to determine materiality as well as operational and business impact, and reviewed for privacy')\n",
      "\n",
      "('(e.g., vehicle functionality, Autopilot and FSD Capability), compliance, finance, data privacy, and other matters related to Tesla’s business, its personnel, and related '\n",
      " 'parties. We routinely cooperate with such formal and informal requests for information, investigations, and other inquiries. To our knowledge no government agency in any '\n",
      " 'ongoing investigation has concluded that any wrongdoing occurred. We cannot predict the outcome or impact of any ongoing matters. Should the government decide to pursue an '\n",
      " 'enforcement action, there exists the possibility of a material adverse impact on our business, results of operation, prospects, cash flows, financial position or brand.>> 89 89 '\n",
      " '89 >>>>>>>> >>>>>> We are also subject to various other legal proceedings, risks and claims that arise from the normal course of business activities. For example, during the '\n",
      " 'second quarter of 2023, a foreign news outlet reported that it obtained certain misappropriated data including, purportedly non-public Tesla business and personal information. '\n",
      " 'Tesla has made notifications to potentially affected individuals (current and former employees) and regulatory authorities and we are working with certain law')\n",
      "\n",
      "\n",
      "CHAT HISTORY:\n",
      "================================\u001b[1m System Message \u001b[0m================================\n",
      "\n",
      "\n",
      "The human and AI greet each other. The AI thinks artificial intelligence is a force for good because it will help humans reach their full potential. The human asks what the biggest risk the company is facing, and the AI mentions ongoing investigations by government agencies and data privacy concerns.\n",
      "\n",
      "ANSWER:\n",
      " Sure, I'd be happy to help! Our company takes data privacy very seriously, and we have implemented various measures to ensure that we comply with federal, state, and international privacy, data protection, and security laws and regulations.\n",
      "\n",
      "Regarding our products and services, we offer a range of electric vehicles, software, and energy products that are designed to be innovative, sustainable, and efficient. In order to provide these products and services, we may collect and use customer data, such as personal information, vehicle data, and energy usage data.\n",
      "\n",
      "We have implemented various measures to protect customer data, including:\n",
      "\n",
      "* Conducting proactive privacy and cybersecurity reviews of systems and applications\n",
      "* Auditing applicable data policies\n",
      "* Performing penetration testing using external third-party tools and techniques to test security controls\n",
      "* Operating a bug bounty program to encourage proactive vulnerability reporting\n",
      "* Conducting employee training\n",
      "* Monitoring emerging laws and regulations related to data protection and information security (including our consumer products) and implementing appropriate changes\n",
      "\n",
      "We also have incident response and breach management processes in place, which include four\n"
     ]
    }
   ],
   "source": [
    "response = qa({\"question\": \"Tell me about the business of the company, what products and services does it offer?\"})\n",
    "print_response(response)"
   ]
  },
  {
   "cell_type": "code",
   "execution_count": 184,
   "id": "531b9c79",
   "metadata": {},
   "outputs": [
    {
     "name": "stdout",
     "output_type": "stream",
     "text": [
      "\n",
      "\n",
      "\u001b[1m> Entering new LLMChain chain...\u001b[0m\n",
      "Prompt after formatting:\n",
      "\u001b[32;1m\u001b[1;3m<s>[INST] <<SYS>>\n",
      "You're an assitant\n",
      "<</SYS>>\n",
      "Given the following chat history and follow up question, rephrase the follow up question using the chat history. Only output the rephrased question.\n",
      "\n",
      "Chat history:\n",
      "\n",
      "system: \n",
      "The human and AI greet each other. The AI thinks artificial intelligence is a force for good because it will help humans reach their full potential. The human asks what the biggest risk the company is facing, and the AI mentions ongoing investigations by government agencies and data privacy concerns. The AI explains that the company takes data privacy very seriously and has implemented various measures to ensure compliance with privacy, data protection, and security laws and regulations. The company offers a range of electric vehicles, software, and energy products that are designed to be innovative, sustainable, and efficient, and it collects and uses customer data to provide these products and services. The AI also mentions that the company has implemented various measures to protect customer data, including conducting proactive privacy and cybersecurity reviews, auditing applicable data policies, operating a bug bounty program, conducting employee training, and monitoring emerging laws and regulations related to data protection and information security. The company also has incident response and breach management processes in place. The AI reminds the human of the risks mentioned earlier and expands on the data privacy concerns and the measures the company has\n",
      "\n",
      "Follow up question: tell me more about the products that Tesla offers based on the report\n",
      "\n",
      "Rephrased question: [/INST]\u001b[0m\n",
      "\n",
      "\u001b[1m> Finished chain.\u001b[0m\n",
      "\n",
      "\n",
      "\u001b[1m> Entering new StuffDocumentsChain chain...\u001b[0m\n",
      "\n",
      "\n",
      "\u001b[1m> Entering new LLMChain chain...\u001b[0m\n",
      "Prompt after formatting:\n",
      "\u001b[32;1m\u001b[1;3m\n",
      "<s>[INST] <<SYS>>\n",
      "You're a helpful assistant in filing reports. Follow the following rules:\n",
      "1. If you don't know the answer, respond kindly that you don't have information about it. \n",
      "2. Do not try to make up an answer.\n",
      "3. Start the conversation expressing general assitance in anything the user would like to ask.\n",
      "<</SYS>>\n",
      "Given the following context and follow up question, provide a helpful answer.\n",
      "\n",
      "Context:\n",
      ">> Our mission is to accelerate the world’s transition to sustainable energy. We believe that this mission, along with our engineering expertise, vertically integrated business model and focus on user experience differentiate us from other companies. >> Segment Information>> We operate as two reportable segments: (i) automotive and (ii) energy generation and storage.>> The automotive segment includes the design, development, manufacturing, sales and leasing of high-performance fully electric vehicles as well as sales of automotive regulatory credits. Additionally, the automotive segment also includes services and other, which includes sales of used vehicles, non-warranty after-sales vehicle services, body shop and parts, paid Supercharging, vehicle insurance revenue and retail merchandise. The energy generation and storage segment includes the design, manufacture, installation, sales and leasing of solar energy generation and energy storage products and related services and sales of solar energy systems incentives.>> Our Products and Services>> Automotive>> We currently manufacture five different consumer vehicles – the Model 3, Y, S, X and Cybertruck. Model 3 is a four-door\n",
      "\n",
      "of Contents>> >>Table of Contents>> PART I>> ITEM 1. BUSINESS>> Overview>> We design, develop, manufacture, sell and lease high-performance fully electric vehicles and energy generation and storage systems, and offer services related to our products. We generally sell our products directly to customers, and continue to grow our customer-facing infrastructure through a global network of vehicle showrooms and service centers, Mobile Service, body shops, Supercharger stations and Destination Chargers to accelerate the widespread adoption of our products. We emphasize performance, attractive styling and the safety of our users and workforce in the design and manufacture of our products and are continuing to develop full self-driving technology for improved safety. We also strive to lower the cost of ownership for our customers through continuous efforts to reduce manufacturing costs and by offering financial and other services tailored to our products. >> Our mission is to accelerate the world’s transition to sustainable energy. We believe that this mission, along with our engineering expertise, vertically integrated business model and focus on user experience differentiate us from\n",
      "\n",
      "(e.g., vehicle functionality, Autopilot and FSD Capability), compliance, finance, data privacy, and other matters related to Tesla’s business, its personnel, and related parties. We routinely cooperate with such formal and informal requests for information, investigations, and other inquiries. To our knowledge no government agency in any ongoing investigation has concluded that any wrongdoing occurred. We cannot predict the outcome or impact of any ongoing matters. Should the government decide to pursue an enforcement action, there exists the possibility of a material adverse impact on our business, results of operation, prospects, cash flows, financial position or brand.>> 89 89 89 >>>>>>>> >>>>>> We are also subject to various other legal proceedings, risks and claims that arise from the normal course of business activities. For example, during the second quarter of 2023, a foreign news outlet reported that it obtained certain misappropriated data including, purportedly non-public Tesla business and personal information. Tesla has made notifications to potentially affected individuals (current and former employees) and regulatory authorities and we are working with certain law\n",
      "\n",
      "Follow up question:  Sure, here's a rephrased version of the follow-up question based on the chat history:\n",
      "\n",
      "\"Can you elaborate on the range of electric vehicles, software, and energy products that Tesla offers, and how they are designed to be innovative, sustainable, and efficient, as mentioned in the report?\"\n",
      "\n",
      "Helpful answer: [/INST]\u001b[0m\n",
      "\n",
      "\u001b[1m> Finished chain.\u001b[0m\n",
      "\n",
      "\u001b[1m> Finished chain.\u001b[0m\n",
      "\n",
      "QUESTION:\n",
      "tell me more about the products that Tesla offers based on the report\n",
      "\n",
      "CONTEXT:\n",
      "('>> Our mission is to accelerate the world’s transition to sustainable energy. We believe that this mission, along with our engineering expertise, vertically integrated business '\n",
      " 'model and focus on user experience differentiate us from other companies. >> Segment Information>> We operate as two reportable segments: (i) automotive and (ii) energy '\n",
      " 'generation and storage.>> The automotive segment includes the design, development, manufacturing, sales and leasing of high-performance fully electric vehicles as well as sales '\n",
      " 'of automotive regulatory credits. Additionally, the automotive segment also includes services and other, which includes sales of used vehicles, non-warranty after-sales vehicle '\n",
      " 'services, body shop and parts, paid Supercharging, vehicle insurance revenue and retail merchandise. The energy generation and storage segment includes the design, manufacture, '\n",
      " 'installation, sales and leasing of solar energy generation and energy storage products and related services and sales of solar energy systems incentives.>> Our Products and '\n",
      " 'Services>> Automotive>> We currently manufacture five different consumer vehicles – the Model 3, Y, S, X and Cybertruck. Model 3 is a four-door')\n",
      "\n",
      "('of Contents>> >>Table of Contents>> PART I>> ITEM 1. BUSINESS>> Overview>> We design, develop, manufacture, sell and lease high-performance fully electric vehicles and energy '\n",
      " 'generation and storage systems, and offer services related to our products. We generally sell our products directly to customers, and continue to grow our customer-facing '\n",
      " 'infrastructure through a global network of vehicle showrooms and service centers, Mobile Service, body shops, Supercharger stations and Destination Chargers to accelerate the '\n",
      " 'widespread adoption of our products. We emphasize performance, attractive styling and the safety of our users and workforce in the design and manufacture of our products and '\n",
      " 'are continuing to develop full self-driving technology for improved safety. We also strive to lower the cost of ownership for our customers through continuous efforts to reduce '\n",
      " 'manufacturing costs and by offering financial and other services tailored to our products. >> Our mission is to accelerate the world’s transition to sustainable energy. We '\n",
      " 'believe that this mission, along with our engineering expertise, vertically integrated business model and focus on user experience differentiate us from')\n",
      "\n",
      "('(e.g., vehicle functionality, Autopilot and FSD Capability), compliance, finance, data privacy, and other matters related to Tesla’s business, its personnel, and related '\n",
      " 'parties. We routinely cooperate with such formal and informal requests for information, investigations, and other inquiries. To our knowledge no government agency in any '\n",
      " 'ongoing investigation has concluded that any wrongdoing occurred. We cannot predict the outcome or impact of any ongoing matters. Should the government decide to pursue an '\n",
      " 'enforcement action, there exists the possibility of a material adverse impact on our business, results of operation, prospects, cash flows, financial position or brand.>> 89 89 '\n",
      " '89 >>>>>>>> >>>>>> We are also subject to various other legal proceedings, risks and claims that arise from the normal course of business activities. For example, during the '\n",
      " 'second quarter of 2023, a foreign news outlet reported that it obtained certain misappropriated data including, purportedly non-public Tesla business and personal information. '\n",
      " 'Tesla has made notifications to potentially affected individuals (current and former employees) and regulatory authorities and we are working with certain law')\n",
      "\n",
      "\n",
      "CHAT HISTORY:\n",
      "================================\u001b[1m System Message \u001b[0m================================\n",
      "\n",
      "\n",
      "The human and AI greet each other. The AI thinks artificial intelligence is a force for good because it will help humans reach their full potential. The human asks what the biggest risk the company is facing, and the AI mentions ongoing investigations by government agencies and data privacy concerns. The AI explains that the company takes data privacy very seriously and has implemented various measures to ensure compliance with privacy, data protection, and security laws and regulations. The company offers a range of electric vehicles, software, and energy products that are designed to be innovative, sustainable, and efficient, and it collects and uses customer data to provide these products and services. The AI also mentions that the company has implemented various measures to protect customer data, including conducting proactive privacy and cybersecurity reviews, auditing applicable data policies, operating a bug bounty program, conducting employee training, and monitoring emerging laws and regulations related to data protection and information security. The company also has incident response and breach management processes in place. The AI reminds the human of the risks mentioned earlier and expands on the data privacy concerns and the measures the company has\n",
      "\n",
      "ANSWER:\n",
      " Sure, I'd be happy to help! Tesla offers a range of electric vehicles, software, and energy products that are designed to be innovative, sustainable, and efficient.\n",
      "\n",
      "Starting with the electric vehicles, Tesla currently manufactures five different models: the Model 3, Y, S, X, and Cybertruck. These vehicles are designed to be high-performance, fully electric, and equipped with advanced technology features such as Autopilot and Full Self-Driving Capability (FSD). The vehicles are also designed with sustainability in mind, using materials that are environmentally friendly and reducing the carbon footprint of the manufacturing process.\n",
      "\n",
      "In addition to the vehicles, Tesla also offers a range of energy products, including solar panels, solar roof tiles, and energy storage systems. These products are designed to be efficient and sustainable, allowing homeowners and businesses to generate and store their own renewable energy. The energy products are also designed to be integrated with Tesla's vehicles, allowing owners to charge their cars using their own solar energy.\n",
      "\n",
      "Tesla's software is\n"
     ]
    }
   ],
   "source": [
    "response = qa({\"question\": \"tell me more about the products that Tesla offers based on the report\"})\n",
    "print_response(response)"
   ]
  },
  {
   "cell_type": "code",
   "execution_count": null,
   "id": "03fd2c5f",
   "metadata": {},
   "outputs": [],
   "source": []
  }
 ],
 "metadata": {
  "kernelspec": {
   "display_name": "Python 3 (ipykernel)",
   "language": "python",
   "name": "python3"
  },
  "language_info": {
   "codemirror_mode": {
    "name": "ipython",
    "version": 3
   },
   "file_extension": ".py",
   "mimetype": "text/x-python",
   "name": "python",
   "nbconvert_exporter": "python",
   "pygments_lexer": "ipython3",
   "version": "3.10.13"
  }
 },
 "nbformat": 4,
 "nbformat_minor": 5
}
