{
 "cells": [
  {
   "cell_type": "markdown",
   "metadata": {},
   "source": [
    "# Search Assitant"
   ]
  },
  {
   "cell_type": "code",
   "execution_count": 11,
   "metadata": {},
   "outputs": [],
   "source": [
    "import os\n",
    "import re\n",
    "import sys\n",
    "import yaml\n",
    "from pprint import pprint\n",
    "\n",
    "current_dir = os.getcwd()\n",
    "kit_dir = os.path.abspath(os.path.join(current_dir, \"..\"))\n",
    "repo_dir = os.path.abspath(os.path.join(kit_dir, \"..\"))\n",
    "\n",
    "sys.path.append(kit_dir)\n",
    "sys.path.append(repo_dir)\n",
    "\n",
    "import requests\n",
    "import json\n",
    "from dotenv import load_dotenv\n",
    "from serpapi import GoogleSearch\n",
    "\n",
    "from langchain.prompts import PromptTemplate, load_prompt\n",
    "from langchain.pydantic_v1 import BaseModel, Field\n",
    "from langchain_community.document_loaders import UnstructuredURLLoader\n",
    "from langchain.document_loaders import AsyncHtmlLoader\n",
    "from langchain.document_transformers import Html2TextTransformer\n",
    "from urllib.parse import urljoin, urlparse, urldefrag\n",
    "\n",
    "from utils.sambanova_endpoint import SambaNovaEndpoint, SambaverseEndpoint\n",
    "\n",
    "load_dotenv(\"../../.env\")\n",
    "\n",
    "from langchain.globals import set_debug\n",
    "\n",
    "set_debug(False)"
   ]
  },
  {
   "cell_type": "markdown",
   "metadata": {},
   "source": [
    "## Define the LLM"
   ]
  },
  {
   "cell_type": "code",
   "execution_count": 30,
   "metadata": {},
   "outputs": [],
   "source": [
    "#sambeverse llm\n",
    "llm = SambaverseEndpoint(\n",
    "            sambaverse_model_name=\"Meta/llama-2-70b-chat-hf\",\n",
    "            model_kwargs={\n",
    "                \"do_sample\": False, \n",
    "                \"max_tokens_to_generate\": 500,\n",
    "                \"temperature\": 0.01,\n",
    "                \"top_p\": 1,\n",
    "                \"process_prompt\": True,\n",
    "                \"select_expert\": \"llama-2-70b-chat-hf\"\n",
    "            }\n",
    "        )\n",
    "\n",
    "#sambastudio llm\n",
    "#llm = SambaNovaEndpoint(\n",
    "#    model_kwargs={\"do_sample\": False, \"temperature\": 0.0},\n",
    "#)"
   ]
  },
  {
   "cell_type": "markdown",
   "metadata": {},
   "source": [
    "## Search tools"
   ]
  },
  {
   "cell_type": "code",
   "execution_count": 132,
   "metadata": {},
   "outputs": [],
   "source": [
    "# Only admits Google Search\n",
    "def querySerper(query: str, limit: int = 5, do_analysis: bool = True ,include_site_links: bool = False):\n",
    "    \"\"\"A search engine. Useful for when you need to answer questions about current events. Input should be a search query.\"\"\"\n",
    "    url = \"https://google.serper.dev/search\"\n",
    "    payload = json.dumps({\n",
    "        \"q\": query,\n",
    "        \"num\": limit\n",
    "    })\n",
    "    headers = {\n",
    "        'X-API-KEY': os.environ.get(\"SERPER_API_KEY\"),\n",
    "        'Content-Type': 'application/json'\n",
    "    }\n",
    "\n",
    "    response = requests.post(url, headers=headers, data=payload).json()\n",
    "    results=response[\"organic\"]\n",
    "    links = [r[\"link\"] for r in results]\n",
    "    if include_site_links:\n",
    "        sitelinks = []\n",
    "        for r in [r.get(\"sitelinks\",[]) for r in results]:\n",
    "            sitelinks.extend([site.get(\"link\", None) for site in r])\n",
    "        links.extend(sitelinks)\n",
    "    links=list(filter(lambda x: x is not None, links))\n",
    "    \n",
    "    if do_analysis:\n",
    "        prompt = load_prompt(os.path.join(kit_dir, \"prompts/llama70b-SerperSearchAnalysis.yaml\"))\n",
    "        formatted_prompt = prompt.format(question=query, context=json.dumps(results))\n",
    "        return llm.invoke(formatted_prompt), links\n",
    "    else:\n",
    "        return response, links\n",
    "   "
   ]
  },
  {
   "cell_type": "code",
   "execution_count": 65,
   "metadata": {},
   "outputs": [
    {
     "data": {
      "text/plain": [
       "(\" Based on the context provided, the answer to the user's question is:\\n\\nThe President of America is Joe Biden.\",\n",
       " ['https://www.whitehouse.gov/about-the-white-house/presidents/',\n",
       "  'https://www.whitehouse.gov/administration/president-biden/',\n",
       "  'https://www.instagram.com/potus/?hl=en',\n",
       "  'https://www.facebook.com/POTUS/',\n",
       "  'https://www.usa.gov/presidents',\n",
       "  'https://www.whitehouse.gov/administration/president-biden/',\n",
       "  'https://www.whitehouse.gov/about-the-white-house/presidents/george-washington/',\n",
       "  'https://www.whitehouse.gov/about-the-white-house/presidents/george-w-bush/',\n",
       "  'https://www.whitehouse.gov/about-the-white-house/presidents/abraham-lincoln/',\n",
       "  'https://www.instagram.com/potus/reel/C4YZoUWOkgw/',\n",
       "  'https://www.instagram.com/potus/reel/Czm47Afxj2k/',\n",
       "  'https://www.instagram.com/potus/p/C3_hr8PrzqS/',\n",
       "  'https://www.instagram.com/potus/p/C4GkkSBOKFM/'])"
      ]
     },
     "execution_count": 65,
     "metadata": {},
     "output_type": "execute_result"
    }
   ],
   "source": [
    "querySerper(\"who is the president of America\", do_analysis=True)"
   ]
  },
  {
   "cell_type": "code",
   "execution_count": 76,
   "metadata": {},
   "outputs": [],
   "source": [
    "def queryOpenSerp(query: str, limit: int = 5, do_analysis: bool = True, engine=\"google\") -> str:\n",
    "    \"\"\"A search engine. Useful for when you need to answer questions about current events. Input should be a search query.\"\"\"\n",
    "    if engine not in [\"google\",\"yandex\",\"baidu\"]:\n",
    "        raise ValueError(\"engine must be either google, yandex or baidu\")\n",
    "    url = f\"http://127.0.0.1:7000/{engine}/search\"\n",
    "    params = {\n",
    "        \"lang\": \"EN\",\n",
    "        \"limit\": limit,\n",
    "        \"text\": query\n",
    "    }\n",
    "\n",
    "    results = requests.get(url, params=params).json()\n",
    "    \n",
    "    links = [r[\"url\"] for r in results]\n",
    "    if do_analysis:\n",
    "        prompt = load_prompt(os.path.join(kit_dir, \"prompts/llama70b-OpenSearchAnalysis.yaml\"))\n",
    "        formatted_prompt = prompt.format(question=query, context=json.dumps(results))\n",
    "        return llm.invoke(formatted_prompt), links\n",
    "    else:\n",
    "        return results, links"
   ]
  },
  {
   "cell_type": "code",
   "execution_count": 133,
   "metadata": {},
   "outputs": [
    {
     "data": {
      "text/plain": [
       "(' The President of the United States is Joe Biden. He has been in office since January 20, 2021.',\n",
       " ['https://en.wikipedia.org/wiki/President_of_the_United_States',\n",
       "  'https://www.whitehouse.gov/about-the-white-house/presidents/',\n",
       "  'https://en.wikipedia.org/wiki/List_of_presidents_of_the_United_States',\n",
       "  'https://www.whitehouse.gov/administration/president-biden/'])"
      ]
     },
     "execution_count": 133,
     "metadata": {},
     "output_type": "execute_result"
    }
   ],
   "source": [
    "queryOpenSerp(\"who is the president of America\", do_analysis=True, engine=\"google\")"
   ]
  },
  {
   "cell_type": "code",
   "execution_count": 19,
   "metadata": {},
   "outputs": [],
   "source": [
    "def remove_links(text):\n",
    "    url_pattern = r'https?://\\S+|www\\.\\S+'\n",
    "    return re.sub(url_pattern, '', text)\n",
    "\n",
    "def querySerpapi(query: str, limit: int = 5, do_analysis: bool = True, engine=\"google\") -> str:\n",
    "    if engine not in [\"google\", \"bing\"]:\n",
    "        raise ValueError(\"engine must be either google or bing\")\n",
    "    params = {\n",
    "        \"q\": query,\n",
    "        \"num\": limit,\n",
    "        \"engine\":engine,\n",
    "        \"api_key\": os.environ.get(\"SERPAPI_API_KEY\")\n",
    "        }\n",
    "\n",
    "    search = GoogleSearch(params)\n",
    "    response= search.get_dict()\n",
    "    \n",
    "    knowledge_graph = response.get(\"knowledge_graph\", None)\n",
    "    results =  response.get(\"organic_results\",None)\n",
    "\n",
    "    links = []\n",
    "    links = [r[\"link\"] for r in results]\n",
    "    \n",
    "    \n",
    "    if do_analysis:\n",
    "        prompt = load_prompt(os.path.join(kit_dir, \"prompts/llama70b-SerpapiSearchAnalysis.yaml\"))\n",
    "        if knowledge_graph:\n",
    "            knowledge_graph_str = json.dumps(knowledge_graph)\n",
    "            #knowledge_graph = remove_links(knowledge_graph_str)\n",
    "            print(knowledge_graph)\n",
    "            formatted_prompt = prompt.format(question=query, context=json.dumps(knowledge_graph))\n",
    "        else:\n",
    "            results_str = json.dumps(results)\n",
    "            results_str = remove_links(results_str)\n",
    "            formatted_prompt = prompt.format(question=query, context=json.dumps(results))\n",
    "        return llm.invoke(formatted_prompt), links\n",
    "    else:\n",
    "        return response, links\n",
    "    "
   ]
  },
  {
   "cell_type": "code",
   "execution_count": 135,
   "metadata": {},
   "outputs": [
    {
     "name": "stdout",
     "output_type": "stream",
     "text": [
      "{'type': 'President of the United States', 'header_images': [{'image': 'https://serpapi.com/searches/661695eca3f4ef8a0ffe397c/images/91ad5e92700695dbc94046ed713a5ffb60510981acb9f9524169d31c6274fd4e8ad7a7acdce0a33a.jpeg', 'source': 'https://www.bing.com/images/search?q=joe+biden&cbn=KnowledgeCard&stid=cad484f9-be75-7a78-12dd-16233f823cd7&thid=OSK.HEROCLICKTHROUGHtghu3TmOsKIP8BgOKF9h6gt-VTffvJ1n7xD2jmHV8zs&FORM=KCHIMM'}], 'thumbnails': [{'image': 'https://serpapi.com/searches/661695eca3f4ef8a0ffe397c/images/91ad5e92700695dbc94046ed713a5ffbc0dccc06f43b9b65a22cad543e7c3adcc4776eba038e3889.jpeg', 'source': 'https://www.bing.com/images/search?q=joe+biden&cbn=KnowledgeCard&stid=cad484f9-be75-7a78-12dd-16233f823cd7&thid=OSK.HEROCLICKTHROUGHtghu3TmOsKIP8BgOKF9h6gt-VTffvJ1n7xD2jmHV8zs&FORM=KCHIMM'}], 'title': 'Joe Biden', 'description': 'Joseph Robinette Biden Jr. is an American politician who is the 46th and current president of the United States. A member of the Democratic Party, he previously served as the 47th vice preside…New content will be added above the current area of focus upon selectionJoseph Robinette Biden Jr. is an American politician who is the 46th and current president of the United States. A member of the Democratic Party, he previously served as the 47th vice president from 2009 to 2017 under President Barack Obama and represented Delaware in the United States Senate from 1973 to 2009.Wikipediajoebiden.com', 'quote': {'title': 'Failure at some point in your life is inevitable, but giving up is unforgivable.', 'link': 'https://www.bing.com/search?FORM=SNAPST&q=Joe+Biden+quotes&filters=sid:\"cad484f9-be75-7a78-12dd-16233f823cd7\"'}, 'facts': [{'title': 'He served on the Senate’s Foreign Relations Committee, twice as its chair (2001–03; 2007–09), and on the Committee on the Judiciary, serving as its chair from 1987 to 1995.', 'link': 'https://www.britannica.com/biography/Joe-Biden', 'thumbnail': 'https://www.bing.com/th?id=OSK.37A354B00E08D5E714738C52FF40D10EFC77FCED322547DBD28B6C77F384E526&w=132&h=195&o=6&pid=SANGAM'}, {'title': 'Joe Biden also received the Congressional Patriot Award in 2017.', 'link': 'https://facts.net/joe-biden-facts/'}, {'title': 'He was elected to the New Castle County Council in 1970 and became the sixth-youngest senator in U.S. history after he was elected to the United States Senate from Delaware in 1972, at age 29.', 'link': 'https://dbpedia.org/page/Joe_Biden', 'thumbnail': 'https://serpapi.com/searches/661695eca3f4ef8a0ffe397c/images/91ad5e92700695dbc94046ed713a5ffbd3588b05bc404aa54648de3b19c91df3bdc5374854470ccc.png'}, {'title': 'He is the second Catholic president (after John F. Kennedy) and the first president whose home state is Delaware.', 'link': 'https://en.wikipedia.org/wiki/Joe_Biden'}, {'title': 'He was the first president-elect in US history to mention transgender people in his victory speech.', 'link': 'https://www.thefactsite.com/joe-biden-facts/'}, {'title': 'In 2017, during his final days as president, Barack Obama awarded Biden the Presidential Medal of Freedom with distinction.', 'link': 'https://kids.kiddle.co/Joe_Biden', 'thumbnail': 'https://www.bing.com/th?id=OSK.C96512C49E90AFB48D784F7F6DD0806A13444EEBB039F771DDE36553A0649186&w=179&h=126&o=6&pid=SANGAM'}], 'profiles': [{'title': 'Wikipedia', 'link': 'https://en.wikipedia.org/wiki/Joe_Biden'}, {'title': 'Instagram', 'link': 'https://www.instagram.com/joebiden/'}, {'title': 'Facebook', 'link': 'https://www.facebook.com/joebiden/'}, {'title': 'YouTube', 'link': 'https://www.youtube.com/joebiden'}, {'title': 'IMDb', 'link': 'https://www.imdb.com/name/nm0081182/'}, {'title': 'LinkedIn', 'link': 'https://www.linkedin.com/company/biden-2024'}], 'website': 'https://joebiden.com/', 'other_facts': [{'name': 'Born', 'original_value': 'Joseph Robinette Biden Jr. · November 20, 1942 · Scranton, Pennsylvania, U.S.', 'value': [{'name': 'Joseph Robinette Biden Jr.'}, {'name': 'November 20, 1942'}, {'name': 'Scranton, Pennsylvania', 'link': 'https://www.bing.com/search?FORM=SNAPST&q=Scranton%2c+Pennsylvania&filters=sid:\"2ba7e590-057d-4524-a1da-68c3e4f374f8\"'}, {'name': ', U.S.'}]}, {'name': 'Political party', 'original_value': 'Democratic (since 1969)', 'value': [{'name': 'Democratic', 'link': 'https://www.bing.com/search?FORM=SNAPST&q=Democratic&filters=sid:\"022d3e13-c9e7-91f5-ce61-8a3d48d58fc6\"'}, {'name': '(since 1969)'}]}, {'name': 'Spouses', 'original_value': 'Neilia Hunter · (m. 1966; died · 1972) · Jill Jacobs (m. · 1977)', 'value': [{'name': 'Neilia Hunter', 'link': 'https://www.bing.com/search?FORM=SNAPST&q=Neilia+Hunter&filters=sid:\"e098ea48-37f4-2ea4-9242-5cca89c9d380\"'}, {'name': '(m. 1966; died'}, {'name': '1972)'}, {'name': 'Jill Jacobs', 'link': 'https://www.bing.com/search?FORM=SNAPST&q=Jill+Jacobs&filters=sid:\"bc317ba0-d90e-f1a0-b1d9-eeccd6c59556\"'}, {'name': '(m.'}, {'name': '1977)'}]}, {'name': 'Children', 'original_value': 'Beau · Hunter · Naomi · Ashley', 'value': [{'name': 'Beau', 'link': 'https://www.bing.com/search?FORM=SNAPST&q=Beau&filters=sid:\"a50dfe03-313b-5abb-8ad4-ec2be464a38f\"'}, {'name': 'Hunter', 'link': 'https://www.bing.com/search?FORM=SNAPST&q=Hunter&filters=sid:\"28ad7551-8959-3142-9c4e-d9d2bafebc2c\"'}, {'name': 'Naomi', 'link': 'https://en.wikipedia.org/wiki/Naomi_Christina_Biden'}, {'name': 'Ashley', 'link': 'https://www.bing.com/search?FORM=SNAPST&q=Ashley&filters=sid:\"083f9b05-1d08-25f8-da79-53aeb369a8d3\"'}]}, {'name': 'Relatives', 'original_value': 'Biden family', 'value': [{'name': 'Biden family', 'link': 'https://en.wikipedia.org/wiki/Biden_family'}]}, {'name': 'Education', 'original_value': 'University of Delaware (BA) · Syracuse University (JD)', 'value': [{'name': 'University of Delaware', 'link': 'https://www.bing.com/search?FORM=SNAPST&q=University+of+Delaware&filters=sid:\"8266bda0-65bc-b444-47b8-ca254c9bffa3\"'}, {'name': 'BA', 'link': 'https://www.bing.com/search?FORM=SNAPST&q=BA&filters=sid:\"d41cd72a-fa39-b9d4-ed3d-a40330d6d9ea\"'}, {'name': 'Syracuse University', 'link': 'https://www.bing.com/search?FORM=SNAPST&q=Syracuse+University&filters=sid:\"a684cc2e-a19c-9593-dbd0-3f422fe8906c\"'}, {'name': 'JD', 'link': 'https://www.bing.com/search?FORM=SNAPST&q=JD&filters=sid:\"d8bce3b7-7e97-138b-9938-cdd52a6686cb\"'}]}, {'name': 'Other political affiliations', 'original_value': 'Independent (before 1969)', 'value': [{'name': 'Independent', 'link': 'https://www.bing.com/search?FORM=SNAPST&q=Independent&filters=sid:\"edbb0aef-d3b8-6376-f947-4d155af04ef0\"'}, {'name': '(before 1969)'}]}, {'name': 'Residence', 'original_value': 'White House', 'value': [{'name': 'White House', 'link': 'https://www.bing.com/search?FORM=SNAPST&q=White+House&filters=sid:\"541cd519-750b-9c92-8413-a537def6abbe\"'}]}]}\n",
      "(' The current president of the United States is Joe Biden. He was inaugurated '\n",
      " 'as the 46th president of the United States on January 20, 2021.',\n",
      " ['https://www.whitehouse.gov/administration/president-biden/',\n",
      "  'https://en.wikipedia.org/wiki/President_of_the_United_States',\n",
      "  'https://www.britannica.com/biography/Joe-Biden',\n",
      "  'https://www.history.com/topics/us-presidents/joe-biden',\n",
      "  'https://www.wikiwand.com/en/Joe_Biden',\n",
      "  'https://www.biography.com/political-figures/joe-biden',\n",
      "  'https://www.nytimes.com/2021/01/20/us/politics/biden-president.html',\n",
      "  'https://www.nytimes.com/spotlight/joe-biden',\n",
      "  'https://www.usa.gov/presidents'])\n"
     ]
    }
   ],
   "source": [
    "pprint(querySerpapi(\"Who is the president of USA\", engine=\"bing\"))"
   ]
  },
  {
   "cell_type": "code",
   "execution_count": 131,
   "metadata": {},
   "outputs": [
    {
     "name": "stdout",
     "output_type": "stream",
     "text": [
      "{\"title\": \"Joe Biden\", \"type\": \"46th U.S. President\", \"entity_type\": \"people, athlete, people\", \"kgmid\": \"/m/012gx2\", \"knowledge_graph_search_link\": \" Biden\", \"serpapi_knowledge_graph_search_link\": \" \"tabs\": [{\"text\": \"All\"}, {\"text\": \"Images\", \"link\": \" \"serpapi_link\": \" \"website\": \" \"description\": \"Joseph Robinette Biden Jr. is an American politician who is the 46th and current president of the United States. A member of the Democratic Party, he previously served as the 47th vice president from 2009 to 2017 under President Barack Obama and represented Delaware in the United States Senate from 1973 to 2009.\", \"source\": {\"name\": \"Wikipedia\", \"link\": \" \"born\": \"November 20, 1942 (age 81 years), Scranton, PA\", \"born_links\": [{\"text\": \"Scranton, PA\", \"link\": \" \"edited_works\": \"Dirty Bombs and Basement Nukes - The Terrorist Nuclear Threat - Congressional Hearing\", \"edited_works_links\": [{\"text\": \"Dirty Bombs and Basement Nukes: The Terrorist Nuclear Threat - Congressional Hearing\", \"link\": \" {\"text\": \"MORE\", \"link\": \" \"organizations_founded\": \"United States Department of Defense China Task Force\", \"organizations_founded_links\": [{\"text\": \"United States Department of Defense China Task Force\", \"link\": \" {\"text\": \"MORE\", \"link\": \" \"grandchildren\": \"Navy Joan Roberts, Natalie Biden, Maisy Biden, Naomi Biden, Robert Biden II, Finnegan Biden\", \"grandchildren_links\": [{\"text\": \"Navy Joan Roberts\", \"link\": \" {\"text\": \"Natalie Biden\", \"link\": \" {\"text\": \"Maisy Biden\", \"link\": \" {\"text\": \"Naomi Biden\", \"link\": \" {\"text\": \"Robert Biden II\", \"link\": \" {\"text\": \"Finnegan Biden\", \"link\": \" \"grandparents\": \"Mary Elizabeth Robinette Biden, Joseph H. Biden, Ambrose J. Finnegan, Geraldine C. Blewitt\", \"grandparents_links\": [{\"text\": \"Mary Elizabeth Robinette Biden\", \"link\": \" {\"text\": \"Joseph H. Biden\", \"link\": \" {\"text\": \"Ambrose J. Finnegan\", \"link\": \" {\"text\": \"Geraldine C. Blewitt\", \"link\": \" \"great_grandparents\": \"George Hamilton Robinette\", \"great_grandparents_links\": [{\"text\": \"George Hamilton Robinette\", \"link\": \" {\"text\": \"MORE\", \"link\": \" \"marriage_location\": \"New York, NY\", \"marriage_location_links\": [{\"text\": \"New York, NY\", \"link\": \" \"profiles\": [{\"name\": \"Instagram\", \"link\": \" \"image\": \" {\"name\": \"X (Twitter)\", \"link\": \" \"image\": \" {\"name\": \"YouTube\", \"link\": \" \"image\": \" {\"name\": \"Facebook\", \"link\": \" \"image\": \"\n",
      "(\" Based on the context provided, the answer to the user's question is:\\n\"\n",
      " '\\n'\n",
      " '\"The current president of the United States is Joe Biden.\"',\n",
      " ['https://www.whitehouse.gov/administration/president-biden/',\n",
      "  'https://www.whitehouse.gov/about-the-white-house/presidents/',\n",
      "  'https://usun.usmission.gov/our-leaders/the-president-of-the-united-states/',\n",
      "  'https://www.instagram.com/potus/?hl=en',\n",
      "  'https://www.facebook.com/POTUS/'])\n"
     ]
    }
   ],
   "source": [
    "pprint(querySerpapi(\"Who is the president of USA\", engine=\"google\"))"
   ]
  },
  {
   "cell_type": "markdown",
   "metadata": {},
   "source": [
    "# Web scrapaing methods"
   ]
  },
  {
   "cell_type": "code",
   "execution_count": 12,
   "metadata": {},
   "outputs": [],
   "source": [
    "CONFIG_PATH = os.path.join(kit_dir,\"config.yaml\")"
   ]
  },
  {
   "cell_type": "code",
   "execution_count": 13,
   "metadata": {},
   "outputs": [],
   "source": [
    "def get_config_info():\n",
    "    \"\"\"\n",
    "    Loads json config file\n",
    "    \"\"\"\n",
    "    # Read config file\n",
    "    with open(CONFIG_PATH, 'r') as yaml_file:\n",
    "        config = yaml.safe_load(yaml_file)\n",
    "    api_info = config[\"api\"]\n",
    "    llm_info =  config[\"llm\"]\n",
    "    retrieval_info = config[\"retrieval\"]\n",
    "    web_crawling_params = config[\"web_crawling\"]\n",
    "    extra_loaders = config[\"extra_loaders\"]\n",
    "    \n",
    "    \n",
    "    return api_info, llm_info, retrieval_info, web_crawling_params, extra_loaders"
   ]
  },
  {
   "cell_type": "code",
   "execution_count": 14,
   "metadata": {},
   "outputs": [],
   "source": [
    "def load_remote_pdf(url):\n",
    "    \"\"\"\n",
    "    Load PDF files from the given URL.\n",
    "    Args:\n",
    "        url (str): URL to load pdf document from.\n",
    "    Returns:\n",
    "        list: A list of loaded pdf documents.\n",
    "    \"\"\"\n",
    "    loader = UnstructuredURLLoader(urls=[url])\n",
    "    docs = loader.load()\n",
    "    return docs"
   ]
  },
  {
   "cell_type": "code",
   "execution_count": 15,
   "metadata": {},
   "outputs": [],
   "source": [
    "def load_htmls(urls, extra_loaders=None):\n",
    "    \"\"\"\n",
    "    Load HTML documents from the given URLs.\n",
    "    Args:\n",
    "        urls (list): A list of URLs to load HTML documents from.\n",
    "    Returns:\n",
    "        list: A list of loaded HTML documents.\n",
    "    \"\"\"\n",
    "    if extra_loaders is None:\n",
    "        extra_loaders = []\n",
    "    docs=[]\n",
    "    for url in urls:\n",
    "        if url.endswith(\".pdf\"):\n",
    "            if \"pdf\" in extra_loaders:\n",
    "                docs.extend(load_remote_pdf(url))\n",
    "            else:\n",
    "                continue\n",
    "        else:\n",
    "            loader = AsyncHtmlLoader(url, verify_ssl=False)\n",
    "            docs.extend(loader.load())\n",
    "    return docs"
   ]
  },
  {
   "cell_type": "code",
   "execution_count": 16,
   "metadata": {},
   "outputs": [],
   "source": [
    "def link_filter(all_links, excluded_links):\n",
    "    \"\"\"\n",
    "    Filters a list of links based on a list of excluded links.\n",
    "    Args:\n",
    "        all_links (List[str]): A list of links to filter.\n",
    "        excluded_links (List[str]): A list of excluded links.\n",
    "    Returns:\n",
    "        Set[str]: A list of filtered links.\n",
    "    \"\"\"\n",
    "    clean_excluded_links=set()\n",
    "    for excluded_link in excluded_links:\n",
    "        parsed_link=urlparse(excluded_link)\n",
    "        clean_excluded_links.add(parsed_link.netloc + parsed_link.path)\n",
    "    filtered_links = set()\n",
    "    for link in all_links:\n",
    "        # Check if the link contains any of the excluded links\n",
    "        if not any(excluded_link in link for excluded_link in clean_excluded_links):\n",
    "            filtered_links.add(link)\n",
    "    return filtered_links"
   ]
  },
  {
   "cell_type": "code",
   "execution_count": 17,
   "metadata": {},
   "outputs": [],
   "source": [
    "def clean_docs(docs):\n",
    "    \"\"\"\n",
    "    Clean the given HTML documents by transforming them into plain text.\n",
    "    Args:\n",
    "        docs (list): A list of langchain documents with html content to clean.\n",
    "    Returns:\n",
    "        list: A list of cleaned plain text documents.\n",
    "    \"\"\"\n",
    "    html2text_transformer = Html2TextTransformer()\n",
    "    docs=html2text_transformer.transform_documents(documents=docs)\n",
    "    return docs"
   ]
  },
  {
   "cell_type": "code",
   "execution_count": 21,
   "metadata": {},
   "outputs": [],
   "source": [
    "def web_crawl(urls, excluded_links=None):\n",
    "    \"\"\"\n",
    "    Perform web crawling, retrieve and clean HTML documents from the given URLs, with specified depth of exploration.\n",
    "    Args:\n",
    "        urls (list): A list of URLs to crawl.\n",
    "        excluded_links (list, optional): A list of links to exclude from crawling. Defaults to None.\n",
    "        depth (int, optional): The depth of crawling, determining how many layers of internal links to explore. Defaults to 1\n",
    "    Returns:\n",
    "        tuple: A tuple containing the langchain documents (list) and the scrapped URLs (list).\n",
    "    \"\"\"\n",
    "    *_, web_crawling_params, extra_loaders = get_config_info()\n",
    "    if excluded_links is None:\n",
    "        excluded_links = []\n",
    "    excluded_links.extend([\"facebook.com\", \"twitter.com\", \"instagram.com\", \"linkedin.com\", \"telagram.me\", \"reddit.com\", \"whatsapp.com\", \"wa.me\"])\n",
    "    excluded_link_suffixes = {\".ico\", \".svg\", \".jpg\", \".png\", \".jpeg\", \".\", \".docx\", \".xls\", \".xlsx\"}\n",
    "    scrapped_urls=[]\n",
    "    \n",
    "    urls = [url for url in urls if not url.endswith(tuple(excluded_link_suffixes))]\n",
    "    urls = link_filter(urls, set(excluded_links)) \n",
    "    urls = list(urls)[:web_crawling_params[\"max_scraped_websites\"]]   \n",
    "        \n",
    "    scraped_docs = load_htmls(urls, extra_loaders)\n",
    "    scrapped_urls.append(urls)\n",
    "        \n",
    "    docs=clean_docs(scraped_docs)\n",
    "    return docs, scrapped_urls"
   ]
  },
  {
   "cell_type": "code",
   "execution_count": 23,
   "metadata": {},
   "outputs": [
    {
     "name": "stderr",
     "output_type": "stream",
     "text": [
      "Fetching pages: 100%|##########| 1/1 [00:01<00:00,  1.17s/it]\n",
      "/Users/jorgep/Documents/ask_public_own/gsaenv/lib/python3.10/site-packages/urllib3/connectionpool.py:1103: InsecureRequestWarning: Unverified HTTPS request is being made to host 'usun.usmission.gov'. Adding certificate verification is strongly advised. See: https://urllib3.readthedocs.io/en/latest/advanced-usage.html#tls-warnings\n",
      "  warnings.warn(\n",
      "Fetching pages: 100%|##########| 1/1 [00:00<00:00,  2.30it/s]\n",
      "/Users/jorgep/Documents/ask_public_own/gsaenv/lib/python3.10/site-packages/urllib3/connectionpool.py:1103: InsecureRequestWarning: Unverified HTTPS request is being made to host 'www.whitehouse.gov'. Adding certificate verification is strongly advised. See: https://urllib3.readthedocs.io/en/latest/advanced-usage.html#tls-warnings\n",
      "  warnings.warn(\n",
      "Fetching pages: 100%|##########| 1/1 [00:00<00:00,  2.96it/s]\n",
      "/Users/jorgep/Documents/ask_public_own/gsaenv/lib/python3.10/site-packages/urllib3/connectionpool.py:1103: InsecureRequestWarning: Unverified HTTPS request is being made to host 'www.whitehouse.gov'. Adding certificate verification is strongly advised. See: https://urllib3.readthedocs.io/en/latest/advanced-usage.html#tls-warnings\n",
      "  warnings.warn(\n"
     ]
    },
    {
     "data": {
      "text/plain": [
       "([Document(page_content='We’re sorry, this site is currently experiencing technical difficulties.  \\nPlease try again in a few moments. Exception: request blocked\\n\\n', metadata={'source': 'https://usun.usmission.gov/our-leaders/the-president-of-the-united-states/', 'title': 'Technical Difficulties', 'language': 'en'}),\n",
       "  Document(page_content='Skip to content\\n\\nThe White House\\n\\nThe White House\\n\\nThe White House\\n\\n  * Home \\n\\n  * Administration\\n  * Priorities\\n  * The Record\\n  * Briefing Room\\n  * Español\\n\\n  * InstagramOpens in a new window\\n  * FacebookOpens in a new window\\n  * XOpens in a new window\\n  * YouTubeOpens in a new window\\n\\n  * Contact Us\\n  * Privacy Policy\\n  * Copyright Policy\\n  * Accessibility Statement\\n\\nMenu Close\\n\\nTo search this site, enter a search term Search\\n\\n## Mobile Menu Overlay\\n\\n  * Administration Show submenu for \"Administration\"”\\n    * President Joe Biden\\n    * Vice President Kamala Harris\\n    * First Lady Dr. Jill Biden\\n    * Second Gentleman Douglas Emhoff\\n    * The Cabinet\\n  * Executive Offices Show submenu for \"Executive Offices\"”\\n    * Council of Economic Advisers\\n    * Council on Environmental Quality\\n    * Domestic Policy Council\\n    * Gender Policy Council\\n    * National Economic Council\\n    * National Security Council\\n    * National Space Council\\n    * Office of Intergovernmental Affairs\\n    * Office of Management and Budget\\n    * Office of the National Cyber Director\\n    * Office of National Drug Control Policy\\n    * Office of Public Engagement\\n    * Office of Science and Technology Policy\\n    * Office of the United States Trade Representative\\n    * Climate Policy Office\\n    * Presidential Personnel Office\\n  * Priorities\\n\\n  * Briefing Room\\n  * The White House Show submenu for \"The White House\"”\\n    * Presidents\\n    * First Families\\n    * The Grounds\\n    * Our Government\\n  * Get Involved Show submenu for \"Get Involved\"”\\n    * Write or Call The White House\\n    * Join Us\\n    * White House Fellows\\n    * White House Internship Program\\n\\n  * The Record\\n  * Disclosures\\n  * Español\\n\\n  * Contact Us\\n  * Privacy Policy\\n  * Copyright Policy\\n  * Accessibility Statement\\n\\n  * InstagramOpens in a new window\\n  * FacebookOpens in a new window\\n  * XOpens in a new window\\n  * YouTubeOpens in a new window\\n\\n**The White House**  \\n1600 Pennsylvania Ave NW  \\nWashington, DC 20500\\n\\nTo search this site, enter a search term Search\\n\\n#  Presidents\\n\\nLearn more about the Presidents of the United States.\\n\\n  1. Home\\n  2. About The White House \\n\\n###  George Washington\\n\\nThe 1st President of the United States\\n\\nGeorge Washington\\n\\n###  John Adams\\n\\nThe 2nd President of the United States\\n\\nJohn Adams\\n\\n###  Thomas Jefferson\\n\\nThe 3rd President of the United States\\n\\nThomas Jefferson\\n\\n###  James Madison\\n\\nThe 4th President of the United States\\n\\nJames Madison\\n\\n###  James Monroe\\n\\nThe 5th President of the United States\\n\\nJames Monroe\\n\\n###  John Quincy Adams\\n\\nThe 6th President of the United States\\n\\nJohn Quincy Adams\\n\\n###  Andrew Jackson\\n\\nThe 7th President of the United States\\n\\nAndrew Jackson\\n\\n###  Martin Van Buren\\n\\nThe 8th President of the United States\\n\\nMartin Van Buren\\n\\n###  William Henry Harrison\\n\\nThe 9th President of the United States\\n\\nWilliam Henry Harrison\\n\\n###  John Tyler\\n\\nThe 10th President of the United States\\n\\nJohn Tyler\\n\\n###  James K. Polk\\n\\nThe 11th President of the United States\\n\\nJames K. Polk\\n\\n###  Zachary Taylor\\n\\nThe 12th President of the United States\\n\\nZachary Taylor\\n\\n###  Millard Fillmore\\n\\nThe 13th President of the United States\\n\\nMillard Fillmore\\n\\n###  Franklin Pierce\\n\\nThe 14th President of the United States\\n\\nFranklin Pierce\\n\\n###  James Buchanan\\n\\nThe 15th President of the United States\\n\\nJames Buchanan\\n\\n###  Abraham Lincoln\\n\\nThe 16th President of the United States\\n\\nAbraham Lincoln\\n\\n###  Andrew Johnson\\n\\nThe 17th President of the United States\\n\\nAndrew Johnson\\n\\n###  Ulysses S. Grant\\n\\nThe 18th President of the United States\\n\\nUlysses S. Grant\\n\\n###  Rutherford B. Hayes\\n\\nThe 19th President of the United States\\n\\nRutherford B. Hayes\\n\\n###  James Garfield\\n\\nThe 20th President of the United States\\n\\nJames Garfield\\n\\n###  Chester A. Arthur\\n\\nThe 21st President of the United States\\n\\nChester A. Arthur\\n\\n###  Grover Cleveland\\n\\nThe 22nd and 24th President of the United States\\n\\nGrover Cleveland\\n\\n###  Benjamin Harrison\\n\\nThe 23rd President of the United States\\n\\nBenjamin Harrison\\n\\n###  Grover Cleveland\\n\\nThe 22nd and 24th President of the United States\\n\\nGrover Cleveland\\n\\n###  William McKinley\\n\\nThe 25th President of the United States\\n\\nWilliam McKinley\\n\\n###  Theodore Roosevelt\\n\\nThe 26th President of the United States\\n\\nTheodore Roosevelt\\n\\n###  William Howard Taft\\n\\nThe 27th President of the United States\\n\\nWilliam Howard Taft\\n\\n###  Woodrow Wilson\\n\\nThe 28th President of the United States\\n\\nWoodrow Wilson\\n\\n###  Warren G. Harding\\n\\nThe 29th President of the United States\\n\\nWarren G. Harding\\n\\n###  Calvin Coolidge\\n\\nThe 30th President of the United States\\n\\nCalvin Coolidge\\n\\n###  Herbert Hoover\\n\\nThe 31st President of the United States\\n\\nHerbert Hoover\\n\\n###  Franklin D. Roosevelt\\n\\nThe 32nd President of the United States\\n\\nFranklin D. Roosevelt\\n\\n###  Harry S. Truman\\n\\nThe 33rd President of the United States\\n\\nHarry S. Truman\\n\\n###  Dwight D. Eisenhower\\n\\nThe 34th President of the United States\\n\\nDwight D. Eisenhower\\n\\n###  John F. Kennedy\\n\\nThe 35th President of the United States\\n\\nJohn F. Kennedy\\n\\n###  Lyndon B. Johnson\\n\\nThe 36th President of the United States\\n\\nLyndon B. Johnson\\n\\n###  Richard M. Nixon\\n\\nThe 37th President of the United States\\n\\nRichard M. Nixon\\n\\n###  Gerald R. Ford\\n\\nThe 38th President of the United States\\n\\nGerald R. Ford\\n\\n###  James Carter\\n\\nThe 39th President of the United States\\n\\nJames Carter\\n\\n###  Ronald Reagan\\n\\nThe 40th President of the United States\\n\\nRonald Reagan\\n\\n###  George H. W. Bush\\n\\nThe 41st President of the United States\\n\\nGeorge H. W. Bush\\n\\n###  William J. Clinton\\n\\nThe 42nd President of the United States\\n\\nWilliam J. Clinton\\n\\n###  George W. Bush\\n\\nThe 43rd President of the United States\\n\\nGeorge W. Bush\\n\\n###  Barack Obama\\n\\nThe 44th President of the United States\\n\\nBarack Obama\\n\\n###  Donald Trump\\n\\nThe 45th President of the United States\\n\\nDonald Trump\\n\\n###  Joseph R. Biden Jr.\\n\\nTHE 46TH PRESIDENT OF THE UNITED STATES\\n\\nJoseph R. Biden Jr.\\n\\n## Stay Connected\\n\\nSign Up\\n\\nEmail Address* Required\\n\\nZIP Code\\n\\nPlease leave blank.\\n\\nWe\\'ll be in touch with the latest information on how President Biden and his\\nadministration are working for the American people, as well as ways you can\\nget involved and help our country build back better.\\n\\nOpt in to send and receive text messages from President Biden.\\n\\nShare\\n\\n  * Share this page on Facebook\\n  * Share this page on X\\n  * https://www.whitehouse.gov/about-the-white-house/presidents/?utm_source=link\\n\\n  * Home\\n  * The Administration\\n  * Executive Offices\\n  * Priorities\\n  * The Record\\n  * Briefing Room\\n  * The White House\\n  * Disclosures\\n  * Get Involved\\n  * Español\\n\\n  * Contact Us\\n  * Privacy Policy\\n  * Copyright Policy\\n  * Accessibility Statement\\n\\n  * InstagramOpens in a new window\\n  * FacebookOpens in a new window\\n  * XOpens in a new window\\n  * YouTubeOpens in a new window\\n\\n**The White House**  \\n1600 Pennsylvania Ave NW  \\nWashington, DC 20500\\n\\nWH.gov\\n\\nScroll to Top Scroll to Top\\n\\nTop\\n\\n', metadata={'source': 'https://www.whitehouse.gov/about-the-white-house/presidents/', 'title': 'Presidents | The White House', 'description': 'Learn more about the Presidents of the United States from WhiteHouse.gov.', 'language': 'en-US'}),\n",
       "  Document(page_content='Skip to content\\n\\nThe White House\\n\\nThe White House\\n\\nThe White House\\n\\n  * Home \\n\\n  * Administration\\n  * Priorities\\n  * The Record\\n  * Briefing Room\\n  * Español\\n\\n  * InstagramOpens in a new window\\n  * FacebookOpens in a new window\\n  * XOpens in a new window\\n  * YouTubeOpens in a new window\\n\\n  * Contact Us\\n  * Privacy Policy\\n  * Copyright Policy\\n  * Accessibility Statement\\n\\nMenu Close\\n\\nTo search this site, enter a search term Search\\n\\n## Mobile Menu Overlay\\n\\n  * Administration Show submenu for \"Administration\"”\\n    * President Joe Biden\\n    * Vice President Kamala Harris\\n    * First Lady Dr. Jill Biden\\n    * Second Gentleman Douglas Emhoff\\n    * The Cabinet\\n  * Executive Offices Show submenu for \"Executive Offices\"”\\n    * Council of Economic Advisers\\n    * Council on Environmental Quality\\n    * Domestic Policy Council\\n    * Gender Policy Council\\n    * National Economic Council\\n    * National Security Council\\n    * National Space Council\\n    * Office of Intergovernmental Affairs\\n    * Office of Management and Budget\\n    * Office of the National Cyber Director\\n    * Office of National Drug Control Policy\\n    * Office of Public Engagement\\n    * Office of Science and Technology Policy\\n    * Office of the United States Trade Representative\\n    * Climate Policy Office\\n    * Presidential Personnel Office\\n  * Priorities\\n\\n  * Briefing Room\\n  * The White House Show submenu for \"The White House\"”\\n    * Presidents\\n    * First Families\\n    * The Grounds\\n    * Our Government\\n  * Get Involved Show submenu for \"Get Involved\"”\\n    * Write or Call The White House\\n    * Join Us\\n    * White House Fellows\\n    * White House Internship Program\\n\\n  * The Record\\n  * Disclosures\\n  * Español\\n\\n  * Contact Us\\n  * Privacy Policy\\n  * Copyright Policy\\n  * Accessibility Statement\\n\\n  * InstagramOpens in a new window\\n  * FacebookOpens in a new window\\n  * XOpens in a new window\\n  * YouTubeOpens in a new window\\n\\n**The White House**  \\n1600 Pennsylvania Ave NW  \\nWashington, DC 20500\\n\\nTo search this site, enter a search term Search\\n\\n#  Joe Biden\\n\\nThe President\\n\\nFrom Scranton to Wilmington to the White House — with thousands of train rides\\nin between\\n\\n  1. Home\\n  2. The Biden-Harris Administration \\n\\nNavigate this Section\\n\\nSelect President Joe Biden  Vice President Kamala Harris  First Lady Dr. Jill\\nBiden  Second Gentleman Douglas Emhoff  The Cabinet  Executive Office of the\\nPresident\\n\\n  * The Biden-Harris Administration\\n    * President Joe Biden\\n    * Vice President Kamala Harris \\n    * First Lady Dr. Jill Biden \\n    * Second Gentleman Douglas Emhoff \\n    * The Cabinet \\n    * Executive Office of the President \\n\\nDownload Official Portrait\\n\\n_President Biden represented Delaware for 36 years in the U.S. Senate before\\nbecoming the 47th Vice President of the United States. As President, Biden\\nwill restore America’s leadership and build our communities back better._\\n\\nJoseph Robinette Biden, Jr. was born in Scranton, Pennsylvania, the first of\\nfour children of Catherine Eugenia Finnegan Biden and Joseph Robinette Biden,\\nSr. In 1953, the Biden family moved to Claymont, Delaware. President Biden\\ngraduated from the University of Delaware and Syracuse Law School and served\\non the New Castle County Council.\\n\\n## Joe Biden’s Family\\n\\nAt age 29, President Biden became one of the youngest people ever elected to\\nthe United States Senate. Just weeks after his Senate election, tragedy struck\\nthe Biden family when his wife Neilia and daughter Naomi were killed, and sons\\nHunter and Beau were critically injured, in an auto accident.\\n\\nBiden was sworn into the U.S. Senate at his sons’ hospital bedsides and began\\ncommuting from Wilmington to Washington every day, first by car, and then by\\ntrain, in order to be with his family. He would continue to do so throughout\\nhis time in the Senate.\\n\\nBiden married Jill Jacobs in 1977, and in 1980, their family was complete with\\nthe birth of Ashley Blazer Biden. A lifelong educator, Jill earned her\\ndoctorate in education and returned to teaching as an English professor at a\\ncommunity college in Virginia.\\n\\nBeau Biden, Attorney General of Delaware and Joe Biden’s eldest son, passed\\naway in 2015 after battling brain cancer with the same integrity, courage, and\\nstrength he demonstrated every day of his life. Beau’s fight with cancer\\ninspires the mission of President Biden’s life — ending cancer as we know it.\\n\\nA young Beau, Ashley, and Hunter Biden\\n\\n## A Leader in the Senate\\n\\nAs a Senator from Delaware for 36 years, President Biden established himself\\nas a leader in facing some of our nation\\'s most important domestic and\\ninternational challenges. As Chairman or Ranking Member of the Senate\\nJudiciary Committee for 16 years, Biden is widely recognized for his work\\nwriting and spearheading the Violence Against Women Act  — the landmark\\nlegislation that strengthens penalties for violence against women, creates\\nunprecedented resources for survivors of assault, and changes the national\\ndialogue on domestic and sexual assault.\\n\\nAs Chairman or Ranking Member of the Senate Foreign Relations Committee for 12\\nyears, Biden played a pivotal role in shaping U.S. foreign policy. He was at\\nthe forefront of issues and legislation related to terrorism, weapons of mass\\ndestruction, post-Cold War Europe, the Middle East, Southwest Asia, and ending\\napartheid.\\n\\n> “America is an idea. An idea that is stronger than any army, bigger than any\\n> ocean, more powerful than any dictator or tyrant. It gives hope to the most\\n> desperate people on earth, it guarantees that everyone is treated with\\n> dignity and gives hate no safe harbor. It instills in every person in this\\n> country the belief that no matter where you start in life, there\\'s nothing\\n> you can’t achieve if you work at it. That’s what we believe.\"\\n>\\n> Joe Biden, April 25, 2019\\n\\n## The 47th Vice President of the United States\\n\\nAs Vice President, Biden continued his leadership on important issues facing\\nthe nation and represented our country abroad. Vice President Biden convened\\nsessions of the President’s Cabinet, led interagency efforts, and worked with\\nCongress in his fight to raise the living standards of middle-class Americans,\\nreduce gun violence, address violence against women, and end cancer as we know\\nit.\\n\\nBiden helped President Obama pass and then oversaw the implementation of the\\nRecovery Act — the biggest economic recovery plan in the history of the nation\\nand our biggest and strongest commitment to clean energy. The President’s plan\\nprevented another Great Depression, created and saved millions of jobs, and\\nled to 75 uninterrupted months of job growth by the end of the administration.\\nAnd Biden did it all with less than 1% in waste, abuse, or fraud — the most\\nefficient government program in our country’s history.\\n\\nPresident Obama and Vice President Biden also secured the passage of the\\nAffordable Care Act, which reduced the number of uninsured Americans by 20\\nmillion by the time they left office and banned insurance companies from\\ndenying coverage due to pre-existing conditions.\\n\\nHe served as the point person for U.S. diplomacy throughout the Western\\nHemisphere, strengthened relationships with our allies both in Europe and the\\nAsia-Pacific, and led the effort to bring 150,000 troops home from Iraq.\\n\\nIn a ceremony at the White House, President Obama awarded Biden the\\nPresidential Medal of Freedom with Distinction — the nation’s highest civilian\\nhonor.\\n\\nBarack Obama announces Biden as his vice-presidential running mate in\\nSpringfield, Illinois\\n\\n## A New Chapter\\n\\nAfter leaving the White House, the Bidens continued their efforts to expand\\nopportunity for every American with the creation of the Biden Foundation, the\\nBiden Cancer Initiative, the Penn Biden Center for Diplomacy and Global\\nEngagement, and the Biden Institute at the University of Delaware.\\n\\nOn April 25, 2019, Biden announced his candidacy for President of the United\\nStates. Biden’s candidacy was built from the beginning around 3 pillars: the\\nbattle for the soul of our nation, the need to rebuild our middle class — the\\nbackbone of our country, and a call for unity, to act as One America. It was a\\nmessage that would only gain more resonance in 2020 as we confront a pandemic,\\nan economic crisis, urgent calls for racial justice, and the existential\\nthreat of climate change.\\n\\n> “We are living through a battle for the soul of this nation.”\\n>\\n> Joe Biden, April 25, 2019\\n\\nPresident Joe Biden takes a photo with attendees at an event in Burlington, IA\\n\\n## Stay Connected\\n\\nSign Up\\n\\nEmail Address* Required\\n\\nZIP Code\\n\\nPlease leave blank.\\n\\nWe\\'ll be in touch with the latest information on how President Biden and his\\nadministration are working for the American people, as well as ways you can\\nget involved and help our country build back better.\\n\\nOpt in to send and receive text messages from President Biden.\\n\\nShare\\n\\n  * Share this page on Facebook\\n  * Share this page on X\\n  * https://www.whitehouse.gov/administration/president-biden/?utm_source=link\\n\\n  * Home\\n  * The Administration\\n  * Executive Offices\\n  * Priorities\\n  * The Record\\n  * Briefing Room\\n  * The White House\\n  * Disclosures\\n  * Get Involved\\n  * Español\\n\\n  * Contact Us\\n  * Privacy Policy\\n  * Copyright Policy\\n  * Accessibility Statement\\n\\n  * InstagramOpens in a new window\\n  * FacebookOpens in a new window\\n  * XOpens in a new window\\n  * YouTubeOpens in a new window\\n\\n**The White House**  \\n1600 Pennsylvania Ave NW  \\nWashington, DC 20500\\n\\nWH.gov\\n\\nScroll to Top Scroll to Top\\n\\nTop\\n\\n', metadata={'source': 'https://www.whitehouse.gov/administration/president-biden/', 'title': 'Joe Biden: The President | The White House', 'language': 'en-US'})],\n",
       " [['https://usun.usmission.gov/our-leaders/the-president-of-the-united-states/',\n",
       "   'https://www.whitehouse.gov/about-the-white-house/presidents/',\n",
       "   'https://www.whitehouse.gov/administration/president-biden/']])"
      ]
     },
     "execution_count": 23,
     "metadata": {},
     "output_type": "execute_result"
    }
   ],
   "source": [
    "_,links=querySerpapi(\"Who is the president of USA\", engine=\"google\", do_analysis=False)\n",
    "web_crawl(links)"
   ]
  },
  {
   "cell_type": "code",
   "execution_count": null,
   "metadata": {},
   "outputs": [],
   "source": []
  }
 ],
 "metadata": {
  "kernelspec": {
   "display_name": "gsaenv",
   "language": "python",
   "name": "python3"
  },
  "language_info": {
   "codemirror_mode": {
    "name": "ipython",
    "version": 3
   },
   "file_extension": ".py",
   "mimetype": "text/x-python",
   "name": "python",
   "nbconvert_exporter": "python",
   "pygments_lexer": "ipython3",
   "version": "3.10.11"
  }
 },
 "nbformat": 4,
 "nbformat_minor": 2
}
