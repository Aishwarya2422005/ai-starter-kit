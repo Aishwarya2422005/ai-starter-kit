{
 "cells": [
  {
   "cell_type": "markdown",
   "metadata": {},
   "source": [
    "# Search Assitant"
   ]
  },
  {
   "cell_type": "code",
   "execution_count": 123,
   "metadata": {},
   "outputs": [],
   "source": [
    "import os\n",
    "import re\n",
    "import sys\n",
    "from pprint import pprint\n",
    "\n",
    "current_dir = os.getcwd()\n",
    "kit_dir = os.path.abspath(os.path.join(current_dir, \"..\"))\n",
    "repo_dir = os.path.abspath(os.path.join(kit_dir, \"..\"))\n",
    "\n",
    "sys.path.append(kit_dir)\n",
    "sys.path.append(repo_dir)\n",
    "\n",
    "import requests\n",
    "import json\n",
    "from dotenv import load_dotenv\n",
    "from serpapi import GoogleSearch\n",
    "\n",
    "from langchain.prompts import PromptTemplate, load_prompt\n",
    "from langchain.pydantic_v1 import BaseModel, Field\n",
    "\n",
    "from utils.sambanova_endpoint import SambaNovaEndpoint, SambaverseEndpoint\n",
    "\n",
    "load_dotenv(\"../../.env\")\n",
    "\n",
    "from langchain.globals import set_debug\n",
    "\n",
    "set_debug(False)"
   ]
  },
  {
   "cell_type": "markdown",
   "metadata": {},
   "source": [
    "## Define the LLM"
   ]
  },
  {
   "cell_type": "code",
   "execution_count": 30,
   "metadata": {},
   "outputs": [],
   "source": [
    "#sambeverse llm\n",
    "llm = SambaverseEndpoint(\n",
    "            sambaverse_model_name=\"Meta/llama-2-70b-chat-hf\",\n",
    "            model_kwargs={\n",
    "                \"do_sample\": False, \n",
    "                \"max_tokens_to_generate\": 500,\n",
    "                \"temperature\": 0.01,\n",
    "                \"top_p\": 1,\n",
    "                \"process_prompt\": True,\n",
    "                \"select_expert\": \"llama-2-70b-chat-hf\"\n",
    "            }\n",
    "        )\n",
    "\n",
    "#sambastudio llm\n",
    "#llm = SambaNovaEndpoint(\n",
    "#    model_kwargs={\"do_sample\": False, \"temperature\": 0.0},\n",
    "#)"
   ]
  },
  {
   "cell_type": "markdown",
   "metadata": {},
   "source": [
    "## Search tools"
   ]
  },
  {
   "cell_type": "code",
   "execution_count": 132,
   "metadata": {},
   "outputs": [],
   "source": [
    "# Only admits Google Search\n",
    "def querySerper(query: str, limit: int = 5, do_analysis: bool = True ,include_site_links: bool = False):\n",
    "    \"\"\"A search engine. Useful for when you need to answer questions about current events. Input should be a search query.\"\"\"\n",
    "    url = \"https://google.serper.dev/search\"\n",
    "    payload = json.dumps({\n",
    "        \"q\": query,\n",
    "        \"num\": limit\n",
    "    })\n",
    "    headers = {\n",
    "        'X-API-KEY': os.environ.get(\"SERPER_API_KEY\"),\n",
    "        'Content-Type': 'application/json'\n",
    "    }\n",
    "\n",
    "    response = requests.post(url, headers=headers, data=payload).json()\n",
    "    results=response[\"organic\"]\n",
    "    links = [r[\"link\"] for r in results]\n",
    "    if include_site_links:\n",
    "        sitelinks = []\n",
    "        for r in [r.get(\"sitelinks\",[]) for r in results]:\n",
    "            sitelinks.extend([site.get(\"link\", None) for site in r])\n",
    "        links.extend(sitelinks)\n",
    "    links=list(filter(lambda x: x is not None, links))\n",
    "    \n",
    "    if do_analysis:\n",
    "        prompt = load_prompt(os.path.join(kit_dir, \"prompts/llama70b-SerperSearchAnalysis.yaml\"))\n",
    "        formatted_prompt = prompt.format(question=query, context=json.dumps(results))\n",
    "        return llm.invoke(formatted_prompt), links\n",
    "    else:\n",
    "        return response, links\n",
    "   "
   ]
  },
  {
   "cell_type": "code",
   "execution_count": 65,
   "metadata": {},
   "outputs": [
    {
     "data": {
      "text/plain": [
       "(\" Based on the context provided, the answer to the user's question is:\\n\\nThe President of America is Joe Biden.\",\n",
       " ['https://www.whitehouse.gov/about-the-white-house/presidents/',\n",
       "  'https://www.whitehouse.gov/administration/president-biden/',\n",
       "  'https://www.instagram.com/potus/?hl=en',\n",
       "  'https://www.facebook.com/POTUS/',\n",
       "  'https://www.usa.gov/presidents',\n",
       "  'https://www.whitehouse.gov/administration/president-biden/',\n",
       "  'https://www.whitehouse.gov/about-the-white-house/presidents/george-washington/',\n",
       "  'https://www.whitehouse.gov/about-the-white-house/presidents/george-w-bush/',\n",
       "  'https://www.whitehouse.gov/about-the-white-house/presidents/abraham-lincoln/',\n",
       "  'https://www.instagram.com/potus/reel/C4YZoUWOkgw/',\n",
       "  'https://www.instagram.com/potus/reel/Czm47Afxj2k/',\n",
       "  'https://www.instagram.com/potus/p/C3_hr8PrzqS/',\n",
       "  'https://www.instagram.com/potus/p/C4GkkSBOKFM/'])"
      ]
     },
     "execution_count": 65,
     "metadata": {},
     "output_type": "execute_result"
    }
   ],
   "source": [
    "querySerper(\"who is the president of America\", do_analysis=True)"
   ]
  },
  {
   "cell_type": "code",
   "execution_count": 76,
   "metadata": {},
   "outputs": [],
   "source": [
    "def queryOpenSerp(query: str, limit: int = 5, do_analysis: bool = True, engine=\"google\") -> str:\n",
    "    \"\"\"A search engine. Useful for when you need to answer questions about current events. Input should be a search query.\"\"\"\n",
    "    if engine not in [\"google\",\"yandex\",\"baidu\"]:\n",
    "        raise ValueError(\"engine must be either google, yandex or baidu\")\n",
    "    url = f\"http://127.0.0.1:7000/{engine}/search\"\n",
    "    params = {\n",
    "        \"lang\": \"EN\",\n",
    "        \"limit\": limit,\n",
    "        \"text\": query\n",
    "    }\n",
    "\n",
    "    results = requests.get(url, params=params).json()\n",
    "    \n",
    "    links = [r[\"url\"] for r in results]\n",
    "    if do_analysis:\n",
    "        prompt = load_prompt(os.path.join(kit_dir, \"prompts/llama70b-OpenSearchAnalysis.yaml\"))\n",
    "        formatted_prompt = prompt.format(question=query, context=json.dumps(results))\n",
    "        return llm.invoke(formatted_prompt), links\n",
    "    else:\n",
    "        return results, links"
   ]
  },
  {
   "cell_type": "code",
   "execution_count": 79,
   "metadata": {},
   "outputs": [
    {
     "data": {
      "text/plain": [
       "(' The President of the United States is Joe Biden. He has been in office since January 20, 2021.',\n",
       " ['https://en.wikipedia.org/wiki/President_of_the_United_States',\n",
       "  'https://www.whitehouse.gov/about-the-white-house/presidents/',\n",
       "  'https://en.wikipedia.org/wiki/List_of_presidents_of_the_United_States',\n",
       "  'https://www.instagram.com/potus/?hl=en'])"
      ]
     },
     "execution_count": 79,
     "metadata": {},
     "output_type": "execute_result"
    }
   ],
   "source": [
    "queryOpenSerp(\"who is the president of America\", do_analysis=True, engine=\"google\")"
   ]
  },
  {
   "cell_type": "code",
   "execution_count": 129,
   "metadata": {},
   "outputs": [],
   "source": [
    "def remove_links(text):\n",
    "    url_pattern = r'https?://\\S+|www\\.\\S+'\n",
    "    return re.sub(url_pattern, '', text)\n",
    "\n",
    "def querySerpapi(query: str, limit: int = 5, do_analysis: bool = True, engine=\"google\") -> str:\n",
    "    if engine not in [\"google\", \"bing\"]:\n",
    "        raise ValueError(\"engine must be either google or bing\")\n",
    "    params = {\n",
    "        \"q\": query,\n",
    "        \"num\": limit,\n",
    "        \"engine\":engine,\n",
    "        \"api_key\": os.environ.get(\"SERPAPI_API_KEY\")\n",
    "        }\n",
    "\n",
    "    search = GoogleSearch(params)\n",
    "    response= search.get_dict()\n",
    "    \n",
    "    knowledge_graph = response.get(\"knowledge_graph\", None)\n",
    "    results =  response.get(\"organic_results\",None)\n",
    "\n",
    "    links = []\n",
    "    links = [r[\"link\"] for r in results]\n",
    "    \n",
    "    \n",
    "    if do_analysis:\n",
    "        prompt = load_prompt(os.path.join(kit_dir, \"prompts/llama70b-SerpapiSearchAnalysis.yaml\"))\n",
    "        if knowledge_graph:\n",
    "            knowledge_graph_str = json.dumps(knowledge_graph)\n",
    "            knowledge_graph = remove_links(knowledge_graph_str)\n",
    "            print(knowledge_graph)\n",
    "            formatted_prompt = prompt.format(question=query, context=json.dumps(knowledge_graph))\n",
    "        else:\n",
    "            print(results)\n",
    "            results_str = json.dumps(results)\n",
    "            results_str = remove_links(results_str)\n",
    "            formatted_prompt = prompt.format(question=query, context=json.dumps(results))\n",
    "        return llm.invoke(formatted_prompt), links\n",
    "    else:\n",
    "        return response, links\n",
    "    "
   ]
  },
  {
   "cell_type": "code",
   "execution_count": 130,
   "metadata": {},
   "outputs": [
    {
     "name": "stdout",
     "output_type": "stream",
     "text": [
      "{\"type\": \"President of the United States\", \"header_images\": [{\"image\": \" \"source\": \" \"thumbnails\": [{\"image\": \" \"source\": \" \"title\": \"Joe Biden\", \"description\": \"Joseph Robinette Biden Jr. is an American politician who is the 46th and current president of the United States. A member of the Democratic Party, he previously served as the 47th vice preside\\u2026New content will be added above the current area of focus upon selectionJoseph Robinette Biden Jr. is an American politician who is the 46th and current president of the United States. A member of the Democratic Party, he previously served as the 47th vice president from 2009 to 2017 under President Barack Obama and represented Delaware in the United States Senate from 1973 to 2009.Wikipediajoebiden.com\", \"quote\": {\"title\": \"Failure at some point in your life is inevitable, but giving up is unforgivable.\", \"link\": \" \"facts\": [{\"title\": \"He served on the Senate\\u2019s Foreign Relations Committee, twice as its chair (2001\\u201303; 2007\\u201309), and on the Committee on the Judiciary, serving as its chair from 1987 to 1995.\", \"link\": \" \"thumbnail\": \" {\"title\": \"Joe Biden also received the Congressional Patriot Award in 2017.\", \"link\": \" {\"title\": \"He was elected to the New Castle County Council in 1970 and became the sixth-youngest senator in U.S. history after he was elected to the United States Senate from Delaware in 1972, at age 29.\", \"link\": \" \"thumbnail\": \" {\"title\": \"He is the second Catholic president (after John F. Kennedy) and the first president whose home state is Delaware.\", \"link\": \" {\"title\": \"He was the first president-elect in US history to mention transgender people in his victory speech.\", \"link\": \" {\"title\": \"In 2017, during his final days as president, Barack Obama awarded Biden the Presidential Medal of Freedom with distinction.\", \"link\": \" \"thumbnail\": \" \"profiles\": [{\"title\": \"Wikipedia\", \"link\": \" {\"title\": \"Instagram\", \"link\": \" {\"title\": \"Facebook\", \"link\": \" {\"title\": \"YouTube\", \"link\": \" {\"title\": \"IMDb\", \"link\": \" {\"title\": \"LinkedIn\", \"link\": \" \"website\": \" \"other_facts\": [{\"name\": \"Born\", \"original_value\": \"Joseph Robinette Biden Jr. \\u00b7 November 20, 1942 \\u00b7 Scranton, Pennsylvania, U.S.\", \"value\": [{\"name\": \"Joseph Robinette Biden Jr.\"}, {\"name\": \"November 20, 1942\"}, {\"name\": \"Scranton, Pennsylvania\", \"link\": \" {\"name\": \", U.S.\"}]}, {\"name\": \"Political party\", \"original_value\": \"Democratic (since 1969)\", \"value\": [{\"name\": \"Democratic\", \"link\": \" {\"name\": \"(since 1969)\"}]}, {\"name\": \"Spouses\", \"original_value\": \"Neilia Hunter \\u00b7 (m. 1966; died \\u00b7 1972) \\u00b7 Jill Jacobs (m. \\u00b7 1977)\", \"value\": [{\"name\": \"Neilia Hunter\", \"link\": \" {\"name\": \"(m. 1966; died\"}, {\"name\": \"1972)\"}, {\"name\": \"Jill Jacobs\", \"link\": \" {\"name\": \"(m.\"}, {\"name\": \"1977)\"}]}, {\"name\": \"Children\", \"original_value\": \"Beau \\u00b7 Hunter \\u00b7 Naomi \\u00b7 Ashley\", \"value\": [{\"name\": \"Beau\", \"link\": \" {\"name\": \"Hunter\", \"link\": \" {\"name\": \"Naomi\", \"link\": \" {\"name\": \"Ashley\", \"link\": \" {\"name\": \"Relatives\", \"original_value\": \"Biden family\", \"value\": [{\"name\": \"Biden family\", \"link\": \" {\"name\": \"Education\", \"original_value\": \"University of Delaware (BA) \\u00b7 Syracuse University (JD)\", \"value\": [{\"name\": \"University of Delaware\", \"link\": \" {\"name\": \"BA\", \"link\": \" {\"name\": \"Syracuse University\", \"link\": \" {\"name\": \"JD\", \"link\": \" {\"name\": \"Other political affiliations\", \"original_value\": \"Independent (before 1969)\", \"value\": [{\"name\": \"Independent\", \"link\": \" {\"name\": \"(before 1969)\"}]}, {\"name\": \"Residence\", \"original_value\": \"White House\", \"value\": [{\"name\": \"White House\", \"link\": \"\n",
      "(\" Based on the context provided, the answer to the user's question is:\\n\"\n",
      " '\\n'\n",
      " 'Joseph Robinette Biden Jr.',\n",
      " ['https://www.whitehouse.gov/administration/president-biden/',\n",
      "  'https://www.britannica.com/biography/Joe-Biden',\n",
      "  'https://en.wikipedia.org/wiki/President_of_the_United_States',\n",
      "  'https://www.history.com/topics/us-presidents/joe-biden',\n",
      "  'https://www.wikiwand.com/en/Joe_Biden',\n",
      "  'https://www.nytimes.com/2021/01/20/us/politics/biden-president.html',\n",
      "  'https://www.biography.com/political-figures/joe-biden',\n",
      "  'https://en.wikipedia.org/wiki/Presidency_of_Joe_Biden',\n",
      "  'https://www.nytimes.com/spotlight/joe-biden'])\n"
     ]
    }
   ],
   "source": [
    "pprint(querySerpapi(\"Who is the president of USA\", engine=\"bing\"))"
   ]
  },
  {
   "cell_type": "code",
   "execution_count": 131,
   "metadata": {},
   "outputs": [
    {
     "name": "stdout",
     "output_type": "stream",
     "text": [
      "{\"title\": \"Joe Biden\", \"type\": \"46th U.S. President\", \"entity_type\": \"people, athlete, people\", \"kgmid\": \"/m/012gx2\", \"knowledge_graph_search_link\": \" Biden\", \"serpapi_knowledge_graph_search_link\": \" \"tabs\": [{\"text\": \"All\"}, {\"text\": \"Images\", \"link\": \" \"serpapi_link\": \" \"website\": \" \"description\": \"Joseph Robinette Biden Jr. is an American politician who is the 46th and current president of the United States. A member of the Democratic Party, he previously served as the 47th vice president from 2009 to 2017 under President Barack Obama and represented Delaware in the United States Senate from 1973 to 2009.\", \"source\": {\"name\": \"Wikipedia\", \"link\": \" \"born\": \"November 20, 1942 (age 81 years), Scranton, PA\", \"born_links\": [{\"text\": \"Scranton, PA\", \"link\": \" \"edited_works\": \"Dirty Bombs and Basement Nukes - The Terrorist Nuclear Threat - Congressional Hearing\", \"edited_works_links\": [{\"text\": \"Dirty Bombs and Basement Nukes: The Terrorist Nuclear Threat - Congressional Hearing\", \"link\": \" {\"text\": \"MORE\", \"link\": \" \"organizations_founded\": \"United States Department of Defense China Task Force\", \"organizations_founded_links\": [{\"text\": \"United States Department of Defense China Task Force\", \"link\": \" {\"text\": \"MORE\", \"link\": \" \"grandchildren\": \"Navy Joan Roberts, Natalie Biden, Maisy Biden, Naomi Biden, Robert Biden II, Finnegan Biden\", \"grandchildren_links\": [{\"text\": \"Navy Joan Roberts\", \"link\": \" {\"text\": \"Natalie Biden\", \"link\": \" {\"text\": \"Maisy Biden\", \"link\": \" {\"text\": \"Naomi Biden\", \"link\": \" {\"text\": \"Robert Biden II\", \"link\": \" {\"text\": \"Finnegan Biden\", \"link\": \" \"grandparents\": \"Mary Elizabeth Robinette Biden, Joseph H. Biden, Ambrose J. Finnegan, Geraldine C. Blewitt\", \"grandparents_links\": [{\"text\": \"Mary Elizabeth Robinette Biden\", \"link\": \" {\"text\": \"Joseph H. Biden\", \"link\": \" {\"text\": \"Ambrose J. Finnegan\", \"link\": \" {\"text\": \"Geraldine C. Blewitt\", \"link\": \" \"great_grandparents\": \"George Hamilton Robinette\", \"great_grandparents_links\": [{\"text\": \"George Hamilton Robinette\", \"link\": \" {\"text\": \"MORE\", \"link\": \" \"marriage_location\": \"New York, NY\", \"marriage_location_links\": [{\"text\": \"New York, NY\", \"link\": \" \"profiles\": [{\"name\": \"Instagram\", \"link\": \" \"image\": \" {\"name\": \"X (Twitter)\", \"link\": \" \"image\": \" {\"name\": \"YouTube\", \"link\": \" \"image\": \" {\"name\": \"Facebook\", \"link\": \" \"image\": \"\n",
      "(\" Based on the context provided, the answer to the user's question is:\\n\"\n",
      " '\\n'\n",
      " '\"The current president of the United States is Joe Biden.\"',\n",
      " ['https://www.whitehouse.gov/administration/president-biden/',\n",
      "  'https://www.whitehouse.gov/about-the-white-house/presidents/',\n",
      "  'https://usun.usmission.gov/our-leaders/the-president-of-the-united-states/',\n",
      "  'https://www.instagram.com/potus/?hl=en',\n",
      "  'https://www.facebook.com/POTUS/'])\n"
     ]
    }
   ],
   "source": [
    "pprint(querySerpapi(\"Who is the president of USA\", engine=\"google\"))"
   ]
  },
  {
   "cell_type": "code",
   "execution_count": null,
   "metadata": {},
   "outputs": [],
   "source": []
  }
 ],
 "metadata": {
  "kernelspec": {
   "display_name": "gsaenv",
   "language": "python",
   "name": "python3"
  },
  "language_info": {
   "codemirror_mode": {
    "name": "ipython",
    "version": 3
   },
   "file_extension": ".py",
   "mimetype": "text/x-python",
   "name": "python",
   "nbconvert_exporter": "python",
   "pygments_lexer": "ipython3",
   "version": "3.10.11"
  }
 },
 "nbformat": 4,
 "nbformat_minor": 2
}
