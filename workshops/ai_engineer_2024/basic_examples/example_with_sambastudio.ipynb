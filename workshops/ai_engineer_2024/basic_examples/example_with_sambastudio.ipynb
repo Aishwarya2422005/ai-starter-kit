{
 "cells": [
  {
   "cell_type": "code",
   "execution_count": 1,
   "metadata": {},
   "outputs": [],
   "source": [
    "# Import libraries\n",
    "import os\n",
    "from dotenv import load_dotenv\n",
    "from langchain_community.llms.sambanova import SambaStudio\n",
    "from langchain_core.output_parsers import StrOutputParser\n",
    "from langchain_core.prompts import ChatPromptTemplate"
   ]
  },
  {
   "cell_type": "code",
   "execution_count": 2,
   "metadata": {},
   "outputs": [],
   "source": [
    "# Load environment varilables from .env file\n",
    "load_dotenv()\n",
    "\n",
    "base_url = os.getenv('SAMBASTUDIO_BASE_URL')\n",
    "project_id = os.getenv('SAMBASTUDIO_PROJECT_ID')\n",
    "endpoint_id = os.getenv('SAMBASTUDIO_ENDPOINT_ID')\n",
    "api_key = os.getenv('SAMBASTUDIO_API_KEY')"
   ]
  },
  {
   "cell_type": "code",
   "execution_count": 3,
   "metadata": {},
   "outputs": [],
   "source": [
    "# Initialize the LLM \n",
    "llm = SambaStudio(\n",
    "        sambastudio_base_url=base_url,\n",
    "        sambastudio_project_id=project_id,\n",
    "        sambastudio_endpoint_id=endpoint_id,\n",
    "        sambastudio_api_key=api_key,\n",
    "        streaming=True,\n",
    "        model_kwargs={\n",
    "            \"do_sample\": False,\n",
    "            \"temperature\": 0.01,\n",
    "            \"top_k\": 10,\n",
    "            \"top_p\": 0.9,\n",
    "            \"max_tokens_to_generate\": 1200,\n",
    "            \"select_expert\": \"Meta-Llama-3-8B-Instruct\", # Meta-Llama-3-8B-Instruct, # llama-2-70b-chat-hf\n",
    "            \"process_prompt\": False\n",
    "        }\n",
    ")     \n",
    "        "
   ]
  },
  {
   "cell_type": "code",
   "execution_count": 6,
   "metadata": {},
   "outputs": [
    {
     "data": {
      "text/plain": [
       "' The capital of France is Paris.'"
      ]
     },
     "execution_count": 6,
     "metadata": {},
     "output_type": "execute_result"
    }
   ],
   "source": [
    "# Use the LLM\n",
    "llm.invoke(\"\"\"\n",
    "    <|begin_of_text|><|start_header_id|>user<|end_header_id|>\n",
    "\n",
    "    What is the capital of France?<|eot_id|>\n",
    "    <|start_header_id|>assistant<|end_header_id|>\n",
    "    \"\"\")\n",
    "\n",
    "#llm.invoke(\"What is the capital of France?\")"
   ]
  },
  {
   "cell_type": "code",
   "execution_count": 7,
   "metadata": {},
   "outputs": [
    {
     "data": {
      "text/plain": [
       "'The capital of France is Paris.'"
      ]
     },
     "execution_count": 7,
     "metadata": {},
     "output_type": "execute_result"
    }
   ],
   "source": [
    "# Use LCEL to chain a prompt template, model and output parser\n",
    "prompt = ChatPromptTemplate.from_template(\"\"\"\n",
    "<|begin_of_text|><|start_header_id|>user<|end_header_id|>\n",
    "\n",
    "What is the capital of {country}?<|eot_id|>\n",
    "<|start_header_id|>assistant<|end_header_id|>\n",
    "\"\"\")\n",
    "output_parser = StrOutputParser()\n",
    "\n",
    "chain = prompt | llm | output_parser\n",
    "\n",
    "chain.invoke({\"country\": \"France\"})"
   ]
  }
 ],
 "metadata": {
  "kernelspec": {
   "display_name": "complex_rag",
   "language": "python",
   "name": "python3"
  },
  "language_info": {
   "codemirror_mode": {
    "name": "ipython",
    "version": 3
   },
   "file_extension": ".py",
   "mimetype": "text/x-python",
   "name": "python",
   "nbconvert_exporter": "python",
   "pygments_lexer": "ipython3",
   "version": "3.10.14"
  }
 },
 "nbformat": 4,
 "nbformat_minor": 2
}
