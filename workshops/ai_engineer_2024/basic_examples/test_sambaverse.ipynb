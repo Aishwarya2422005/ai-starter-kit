{
 "cells": [
  {
   "cell_type": "code",
   "execution_count": 1,
   "metadata": {},
   "outputs": [],
   "source": [
    "# Import libraries\n",
    "import os\n",
    "from dotenv import load_dotenv\n",
    "#from langchain_community.embeddings import SambaStudioEmbeddings\n",
    "from langchain_community.llms.sambanova import SambaStudio, Sambaverse\n",
    "from langchain_core.output_parsers import StrOutputParser\n",
    "from langchain_core.prompts import ChatPromptTemplate"
   ]
  },
  {
   "cell_type": "code",
   "execution_count": 2,
   "metadata": {},
   "outputs": [],
   "source": [
    "# Load environment varilables from .env file\n",
    "load_dotenv()\n",
    "sambaverse_api_key  = os.getenv('SAMBAVERSE_API_KEY') "
   ]
  },
  {
   "cell_type": "code",
   "execution_count": 3,
   "metadata": {},
   "outputs": [],
   "source": [
    "# Initialize the LLM\n",
    "llm = Sambaverse(\n",
    "    sambaverse_model_name=\"Meta/Meta-Llama-3-8B-Instruct\",\n",
    "    sambaverse_api_key=sambaverse_api_key,\n",
    "    model_kwargs={\n",
    "        \"do_sample\": False, \n",
    "        \"max_tokens_to_generate\": 1200,\n",
    "        \"temperature\": 0.01,\n",
    "        \"process_prompt\": True,\n",
    "        \"select_expert\": \"Meta-Llama-3-8B-Instruct\",\n",
    "        \"top_k\": 10,\n",
    "        \"top_p\": 0.9,\n",
    "        #\"stop_sequences\": { \"type\":\"str\", \"value\":\"\"},\n",
    "        # \"repetition_penalty\": {\"type\": \"float\", \"value\": \"1\"},\n",
    "        # \"top_k\": {\"type\": \"int\", \"value\": \"50\"},\n",
    "        # \"top_p\": {\"type\": \"float\", \"value\": \"1\"}\n",
    "        }\n",
    "    )"
   ]
  },
  {
   "cell_type": "code",
   "execution_count": 4,
   "metadata": {},
   "outputs": [
    {
     "data": {
      "text/plain": [
       "'The capital of France is Paris.'"
      ]
     },
     "execution_count": 4,
     "metadata": {},
     "output_type": "execute_result"
    }
   ],
   "source": [
    "# Use the LLM\n",
    "llm.invoke(\"What is the capital of France?\")"
   ]
  },
  {
   "cell_type": "code",
   "execution_count": 5,
   "metadata": {},
   "outputs": [
    {
     "data": {
      "text/plain": [
       "'The capital of France is Paris!'"
      ]
     },
     "execution_count": 5,
     "metadata": {},
     "output_type": "execute_result"
    }
   ],
   "source": [
    "# Use LCEL to chain a prompt template, model and output parser\n",
    "prompt = ChatPromptTemplate.from_template(\"What is the capitabl of {country}?\")\n",
    "output_parser = StrOutputParser()\n",
    "\n",
    "chain = prompt | llm | output_parser\n",
    "\n",
    "chain.invoke({\"country\": \"France\"})"
   ]
  }
 ],
 "metadata": {
  "kernelspec": {
   "display_name": "complex_rag",
   "language": "python",
   "name": "python3"
  },
  "language_info": {
   "codemirror_mode": {
    "name": "ipython",
    "version": 3
   },
   "file_extension": ".py",
   "mimetype": "text/x-python",
   "name": "python",
   "nbconvert_exporter": "python",
   "pygments_lexer": "ipython3",
   "version": "3.1.-1"
  }
 },
 "nbformat": 4,
 "nbformat_minor": 2
}
