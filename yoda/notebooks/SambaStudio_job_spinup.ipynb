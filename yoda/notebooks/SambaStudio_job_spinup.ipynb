{
 "cells": [
  {
   "cell_type": "markdown",
   "id": "4854495d-93fe-4ce2-b6aa-d92d7ce2a1e0",
   "metadata": {},
   "source": [
    "### The aim of this notebook is to create our SambaStudio jobs and endpoints"
   ]
  },
  {
   "cell_type": "code",
   "execution_count": null,
   "id": "42b7be23-13cb-4b5b-a3ed-a698647bd590",
   "metadata": {},
   "outputs": [],
   "source": [
    "import os\n",
    "import sys\n",
    "import json\n",
    "from pprint import pprint\n",
    "from dotenv import load_dotenv\n",
    "from snsdk import SnSdk\n",
    "\n",
    "sys.path.append(\"../\")\n",
    "sys.path.append(\"../../\")\n",
    "load_dotenv(\"../../export.env\")"
   ]
  },
  {
   "cell_type": "code",
   "execution_count": null,
   "id": "f6582fd7-5baa-475e-8996-5af2f6e1382f",
   "metadata": {},
   "outputs": [],
   "source": [
    "!pwd"
   ]
  },
  {
   "cell_type": "markdown",
   "id": "ad503230-b644-45fd-a732-ec0ca43fbfdf",
   "metadata": {},
   "source": [
    "For our tutorial we are going to be interacting with SambaStudio at a range of points:\n",
    "- source the LLAMA 70B Chat endpoint already hosted on our environment to run inference\n",
    "- Upload our target dataset to SambaStudio env1\n",
    "- Create a project and a job for domain-adaptive pretraining with our target dataset\n",
    "- Finetune the latest checkpoint of the previous job\n",
    "- Host the finetuned model at an endpoint\n",
    "\n",
    "The first of these points is better handled through our `SambaNovaEndpoint` helper function and the others can be done directly on\\\n",
    "the SambaStudio GUI or through **snapapi** and **snsdk**.\n",
    "\n",
    "We will walk you through how to use **snsdk** for our key functions.\n",
    "\n",
    "To begin with, your `.env` file will have some missing environment variables. Namely, `FINETUNED_PROJECT_ID`, `FINETUNED_ENDPOINT_ID`, and `FINETUNED_API_KEY` which we will create as we go through the tutorial."
   ]
  },
  {
   "cell_type": "code",
   "execution_count": null,
   "id": "bc11dc51-30ad-4a54-a715-6e592b6349c8",
   "metadata": {},
   "outputs": [],
   "source": [
    "!cat .env"
   ]
  },
  {
   "cell_type": "code",
   "execution_count": null,
   "id": "427cfde1-750e-480e-b621-aefd01e2b095",
   "metadata": {},
   "outputs": [],
   "source": [
    "import json\n",
    "from snsdk import SnSdk\n",
    "\n",
    "sdk = SnSdk(host_url=os.getenv('FINETUNED_BASE_URL'),\n",
    "            access_key=os.getenv('DEMO1_API_KEY'))"
   ]
  },
  {
   "cell_type": "markdown",
   "id": "055b3b18-cbdc-4c59-bdd2-2793a89a9c0f",
   "metadata": {},
   "source": [
    "If you haven't received an error at this point, it means that you're connected. Well done!"
   ]
  },
  {
   "cell_type": "markdown",
   "id": "24b879aa-44f2-4a3e-a3b3-ecbdf049370f",
   "metadata": {},
   "source": [
    "### Create a project"
   ]
  },
  {
   "cell_type": "code",
   "execution_count": null,
   "id": "42185303-c8b7-4e94-82fa-c0e25a95be57",
   "metadata": {},
   "outputs": [],
   "source": [
    "response = sdk.create_project(project_name = 'yoda_tutorial2', description = \"A tutorial on using the YODA recipe\")\n",
    "response"
   ]
  },
  {
   "cell_type": "code",
   "execution_count": null,
   "id": "329c0541-f06e-4816-b8d7-fe49de81477f",
   "metadata": {},
   "outputs": [],
   "source": [
    "project_id = response['data']['project_id']\n",
    "project_id"
   ]
  },
  {
   "cell_type": "markdown",
   "id": "aa0b8072-d881-4009-bd56-9da0fd80d98b",
   "metadata": {},
   "source": [
    "You can fill in `FINETUNED_PROJECT_ID` in your environment variable with this project id."
   ]
  },
  {
   "cell_type": "markdown",
   "id": "06fc04ae-f9b2-42c2-a163-303e68c3d666",
   "metadata": {},
   "source": [
    "## Upload our dataset [later]"
   ]
  },
  {
   "cell_type": "markdown",
   "id": "0880b0f6-62be-4955-b204-306f7b566d3b",
   "metadata": {},
   "source": [
    "## DAPT/Finetune the llama7b model"
   ]
  },
  {
   "cell_type": "code",
   "execution_count": null,
   "id": "e8afbfe8-d22f-4505-93aa-1386ad9cb977",
   "metadata": {},
   "outputs": [],
   "source": [
    "# We can check the datasets we have available - we're looking for yoda_qamixed_7btokenized\n",
    "sdk.list_datasets()"
   ]
  },
  {
   "cell_type": "code",
   "execution_count": null,
   "id": "4b21da73-e2b9-4f99-a58f-4bbe8c0f5463",
   "metadata": {},
   "outputs": [],
   "source": [
    "dataset_id = sdk.search_dataset('yoda_qamixed_7btokenized')['data']['dataset_id']\n",
    "dataset_id"
   ]
  },
  {
   "cell_type": "markdown",
   "id": "e80b79ed-4a28-45cc-8b14-c43b7e53d9b1",
   "metadata": {},
   "source": [
    "We've got our dataset ID which we'll need to reference for finetuning. We also need the model_id for the llama7b model...."
   ]
  },
  {
   "cell_type": "code",
   "execution_count": null,
   "id": "deea56bc-c300-459e-bd52-7e4913380907",
   "metadata": {},
   "outputs": [],
   "source": [
    "model_id = sdk.search_model('Llama-2-7b-chat-hf')['data']['model_id']\n",
    "model_id"
   ]
  },
  {
   "cell_type": "markdown",
   "id": "5181b59c-2306-45df-a1bb-8b43a124bb5a",
   "metadata": {},
   "source": [
    "We now have everything to create the training job. TODO: get more infor on the hparams dict"
   ]
  },
  {
   "cell_type": "code",
   "execution_count": null,
   "id": "32867cc5-2e73-40da-af98-b7c273bb62a7",
   "metadata": {},
   "outputs": [],
   "source": [
    "\"\"\"\n",
    "response = sdk.create_job(\n",
    "    job_type=\"train\",\n",
    "    project= project_id,\n",
    "    model_checkpoint= model_id,\n",
    "    job_name= \"firstjob\",\n",
    "    description= \"empty description\",\n",
    "    dataset= dataset_id,\n",
    "    hyperparams= \"\",\n",
    "    load_state= True, \n",
    "    sub_path= \"\",\n",
    "    parallel_instances= 1,\n",
    "    )\n",
    "response\n",
    "\"\"\"\n"
   ]
  },
  {
   "cell_type": "markdown",
   "id": "c53551e2-1fd1-4369-a4b8-aa14c27f9afd",
   "metadata": {},
   "source": [
    "To get the job_id browse through the list of jobs in your project"
   ]
  },
  {
   "cell_type": "code",
   "execution_count": null,
   "id": "35e261d4-960f-4018-b4f5-f704fb365175",
   "metadata": {},
   "outputs": [],
   "source": [
    "response = sdk.job_info(project=project_id,job=job_id)\n",
    "response"
   ]
  },
  {
   "cell_type": "code",
   "execution_count": null,
   "id": "d78401ce-dda0-456d-977e-d321422f4b7d",
   "metadata": {},
   "outputs": [],
   "source": [
    "response = sdk.job_info(project=project_id,job=job_id)\n",
    "job_status = response['data']['status']\n",
    "job_status"
   ]
  },
  {
   "cell_type": "markdown",
   "id": "22d73b33-b6a7-461c-a31b-befa8109e4e9",
   "metadata": {},
   "source": [
    "The job status will print out **'TRAINING'** while it's training and when it is completed it will dosplay **'EXIT_WITH_0'**"
   ]
  },
  {
   "cell_type": "markdown",
   "id": "8a0cea46-3f4c-4d3e-8828-49f3b103d0be",
   "metadata": {},
   "source": [
    "## HOST THE LATEST CHECKPOINT AS AN ENDPOINT [LATER]"
   ]
  },
  {
   "cell_type": "code",
   "execution_count": null,
   "id": "3aad072d-80cd-4bd2-8ee6-03b716a70e27",
   "metadata": {},
   "outputs": [],
   "source": []
  }
 ],
 "metadata": {
  "kernelspec": {
   "display_name": "py310",
   "language": "python",
   "name": "py310"
  },
  "language_info": {
   "codemirror_mode": {
    "name": "ipython",
    "version": 3
   },
   "file_extension": ".py",
   "mimetype": "text/x-python",
   "name": "python",
   "nbconvert_exporter": "python",
   "pygments_lexer": "ipython3",
   "version": "3.10.13"
  }
 },
 "nbformat": 4,
 "nbformat_minor": 5
}
