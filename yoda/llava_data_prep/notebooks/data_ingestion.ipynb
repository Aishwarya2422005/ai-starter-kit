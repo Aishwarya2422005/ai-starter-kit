{
 "cells": [
  {
   "cell_type": "code",
   "execution_count": null,
   "metadata": {},
   "outputs": [],
   "source": [
    "import os\n",
    "import sys\n",
    "\n",
    "from datasets import load_dataset\n",
    "from PIL import Image\n",
    "from io import BytesIO\n",
    "import requests\n",
    "import json\n",
    "import uuid\n",
    "\n",
    "current_dir = os.getcwd()\n",
    "kit_dir = os.path.abspath(os.path.join(current_dir, \"..\"))\n",
    "repo_dir = os.path.abspath(os.path.join(kit_dir, \"..\"))\n",
    "\n",
    "sys.path.append(kit_dir)\n",
    "sys.path.append(repo_dir)"
   ]
  },
  {
   "cell_type": "code",
   "execution_count": null,
   "metadata": {},
   "outputs": [],
   "source": [
    "kit_dir"
   ]
  },
  {
   "cell_type": "code",
   "execution_count": null,
   "metadata": {},
   "outputs": [],
   "source": [
    "ds = load_dataset(\"HuggingFaceM4/DocumentVQA\")"
   ]
  },
  {
   "cell_type": "code",
   "execution_count": null,
   "metadata": {},
   "outputs": [],
   "source": [
    "ds"
   ]
  },
  {
   "cell_type": "code",
   "execution_count": null,
   "metadata": {},
   "outputs": [],
   "source": [
    "img_dir = os.path.join(kit_dir, \"data\", \"images\")\n",
    "json_path = os.path.join(kit_dir, \"data\", \"annotations_train.json\")\n",
    "\n",
    "with open(json_path, \"w\") as f:\n",
    "        json.dump([], f)\n",
    "\n",
    "if not os.path.exists(img_dir):\n",
    "    os.makedirs(img_dir)\n",
    "\n",
    "for i in range(len(ds[\"train\"])):\n",
    "    unique_uuid = str(uuid.uuid4())\n",
    "    image = ds[\"train\"][i][\"image\"]\n",
    "    \n",
    "    image.save(os.path.join(img_dir, f\"{unique_uuid}.png\"))\n",
    "\n",
    "    question = ds[\"train\"][i][\"question\"]\n",
    "    answer = ds[\"train\"][i][\"answers\"]\n",
    "    new_data = {\n",
    "        \"id\": unique_uuid,\n",
    "        \"image\": f\"{unique_uuid}.png\",\n",
    "        \"conversations\": [\n",
    "            {\"from\": \"human\", \"value\": question},\n",
    "            {\"from\": \"gpt\", \"value\": answer}\n",
    "        ]\n",
    "    }\n",
    "\n",
    "    with open(json_path, \"r+\") as f:\n",
    "        data = json.load(f)\n",
    "        data.append(new_data)\n",
    "        f.seek(0)\n",
    "        json.dump(data, f, indent=4)\n",
    "        f.truncate()"
   ]
  },
  {
   "cell_type": "code",
   "execution_count": null,
   "metadata": {},
   "outputs": [],
   "source": []
  }
 ],
 "metadata": {
  "kernelspec": {
   "display_name": ".llava",
   "language": "python",
   "name": "python3"
  },
  "language_info": {
   "codemirror_mode": {
    "name": "ipython",
    "version": 3
   },
   "file_extension": ".py",
   "mimetype": "text/x-python",
   "name": "python",
   "nbconvert_exporter": "python",
   "pygments_lexer": "ipython3",
   "version": "3.11.3"
  }
 },
 "nbformat": 4,
 "nbformat_minor": 2
}
