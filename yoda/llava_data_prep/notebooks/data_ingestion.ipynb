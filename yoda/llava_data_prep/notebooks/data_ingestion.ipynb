{
 "cells": [
  {
   "cell_type": "code",
   "execution_count": 1,
   "metadata": {},
   "outputs": [],
   "source": [
    "import os\n",
    "import sys\n",
    "\n",
    "current_dir = os.getcwd()\n",
    "kit_dir = os.path.abspath(os.path.join(current_dir, \"..\"))\n",
    "repo_dir = os.path.abspath(os.path.join(kit_dir, \"..\"))\n",
    "\n",
    "sys.path.append(kit_dir)\n",
    "sys.path.append(repo_dir)"
   ]
  },
  {
   "cell_type": "code",
   "execution_count": 2,
   "metadata": {},
   "outputs": [
    {
     "name": "stderr",
     "output_type": "stream",
     "text": [
      "/Users/codym/CAP/tmp2/ai-starter-kit/.llava/lib/python3.11/site-packages/tqdm/auto.py:21: TqdmWarning: IProgress not found. Please update jupyter and ipywidgets. See https://ipywidgets.readthedocs.io/en/stable/user_install.html\n",
      "  from .autonotebook import tqdm as notebook_tqdm\n"
     ]
    }
   ],
   "source": [
    "from llava_data_prep.src.data_ingestion import LlaVaData\n",
    "data_ingester = LlaVaData()"
   ]
  },
  {
   "cell_type": "code",
   "execution_count": 3,
   "metadata": {},
   "outputs": [
    {
     "name": "stderr",
     "output_type": "stream",
     "text": [
      "INFO:root:Downloading HuggingFaceM4/DocumentVQA dataset\n",
      "WARNING:root:This dataset is of length: 39463                         and may take some time to process.\n",
      "INFO:root:Saving train to /Users/codym/CAP/tmp2/ai-starter-kit/yoda/llava_data_prep/single_value/data\n"
     ]
    }
   ],
   "source": [
    "data_ingester.download_hf_data_documentVQA(dataset_name=\"HuggingFaceM4/DocumentVQA\", \n",
    "                               output_dir=kit_dir + \"/single_value\",\n",
    "                               split=\"train\")"
   ]
  },
  {
   "cell_type": "code",
   "execution_count": 4,
   "metadata": {},
   "outputs": [
    {
     "name": "stderr",
     "output_type": "stream",
     "text": [
      "INFO:root:Downloading HuggingFaceM4/DocumentVQA dataset\n",
      "WARNING:root:This dataset is of length: 5349                         and may take some time to process.\n",
      "INFO:root:Saving validation to /Users/codym/CAP/tmp2/ai-starter-kit/yoda/llava_data_prep/single_value/data\n"
     ]
    }
   ],
   "source": [
    "data_ingester.download_hf_data_documentVQA(dataset_name=\"HuggingFaceM4/DocumentVQA\", \n",
    "                               output_dir=kit_dir + \"/single_value\",\n",
    "                               split=\"validation\")"
   ]
  },
  {
   "cell_type": "code",
   "execution_count": null,
   "metadata": {},
   "outputs": [],
   "source": []
  }
 ],
 "metadata": {
  "kernelspec": {
   "display_name": ".llava",
   "language": "python",
   "name": "python3"
  },
  "language_info": {
   "codemirror_mode": {
    "name": "ipython",
    "version": 3
   },
   "file_extension": ".py",
   "mimetype": "text/x-python",
   "name": "python",
   "nbconvert_exporter": "python",
   "pygments_lexer": "ipython3",
   "version": "3.11.3"
  }
 },
 "nbformat": 4,
 "nbformat_minor": 2
}
