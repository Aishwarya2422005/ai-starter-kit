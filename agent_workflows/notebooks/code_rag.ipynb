{
 "cells": [
  {
   "cell_type": "code",
   "execution_count": null,
   "metadata": {},
   "outputs": [],
   "source": [
    "import os\n",
    "import sys\n",
    "import random\n",
    "from langchain_community.vectorstores import Chroma\n",
    "from langchain_experimental.utilities import PythonREPL\n",
    "from IPython.display import display, Markdown\n",
    "import jsonlines\n",
    "import chromadb\n",
    "import yaml\n",
    "\n",
    "current_dir = os.getcwd()\n",
    "kit_dir = os.path.abspath(os.path.join(current_dir, \"..\"))\n",
    "repo_dir = os.path.abspath(os.path.join(kit_dir, \"..\"))\n",
    "\n",
    "sys.path.append(kit_dir)\n",
    "sys.path.append(repo_dir)\n",
    "\n",
    "from enterprise_knowledge_retriever.src.document_retrieval import DocumentRetrieval\n",
    "from utils.agents.static_RAG_with_coding import CodeRAG\n",
    "\n",
    "examples = []\n",
    "\n",
    "CONFIG_PATH = os.path.join(kit_dir, \"config.yaml\")"
   ]
  },
  {
   "cell_type": "code",
   "execution_count": null,
   "metadata": {},
   "outputs": [],
   "source": [
    "def load_config(filename: str) -> dict:\n",
    "    try:\n",
    "        with open(filename, \"r\") as file:\n",
    "            return yaml.safe_load(file)\n",
    "    except FileNotFoundError:\n",
    "        raise FileNotFoundError(\n",
    "            f\"The YAML configuration file {filename} was not found.\"\n",
    "        )\n",
    "    except yaml.YAMLError as e:\n",
    "        raise RuntimeError(f\"Error parsing YAML file: {e}\")"
   ]
  },
  {
   "cell_type": "code",
   "execution_count": null,
   "metadata": {},
   "outputs": [],
   "source": [
    "CONFIG_PATH"
   ]
  },
  {
   "cell_type": "code",
   "execution_count": null,
   "metadata": {},
   "outputs": [],
   "source": [
    "configs = load_config(CONFIG_PATH)"
   ]
  },
  {
   "cell_type": "code",
   "execution_count": null,
   "metadata": {},
   "outputs": [],
   "source": [
    "configs[\"prompts\"][\"router_prompt\"]"
   ]
  },
  {
   "cell_type": "code",
   "execution_count": null,
   "metadata": {},
   "outputs": [],
   "source": [
    "documentRetrieval = DocumentRetrieval()\n",
    "*_, embedding_model_info, retrieval_info, _ = documentRetrieval.get_config_info()\n",
    "embeddings = documentRetrieval.load_embedding_model()"
   ]
  },
  {
   "cell_type": "code",
   "execution_count": null,
   "metadata": {},
   "outputs": [],
   "source": [
    "vectorstore = Chroma(\n",
    "    persist_directory=kit_dir + \"/data/uber_lyft.chromadb\",\n",
    "    embedding_function=embeddings,\n",
    ")"
   ]
  },
  {
   "cell_type": "code",
   "execution_count": null,
   "metadata": {},
   "outputs": [],
   "source": [
    "# instantiate rag\n",
    "rag = CodeRAG(\n",
    "    configs=CONFIG_PATH,\n",
    "    embeddings=embeddings,\n",
    "    vectorstore=vectorstore,\n",
    "    examples=examples,\n",
    ")\n",
    "\n",
    "# Initialize chains\n",
    "rag.initialize()\n",
    "\n",
    "# Build nodes\n",
    "workflow = rag.create_rag_nodes()\n",
    "print(workflow)\n",
    "\n",
    "# Build graph\n",
    "app = rag.build_rag_graph(workflow)"
   ]
  },
  {
   "cell_type": "code",
   "execution_count": null,
   "metadata": {},
   "outputs": [],
   "source": [
    "# rag.display_graph(app)"
   ]
  },
  {
   "cell_type": "code",
   "execution_count": null,
   "metadata": {},
   "outputs": [],
   "source": [
    "def log_answers(question, output_file):\n",
    "    try:\n",
    "        response = rag.call_rag(app, question)\n",
    "    except:\n",
    "        response = {}\n",
    "        response[\"answer\"] = \"Failed\"\n",
    "\n",
    "    display(Markdown(\"---Response---\"))\n",
    "    display(Markdown(response[\"answer\"]))\n",
    "\n",
    "    if not os.path.exists(kit_dir + \"/outputs\"):\n",
    "        os.makedirs(kit_dir + \"/outputs\")\n",
    "    output_dir = kit_dir + \"/outputs\"\n",
    "\n",
    "    with jsonlines.open(output_dir + f\"/{output_file}\", \"a\") as writer:\n",
    "        writer.write({\"question\": question, \"response\": response[\"answer\"]})"
   ]
  },
  {
   "cell_type": "code",
   "execution_count": null,
   "metadata": {},
   "outputs": [],
   "source": [
    "questions = [\n",
    "    \"Could the trading price of lyft stock be volatile?\",\n",
    "    \"What was the difference in revenue for Uber between 2020 and 2021?\",\n",
    "    \"What was the change in revenue for Lyft for 2020 and 2021 as a percentage?\",\n",
    "    \"Provide the business overviews for Uber and Lyft.\",\n",
    "    \"What are the growth strategies for Lyft and Uber?\",\n",
    "    \"How do the growth strategies differ between Lyft and Uber?\",\n",
    "]"
   ]
  },
  {
   "cell_type": "code",
   "execution_count": null,
   "metadata": {},
   "outputs": [],
   "source": [
    "for question in questions:\n",
    "    log_answers(question, \"lyft_stock_price_Llama3_8B_Instruct.jsonl\")"
   ]
  },
  {
   "cell_type": "code",
   "execution_count": null,
   "metadata": {},
   "outputs": [],
   "source": []
  }
 ],
 "metadata": {
  "kernelspec": {
   "display_name": "lgenv",
   "language": "python",
   "name": "python3"
  },
  "language_info": {
   "codemirror_mode": {
    "name": "ipython",
    "version": 3
   },
   "file_extension": ".py",
   "mimetype": "text/x-python",
   "name": "python",
   "nbconvert_exporter": "python",
   "pygments_lexer": "ipython3",
   "version": "3.11.6"
  }
 },
 "nbformat": 4,
 "nbformat_minor": 2
}
