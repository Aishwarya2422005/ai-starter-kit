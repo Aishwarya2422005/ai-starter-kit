{
 "cells": [
  {
   "cell_type": "code",
   "execution_count": 1,
   "metadata": {},
   "outputs": [
    {
     "name": "stderr",
     "output_type": "stream",
     "text": [
      "/Users/codym/CAP/aisk_forked/ai-starter-kit/comp_rag_env/lib/python3.11/site-packages/tqdm/auto.py:21: TqdmWarning: IProgress not found. Please update jupyter and ipywidgets. See https://ipywidgets.readthedocs.io/en/stable/user_install.html\n",
      "  from .autonotebook import tqdm as notebook_tqdm\n"
     ]
    }
   ],
   "source": [
    "import os\n",
    "import sys\n",
    "import random\n",
    "from langchain_community.vectorstores import Chroma\n",
    "from langchain_experimental.utilities import PythonREPL\n",
    "from IPython.display import display, Markdown\n",
    "import jsonlines\n",
    "import chromadb\n",
    "import yaml\n",
    "\n",
    "current_dir = os.getcwd()\n",
    "kit_dir = os.path.abspath(os.path.join(current_dir, \"..\"))\n",
    "repo_dir = os.path.abspath(os.path.join(kit_dir, \"..\"))\n",
    "\n",
    "sys.path.append(kit_dir)\n",
    "sys.path.append(repo_dir)\n",
    "\n",
    "from enterprise_knowledge_retriever.src.document_retrieval import DocumentRetrieval\n",
    "from utils.agents.static_RAG_with_coding import CodeRAG\n",
    "\n",
    "examples = []\n",
    "\n",
    "CONFIG_PATH = os.path.join(kit_dir, \"config.yaml\")"
   ]
  },
  {
   "cell_type": "code",
   "execution_count": 2,
   "metadata": {},
   "outputs": [],
   "source": [
    "def load_config(filename: str) -> dict:\n",
    "    try:\n",
    "        with open(filename, \"r\") as file:\n",
    "            return yaml.safe_load(file)\n",
    "    except FileNotFoundError:\n",
    "        raise FileNotFoundError(\n",
    "            f\"The YAML configuration file {filename} was not found.\"\n",
    "        )\n",
    "    except yaml.YAMLError as e:\n",
    "        raise RuntimeError(f\"Error parsing YAML file: {e}\")"
   ]
  },
  {
   "cell_type": "code",
   "execution_count": 3,
   "metadata": {},
   "outputs": [
    {
     "data": {
      "text/plain": [
       "'/Users/codym/CAP/aisk_forked/ai-starter-kit/agent_workflows/config.yaml'"
      ]
     },
     "execution_count": 3,
     "metadata": {},
     "output_type": "execute_result"
    }
   ],
   "source": [
    "CONFIG_PATH"
   ]
  },
  {
   "cell_type": "code",
   "execution_count": 4,
   "metadata": {},
   "outputs": [],
   "source": [
    "configs = load_config(CONFIG_PATH)"
   ]
  },
  {
   "cell_type": "code",
   "execution_count": 5,
   "metadata": {},
   "outputs": [
    {
     "data": {
      "text/plain": [
       "'prompt_engineering/prompts/llama3_8b-prompt_engineering-subquery_router.yaml'"
      ]
     },
     "execution_count": 5,
     "metadata": {},
     "output_type": "execute_result"
    }
   ],
   "source": [
    "configs[\"prompts\"][\"router_prompt\"]"
   ]
  },
  {
   "cell_type": "code",
   "execution_count": 6,
   "metadata": {},
   "outputs": [
    {
     "name": "stderr",
     "output_type": "stream",
     "text": [
      "2024-07-10 15:11:05,899 [INFO] - Load pretrained SentenceTransformer: intfloat/e5-large-v2\n"
     ]
    },
    {
     "name": "stdout",
     "output_type": "stream",
     "text": [
      "load INSTRUCTOR_Transformer\n"
     ]
    },
    {
     "name": "stderr",
     "output_type": "stream",
     "text": [
      "2024-07-10 15:11:06,756 [INFO] - Use pytorch device: cpu\n"
     ]
    },
    {
     "name": "stdout",
     "output_type": "stream",
     "text": [
      "max_seq_length  512\n"
     ]
    }
   ],
   "source": [
    "documentRetrieval = DocumentRetrieval()\n",
    "*_, embedding_model_info, retrieval_info, _ = documentRetrieval.get_config_info()\n",
    "embeddings = documentRetrieval.load_embedding_model()"
   ]
  },
  {
   "cell_type": "code",
   "execution_count": 7,
   "metadata": {},
   "outputs": [
    {
     "name": "stderr",
     "output_type": "stream",
     "text": [
      "2024-07-10 15:11:06,770 [INFO] - Anonymized telemetry enabled. See                     https://docs.trychroma.com/telemetry for more information.\n"
     ]
    }
   ],
   "source": [
    "# chroma_client = chromadb.Client()\n",
    "# collection = chroma_client.get_collection(\"/data/uber_lyft.chromadb\")\n",
    "vectorstore = Chroma(\n",
    "    persist_directory=kit_dir + \"/data/uber_lyft.chromadb\",\n",
    "    embedding_function=embeddings,\n",
    ")"
   ]
  },
  {
   "cell_type": "code",
   "execution_count": 8,
   "metadata": {},
   "outputs": [],
   "source": [
    "# # count = vectorstore.count()\n",
    "# count = len(documents[\"metadatas\"])\n",
    "# batch_size = 10\n",
    "\n",
    "# for i in range(0, count, batch_size):\n",
    "#     batch = vectorstore.get(include=[\"metadatas\"], limit=batch_size, offset=i)\n",
    "\n",
    "#     updated_metadatas = []\n",
    "#     for metadata in batch[\"metadatas\"]:\n",
    "#         # print(metadata[\"filename\"])\n",
    "#         new_key = metadata[\"filename\"].split(\"_\")[0]\n",
    "#         print(new_key)\n",
    "#         metadata[\"filename\"] = new_key\n",
    "#         print(metadata[\"filename\"])\n",
    "#         updated_metadatas.append(metadata)\n",
    "\n",
    "#     # vectorstore.update_documents(ids=batch[\"ids\"], metadatas=updated_metadatas)"
   ]
  },
  {
   "cell_type": "code",
   "execution_count": 9,
   "metadata": {},
   "outputs": [
    {
     "ename": "AttributeError",
     "evalue": "'CodeRAG' object has no attribute 'init_aggregation_chain'",
     "output_type": "error",
     "traceback": [
      "\u001b[0;31m---------------------------------------------------------------------------\u001b[0m",
      "\u001b[0;31mAttributeError\u001b[0m                            Traceback (most recent call last)",
      "Cell \u001b[0;32mIn[9], line 10\u001b[0m\n\u001b[1;32m      2\u001b[0m rag \u001b[38;5;241m=\u001b[39m CodeRAG(\n\u001b[1;32m      3\u001b[0m     configs\u001b[38;5;241m=\u001b[39mCONFIG_PATH,\n\u001b[1;32m      4\u001b[0m     embeddings\u001b[38;5;241m=\u001b[39membeddings,\n\u001b[1;32m      5\u001b[0m     vectorstore\u001b[38;5;241m=\u001b[39mvectorstore,\n\u001b[1;32m      6\u001b[0m     examples\u001b[38;5;241m=\u001b[39mexamples,\n\u001b[1;32m      7\u001b[0m )\n\u001b[1;32m      9\u001b[0m \u001b[38;5;66;03m# Initialize chains\u001b[39;00m\n\u001b[0;32m---> 10\u001b[0m \u001b[43mrag\u001b[49m\u001b[38;5;241;43m.\u001b[39;49m\u001b[43minitialize\u001b[49m\u001b[43m(\u001b[49m\u001b[43m)\u001b[49m\n\u001b[1;32m     12\u001b[0m \u001b[38;5;66;03m# Build nodes\u001b[39;00m\n\u001b[1;32m     13\u001b[0m workflow \u001b[38;5;241m=\u001b[39m rag\u001b[38;5;241m.\u001b[39mcreate_rag_nodes()\n",
      "File \u001b[0;32m~/CAP/aisk_forked/ai-starter-kit/utils/agents/static_RAG_with_coding.py:166\u001b[0m, in \u001b[0;36mCodeRAG.initialize\u001b[0;34m(self)\u001b[0m\n\u001b[1;32m    164\u001b[0m \u001b[38;5;28mself\u001b[39m\u001b[38;5;241m.\u001b[39minit_refactor_chain()\n\u001b[1;32m    165\u001b[0m \u001b[38;5;28mself\u001b[39m\u001b[38;5;241m.\u001b[39minit_failure_chain()\n\u001b[0;32m--> 166\u001b[0m \u001b[38;5;28;43mself\u001b[39;49m\u001b[38;5;241;43m.\u001b[39;49m\u001b[43minit_aggregation_chain\u001b[49m()\n\u001b[1;32m    167\u001b[0m \u001b[38;5;28mself\u001b[39m\u001b[38;5;241m.\u001b[39minit_final_generation()\n",
      "\u001b[0;31mAttributeError\u001b[0m: 'CodeRAG' object has no attribute 'init_aggregation_chain'"
     ]
    }
   ],
   "source": [
    "# instantiate rag\n",
    "rag = CodeRAG(\n",
    "    configs=CONFIG_PATH,\n",
    "    embeddings=embeddings,\n",
    "    vectorstore=vectorstore,\n",
    "    examples=examples,\n",
    ")\n",
    "\n",
    "# Initialize chains\n",
    "rag.initialize()\n",
    "\n",
    "# Build nodes\n",
    "workflow = rag.create_rag_nodes()\n",
    "print(workflow)\n",
    "\n",
    "# Build graph\n",
    "app = rag.build_rag_graph(workflow)"
   ]
  },
  {
   "cell_type": "code",
   "execution_count": null,
   "metadata": {},
   "outputs": [],
   "source": [
    "rag.display_graph(app)"
   ]
  },
  {
   "cell_type": "code",
   "execution_count": null,
   "metadata": {},
   "outputs": [],
   "source": [
    "def log_answers(question, output_file):\n",
    "    try:\n",
    "        response = rag.call_rag(app, question)\n",
    "    except:\n",
    "        response = {}\n",
    "        response[\"answer\"] = \"Failed\"\n",
    "\n",
    "    display(Markdown(\"---Response---\"))\n",
    "    display(Markdown(response[\"answer\"]))\n",
    "\n",
    "    if not os.path.exists(kit_dir + \"/outputs\"):\n",
    "        os.makedirs(kit_dir + \"/outputs\")\n",
    "    output_dir = kit_dir + \"/outputs\"\n",
    "\n",
    "    with jsonlines.open(output_dir + f\"/{output_file}\", \"a\") as writer:\n",
    "        writer.write({\"question\": question, \"response\": response[\"answer\"]})"
   ]
  },
  {
   "cell_type": "code",
   "execution_count": null,
   "metadata": {},
   "outputs": [],
   "source": [
    "questions = []"
   ]
  },
  {
   "cell_type": "code",
   "execution_count": null,
   "metadata": {},
   "outputs": [],
   "source": []
  },
  {
   "cell_type": "code",
   "execution_count": null,
   "metadata": {},
   "outputs": [],
   "source": []
  }
 ],
 "metadata": {
  "kernelspec": {
   "display_name": "lgenv",
   "language": "python",
   "name": "python3"
  },
  "language_info": {
   "codemirror_mode": {
    "name": "ipython",
    "version": 3
   },
   "file_extension": ".py",
   "mimetype": "text/x-python",
   "name": "python",
   "nbconvert_exporter": "python",
   "pygments_lexer": "ipython3",
   "version": "3.11.6"
  }
 },
 "nbformat": 4,
 "nbformat_minor": 2
}
