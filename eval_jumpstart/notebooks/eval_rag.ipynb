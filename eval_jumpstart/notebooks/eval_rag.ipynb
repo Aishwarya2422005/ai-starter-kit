{
 "cells": [
  {
   "cell_type": "code",
   "execution_count": null,
   "metadata": {},
   "outputs": [],
   "source": [
    "import os\n",
    "import sys\n",
    "\n",
    "current_dir = os.getcwd()\n",
    "kit_dir = os.path.abspath(os.path.join(current_dir, \"..\"))\n",
    "repo_dir = os.path.abspath(os.path.join(kit_dir, \"..\"))\n",
    "\n",
    "sys.path.append(kit_dir)\n",
    "sys.path.append(repo_dir)\n",
    "\n",
    "print(f\"This is the repo dir {repo_dir}\")"
   ]
  },
  {
   "cell_type": "code",
   "execution_count": null,
   "metadata": {},
   "outputs": [],
   "source": [
    "import pandas as pd\n",
    "from utils.eval.rag_eval import (\n",
    "    RAGEvaluator,\n",
    "    RAGEvalConfig,\n",
    "    load_pipeline,\n",
    "    load_eval_dataframe,\n",
    ")\n",
    "from langchain_community.llms.sambanova import SambaStudio, Sambaverse\n",
    "from langchain_community.embeddings import HuggingFaceInstructEmbeddings"
   ]
  },
  {
   "cell_type": "code",
   "execution_count": null,
   "metadata": {},
   "outputs": [],
   "source": [
    "# Load config\n",
    "config_path = \"../../utils/eval/config.yaml\"\n",
    "config = RAGEvalConfig(config_yaml_path=config_path)"
   ]
  },
  {
   "cell_type": "code",
   "execution_count": null,
   "metadata": {},
   "outputs": [],
   "source": [
    "# Create evaluator\n",
    "eval_llms = []\n",
    "for conf in config.eval_llm_configs:\n",
    "    print(\"conf:\", conf)\n",
    "    llm_name, llm_config = config.get_llm_config(conf)\n",
    "    print(\"llm_name:\", llm_name)\n",
    "    print(\"llm_config:\", llm_config)\n",
    "    eval_llm = SambaStudio(**llm_config)\n",
    "    eval_llms.append((llm_name, eval_llm))\n",
    "\n",
    "print(\"eval_llms:\", eval_llms)\n",
    "\n",
    "eval_embeddings = HuggingFaceInstructEmbeddings(model_name=config.embedding_model_name)\n",
    "evaluator = RAGEvaluator(eval_llms, eval_embeddings, config_path)"
   ]
  },
  {
   "cell_type": "code",
   "execution_count": null,
   "metadata": {},
   "outputs": [],
   "source": [
    "# Use Case 1: CSV file with pre-generated answers, no context\n",
    "eval_df = pd.read_csv(\"../data/tepsys_eng_tran.csv\")\n",
    "results1 = evaluator.evaluate(eval_df)\n",
    "print(\"Results 1:\", results1)"
   ]
  },
  {
   "cell_type": "code",
   "execution_count": null,
   "metadata": {},
   "outputs": [],
   "source": [
    "# Use Case 2: CSV file with pre-generated answers and context, add context_col to eval_dataset yaml section\n",
    "# Re- Load config after changes\n",
    "config_path = \"../../utils/eval/config.yaml\"\n",
    "config = RAGEvalConfig(config_yaml_path=config_path)\n",
    "\n",
    "# Create evaluator\n",
    "eval_llms = []\n",
    "for conf in config.eval_llm_configs:\n",
    "    print(\"conf:\", conf)\n",
    "    llm_name, llm_config = config.get_llm_config(conf)\n",
    "    print(\"llm_name:\", llm_name)\n",
    "    print(\"llm_config:\", llm_config)\n",
    "    eval_llm = SambaStudio(**llm_config)\n",
    "    eval_llms.append((llm_name, eval_llm))\n",
    "\n",
    "print(\"eval_llms:\", eval_llms)\n",
    "\n",
    "eval_embeddings = HuggingFaceInstructEmbeddings(model_name=config.embedding_model_name)\n",
    "evaluator = RAGEvaluator(eval_llms, eval_embeddings, config_path)\n",
    "\n",
    "\n",
    "results2 = evaluator.evaluate(eval_df)\n",
    "print(\"Results 2:\", results2)"
   ]
  },
  {
   "cell_type": "code",
   "execution_count": null,
   "metadata": {},
   "outputs": [],
   "source": [
    "# Use Case 3: CSV file without answers, generate with pipelines, no context\n",
    "# Re- Load config after changes\n",
    "config_path = \"../../utils/eval/config.yaml\"\n",
    "config = RAGEvalConfig(config_yaml_path=config_path)\n",
    "\n",
    "# Create evaluator\n",
    "eval_llms = []\n",
    "for conf in config.eval_llm_configs:\n",
    "    print(\"conf:\", conf)\n",
    "    llm_name, llm_config = config.get_llm_config(conf)\n",
    "    print(\"llm_name:\", llm_name)\n",
    "    print(\"llm_config:\", llm_config)\n",
    "    eval_llm = SambaStudio(**llm_config)\n",
    "    eval_llms.append((llm_name, eval_llm))\n",
    "\n",
    "print(\"eval_llms:\", eval_llms)\n",
    "\n",
    "eval_embeddings = HuggingFaceInstructEmbeddings(model_name=config.embedding_model_name)\n",
    "evaluator = RAGEvaluator(eval_llms, eval_embeddings, config_path)\n",
    "\n",
    "eval_df = pd.read_csv(\"../data/res.csv\")\n",
    "pipelines = [\n",
    "    load_pipeline((llm_name, SambaStudio(**llm_config)), config)\n",
    "    for llm_name, llm_config in [config.get_llm_config(conf) for conf in config.llm_configs]\n",
    "]\n",
    "results3 = evaluator.evaluate(eval_df, pipelines)\n",
    "print(\"Results 3:\", results3)"
   ]
  },
  {
   "cell_type": "code",
   "execution_count": null,
   "metadata": {},
   "outputs": [],
   "source": [
    "# Use Case 4: CSV file without answers, generate with pipelines, with context from vector DB\n",
    "# Re- Load config after changes\n",
    "config_path = \"../../utils/eval/config.yaml\"\n",
    "config = RAGEvalConfig(config_yaml_path=config_path)\n",
    "\n",
    "# Create evaluator\n",
    "eval_llms = []\n",
    "for conf in config.eval_llm_configs:\n",
    "    llm_name, llm_config = config.get_llm_config(conf)\n",
    "    eval_llm = SambaStudio(**llm_config)\n",
    "    eval_llms.append((llm_name, eval_llm))\n",
    "\n",
    "\n",
    "eval_embeddings = HuggingFaceInstructEmbeddings(model_name=config.embedding_model_name)\n",
    "evaluator = RAGEvaluator(eval_llms, eval_embeddings, config_path)\n",
    "\n",
    "eval_df = pd.read_csv(\"../data/res.csv\")\n",
    "pipelines = [\n",
    "    load_pipeline((llm_name, SambaStudio(**llm_config)), config)\n",
    "    for llm_name, llm_config in [config.get_llm_config(conf) for conf in config.llm_configs]\n",
    "]\n",
    "results4 = evaluator.evaluate(eval_df, pipelines)\n",
    "print(\"Results 4:\", results4)"
   ]
  },
  {
   "cell_type": "code",
   "execution_count": null,
   "metadata": {},
   "outputs": [],
   "source": [
    "# Use Case 5: Evaluate on HF dataset\n",
    "config.config[\"eval_dataset\"][\"hf_dataset_name\"] = \"squad_v2\"\n",
    "eval_df = load_eval_dataframe(config)\n",
    "pipelines = [\n",
    "    load_pipeline(\n",
    "        SambaStudio(\n",
    "            sambastudio_base_url=conf[\"base_url\"],\n",
    "            sambastudio_project_id=conf[\"project_id\"],\n",
    "            sambastudio_endpoint_id=conf[\"endpoint_id\"],\n",
    "            sambastudio_api_key=conf[\"api_key\"],\n",
    "            **conf[\"model_kwargs\"]\n",
    "        ),\n",
    "        config,\n",
    "    )\n",
    "    for conf in config.llm_configs\n",
    "]\n",
    "results5 = evaluator.evaluate(eval_df, pipelines)\n",
    "print(\"Results 5:\", results5)"
   ]
  }
 ],
 "metadata": {
  "kernelspec": {
   "display_name": "adi-rag-eval",
   "language": "python",
   "name": "python3"
  },
  "language_info": {
   "codemirror_mode": {
    "name": "ipython",
    "version": 3
   },
   "file_extension": ".py",
   "mimetype": "text/x-python",
   "name": "python",
   "nbconvert_exporter": "python",
   "pygments_lexer": "ipython3",
   "version": "3.11.3"
  }
 },
 "nbformat": 4,
 "nbformat_minor": 2
}
