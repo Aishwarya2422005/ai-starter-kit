{
 "cells": [
  {
   "cell_type": "code",
   "execution_count": 1,
   "metadata": {},
   "outputs": [
    {
     "name": "stdout",
     "output_type": "stream",
     "text": [
      "This is the repo dir /Users/kwasia/Documents/Projects/ai-starter-kit\n"
     ]
    }
   ],
   "source": [
    "import os\n",
    "import sys\n",
    "\n",
    "current_dir = os.getcwd()\n",
    "kit_dir = os.path.abspath(os.path.join(current_dir, \"..\"))\n",
    "repo_dir = os.path.abspath(os.path.join(kit_dir, \"..\"))\n",
    "\n",
    "sys.path.append(kit_dir)\n",
    "sys.path.append(repo_dir)\n",
    "\n",
    "print(f\"This is the repo dir {repo_dir}\")"
   ]
  },
  {
   "cell_type": "code",
   "execution_count": 2,
   "metadata": {},
   "outputs": [
    {
     "name": "stderr",
     "output_type": "stream",
     "text": [
      "/Users/kwasia/.pyenv/versions/3.11.3/envs/adi-rag-eval/lib/python3.11/site-packages/tqdm/auto.py:21: TqdmWarning: IProgress not found. Please update jupyter and ipywidgets. See https://ipywidgets.readthedocs.io/en/stable/user_install.html\n",
      "  from .autonotebook import tqdm as notebook_tqdm\n"
     ]
    }
   ],
   "source": [
    "import pandas as pd\n",
    "from utils.eval.rag_eval import (\n",
    "    RAGEvaluator,\n",
    "    RAGEvalConfig,\n",
    "    load_pipeline,\n",
    "    load_eval_dataframe,\n",
    ")\n",
    "from langchain_community.llms.sambanova import SambaStudio, Sambaverse\n",
    "from langchain_community.embeddings import HuggingFaceInstructEmbeddings"
   ]
  },
  {
   "cell_type": "code",
   "execution_count": null,
   "metadata": {},
   "outputs": [],
   "source": [
    "# Load config\n",
    "config_path = \"../../utils/eval/config.yaml\"\n",
    "config = RAGEvalConfig(config_yaml_path=config_path)"
   ]
  },
  {
   "cell_type": "code",
   "execution_count": null,
   "metadata": {},
   "outputs": [],
   "source": [
    "# Create evaluator\n",
    "eval_llms = []\n",
    "for conf in config.eval_llm_configs:\n",
    "    print(\"conf:\", conf)\n",
    "    llm_name, llm_config = config.get_llm_config(conf)\n",
    "    print(\"llm_name:\", llm_name)\n",
    "    print(\"llm_config:\", llm_config)\n",
    "    eval_llm = SambaStudio(**llm_config)\n",
    "    eval_llms.append((llm_name, eval_llm))\n",
    "\n",
    "print(\"eval_llms:\", eval_llms)\n",
    "\n",
    "eval_embeddings = HuggingFaceInstructEmbeddings(model_name=config.embedding_model_name)\n",
    "evaluator = RAGEvaluator(eval_llms, eval_embeddings, config_path)"
   ]
  },
  {
   "cell_type": "code",
   "execution_count": null,
   "metadata": {},
   "outputs": [],
   "source": [
    "# Use Case 1: CSV file with pre-generated answers, no context\n",
    "eval_df = pd.read_csv(\"../data/res.csv\")\n",
    "results1 = evaluator.evaluate(eval_df)\n",
    "print(\"Results 1:\", results1)"
   ]
  },
  {
   "cell_type": "code",
   "execution_count": null,
   "metadata": {},
   "outputs": [],
   "source": [
    "# Use Case 2: CSV file with pre-generated answers and context, add context_col to eval_dataset yaml section\n",
    "# Re- Load config after changes\n",
    "config_path = \"../../utils/eval/config.yaml\"\n",
    "config = RAGEvalConfig(config_yaml_path=config_path)\n",
    "\n",
    "# Create evaluator\n",
    "eval_llms = []\n",
    "for conf in config.eval_llm_configs:\n",
    "    print(\"conf:\", conf)\n",
    "    llm_name, llm_config = config.get_llm_config(conf)\n",
    "    print(\"llm_name:\", llm_name)\n",
    "    print(\"llm_config:\", llm_config)\n",
    "    eval_llm = SambaStudio(**llm_config)\n",
    "    eval_llms.append((llm_name, eval_llm))\n",
    "\n",
    "print(\"eval_llms:\", eval_llms)\n",
    "\n",
    "eval_embeddings = HuggingFaceInstructEmbeddings(model_name=config.embedding_model_name)\n",
    "evaluator = RAGEvaluator(eval_llms, eval_embeddings, config_path)\n",
    "\n",
    "\n",
    "results2 = evaluator.evaluate(eval_df)\n",
    "print(\"Results 2:\", results2)"
   ]
  },
  {
   "cell_type": "code",
   "execution_count": null,
   "metadata": {},
   "outputs": [],
   "source": [
    "# Use Case 3: CSV file without answers, generate with pipelines, no context\n",
    "# Re- Load config after changes\n",
    "config_path = \"../../utils/eval/config.yaml\"\n",
    "config = RAGEvalConfig(config_yaml_path=config_path)\n",
    "\n",
    "# Create evaluator\n",
    "eval_llms = []\n",
    "for conf in config.eval_llm_configs:\n",
    "    print(\"conf:\", conf)\n",
    "    llm_name, llm_config = config.get_llm_config(conf)\n",
    "    print(\"llm_name:\", llm_name)\n",
    "    print(\"llm_config:\", llm_config)\n",
    "    eval_llm = SambaStudio(**llm_config)\n",
    "    eval_llms.append((llm_name, eval_llm))\n",
    "\n",
    "print(\"eval_llms:\", eval_llms)\n",
    "\n",
    "eval_embeddings = HuggingFaceInstructEmbeddings(model_name=config.embedding_model_name)\n",
    "evaluator = RAGEvaluator(eval_llms, eval_embeddings, config_path)\n",
    "\n",
    "eval_df = pd.read_csv(\"../data/res.csv\")\n",
    "pipelines = [\n",
    "    load_pipeline((llm_name, SambaStudio(**llm_config)), config)\n",
    "    for llm_name, llm_config in [config.get_llm_config(conf) for conf in config.llm_configs]\n",
    "]\n",
    "results3 = evaluator.evaluate(eval_df, pipelines)\n",
    "print(\"Results 3:\", results3)"
   ]
  },
  {
   "cell_type": "code",
   "execution_count": 3,
   "metadata": {},
   "outputs": [
    {
     "name": "stderr",
     "output_type": "stream",
     "text": [
      "/Users/kwasia/.pyenv/versions/3.11.3/envs/adi-rag-eval/lib/python3.11/site-packages/transformers/utils/generic.py:441: UserWarning: torch.utils._pytree._register_pytree_node is deprecated. Please use torch.utils._pytree.register_pytree_node instead.\n",
      "  _torch_pytree._register_pytree_node(\n"
     ]
    },
    {
     "name": "stdout",
     "output_type": "stream",
     "text": [
      "load INSTRUCTOR_Transformer\n"
     ]
    },
    {
     "name": "stderr",
     "output_type": "stream",
     "text": [
      "/Users/kwasia/.pyenv/versions/3.11.3/envs/adi-rag-eval/lib/python3.11/site-packages/transformers/utils/generic.py:309: UserWarning: torch.utils._pytree._register_pytree_node is deprecated. Please use torch.utils._pytree.register_pytree_node instead.\n",
      "  _torch_pytree._register_pytree_node(\n"
     ]
    },
    {
     "name": "stdout",
     "output_type": "stream",
     "text": [
      "max_seq_length  512\n",
      "This is llm instance \u001b[1mSambaStudio\u001b[0m\n",
      "Params: {'model_kwargs': {'select_expert': 'Meta-Llama-3-70B-Instruct', 'process_prompt': False, 'max_tokens_to_generate': 512}}\n",
      "load INSTRUCTOR_Transformer\n",
      "max_seq_length  512\n",
      "This is the vector db ../data/adi_vdb_v3_md_200.chromadb\n",
      "<example_rag_pipeline.RAGPipeline object at 0x155735510>\n",
      "This is the vector db ../data/adi_vdb_v3_md_200.chromadb\n",
      "This is llm instance \u001b[1mSambaStudio\u001b[0m\n",
      "Params: {'model_kwargs': {'select_expert': 'Meta-Llama-3-8B-Instruct', 'process_prompt': False, 'max_tokens_to_generate': 512}}\n",
      "load INSTRUCTOR_Transformer\n",
      "max_seq_length  512\n",
      "This is the vector db ../data/adi_vdb_v3_md_200.chromadb\n",
      "<example_rag_pipeline.RAGPipeline object at 0x2b7a35910>\n",
      "This is the vector db ../data/adi_vdb_v3_md_200.chromadb\n",
      "[Document(page_content='adp1046\\n\\nTable 128. Register 0x82-STORE_USER_ALL\\n| Bits | Bit Name | Type | Description |\\n| :--- | :--- | :--- | :--- |\\n| N/A | STORE_USER_ALL | Send <br> byte | Copy the entire contents of operating memory (registers) into EEPROM (Page 1 of the main <br> block). The EEPROM must first be unlocked. |', metadata={'device_name': 'adp1046', 'sections': 'eeprom registers'}), Document(page_content='max15301\\n OF <br> DATA <br> BYTES | MIN | MAX | DEFAULT VALUE | UNITS |\\n| :---: | :--- | :---: | :---: | :---: | :---: | :---: | :---: |\\n| 0xD0 | ADAPTIVE_MODE | Write Byte | 2 | - | - | $0 \\\\times 024 B$ | - |\\n| 0xD3 | FEEDBACK_EFFORT | R/W Word | 2 | - | - | 0.5 | - |\\n| 0xD5 | LOOP_CONFIG | R/W Word | 2 | - | - | $0 \\\\times 0100$ | - |\\n| 0xDB | COMP_MODEL | R/W Block | 6 | - | - | $0.03167,0.5,0.5$ | - |\\n| 0xE0 | MANUF_CONF | R/W Block | 32 | - | - | 0 | - |\\n| 0xE1 | MANUF_LOCK | R/W Byte | 2 | - | - | 0 | - |\\n| 0xE2 | MANUF_PASSWD | R/W Word | 2 | - | - | - | - |\\n| 0xE3 | USER_CONF | R/W Block | 32 | - | - | 0 | - |\\n| 0xE4 | USER_LOCK | R/W Byte | 2 | - | - | 0 | - |\\n| 0xE5 | USER_PASSWD | R/W Word | 2 | - | - | 0 | - |\\n| 0xE6 | SECURITY_LEVEL | Read Byte | 1 | - | - | 0 | - |\\n| 0xE7 | DEADTIME_GCTRL | R/W Block | 19 | - | - | - | - |\\n| 0xE8 | ZETAP | R/W Word | 2 | - | - | 1.5 | - |\\n| 0xEA | RESTORE_MAXIM_ALL | R/W Byte | 0 | - | - | - | - |\\n| 0xF8 | EXT_TEMP_CAL | R/W Block | 4 | - | - | $1.004363,0$ | - |\\n', metadata={'device_name': 'max15301', 'sections': 'of <br> data <br> bytes | min | max | default value | units |'}), Document(page_content='adp1055\\n\\nTable 19. Register 0x15-STORE_USER_ALL\\n| Bits | Bit Name | Type | Description |\\n| :--- | :--- | :--- | :--- |\\n| N/A | STORE_USER_ALL | Send | This command copies the entire contents of operating memory into the EEPROM (Page 1 of <br> the main block) as the user settings. |\\n', metadata={'device_name': 'adp1055', 'sections': 'write_protect'}), Document(page_content='adp1046a\\n\\nTable 120. Register 0x82-STORE_USER_ALL\\n| Bits | Bit Name | Type | Description |\\n| :--- | :--- | :--- | :--- |\\n| N/A | STORE_USER_ALL | Send <br> byte | Copy the entire contents of operating memory (registers) into EEPROM (Page 1 of the main <br> block). The EEPROM must first be unlocked. |', metadata={'device_name': 'adp1046a', 'sections': 'eeprom registers'})]\n",
      "[Document(page_content='adp1046\\n\\nTable 128. Register 0x82-STORE_USER_ALL\\n| Bits | Bit Name | Type | Description |\\n| :--- | :--- | :--- | :--- |\\n| N/A | STORE_USER_ALL | Send <br> byte | Copy the entire contents of operating memory (registers) into EEPROM (Page 1 of the main <br> block). The EEPROM must first be unlocked. |', metadata={'device_name': 'adp1046', 'sections': 'eeprom registers'}), Document(page_content='max15301\\n OF <br> DATA <br> BYTES | MIN | MAX | DEFAULT VALUE | UNITS |\\n| :---: | :--- | :---: | :---: | :---: | :---: | :---: | :---: |\\n| 0xD0 | ADAPTIVE_MODE | Write Byte | 2 | - | - | $0 \\\\times 024 B$ | - |\\n| 0xD3 | FEEDBACK_EFFORT | R/W Word | 2 | - | - | 0.5 | - |\\n| 0xD5 | LOOP_CONFIG | R/W Word | 2 | - | - | $0 \\\\times 0100$ | - |\\n| 0xDB | COMP_MODEL | R/W Block | 6 | - | - | $0.03167,0.5,0.5$ | - |\\n| 0xE0 | MANUF_CONF | R/W Block | 32 | - | - | 0 | - |\\n| 0xE1 | MANUF_LOCK | R/W Byte | 2 | - | - | 0 | - |\\n| 0xE2 | MANUF_PASSWD | R/W Word | 2 | - | - | - | - |\\n| 0xE3 | USER_CONF | R/W Block | 32 | - | - | 0 | - |\\n| 0xE4 | USER_LOCK | R/W Byte | 2 | - | - | 0 | - |\\n| 0xE5 | USER_PASSWD | R/W Word | 2 | - | - | 0 | - |\\n| 0xE6 | SECURITY_LEVEL | Read Byte | 1 | - | - | 0 | - |\\n| 0xE7 | DEADTIME_GCTRL | R/W Block | 19 | - | - | - | - |\\n| 0xE8 | ZETAP | R/W Word | 2 | - | - | 1.5 | - |\\n| 0xEA | RESTORE_MAXIM_ALL | R/W Byte | 0 | - | - | - | - |\\n| 0xF8 | EXT_TEMP_CAL | R/W Block | 4 | - | - | $1.004363,0$ | - |\\n', metadata={'device_name': 'max15301', 'sections': 'of <br> data <br> bytes | min | max | default value | units |'}), Document(page_content='adp1055\\n\\nTable 19. Register 0x15-STORE_USER_ALL\\n| Bits | Bit Name | Type | Description |\\n| :--- | :--- | :--- | :--- |\\n| N/A | STORE_USER_ALL | Send | This command copies the entire contents of operating memory into the EEPROM (Page 1 of <br> the main block) as the user settings. |\\n', metadata={'device_name': 'adp1055', 'sections': 'write_protect'}), Document(page_content='adp1046a\\n\\nTable 120. Register 0x82-STORE_USER_ALL\\n| Bits | Bit Name | Type | Description |\\n| :--- | :--- | :--- | :--- |\\n| N/A | STORE_USER_ALL | Send <br> byte | Copy the entire contents of operating memory (registers) into EEPROM (Page 1 of the main <br> block). The EEPROM must first be unlocked. |', metadata={'device_name': 'adp1046a', 'sections': 'eeprom registers'})]\n",
      "   Unnamed: 0                                        question  \\\n",
      "0           0  What is the maximum efficiency of the ADP2107?   \n",
      "\n",
      "                                            contexts  \\\n",
      "0  ['adp2107\\n FEATURES\\nExtremely high $97 \\\\%$ ...   \n",
      "\n",
      "                                              answer ground_truth  \\\n",
      "0  1. First, let's find the specifications for th...          97%   \n",
      "\n",
      "   context_precision  context_recall  faithfulness  answer_relevancy  \\\n",
      "0                1.0             1.0           1.0          0.932208   \n",
      "\n",
      "   answer_correctness  answer_similarity  context_relevancy  \\\n",
      "0                 NaN           0.733863           0.307692   \n",
      "\n",
      "                                 answer_LLAMA70B_GEN  \\\n",
      "0  \\n\\nI'm happy to help! However, I must point o...   \n",
      "\n",
      "                                context_LLAMA70B_GEN  \\\n",
      "0  Context 1:\\nadp1046\\n\\nTable 128. Register 0x8...   \n",
      "\n",
      "                                  answer_LLAMA8B_GEN  \\\n",
      "0  \\n        I'm happy to help you with your ques...   \n",
      "\n",
      "                                 context_LLAMA8B_GEN  \n",
      "0  Context 1:\\nadp1046\\n\\nTable 128. Register 0x8...  \n",
      "[{'question': 'What is the maximum efficiency of the ADP2107?', 'answer': \"\\n\\nI'm happy to help! However, I must point out that the provided context does not mention the ADP2107, and the tables provided are for ADP1046, MAX15301, ADP1055, and ADP1046A. There is no information about the ADP2107 or its efficiency.\\n\\nIf you meant to ask about one of the devices mentioned in the context, please let me know, and I'll do my best to assist you.assistant\\n\\nI'm happy to help! However, I must point out that the provided context does not mention the ADP2107, and the tables provided are for ADP1046, MAX15301, ADP1055, and ADP1046A. There is no information about the ADP2107 or its efficiency.\\n\\nIf you meant to ask about one of the devices mentioned in the context, please let me know, and I'll do my best to assist you.assistant\\n\\nI'm happy to help! However, I must point out that the provided context does not mention the ADP2107, and the tables provided are for ADP1046, MAX15301, ADP1055, and ADP1046A. There is no information about the ADP2107 or its efficiency.\\n\\nIf you meant to ask about one of the devices mentioned in the context, please let me know, and I'll do my best to assist you.assistant\\n\\nI'm happy to help! However, I must point out that the provided context does not mention the ADP2107, and the tables provided are for ADP1046, MAX15301, ADP1055, and ADP1046A. There is no information about the ADP2107 or its efficiency.\\n\\nIf you meant to ask about one of the devices mentioned in the context, please let me know, and I'll do my best to assist you.assistant\\n\\nI'm happy to help! However, I must point out that the provided context does not mention the ADP2107, and the tables provided are for ADP1046, MAX15301, ADP1055, and ADP1046A. There is no information about the ADP2107 or its efficiency.\\n\\nIf you meant to ask about one of the devices mentioned in the context, please let me know, and I'll do my best to assist you.assistant\\n\\nI'm happy to help!\", 'ground_truth': '97%', 'contexts': ['Context 1:\\nadp1046\\n\\nTable 128. Register 0x82-STORE_USER_ALL\\n| Bits | Bit Name | Type | Description |\\n| :--- | :--- | :--- | :--- |\\n| N/A | STORE_USER_ALL | Send <br> byte | Copy the entire contents of operating memory (registers) into EEPROM (Page 1 of the main <br> block). The EEPROM must first be unlocked. |\\n\\n=====\\n\\nContext 2:\\nmax15301\\n OF <br> DATA <br> BYTES | MIN | MAX | DEFAULT VALUE | UNITS |\\n| :---: | :--- | :---: | :---: | :---: | :---: | :---: | :---: |\\n| 0xD0 | ADAPTIVE_MODE | Write Byte | 2 | - | - | $0 \\\\times 024 B$ | - |\\n| 0xD3 | FEEDBACK_EFFORT | R/W Word | 2 | - | - | 0.5 | - |\\n| 0xD5 | LOOP_CONFIG | R/W Word | 2 | - | - | $0 \\\\times 0100$ | - |\\n| 0xDB | COMP_MODEL | R/W Block | 6 | - | - | $0.03167,0.5,0.5$ | - |\\n| 0xE0 | MANUF_CONF | R/W Block | 32 | - | - | 0 | - |\\n| 0xE1 | MANUF_LOCK | R/W Byte | 2 | - | - | 0 | - |\\n| 0xE2 | MANUF_PASSWD | R/W Word | 2 | - | - | - | - |\\n| 0xE3 | USER_CONF | R/W Block | 32 | - | - | 0 | - |\\n| 0xE4 | USER_LOCK | R/W Byte | 2 | - | - | 0 | - |\\n| 0xE5 | USER_PASSWD | R/W Word | 2 | - | - | 0 | - |\\n| 0xE6 | SECURITY_LEVEL | Read Byte | 1 | - | - | 0 | - |\\n| 0xE7 | DEADTIME_GCTRL | R/W Block | 19 | - | - | - | - |\\n| 0xE8 | ZETAP | R/W Word | 2 | - | - | 1.5 | - |\\n| 0xEA | RESTORE_MAXIM_ALL | R/W Byte | 0 | - | - | - | - |\\n| 0xF8 | EXT_TEMP_CAL | R/W Block | 4 | - | - | $1.004363,0$ | - |\\n\\n\\n=====\\n\\nContext 3:\\nadp1055\\n\\nTable 19. Register 0x15-STORE_USER_ALL\\n| Bits | Bit Name | Type | Description |\\n| :--- | :--- | :--- | :--- |\\n| N/A | STORE_USER_ALL | Send | This command copies the entire contents of operating memory into the EEPROM (Page 1 of <br> the main block) as the user settings. |\\n\\n\\n=====\\n\\nContext 4:\\nadp1046a\\n\\nTable 120. Register 0x82-STORE_USER_ALL\\n| Bits | Bit Name | Type | Description |\\n| :--- | :--- | :--- | :--- |\\n| N/A | STORE_USER_ALL | Send <br> byte | Copy the entire contents of operating memory (registers) into EEPROM (Page 1 of the main <br> block). The EEPROM must first be unlocked. |']}]\n"
     ]
    },
    {
     "name": "stderr",
     "output_type": "stream",
     "text": [
      "Evaluating: 100%|██████████| 3/3 [00:11<00:00,  3.80s/it]\n"
     ]
    },
    {
     "name": "stdout",
     "output_type": "stream",
     "text": [
      "[{'question': 'What is the maximum efficiency of the ADP2107?', 'answer': \"\\n\\nI'm happy to help! However, I must point out that the provided context does not mention the ADP2107, and the tables provided are for ADP1046, MAX15301, ADP1055, and ADP1046A. There is no information about the ADP2107 or its efficiency.\\n\\nIf you meant to ask about one of the devices mentioned in the context, please let me know, and I'll do my best to assist you.assistant\\n\\nI'm happy to help! However, I must point out that the provided context does not mention the ADP2107, and the tables provided are for ADP1046, MAX15301, ADP1055, and ADP1046A. There is no information about the ADP2107 or its efficiency.\\n\\nIf you meant to ask about one of the devices mentioned in the context, please let me know, and I'll do my best to assist you.assistant\\n\\nI'm happy to help! However, I must point out that the provided context does not mention the ADP2107, and the tables provided are for ADP1046, MAX15301, ADP1055, and ADP1046A. There is no information about the ADP2107 or its efficiency.\\n\\nIf you meant to ask about one of the devices mentioned in the context, please let me know, and I'll do my best to assist you.assistant\\n\\nI'm happy to help! However, I must point out that the provided context does not mention the ADP2107, and the tables provided are for ADP1046, MAX15301, ADP1055, and ADP1046A. There is no information about the ADP2107 or its efficiency.\\n\\nIf you meant to ask about one of the devices mentioned in the context, please let me know, and I'll do my best to assist you.assistant\\n\\nI'm happy to help! However, I must point out that the provided context does not mention the ADP2107, and the tables provided are for ADP1046, MAX15301, ADP1055, and ADP1046A. There is no information about the ADP2107 or its efficiency.\\n\\nIf you meant to ask about one of the devices mentioned in the context, please let me know, and I'll do my best to assist you.assistant\\n\\nI'm happy to help!\", 'ground_truth': '97%', 'contexts': ['Context 1:\\nadp1046\\n\\nTable 128. Register 0x82-STORE_USER_ALL\\n| Bits | Bit Name | Type | Description |\\n| :--- | :--- | :--- | :--- |\\n| N/A | STORE_USER_ALL | Send <br> byte | Copy the entire contents of operating memory (registers) into EEPROM (Page 1 of the main <br> block). The EEPROM must first be unlocked. |\\n\\n=====\\n\\nContext 2:\\nmax15301\\n OF <br> DATA <br> BYTES | MIN | MAX | DEFAULT VALUE | UNITS |\\n| :---: | :--- | :---: | :---: | :---: | :---: | :---: | :---: |\\n| 0xD0 | ADAPTIVE_MODE | Write Byte | 2 | - | - | $0 \\\\times 024 B$ | - |\\n| 0xD3 | FEEDBACK_EFFORT | R/W Word | 2 | - | - | 0.5 | - |\\n| 0xD5 | LOOP_CONFIG | R/W Word | 2 | - | - | $0 \\\\times 0100$ | - |\\n| 0xDB | COMP_MODEL | R/W Block | 6 | - | - | $0.03167,0.5,0.5$ | - |\\n| 0xE0 | MANUF_CONF | R/W Block | 32 | - | - | 0 | - |\\n| 0xE1 | MANUF_LOCK | R/W Byte | 2 | - | - | 0 | - |\\n| 0xE2 | MANUF_PASSWD | R/W Word | 2 | - | - | - | - |\\n| 0xE3 | USER_CONF | R/W Block | 32 | - | - | 0 | - |\\n| 0xE4 | USER_LOCK | R/W Byte | 2 | - | - | 0 | - |\\n| 0xE5 | USER_PASSWD | R/W Word | 2 | - | - | 0 | - |\\n| 0xE6 | SECURITY_LEVEL | Read Byte | 1 | - | - | 0 | - |\\n| 0xE7 | DEADTIME_GCTRL | R/W Block | 19 | - | - | - | - |\\n| 0xE8 | ZETAP | R/W Word | 2 | - | - | 1.5 | - |\\n| 0xEA | RESTORE_MAXIM_ALL | R/W Byte | 0 | - | - | - | - |\\n| 0xF8 | EXT_TEMP_CAL | R/W Block | 4 | - | - | $1.004363,0$ | - |\\n\\n\\n=====\\n\\nContext 3:\\nadp1055\\n\\nTable 19. Register 0x15-STORE_USER_ALL\\n| Bits | Bit Name | Type | Description |\\n| :--- | :--- | :--- | :--- |\\n| N/A | STORE_USER_ALL | Send | This command copies the entire contents of operating memory into the EEPROM (Page 1 of <br> the main block) as the user settings. |\\n\\n\\n=====\\n\\nContext 4:\\nadp1046a\\n\\nTable 120. Register 0x82-STORE_USER_ALL\\n| Bits | Bit Name | Type | Description |\\n| :--- | :--- | :--- | :--- |\\n| N/A | STORE_USER_ALL | Send <br> byte | Copy the entire contents of operating memory (registers) into EEPROM (Page 1 of the main <br> block). The EEPROM must first be unlocked. |']}]\n"
     ]
    },
    {
     "name": "stderr",
     "output_type": "stream",
     "text": [
      "Evaluating: 100%|██████████| 3/3 [00:41<00:00, 13.76s/it]\n"
     ]
    },
    {
     "name": "stdout",
     "output_type": "stream",
     "text": [
      "[{'question': 'What is the maximum efficiency of the ADP2107?', 'answer': \"\\n        I'm happy to help you with your question! However, I must point out that the provided context does not mention the ADP2107, which is a specific IC. The context appears to be related to the ADP1046, ADP1055, and other registers.\\n\\nIf you meant to ask about the ADP1046, I can try to help you with that. However, I don't see any information about the maximum efficiency of the ADP1046 in the provided context. The context seems to be focused on registers and their descriptions, rather than performance characteristics.\\n\\nIf you could provide more context or clarify which IC you are referring to, I'll do my best to assist you.assistant\\nassistant\\nI'm happy to help you with your question! However, I must point out that the provided context does not mention the ADP2107, which is a specific IC. The context appears to be related to the ADP1046, ADP1055, and other registers.\\n\\nIf you meant to ask about the ADP1046, I can try to help you with that. However, I don't see any information about the maximum efficiency of the ADP1046 in the provided context. The context seems to be focused on registers and their descriptions, rather than performance characteristics.\\n\\nIf you could provide more context or clarify which IC you are referring to, I'll do my best to assist you.assistant\\nassistant\\nI apologize, but I don't see any information about the maximum efficiency of the ADP2107 in the provided context. The context appears to be focused on registers and their descriptions, rather than performance characteristics.\\n\\nIf you could provide more context or clarify which IC you are referring to, I'll do my best to assist you.assistant\\nassistant\\nI apologize, but I don't see any information about the maximum efficiency of the ADP2107 in the provided context. The context appears to be focused on registers and their descriptions, rather than performance characteristics.\\n\\nIf you could provide more context or clarify which IC you are referring to, I'll do my best to assist you.assistant\\nassistant\\nI apologize, but I don't see any information about the maximum efficiency of the ADP2107 in the provided context. The context appears to be focused on registers and their descriptions, rather than performance characteristics.\\n\\nIf you could provide more context or clarify which IC you are referring to, I'll do my best\", 'ground_truth': '97%', 'contexts': ['Context 1:\\nadp1046\\n\\nTable 128. Register 0x82-STORE_USER_ALL\\n| Bits | Bit Name | Type | Description |\\n| :--- | :--- | :--- | :--- |\\n| N/A | STORE_USER_ALL | Send <br> byte | Copy the entire contents of operating memory (registers) into EEPROM (Page 1 of the main <br> block). The EEPROM must first be unlocked. |\\n\\n=====\\n\\nContext 2:\\nmax15301\\n OF <br> DATA <br> BYTES | MIN | MAX | DEFAULT VALUE | UNITS |\\n| :---: | :--- | :---: | :---: | :---: | :---: | :---: | :---: |\\n| 0xD0 | ADAPTIVE_MODE | Write Byte | 2 | - | - | $0 \\\\times 024 B$ | - |\\n| 0xD3 | FEEDBACK_EFFORT | R/W Word | 2 | - | - | 0.5 | - |\\n| 0xD5 | LOOP_CONFIG | R/W Word | 2 | - | - | $0 \\\\times 0100$ | - |\\n| 0xDB | COMP_MODEL | R/W Block | 6 | - | - | $0.03167,0.5,0.5$ | - |\\n| 0xE0 | MANUF_CONF | R/W Block | 32 | - | - | 0 | - |\\n| 0xE1 | MANUF_LOCK | R/W Byte | 2 | - | - | 0 | - |\\n| 0xE2 | MANUF_PASSWD | R/W Word | 2 | - | - | - | - |\\n| 0xE3 | USER_CONF | R/W Block | 32 | - | - | 0 | - |\\n| 0xE4 | USER_LOCK | R/W Byte | 2 | - | - | 0 | - |\\n| 0xE5 | USER_PASSWD | R/W Word | 2 | - | - | 0 | - |\\n| 0xE6 | SECURITY_LEVEL | Read Byte | 1 | - | - | 0 | - |\\n| 0xE7 | DEADTIME_GCTRL | R/W Block | 19 | - | - | - | - |\\n| 0xE8 | ZETAP | R/W Word | 2 | - | - | 1.5 | - |\\n| 0xEA | RESTORE_MAXIM_ALL | R/W Byte | 0 | - | - | - | - |\\n| 0xF8 | EXT_TEMP_CAL | R/W Block | 4 | - | - | $1.004363,0$ | - |\\n\\n\\n=====\\n\\nContext 3:\\nadp1055\\n\\nTable 19. Register 0x15-STORE_USER_ALL\\n| Bits | Bit Name | Type | Description |\\n| :--- | :--- | :--- | :--- |\\n| N/A | STORE_USER_ALL | Send | This command copies the entire contents of operating memory into the EEPROM (Page 1 of <br> the main block) as the user settings. |\\n\\n\\n=====\\n\\nContext 4:\\nadp1046a\\n\\nTable 120. Register 0x82-STORE_USER_ALL\\n| Bits | Bit Name | Type | Description |\\n| :--- | :--- | :--- | :--- |\\n| N/A | STORE_USER_ALL | Send <br> byte | Copy the entire contents of operating memory (registers) into EEPROM (Page 1 of the main <br> block). The EEPROM must first be unlocked. |']}]\n"
     ]
    },
    {
     "name": "stderr",
     "output_type": "stream",
     "text": [
      "Evaluating: 100%|██████████| 3/3 [00:11<00:00,  3.84s/it]\n"
     ]
    },
    {
     "name": "stdout",
     "output_type": "stream",
     "text": [
      "[{'question': 'What is the maximum efficiency of the ADP2107?', 'answer': \"\\n        I'm happy to help you with your question! However, I must point out that the provided context does not mention the ADP2107, which is a specific IC. The context appears to be related to the ADP1046, ADP1055, and other registers.\\n\\nIf you meant to ask about the ADP1046, I can try to help you with that. However, I don't see any information about the maximum efficiency of the ADP1046 in the provided context. The context seems to be focused on registers and their descriptions, rather than performance characteristics.\\n\\nIf you could provide more context or clarify which IC you are referring to, I'll do my best to assist you.assistant\\nassistant\\nI'm happy to help you with your question! However, I must point out that the provided context does not mention the ADP2107, which is a specific IC. The context appears to be related to the ADP1046, ADP1055, and other registers.\\n\\nIf you meant to ask about the ADP1046, I can try to help you with that. However, I don't see any information about the maximum efficiency of the ADP1046 in the provided context. The context seems to be focused on registers and their descriptions, rather than performance characteristics.\\n\\nIf you could provide more context or clarify which IC you are referring to, I'll do my best to assist you.assistant\\nassistant\\nI apologize, but I don't see any information about the maximum efficiency of the ADP2107 in the provided context. The context appears to be focused on registers and their descriptions, rather than performance characteristics.\\n\\nIf you could provide more context or clarify which IC you are referring to, I'll do my best to assist you.assistant\\nassistant\\nI apologize, but I don't see any information about the maximum efficiency of the ADP2107 in the provided context. The context appears to be focused on registers and their descriptions, rather than performance characteristics.\\n\\nIf you could provide more context or clarify which IC you are referring to, I'll do my best to assist you.assistant\\nassistant\\nI apologize, but I don't see any information about the maximum efficiency of the ADP2107 in the provided context. The context appears to be focused on registers and their descriptions, rather than performance characteristics.\\n\\nIf you could provide more context or clarify which IC you are referring to, I'll do my best\", 'ground_truth': '97%', 'contexts': ['Context 1:\\nadp1046\\n\\nTable 128. Register 0x82-STORE_USER_ALL\\n| Bits | Bit Name | Type | Description |\\n| :--- | :--- | :--- | :--- |\\n| N/A | STORE_USER_ALL | Send <br> byte | Copy the entire contents of operating memory (registers) into EEPROM (Page 1 of the main <br> block). The EEPROM must first be unlocked. |\\n\\n=====\\n\\nContext 2:\\nmax15301\\n OF <br> DATA <br> BYTES | MIN | MAX | DEFAULT VALUE | UNITS |\\n| :---: | :--- | :---: | :---: | :---: | :---: | :---: | :---: |\\n| 0xD0 | ADAPTIVE_MODE | Write Byte | 2 | - | - | $0 \\\\times 024 B$ | - |\\n| 0xD3 | FEEDBACK_EFFORT | R/W Word | 2 | - | - | 0.5 | - |\\n| 0xD5 | LOOP_CONFIG | R/W Word | 2 | - | - | $0 \\\\times 0100$ | - |\\n| 0xDB | COMP_MODEL | R/W Block | 6 | - | - | $0.03167,0.5,0.5$ | - |\\n| 0xE0 | MANUF_CONF | R/W Block | 32 | - | - | 0 | - |\\n| 0xE1 | MANUF_LOCK | R/W Byte | 2 | - | - | 0 | - |\\n| 0xE2 | MANUF_PASSWD | R/W Word | 2 | - | - | - | - |\\n| 0xE3 | USER_CONF | R/W Block | 32 | - | - | 0 | - |\\n| 0xE4 | USER_LOCK | R/W Byte | 2 | - | - | 0 | - |\\n| 0xE5 | USER_PASSWD | R/W Word | 2 | - | - | 0 | - |\\n| 0xE6 | SECURITY_LEVEL | Read Byte | 1 | - | - | 0 | - |\\n| 0xE7 | DEADTIME_GCTRL | R/W Block | 19 | - | - | - | - |\\n| 0xE8 | ZETAP | R/W Word | 2 | - | - | 1.5 | - |\\n| 0xEA | RESTORE_MAXIM_ALL | R/W Byte | 0 | - | - | - | - |\\n| 0xF8 | EXT_TEMP_CAL | R/W Block | 4 | - | - | $1.004363,0$ | - |\\n\\n\\n=====\\n\\nContext 3:\\nadp1055\\n\\nTable 19. Register 0x15-STORE_USER_ALL\\n| Bits | Bit Name | Type | Description |\\n| :--- | :--- | :--- | :--- |\\n| N/A | STORE_USER_ALL | Send | This command copies the entire contents of operating memory into the EEPROM (Page 1 of <br> the main block) as the user settings. |\\n\\n\\n=====\\n\\nContext 4:\\nadp1046a\\n\\nTable 120. Register 0x82-STORE_USER_ALL\\n| Bits | Bit Name | Type | Description |\\n| :--- | :--- | :--- | :--- |\\n| N/A | STORE_USER_ALL | Send <br> byte | Copy the entire contents of operating memory (registers) into EEPROM (Page 1 of the main <br> block). The EEPROM must first be unlocked. |']}]\n"
     ]
    },
    {
     "name": "stderr",
     "output_type": "stream",
     "text": [
      "Evaluating: 100%|██████████| 3/3 [00:42<00:00, 14.12s/it]\n",
      "Failed to detect the name of this notebook, you can set it manually with the WANDB_NOTEBOOK_NAME environment variable to enable code saving.\n",
      "huggingface/tokenizers: The current process just got forked, after parallelism has already been used. Disabling parallelism to avoid deadlocks...\n",
      "To disable this warning, you can either:\n",
      "\t- Avoid using `tokenizers` before the fork if possible\n",
      "\t- Explicitly set the environment variable TOKENIZERS_PARALLELISM=(true | false)\n",
      "huggingface/tokenizers: The current process just got forked, after parallelism has already been used. Disabling parallelism to avoid deadlocks...\n",
      "To disable this warning, you can either:\n",
      "\t- Avoid using `tokenizers` before the fork if possible\n",
      "\t- Explicitly set the environment variable TOKENIZERS_PARALLELISM=(true | false)\n",
      "\u001b[34m\u001b[1mwandb\u001b[0m: Currently logged in as: \u001b[33mkwasi-ankomah\u001b[0m (\u001b[33mai-solutions-team\u001b[0m). Use \u001b[1m`wandb login --relogin`\u001b[0m to force relogin\n",
      "huggingface/tokenizers: The current process just got forked, after parallelism has already been used. Disabling parallelism to avoid deadlocks...\n",
      "To disable this warning, you can either:\n",
      "\t- Avoid using `tokenizers` before the fork if possible\n",
      "\t- Explicitly set the environment variable TOKENIZERS_PARALLELISM=(true | false)\n",
      "huggingface/tokenizers: The current process just got forked, after parallelism has already been used. Disabling parallelism to avoid deadlocks...\n",
      "To disable this warning, you can either:\n",
      "\t- Avoid using `tokenizers` before the fork if possible\n",
      "\t- Explicitly set the environment variable TOKENIZERS_PARALLELISM=(true | false)\n"
     ]
    },
    {
     "data": {
      "text/html": [
       "wandb version 0.17.0 is available!  To upgrade, please run:\n",
       " $ pip install wandb --upgrade"
      ],
      "text/plain": [
       "<IPython.core.display.HTML object>"
      ]
     },
     "metadata": {},
     "output_type": "display_data"
    },
    {
     "data": {
      "text/html": [
       "Tracking run with wandb version 0.16.6"
      ],
      "text/plain": [
       "<IPython.core.display.HTML object>"
      ]
     },
     "metadata": {},
     "output_type": "display_data"
    },
    {
     "data": {
      "text/html": [
       "Run data is saved locally in <code>/Users/kwasia/Documents/Projects/ai-starter-kit/eval_jumpstart/notebooks/wandb/run-20240530_160857-3tq6qdyj</code>"
      ],
      "text/plain": [
       "<IPython.core.display.HTML object>"
      ]
     },
     "metadata": {},
     "output_type": "display_data"
    },
    {
     "data": {
      "text/html": [
       "Syncing run <strong><a href='https://sambanova.wandb.io/ai-solutions-team/rag-pipeline-eval/runs/3tq6qdyj' target=\"_blank\">test-run-1</a></strong> to <a href='https://sambanova.wandb.io/ai-solutions-team/rag-pipeline-eval' target=\"_blank\">Weights & Biases</a> (<a href='https://wandb.me/run' target=\"_blank\">docs</a>)<br/>"
      ],
      "text/plain": [
       "<IPython.core.display.HTML object>"
      ]
     },
     "metadata": {},
     "output_type": "display_data"
    },
    {
     "data": {
      "text/html": [
       " View project at <a href='https://sambanova.wandb.io/ai-solutions-team/rag-pipeline-eval' target=\"_blank\">https://sambanova.wandb.io/ai-solutions-team/rag-pipeline-eval</a>"
      ],
      "text/plain": [
       "<IPython.core.display.HTML object>"
      ]
     },
     "metadata": {},
     "output_type": "display_data"
    },
    {
     "data": {
      "text/html": [
       " View run at <a href='https://sambanova.wandb.io/ai-solutions-team/rag-pipeline-eval/runs/3tq6qdyj' target=\"_blank\">https://sambanova.wandb.io/ai-solutions-team/rag-pipeline-eval/runs/3tq6qdyj</a>"
      ],
      "text/plain": [
       "<IPython.core.display.HTML object>"
      ]
     },
     "metadata": {},
     "output_type": "display_data"
    },
    {
     "data": {
      "text/html": [
       " View run <strong style=\"color:#cdcd00\">test-run-1</strong> at: <a href='https://sambanova.wandb.io/ai-solutions-team/rag-pipeline-eval/runs/3tq6qdyj' target=\"_blank\">https://sambanova.wandb.io/ai-solutions-team/rag-pipeline-eval/runs/3tq6qdyj</a><br/> View project at: <a href='https://sambanova.wandb.io/ai-solutions-team/rag-pipeline-eval' target=\"_blank\">https://sambanova.wandb.io/ai-solutions-team/rag-pipeline-eval</a><br/>Synced 5 W&B file(s), 0 media file(s), 0 artifact file(s) and 0 other file(s)"
      ],
      "text/plain": [
       "<IPython.core.display.HTML object>"
      ]
     },
     "metadata": {},
     "output_type": "display_data"
    },
    {
     "data": {
      "text/html": [
       "Find logs at: <code>./wandb/run-20240530_160857-3tq6qdyj/logs</code>"
      ],
      "text/plain": [
       "<IPython.core.display.HTML object>"
      ]
     },
     "metadata": {},
     "output_type": "display_data"
    },
    {
     "name": "stdout",
     "output_type": "stream",
     "text": [
      "Results 4: {'LLAMA70B_GEN_EVAL_LLAMA38B': {'answer_relevancy': 0.0000, 'answer_correctness': 0.9397, 'answer_similarity': 0.7589}, 'LLAMA70B_GEN_EVAL_LLAMA370B': {'answer_relevancy': 0.0000, 'answer_correctness': 0.1897, 'answer_similarity': 0.7589}, 'LLAMA8B_GEN_EVAL_LLAMA38B': {'answer_relevancy': 0.0000, 'answer_correctness': 0.1888, 'answer_similarity': 0.7552}, 'LLAMA8B_GEN_EVAL_LLAMA370B': {'answer_relevancy': 0.0000, 'answer_correctness': 0.1888, 'answer_similarity': 0.7552}}\n"
     ]
    }
   ],
   "source": [
    "# Use Case 4: CSV file without answers, generate with pipelines, with context from vector DB\n",
    "# Re- Load config after changes\n",
    "config_path = \"../../utils/eval/config.yaml\"\n",
    "config = RAGEvalConfig(config_yaml_path=config_path)\n",
    "\n",
    "# Create evaluator\n",
    "eval_llms = []\n",
    "for conf in config.eval_llm_configs:\n",
    "    llm_name, llm_config = config.get_llm_config(conf)\n",
    "    eval_llm = SambaStudio(**llm_config)\n",
    "    eval_llms.append((llm_name, eval_llm))\n",
    "\n",
    "\n",
    "eval_embeddings = HuggingFaceInstructEmbeddings(model_name=config.embedding_model_name)\n",
    "evaluator = RAGEvaluator(eval_llms, eval_embeddings, config_path)\n",
    "\n",
    "eval_df = pd.read_csv(\"../data/res.csv\")\n",
    "pipelines = [\n",
    "    load_pipeline((llm_name, SambaStudio(**llm_config)), config)\n",
    "    for llm_name, llm_config in [config.get_llm_config(conf) for conf in config.llm_configs]\n",
    "]\n",
    "results4 = evaluator.evaluate(eval_df, pipelines)\n",
    "print(\"Results 4:\", results4)"
   ]
  },
  {
   "cell_type": "code",
   "execution_count": null,
   "metadata": {},
   "outputs": [],
   "source": [
    "# Use Case 5: Evaluate on HF dataset\n",
    "config.config[\"eval_dataset\"][\"hf_dataset_name\"] = \"squad_v2\"\n",
    "eval_df = load_eval_dataframe(config)\n",
    "pipelines = [\n",
    "    load_pipeline(\n",
    "        SambaStudio(\n",
    "            sambastudio_base_url=conf[\"base_url\"],\n",
    "            sambastudio_project_id=conf[\"project_id\"],\n",
    "            sambastudio_endpoint_id=conf[\"endpoint_id\"],\n",
    "            sambastudio_api_key=conf[\"api_key\"],\n",
    "            **conf[\"model_kwargs\"]\n",
    "        ),\n",
    "        config,\n",
    "    )\n",
    "    for conf in config.llm_configs\n",
    "]\n",
    "results5 = evaluator.evaluate(eval_df, pipelines)\n",
    "print(\"Results 5:\", results5)"
   ]
  }
 ],
 "metadata": {
  "kernelspec": {
   "display_name": "adi-rag-eval",
   "language": "python",
   "name": "python3"
  },
  "language_info": {
   "codemirror_mode": {
    "name": "ipython",
    "version": 3
   },
   "file_extension": ".py",
   "mimetype": "text/x-python",
   "name": "python",
   "nbconvert_exporter": "python",
   "pygments_lexer": "ipython3",
   "version": "3.11.3"
  }
 },
 "nbformat": 4,
 "nbformat_minor": 2
}
