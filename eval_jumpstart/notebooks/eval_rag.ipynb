{
 "cells": [
  {
   "cell_type": "code",
   "execution_count": 1,
   "metadata": {},
   "outputs": [
    {
     "name": "stdout",
     "output_type": "stream",
     "text": [
      "This is the repo dir /Users/kwasia/Documents/Projects/ai-starter-kit\n"
     ]
    }
   ],
   "source": [
    "import os\n",
    "import sys\n",
    "\n",
    "current_dir = os.getcwd()\n",
    "kit_dir = os.path.abspath(os.path.join(current_dir, \"..\"))\n",
    "repo_dir = os.path.abspath(os.path.join(kit_dir, \"..\"))\n",
    "\n",
    "sys.path.append(kit_dir)\n",
    "sys.path.append(repo_dir)\n",
    "\n",
    "print(f\"This is the repo dir {repo_dir}\")"
   ]
  },
  {
   "cell_type": "code",
   "execution_count": 2,
   "metadata": {},
   "outputs": [
    {
     "name": "stderr",
     "output_type": "stream",
     "text": [
      "/Users/kwasia/.pyenv/versions/3.11.3/envs/adi-rag-eval/lib/python3.11/site-packages/tqdm/auto.py:21: TqdmWarning: IProgress not found. Please update jupyter and ipywidgets. See https://ipywidgets.readthedocs.io/en/stable/user_install.html\n",
      "  from .autonotebook import tqdm as notebook_tqdm\n"
     ]
    }
   ],
   "source": [
    "import pandas as pd\n",
    "from utils.eval.rag_eval import (\n",
    "    RAGEvaluator,\n",
    "    RAGEvalConfig,\n",
    "    load_pipeline,\n",
    "    load_eval_dataframe,\n",
    ")\n",
    "from langchain_community.llms.sambanova import SambaStudio, Sambaverse\n",
    "from langchain_community.embeddings import HuggingFaceInstructEmbeddings"
   ]
  },
  {
   "cell_type": "code",
   "execution_count": null,
   "metadata": {},
   "outputs": [],
   "source": []
  },
  {
   "cell_type": "code",
   "execution_count": 3,
   "metadata": {},
   "outputs": [],
   "source": [
    "# Load config\n",
    "config_path = \"../../utils/eval/config.yaml\"\n",
    "config = RAGEvalConfig(config_yaml_path=config_path)"
   ]
  },
  {
   "cell_type": "code",
   "execution_count": null,
   "metadata": {},
   "outputs": [],
   "source": []
  },
  {
   "cell_type": "code",
   "execution_count": null,
   "metadata": {},
   "outputs": [],
   "source": [
    "# Create evaluator\n",
    "# Create evaluator\n",
    "eval_llms = [SambaStudio(**conf) for conf in config.eval_llm_configs]\n",
    "eval_embeddings = HuggingFaceInstructEmbeddings(model_name=config.embedding_model_name)\n",
    "evaluator = RAGEvaluator(eval_llms, eval_embeddings, config_path)"
   ]
  },
  {
   "cell_type": "code",
   "execution_count": null,
   "metadata": {},
   "outputs": [],
   "source": [
    "# Use Case 1: CSV file with pre-generated answers, no context\n",
    "eval_df = pd.read_csv(\"eval_set_with_answers.csv\")\n",
    "results1 = evaluator.evaluate(eval_df)\n",
    "print(\"Results 1:\", results1)"
   ]
  },
  {
   "cell_type": "code",
   "execution_count": null,
   "metadata": {},
   "outputs": [],
   "source": [
    "# Use Case 2: CSV file with pre-generated answers and context\n",
    "eval_df = pd.read_csv(\"eval_set_with_answers_and_context.csv\")\n",
    "results2 = evaluator.evaluate(eval_df)\n",
    "print(\"Results 2:\", results2)"
   ]
  },
  {
   "cell_type": "code",
   "execution_count": null,
   "metadata": {},
   "outputs": [],
   "source": [
    "# Use Case 3: CSV file without answers, generate with pipelines, no context\n",
    "eval_df = pd.read_csv(\"eval_set.csv\")\n",
    "pipelines = [\n",
    "    load_pipeline(\n",
    "        SambaStudio(\n",
    "            sambastudio_base_url=conf[\"base_url\"],\n",
    "            sambastudio_project_id=conf[\"project_id\"],\n",
    "            sambastudio_endpoint_id=conf[\"endpoint_id\"],\n",
    "            sambastudio_api_key=conf[\"api_key\"],\n",
    "            **conf[\"model_kwargs\"]\n",
    "        ),\n",
    "        config,\n",
    "    )\n",
    "    for conf in config.llm_configs\n",
    "]\n",
    "results3 = evaluator.evaluate(eval_df, pipelines)\n",
    "print(\"Results 3:\", results3)"
   ]
  },
  {
   "cell_type": "code",
   "execution_count": null,
   "metadata": {},
   "outputs": [],
   "source": [
    "# Use Case 4: CSV file without answers, generate with pipelines, with context from vector DB\n",
    "eval_df = pd.read_csv(\"eval_set.csv\")\n",
    "pipelines = [\n",
    "    load_pipeline(\n",
    "        SambaStudio(\n",
    "            sambastudio_base_url=conf[\"base_url\"],\n",
    "            sambastudio_project_id=conf[\"project_id\"],\n",
    "            sambastudio_endpoint_id=conf[\"endpoint_id\"],\n",
    "            sambastudio_api_key=conf[\"api_key\"],\n",
    "            **conf[\"model_kwargs\"]\n",
    "        ),\n",
    "        config,\n",
    "    )\n",
    "    for conf in config.llm_configs\n",
    "]\n",
    "results4 = evaluator.evaluate(eval_df, pipelines)\n",
    "print(\"Results 4:\", results4)"
   ]
  },
  {
   "cell_type": "code",
   "execution_count": null,
   "metadata": {},
   "outputs": [],
   "source": [
    "# Use Case 5: Evaluate on HF dataset\n",
    "config.config[\"eval_dataset\"][\"hf_dataset_name\"] = \"squad_v2\"\n",
    "eval_df = load_eval_dataframe(config)\n",
    "pipelines = [\n",
    "    load_pipeline(\n",
    "        SambaStudio(\n",
    "            sambastudio_base_url=conf[\"base_url\"],\n",
    "            sambastudio_project_id=conf[\"project_id\"],\n",
    "            sambastudio_endpoint_id=conf[\"endpoint_id\"],\n",
    "            sambastudio_api_key=conf[\"api_key\"],\n",
    "            **conf[\"model_kwargs\"]\n",
    "        ),\n",
    "        config,\n",
    "    )\n",
    "    for conf in config.llm_configs\n",
    "]\n",
    "results5 = evaluator.evaluate(eval_df, pipelines)\n",
    "print(\"Results 5:\", results5)"
   ]
  }
 ],
 "metadata": {
  "kernelspec": {
   "display_name": "adi-rag-eval",
   "language": "python",
   "name": "python3"
  },
  "language_info": {
   "codemirror_mode": {
    "name": "ipython",
    "version": 3
   },
   "file_extension": ".py",
   "mimetype": "text/x-python",
   "name": "python",
   "nbconvert_exporter": "python",
   "pygments_lexer": "ipython3",
   "version": "3.11.3"
  }
 },
 "nbformat": 4,
 "nbformat_minor": 2
}
