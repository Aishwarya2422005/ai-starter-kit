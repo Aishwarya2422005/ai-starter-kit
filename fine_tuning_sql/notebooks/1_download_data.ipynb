{
 "cells": [
  {
   "cell_type": "markdown",
   "metadata": {},
   "source": [
    "# Part 1: Download data\n",
    "This notebook goes over data download for SQL model fine-tuning"
   ]
  },
  {
   "cell_type": "markdown",
   "metadata": {},
   "source": [
    "## Pretraining dataset: Load and save \n"
   ]
  },
  {
   "cell_type": "markdown",
   "metadata": {},
   "source": [
    "### Full squad dataset for SQL\n",
    "- [bigcode/the-stack-dedup](https://huggingface.co/datasets/bigcode/the-stack-dedup)\n",
    "- Total samples: 13669625293\n",
    "- The jsonl files contains ```prompt``` and ```completions``` pairs per sample. For pretraining, ```prompt``` field is empty."
   ]
  },
  {
   "cell_type": "code",
   "execution_count": 1,
   "metadata": {},
   "outputs": [
    {
     "name": "stderr",
     "output_type": "stream",
     "text": [
      "/Users/amitk/miniforge3/envs/sql_model/lib/python3.10/site-packages/tqdm/auto.py:21: TqdmWarning: IProgress not found. Please update jupyter and ipywidgets. See https://ipywidgets.readthedocs.io/en/stable/user_install.html\n",
      "  from .autonotebook import tqdm as notebook_tqdm\n",
      "Resolving data files: 100%|██████████| 27/27 [00:01<00:00, 19.62it/s]\n",
      "Creating json from Arrow format: 100%|██████████| 995/995 [01:28<00:00, 11.19ba/s]\n"
     ]
    },
    {
     "data": {
      "text/plain": [
       "13669625293"
      ]
     },
     "execution_count": 1,
     "metadata": {},
     "output_type": "execute_result"
    }
   ],
   "source": [
    "from datasets import load_dataset\n",
    "\n",
    "# specific language: SQL\n",
    "pretrain_dataset = load_dataset(\"bigcode/the-stack-dedup\", data_dir=\"data/sql\", split=\"train\")\n",
    "\n",
    "prompt = [\"\"] * len(pretrain_dataset)\n",
    "pretrain_dataset = pretrain_dataset.rename_columns({'content': 'completion'}).select_columns('completion').add_column(\"prompt\", prompt)\n",
    "pretrain_dataset.to_json(f\"../data/pre-training/pretrain-squad-sql.jsonl\")"
   ]
  },
  {
   "cell_type": "markdown",
   "metadata": {},
   "source": [
    "### Small squad dataset for SQL\n",
    "- [bigcode/the-stack-dedup](https://huggingface.co/datasets/bigcode/the-stack-smol)\n",
    "- Total samples: 155813472\n",
    "- The jsonl files contains ```prompt``` and ```completions``` pairs per sample. For fine-tuning, both ```prompt``` and ```completions``` fields are populated."
   ]
  },
  {
   "cell_type": "code",
   "execution_count": 1,
   "metadata": {},
   "outputs": [
    {
     "name": "stderr",
     "output_type": "stream",
     "text": [
      "/Users/amitk/miniforge3/envs/sql_model/lib/python3.10/site-packages/tqdm/auto.py:21: TqdmWarning: IProgress not found. Please update jupyter and ipywidgets. See https://ipywidgets.readthedocs.io/en/stable/user_install.html\n",
      "  from .autonotebook import tqdm as notebook_tqdm\n",
      "Creating json from Arrow format: 100%|██████████| 10/10 [00:01<00:00,  9.29ba/s]\n"
     ]
    },
    {
     "data": {
      "text/plain": [
       "155813472"
      ]
     },
     "execution_count": 1,
     "metadata": {},
     "output_type": "execute_result"
    }
   ],
   "source": [
    "from datasets import load_dataset\n",
    "\n",
    "# specific language: SQL\n",
    "pretrain_dataset = load_dataset(\"bigcode/the-stack-smol\", data_dir=\"data/sql\", split=\"train\")\n",
    "\n",
    "prompt = [\"\"] * len(pretrain_dataset)\n",
    "pretrain_dataset = pretrain_dataset.rename_columns({'content': 'completion'}).select_columns('completion').add_column(\"prompt\", prompt)\n",
    "pretrain_dataset.to_json(f\"../data/pre-training/pretrain-squad-smol-sql.jsonl\")"
   ]
  },
  {
   "cell_type": "markdown",
   "metadata": {},
   "source": [
    "## Fine-tuning dataset: Load and save \n",
    "- [NSText2SQL](https://huggingface.co/datasets/NumbersStation/NSText2SQL)"
   ]
  },
  {
   "cell_type": "code",
   "execution_count": null,
   "metadata": {},
   "outputs": [],
   "source": [
    "fine_tune_dataset = load_dataset(\"NumbersStation/NSText2SQL\", split=\"train\")\n",
    "fine_tune_dataset = fine_tune_dataset.rename_columns({'instruction': 'prompt', 'output': 'completion'}).select_columns(['prompt', 'completion'])\n",
    "fine_tune_dataset.to_json(f\"../data/fine-tuning/fine-tune-nstext2sql.jsonl\")"
   ]
  },
  {
   "cell_type": "markdown",
   "metadata": {},
   "source": [
    "## Summary\n",
    "\n",
    "After this stage we should have 2 jsonl files, one for pretraining and one for fine-tuning."
   ]
  }
 ],
 "metadata": {
  "kernelspec": {
   "display_name": "sql_model",
   "language": "python",
   "name": "python3"
  },
  "language_info": {
   "codemirror_mode": {
    "name": "ipython",
    "version": 3
   },
   "file_extension": ".py",
   "mimetype": "text/x-python",
   "name": "python",
   "nbconvert_exporter": "python",
   "pygments_lexer": "ipython3",
   "version": "3.10.0"
  }
 },
 "nbformat": 4,
 "nbformat_minor": 2
}
