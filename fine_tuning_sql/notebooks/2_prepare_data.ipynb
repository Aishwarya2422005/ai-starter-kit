{
 "cells": [
  {
   "cell_type": "markdown",
   "metadata": {},
   "source": [
    "# Part 2: Prepare data\n",
    "This notebook goes over prepping data to upload on SambaStudio as datasets.\n",
    "\n",
    "- Github repo for data prep:[generative_data_prep](https://github.com/sambanova/generative_data_prep)\n",
    "- Follow the instructions in the github repo\n",
    "- This notebook will \n",
    "\n"
   ]
  },
  {
   "cell_type": "markdown",
   "metadata": {},
   "source": [
    "## Pretraining"
   ]
  }
 ],
 "metadata": {
  "language_info": {
   "name": "python"
  }
 },
 "nbformat": 4,
 "nbformat_minor": 2
}
