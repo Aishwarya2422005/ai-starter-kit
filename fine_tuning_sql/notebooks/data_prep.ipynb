{
 "cells": [
  {
   "cell_type": "markdown",
   "metadata": {},
   "source": [
    "# This notebook goes over data prep for SQL model fine-tuning"
   ]
  },
  {
   "cell_type": "markdown",
   "metadata": {},
   "source": [
    "## Datasets:\n",
    "\n",
    "- [Anyscale](https://www.anyscale.com/blog/fine-tuning-llama-2-a-comprehensive-case-study-for-tailoring-models-to-unique-applications): Used [b-mc2/sql-create-context](https://huggingface.co/datasets/b-mc2/sql-create-context) dataset from Hugging Face, which is a combination of the [WikiSQL](https://huggingface.co/datasets/wikisql) and [Spider](https://huggingface.co/datasets/spider) datasets.\n",
    "- [NumserStation](https://www.numbersstation.ai/post/nsql-llama-2-7b): \n",
    "  - [bigcode/the-stack-dedup](https://huggingface.co/datasets/bigcode/the-stack-dedup): pretraining data\n",
    "  - [NSText2SQL](https://huggingface.co/datasets/NumbersStation/NSText2SQL): fine-tuning dataset\n",
    "\n",
    "### Following the NumberStation training methodology\n",
    "\n",
    "- To train NSQL, we created two training datasets: \n",
    "  - a pre-training dataset composed of general SQL queries, and \n",
    "  - a fine tuning dataset composed of text-to-SQL pairs. "
   ]
  },
  {
   "cell_type": "markdown",
   "metadata": {},
   "source": [
    "## NSTest2SQL Dataset\n",
    "\n",
    "## Load tokenizer"
   ]
  },
  {
   "cell_type": "code",
   "execution_count": 1,
   "metadata": {},
   "outputs": [
    {
     "name": "stderr",
     "output_type": "stream",
     "text": [
      "/Users/amitk/miniforge3/envs/sql_model/lib/python3.10/site-packages/tqdm/auto.py:21: TqdmWarning: IProgress not found. Please update jupyter and ipywidgets. See https://ipywidgets.readthedocs.io/en/stable/user_install.html\n",
      "  from .autonotebook import tqdm as notebook_tqdm\n"
     ]
    }
   ],
   "source": [
    "import torch\n",
    "from transformers import AutoTokenizer, AutoModelForCausalLM\n",
    "tokenizer = AutoTokenizer.from_pretrained(\"NumbersStation/nsql-llama-2-7B\")\n",
    "# model = AutoModelForCausalLM.from_pretrained(\"NumbersStation/nsql-llama-2-7B\", load_in_8bit=True, torch_dtype=torch.bfloat1"
   ]
  },
  {
   "cell_type": "code",
   "execution_count": 2,
   "metadata": {},
   "outputs": [],
   "source": [
    "from datasets import load_dataset\n",
    "from torch.utils.data import Dataset\n",
    "import copy\n",
    "\n",
    "class NSText2SQLDataset(Dataset):\n",
    "    def __init__(self, size=None, max_seq_length=2048):\n",
    "        self.dataset = load_dataset(\"NumbersStation/NSText2SQL\",split=\"train\")\n",
    "        if size:\n",
    "            self.dataset = self.dataset.select(range(size))\n",
    "        self.max_seq_length = max_seq_length\n",
    "\n",
    "    def __len__(self):\n",
    "        return len(self.dataset)\n",
    "\n",
    "    def __getitem__(self, index):\n",
    "        instruction = torch.tensor(tokenizer.encode(self.dataset[index]['instruction']), dtype=torch.int64)\n",
    "        example = self.dataset[index]['instruction'] + self.dataset[index][\"output\"]\n",
    "        example = tokenizer.encode(example)\n",
    "        example.append(tokenizer.eos_token_id)\n",
    "        padding = self.max_seq_length - len(example)\n",
    "        example = torch.tensor(example, dtype=torch.int64)\n",
    "\n",
    "        if padding < 0:\n",
    "            example = example[:self.max_seq_length]\n",
    "        else:\n",
    "            example = torch.cat((example, torch.zeros(padding, dtype=torch.int64)))\n",
    "            \n",
    "        labels = copy.deepcopy(example)\n",
    "        labels[: len(instruction)] = -100\n",
    "        \n",
    "        return {\"input_ids\": example, \"labels\": labels}"
   ]
  },
  {
   "cell_type": "code",
   "execution_count": 3,
   "metadata": {},
   "outputs": [],
   "source": [
    "dataset = NSText2SQLDataset(size=1000, max_seq_length=1024)"
   ]
  },
  {
   "cell_type": "code",
   "execution_count": 12,
   "metadata": {},
   "outputs": [
    {
     "data": {
      "text/plain": [
       "torch.Size([1024])"
      ]
     },
     "execution_count": 12,
     "metadata": {},
     "output_type": "execute_result"
    }
   ],
   "source": [
    "dataset[10]['input_ids'].shape"
   ]
  },
  {
   "cell_type": "code",
   "execution_count": 4,
   "metadata": {},
   "outputs": [
    {
     "name": "stderr",
     "output_type": "stream",
     "text": [
      "Downloading readme: 100%|██████████| 19.3k/19.3k [00:00<00:00, 2.90MB/s]\n",
      "Resolving data files: 100%|██████████| 27/27 [00:01<00:00, 14.00it/s]\n",
      "Downloading data: 100%|██████████| 165M/165M [00:33<00:00, 4.91MB/s] \n",
      "Downloading data: 100%|██████████| 156M/156M [00:37<00:00, 4.16MB/s] \n",
      "Downloading data: 100%|██████████| 166M/166M [00:35<00:00, 4.65MB/s] \n",
      "Downloading data: 100%|██████████| 155M/155M [00:33<00:00, 4.63MB/s] \n",
      "Downloading data: 100%|██████████| 161M/161M [00:34<00:00, 4.69MB/s] \n",
      "Downloading data: 100%|██████████| 162M/162M [00:41<00:00, 3.87MB/s] \n",
      "Downloading data: 100%|██████████| 159M/159M [00:32<00:00, 4.85MB/s] \n",
      "Downloading data: 100%|██████████| 155M/155M [00:31<00:00, 4.86MB/s] \n",
      "Downloading data: 100%|██████████| 160M/160M [00:34<00:00, 4.65MB/s] \n",
      "Downloading data: 100%|██████████| 164M/164M [00:33<00:00, 4.88MB/s] \n",
      "Downloading data: 100%|██████████| 152M/152M [00:30<00:00, 5.05MB/s] \n",
      "Downloading data: 100%|██████████| 159M/159M [00:38<00:00, 4.18MB/s] \n",
      "Downloading data: 100%|██████████| 163M/163M [00:35<00:00, 4.64MB/s] \n",
      "Downloading data: 100%|██████████| 149M/149M [00:36<00:00, 4.15MB/s] \n",
      "Downloading data: 100%|██████████| 166M/166M [00:31<00:00, 5.19MB/s] \n",
      "Downloading data: 100%|██████████| 154M/154M [00:35<00:00, 4.40MB/s] \n",
      "Downloading data: 100%|██████████| 156M/156M [00:38<00:00, 4.08MB/s] \n",
      "Downloading data: 100%|██████████| 163M/163M [00:33<00:00, 4.91MB/s] \n",
      "Downloading data: 100%|██████████| 157M/157M [00:35<00:00, 4.43MB/s] \n",
      "Downloading data: 100%|██████████| 163M/163M [00:33<00:00, 4.87MB/s] \n",
      "Downloading data: 100%|██████████| 159M/159M [00:40<00:00, 3.88MB/s] \n",
      "Downloading data: 100%|██████████| 157M/157M [00:31<00:00, 4.94MB/s] \n",
      "Downloading data: 100%|██████████| 169M/169M [00:38<00:00, 4.41MB/s] \n",
      "Downloading data: 100%|██████████| 157M/157M [00:32<00:00, 4.81MB/s] \n",
      "Downloading data: 100%|██████████| 160M/160M [00:30<00:00, 5.17MB/s] \n",
      "Downloading data: 100%|██████████| 152M/152M [00:32<00:00, 4.75MB/s] \n",
      "Downloading data: 100%|██████████| 162M/162M [00:34<00:00, 4.71MB/s] \n",
      "Generating train split: 994019 examples [00:17, 55420.36 examples/s]\n"
     ]
    }
   ],
   "source": [
    "# specific language: SQL\n",
    "pretrain_sql_stack = load_dataset(\"bigcode/the-stack-dedup\", data_dir=\"data/sql\", split=\"train\")"
   ]
  },
  {
   "cell_type": "code",
   "execution_count": null,
   "metadata": {},
   "outputs": [],
   "source": [
    "load_dataset(\"NumbersStation/NSText2SQL\",split=\"train\")"
   ]
  }
 ],
 "metadata": {
  "kernelspec": {
   "display_name": "sql_model",
   "language": "python",
   "name": "python3"
  },
  "language_info": {
   "codemirror_mode": {
    "name": "ipython",
    "version": 3
   },
   "file_extension": ".py",
   "mimetype": "text/x-python",
   "name": "python",
   "nbconvert_exporter": "python",
   "pygments_lexer": "ipython3",
   "version": "3.10.0"
  }
 },
 "nbformat": 4,
 "nbformat_minor": 2
}
