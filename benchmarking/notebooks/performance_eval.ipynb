{
 "cells": [
  {
   "cell_type": "code",
   "execution_count": 34,
   "metadata": {},
   "outputs": [
    {
     "data": {
      "text/plain": [
       "True"
      ]
     },
     "execution_count": 34,
     "metadata": {},
     "output_type": "execute_result"
    }
   ],
   "source": [
    "%reload_ext autoreload\n",
    "%autoreload 2\n",
    "\n",
    "import sys\n",
    "sys.path.append('../../')\n",
    "\n",
    "import os\n",
    "import yaml\n",
    "import asyncio\n",
    "import time\n",
    "import statistics\n",
    "import random\n",
    "from tqdm import tqdm\n",
    "import matplotlib.pyplot as plt\n",
    "\n",
    "from langchain_community.llms.sambanova import SambaStudio, Sambaverse\n",
    "from transformers import AutoTokenizer\n",
    "from utils.sambanova_endpoint import SambaNovaEndpoint\n",
    "\n",
    "import replicate\n",
    "\n",
    "from dotenv import load_dotenv\n",
    "load_dotenv('../.env', override=True)"
   ]
  },
  {
   "cell_type": "markdown",
   "metadata": {},
   "source": [
    "# Performance evaluation"
   ]
  },
  {
   "cell_type": "code",
   "execution_count": 35,
   "metadata": {},
   "outputs": [
    {
     "data": {
      "application/vnd.jupyter.widget-view+json": {
       "model_id": "ca9bab0b8a5246feac78404b6370a121",
       "version_major": 2,
       "version_minor": 0
      },
      "text/plain": [
       "tokenizer_config.json:   0%|          | 0.00/1.62k [00:00<?, ?B/s]"
      ]
     },
     "metadata": {},
     "output_type": "display_data"
    },
    {
     "data": {
      "application/vnd.jupyter.widget-view+json": {
       "model_id": "c1bcd22281674afc92cd8030b82ca920",
       "version_major": 2,
       "version_minor": 0
      },
      "text/plain": [
       "tokenizer.model:   0%|          | 0.00/500k [00:00<?, ?B/s]"
      ]
     },
     "metadata": {},
     "output_type": "display_data"
    },
    {
     "data": {
      "application/vnd.jupyter.widget-view+json": {
       "model_id": "bab16493964549b58b5a427e9704b1c7",
       "version_major": 2,
       "version_minor": 0
      },
      "text/plain": [
       "tokenizer.json:   0%|          | 0.00/1.84M [00:00<?, ?B/s]"
      ]
     },
     "metadata": {},
     "output_type": "display_data"
    },
    {
     "data": {
      "application/vnd.jupyter.widget-view+json": {
       "model_id": "686d9a6c817445808a22b63452e2d4ed",
       "version_major": 2,
       "version_minor": 0
      },
      "text/plain": [
       "special_tokens_map.json:   0%|          | 0.00/414 [00:00<?, ?B/s]"
      ]
     },
     "metadata": {},
     "output_type": "display_data"
    }
   ],
   "source": [
    "# # Load Llama2 70b tokenizer\n",
    "# access_token = os.getenv(\"HUGGINGFACE_TOKEN\")\n",
    "# tokenizer = AutoTokenizer.from_pretrained(\"meta-llama/Llama-2-70b-chat-hf\", token=access_token)\n",
    "\n",
    "# # Load Llama2 13b tokenizer\n",
    "# access_token = os.getenv(\"HUGGINGFACE_TOKEN\")\n",
    "# tokenizer = AutoTokenizer.from_pretrained(\"meta-llama/Llama-2-13b-chat-hf\", token=access_token)\n",
    "\n",
    "# Load Llam2 7b tokenizer\n",
    "access_token = os.getenv(\"HUGGINGFACE_TOKEN\")\n",
    "tokenizer = AutoTokenizer.from_pretrained(\"meta-llama/Llama-2-7b-chat-hf\", token=access_token)"
   ]
  },
  {
   "cell_type": "code",
   "execution_count": 10,
   "metadata": {},
   "outputs": [],
   "source": [
    "def get_snovautils_llm(max_tokens_to_generate):\n",
    "    temperature = 0.01\n",
    "    do_sample = False\n",
    "    llm = SambaNovaEndpoint(\n",
    "        base_url=os.getenv('SAMBASTUDIO_BASE_URL'),\n",
    "        project_id=os.getenv('SAMBASTUDIO_PROJECT_ID'),\n",
    "        endpoint_id=os.getenv('SAMBASTUDIO_ENDPOINT_ID'),\n",
    "        api_key=os.getenv('SAMBASTUDIO_API_KEY'),\n",
    "        model_kwargs={\n",
    "            \"do_sample\": do_sample,\n",
    "            \"temperature\": temperature,\n",
    "            \"max_tokens_to_generate\": max_tokens_to_generate,\n",
    "            #\"stop_sequences\": { \"type\":\"str\", \"value\":\"\"},\n",
    "            # \"repetition_penalty\": {\"type\": \"float\", \"value\": \"1\"},\n",
    "            # \"top_k\": {\"type\": \"int\", \"value\": \"50\"},\n",
    "            # \"top_p\": {\"type\": \"float\", \"value\": \"1\"}\n",
    "        }\n",
    "    )\n",
    "    return llm\n",
    "\n",
    "def get_snovastudio_llm(max_tokens_to_generate):\n",
    "    temperature = 0.01\n",
    "    do_sample = False\n",
    "    llm = SambaStudio(\n",
    "        model_kwargs={\n",
    "            \"do_sample\": do_sample,\n",
    "            \"temperature\": temperature,\n",
    "            \"max_tokens_to_generate\": max_tokens_to_generate,\n",
    "            #\"stop_sequences\": { \"type\":\"str\", \"value\":\"\"},\n",
    "            # \"repetition_penalty\": {\"type\": \"float\", \"value\": \"1\"},\n",
    "            # \"top_k\": {\"type\": \"int\", \"value\": \"50\"},\n",
    "            # \"top_p\": {\"type\": \"float\", \"value\": \"1\"}\n",
    "        }\n",
    "    )\n",
    "    return llm\n",
    "\n",
    "# Mistral - Sambaverse\n",
    "def get_snovaverse_llm(max_tokens_to_generate):\n",
    "    temperature = 0.01\n",
    "    do_sample = False\n",
    "    sverse_llm = Sambaverse(\n",
    "        sambaverse_model_name=\"Mistral/Mistral-7B-Instruct-v0.2\",\n",
    "        model_kwargs={\n",
    "            'do_sample': do_sample, \n",
    "            'temperature': temperature,\n",
    "            'max_tokens_to_generate': max_tokens_to_generate,\n",
    "            'select_expert': \"Mistral-7B-Instruct-v0.2\",\n",
    "            'process_prompt': True\n",
    "        }\n",
    "    )\n",
    "    return sverse_llm\n",
    "\n",
    "# Llama 7b - Replicate\n",
    "class ReplicateWrapper():\n",
    "    def __init__(self, max_tokens_to_generate):\n",
    "        self.api = replicate.Client(api_token=os.getenv('REPLICATE_API_TOKEN'))\n",
    "        self.temperature = 0.1\n",
    "        self.max_length = max_tokens_to_generate\n",
    "    def invoke(self, prompt):\n",
    "        input = {\n",
    "            \"prompt\": prompt,\n",
    "            \"temperature\": self.temperature,\n",
    "            \"max_length\": self.max_length\n",
    "        }\n",
    "\n",
    "        output = self.api.run(\n",
    "            \"replicate/llama-7b:455d66312a66299fba685548fe24f66880f093007b927abd19f4356295f8577c\",\n",
    "            input=input\n",
    "        )\n",
    "        \n",
    "        return \"\".join(output) \n",
    "        \n",
    "def get_replicate_llm(max_tokens_to_generate):\n",
    "    replicate_llm = ReplicateWrapper(max_tokens_to_generate)\n",
    "    return replicate_llm\n"
   ]
  },
  {
   "cell_type": "code",
   "execution_count": 11,
   "metadata": {},
   "outputs": [],
   "source": [
    "def get_out_tokens(generated_string):\n",
    "  encoded = tokenizer(generated_string)\n",
    "  return len(encoded['input_ids'])"
   ]
  },
  {
   "cell_type": "code",
   "execution_count": 12,
   "metadata": {},
   "outputs": [],
   "source": [
    "def get_artificial_prompt(input_tokens):\n",
    "    template = 'I will repeat this sentence many times for testing. '\n",
    "    template_encoded = tokenizer(template)\n",
    "    groups = int(input_tokens / (len(template_encoded['input_ids'])-1))\n",
    "    \n",
    "    artificial_prompt = [template*(groups)]\n",
    "    prompt_encoded = tokenizer(artificial_prompt[0])\n",
    "    artificial_input_tokens = len(prompt_encoded['input_ids'])\n",
    "    \n",
    "    return artificial_prompt[0], artificial_input_tokens"
   ]
  },
  {
   "cell_type": "code",
   "execution_count": 18,
   "metadata": {},
   "outputs": [],
   "source": [
    "latencies = []\n",
    "\n",
    "# This is a single worker, which processes the given number of requests, one after the other.\n",
    "async def worker(index, num_requests, in_tokens=2048, max_out_tokens=256):\n",
    "  print(f\"Processing concurrent worker {index}\")\n",
    "  prompt, artificial_in_tokens = get_artificial_prompt(in_tokens)\n",
    "  llm = get_snovastudio_llm(max_out_tokens)\n",
    "  # Sleep some time to offset the threads.\n",
    "  await asyncio.sleep(0.01*index)\n",
    "  \n",
    "  for _ in tqdm(range(num_requests)):\n",
    "    request_start_time = time.time()\n",
    "    generated_ouput = llm.invoke(prompt[0])\n",
    "    latency = time.time() - request_start_time\n",
    "    out_tokens = get_out_tokens(generated_ouput)\n",
    "    latencies.append((artificial_in_tokens, out_tokens, latency))\n",
    "    \n",
    "async def dummy_worker(index, num_requests, in_tokens=2048, max_out_tokens=256):\n",
    "  asyncio.sleep(0.01*index)\n",
    "  for _ in tqdm(range(num_requests)):\n",
    "    latency = random.randint(0,9)*index\n",
    "    latencies.append((in_tokens, max_out_tokens, latency))"
   ]
  },
  {
   "cell_type": "code",
   "execution_count": 14,
   "metadata": {},
   "outputs": [],
   "source": [
    "# This code runs parallel_requests's parallel sets of queries with num_requests_per_worker queries per worker.\n",
    "async def single_benchmark(num_requests_per_worker, num_workers, in_tokens=2048, out_tokens=256):\n",
    "  tasks = []\n",
    "  for i in range(num_workers):\n",
    "    # run worker in background\n",
    "    # task = asyncio.create_task(worker(i, num_requests_per_worker, in_tokens, out_tokens))\n",
    "    task = asyncio.create_task(worker(i, num_requests_per_worker, in_tokens, out_tokens))\n",
    "    tasks.append(task)\n",
    "  # gather results from concurrent workers \n",
    "  await asyncio.gather(*tasks)"
   ]
  },
  {
   "cell_type": "code",
   "execution_count": 28,
   "metadata": {},
   "outputs": [],
   "source": [
    "# This runs the benchmark with 1, n/2 and n output tokens to enable deriving time to first token (from 1 output token)\n",
    "# and the time per token by looking at the difference in latency between 64 and 128 output tokens.\n",
    "async def benchmark(parallel_workers=1, in_tokens=2048, out_tokens=256, num_requests_per_worker=5):\n",
    "  # store statistics about the number of input/outpu and the latency for each setup.\n",
    "  avg_num_input_tokens = [0, 0, 0]\n",
    "  avg_num_output_tokens = [0, 0, 0]\n",
    "  median_latency = [0, 0, 0]\n",
    "  \n",
    "  print(f\"Parallel queries {parallel_workers}\")\n",
    "  for i, out_tokens in enumerate([1, out_tokens/2, out_tokens]):\n",
    "    \n",
    "    # Clear the latencies array so that we get fresh statistics.\n",
    "    latencies.clear()\n",
    "    await single_benchmark(num_requests_per_worker, parallel_workers, in_tokens, out_tokens)\n",
    "    \n",
    "    # Compute the median latency and the mean number of tokens.\n",
    "    avg_num_input_tokens[i] = statistics.mean([inp for inp, _, _ in latencies])\n",
    "    avg_num_output_tokens[i] = statistics.mean([outp for _, outp, _ in latencies])\n",
    "    median_latency[i] = statistics.median([latency for _, _, latency in latencies])\n",
    "    \n",
    "    tokens_per_sec = (avg_num_input_tokens[i]+avg_num_output_tokens[i])*parallel_workers/median_latency[i]\n",
    "    print(f'Output tokens {avg_num_output_tokens[i]}, median latency (s): {round(median_latency[i], 2)}, tokens per second {round(tokens_per_sec, 1)}')\n",
    "  \n",
    "  # We use difference in the time between out_tokens/2 and out_tokens to generate find the time per output token\n",
    "  # these are stored in median_latency[1] and median_latency[2] respectively\n",
    "  # We use the time to generate just 1 token to get the time to first token, this is stored in median_latency[0]\n",
    "  output_token_time = (median_latency[2] - median_latency[1])*1000/(avg_num_output_tokens[2]-avg_num_output_tokens[1])\n",
    "  print(f'Time to first token (s): {round(median_latency[0],2)}, Time per output token (ms) {round(output_token_time,2)}')\n",
    "\n",
    "  output = {\n",
    "    'parallel_workers': parallel_workers,\n",
    "    'performance_metrics': {\n",
    "      'TTFT': round(median_latency[0],2),\n",
    "      'TPOT': output_token_time,\n",
    "      'latency': median_latency[2],\n",
    "      'throughput': (avg_num_input_tokens[2]+avg_num_output_tokens[2])*parallel_workers/median_latency[2]\n",
    "    }\n",
    "  }\n",
    "  data.append(output)"
   ]
  },
  {
   "cell_type": "markdown",
   "metadata": {},
   "source": [
    "## Run benchmarking"
   ]
  },
  {
   "cell_type": "markdown",
   "metadata": {},
   "source": [
    "## Example with Llama2 70B SambaStudio"
   ]
  },
  {
   "cell_type": "code",
   "execution_count": null,
   "metadata": {},
   "outputs": [],
   "source": [
    "# Number of input and outut tokens to benchmark\n",
    "input_tokens = 2048\n",
    "output_tokens = 256\n",
    "# Number of requests per worker(thread), higher gives more accurate results\n",
    "num_requests_per_worker = 20"
   ]
  },
  {
   "cell_type": "code",
   "execution_count": null,
   "metadata": {},
   "outputs": [],
   "source": [
    "# This will run until the throughput of the model is no longer increasing by 10%.\n",
    "data = []\n",
    "for parallel_workers in [1, 2, 4, 8]:\n",
    "  print(f\"Number of ideal input tokens {input_tokens}\")\n",
    "  await benchmark(parallel_workers, input_tokens, output_tokens, num_requests_per_worker)\n",
    "  # Break if the throughput doesn't increase by more than 10%\n",
    "  if len(data) > 1 and (data[-1]['throughput'] - data[-2]['throughput'])/data[-2]['throughput'] < 0.1:\n",
    "    break"
   ]
  },
  {
   "cell_type": "code",
   "execution_count": null,
   "metadata": {},
   "outputs": [
    {
     "data": {
      "image/png": "[encoded data removed]",
      "text/plain": [
       "<Figure size 640x480 with 1 Axes>"
      ]
     },
     "metadata": {},
     "output_type": "display_data"
    }
   ],
   "source": [
    "# Plot the latency vs throughput curve\n",
    "plt.xlabel(\"Latency (s)\")\n",
    "plt.ylabel(\"Throughput (tok/s)\")\n",
    "line = plt.plot([x['latency'] for x in data], [x['throughput'] for x in data], marker='o')\n",
    "plt.show()"
   ]
  },
  {
   "cell_type": "markdown",
   "metadata": {},
   "source": [
    "## Example using Mistral from Sambaverse - Hit max tries"
   ]
  },
  {
   "cell_type": "code",
   "execution_count": 123,
   "metadata": {},
   "outputs": [],
   "source": [
    "# Number of input and outut tokens to benchmark\n",
    "input_tokens = 50\n",
    "output_tokens = 50\n",
    "# Number of requests per worker(thread), higher gives more accurate results\n",
    "num_requests_per_worker = 20"
   ]
  },
  {
   "cell_type": "code",
   "execution_count": 124,
   "metadata": {},
   "outputs": [
    {
     "name": "stdout",
     "output_type": "stream",
     "text": [
      "Number of ideal input tokens 50\n",
      "Parallel queries 1\n",
      "Processing concurrent worker 0\n"
     ]
    },
    {
     "name": "stderr",
     "output_type": "stream",
     "text": [
      "100%|██████████| 20/20 [00:30<00:00,  1.51s/it]\n"
     ]
    },
    {
     "name": "stdout",
     "output_type": "stream",
     "text": [
      "Output tokens 2, median latency (s): 1.09, tokens per second 40.5\n",
      "Processing concurrent worker 0\n"
     ]
    },
    {
     "name": "stderr",
     "output_type": "stream",
     "text": [
      " 50%|█████     | 10/20 [00:11<00:11,  1.19s/it]"
     ]
    },
    {
     "name": "stdout",
     "output_type": "stream",
     "text": [
      "{'detail': 'Expecting value: line 1 column 1 (char 0)', 'status_code': 429}\n"
     ]
    },
    {
     "name": "stderr",
     "output_type": "stream",
     "text": [
      "\n"
     ]
    },
    {
     "ename": "ValueError",
     "evalue": "Error raised by the inference endpoint: 'details'",
     "output_type": "error",
     "traceback": [
      "\u001b[0;31m---------------------------------------------------------------------------\u001b[0m",
      "\u001b[0;31mKeyError\u001b[0m                                  Traceback (most recent call last)",
      "File \u001b[0;32m/opt/homebrew/Caskroom/miniconda/base/envs/py310/lib/python3.10/site-packages/langchain_community/llms/sambanova.py:450\u001b[0m, in \u001b[0;36mSambaverse._call\u001b[0;34m(self, prompt, stop, run_manager, **kwargs)\u001b[0m\n\u001b[1;32m    449\u001b[0m         \u001b[38;5;28;01mreturn\u001b[39;00m \u001b[38;5;28mself\u001b[39m\u001b[38;5;241m.\u001b[39m_handle_stream_request(prompt, stop, run_manager, kwargs)\n\u001b[0;32m--> 450\u001b[0m     \u001b[38;5;28;01mreturn\u001b[39;00m \u001b[38;5;28;43mself\u001b[39;49m\u001b[38;5;241;43m.\u001b[39;49m\u001b[43m_handle_completion_requests\u001b[49m\u001b[43m(\u001b[49m\u001b[43mprompt\u001b[49m\u001b[43m,\u001b[49m\u001b[43m \u001b[49m\u001b[43mstop\u001b[49m\u001b[43m)\u001b[49m\n\u001b[1;32m    451\u001b[0m \u001b[38;5;28;01mexcept\u001b[39;00m \u001b[38;5;167;01mException\u001b[39;00m \u001b[38;5;28;01mas\u001b[39;00m e:\n\u001b[1;32m    452\u001b[0m     \u001b[38;5;66;03m# Handle any errors raised by the inference endpoint\u001b[39;00m\n",
      "File \u001b[0;32m/opt/homebrew/Caskroom/miniconda/base/envs/py310/lib/python3.10/site-packages/langchain_community/llms/sambanova.py:343\u001b[0m, in \u001b[0;36mSambaverse._handle_completion_requests\u001b[0;34m(self, prompt, stop)\u001b[0m\n\u001b[1;32m    342\u001b[0m tuning_params \u001b[38;5;241m=\u001b[39m \u001b[38;5;28mself\u001b[39m\u001b[38;5;241m.\u001b[39m_get_tuning_params(stop)\n\u001b[0;32m--> 343\u001b[0m \u001b[38;5;28;01mreturn\u001b[39;00m \u001b[38;5;28;43mself\u001b[39;49m\u001b[38;5;241;43m.\u001b[39;49m\u001b[43m_handle_nlp_predict\u001b[49m\u001b[43m(\u001b[49m\u001b[43mss_endpoint\u001b[49m\u001b[43m,\u001b[49m\u001b[43m \u001b[49m\u001b[43mprompt\u001b[49m\u001b[43m,\u001b[49m\u001b[43m \u001b[49m\u001b[43mtuning_params\u001b[49m\u001b[43m)\u001b[49m\n",
      "File \u001b[0;32m/opt/homebrew/Caskroom/miniconda/base/envs/py310/lib/python3.10/site-packages/langchain_community/llms/sambanova.py:316\u001b[0m, in \u001b[0;36mSambaverse._handle_nlp_predict\u001b[0;34m(self, sdk, prompt, tuning_params)\u001b[0m\n\u001b[1;32m    315\u001b[0m \u001b[38;5;28mprint\u001b[39m(response)\n\u001b[0;32m--> 316\u001b[0m optional_details \u001b[38;5;241m=\u001b[39m \u001b[43mresponse\u001b[49m\u001b[43m[\u001b[49m\u001b[38;5;124;43m\"\u001b[39;49m\u001b[38;5;124;43mdetails\u001b[39;49m\u001b[38;5;124;43m\"\u001b[39;49m\u001b[43m]\u001b[49m\n\u001b[1;32m    317\u001b[0m optional_message \u001b[38;5;241m=\u001b[39m response[\u001b[38;5;124m\"\u001b[39m\u001b[38;5;124mmessage\u001b[39m\u001b[38;5;124m\"\u001b[39m]\n",
      "\u001b[0;31mKeyError\u001b[0m: 'details'",
      "\nThe above exception was the direct cause of the following exception:\n",
      "\u001b[0;31mValueError\u001b[0m                                Traceback (most recent call last)",
      "Cell \u001b[0;32mIn[124], line 6\u001b[0m\n\u001b[1;32m      4\u001b[0m \u001b[38;5;28;01mfor\u001b[39;00m parallel_workers \u001b[38;5;129;01min\u001b[39;00m [\u001b[38;5;241m1\u001b[39m, \u001b[38;5;241m2\u001b[39m, \u001b[38;5;241m4\u001b[39m, \u001b[38;5;241m8\u001b[39m]:\n\u001b[1;32m      5\u001b[0m   \u001b[38;5;28mprint\u001b[39m(\u001b[38;5;124mf\u001b[39m\u001b[38;5;124m\"\u001b[39m\u001b[38;5;124mNumber of ideal input tokens \u001b[39m\u001b[38;5;132;01m{\u001b[39;00minput_tokens\u001b[38;5;132;01m}\u001b[39;00m\u001b[38;5;124m\"\u001b[39m)\n\u001b[0;32m----> 6\u001b[0m   \u001b[38;5;28;01mawait\u001b[39;00m benchmark(parallel_workers, input_tokens, output_tokens, num_requests_per_worker)\n\u001b[1;32m      7\u001b[0m   \u001b[38;5;66;03m# Break if the throughput doesn't increase by more than 10%\u001b[39;00m\n\u001b[1;32m      8\u001b[0m   \u001b[38;5;28;01mif\u001b[39;00m \u001b[38;5;28mlen\u001b[39m(data) \u001b[38;5;241m>\u001b[39m \u001b[38;5;241m1\u001b[39m \u001b[38;5;129;01mand\u001b[39;00m (data[\u001b[38;5;241m-\u001b[39m\u001b[38;5;241m1\u001b[39m][\u001b[38;5;124m'\u001b[39m\u001b[38;5;124mthroughput\u001b[39m\u001b[38;5;124m'\u001b[39m] \u001b[38;5;241m-\u001b[39m data[\u001b[38;5;241m-\u001b[39m\u001b[38;5;241m2\u001b[39m][\u001b[38;5;124m'\u001b[39m\u001b[38;5;124mthroughput\u001b[39m\u001b[38;5;124m'\u001b[39m])\u001b[38;5;241m/\u001b[39mdata[\u001b[38;5;241m-\u001b[39m\u001b[38;5;241m2\u001b[39m][\u001b[38;5;124m'\u001b[39m\u001b[38;5;124mthroughput\u001b[39m\u001b[38;5;124m'\u001b[39m] \u001b[38;5;241m<\u001b[39m \u001b[38;5;241m0.1\u001b[39m:\n",
      "Cell \u001b[0;32mIn[122], line 14\u001b[0m, in \u001b[0;36mbenchmark\u001b[0;34m(parallel_workers, in_tokens, out_tokens, num_requests_per_worker)\u001b[0m\n\u001b[1;32m     10\u001b[0m \u001b[38;5;28;01mfor\u001b[39;00m i, out_tokens \u001b[38;5;129;01min\u001b[39;00m \u001b[38;5;28menumerate\u001b[39m([\u001b[38;5;241m1\u001b[39m, out_tokens\u001b[38;5;241m/\u001b[39m\u001b[38;5;241m2\u001b[39m, out_tokens]):\n\u001b[1;32m     11\u001b[0m   \n\u001b[1;32m     12\u001b[0m   \u001b[38;5;66;03m# Clear the latencies array so that we get fresh statistics.\u001b[39;00m\n\u001b[1;32m     13\u001b[0m   latencies\u001b[38;5;241m.\u001b[39mclear()\n\u001b[0;32m---> 14\u001b[0m   \u001b[38;5;28;01mawait\u001b[39;00m single_benchmark(num_requests_per_worker, parallel_workers, in_tokens, out_tokens)\n\u001b[1;32m     16\u001b[0m   \u001b[38;5;66;03m# Compute the median latency and the mean number of tokens.\u001b[39;00m\n\u001b[1;32m     17\u001b[0m   avg_num_input_tokens[i] \u001b[38;5;241m=\u001b[39m statistics\u001b[38;5;241m.\u001b[39mmean([inp \u001b[38;5;28;01mfor\u001b[39;00m inp, _, _ \u001b[38;5;129;01min\u001b[39;00m latencies])\n",
      "Cell \u001b[0;32mIn[114], line 10\u001b[0m, in \u001b[0;36msingle_benchmark\u001b[0;34m(num_requests_per_worker, num_workers, in_tokens, out_tokens)\u001b[0m\n\u001b[1;32m      8\u001b[0m   tasks\u001b[38;5;241m.\u001b[39mappend(task)\n\u001b[1;32m      9\u001b[0m \u001b[38;5;66;03m# gather results from concurrent workers \u001b[39;00m\n\u001b[0;32m---> 10\u001b[0m \u001b[38;5;28;01mawait\u001b[39;00m asyncio\u001b[38;5;241m.\u001b[39mgather(\u001b[38;5;241m*\u001b[39mtasks)\n",
      "Cell \u001b[0;32mIn[121], line 13\u001b[0m, in \u001b[0;36mworker\u001b[0;34m(index, num_requests, in_tokens, max_out_tokens)\u001b[0m\n\u001b[1;32m     11\u001b[0m \u001b[38;5;28;01mfor\u001b[39;00m _ \u001b[38;5;129;01min\u001b[39;00m tqdm(\u001b[38;5;28mrange\u001b[39m(num_requests)):\n\u001b[1;32m     12\u001b[0m   request_start_time \u001b[38;5;241m=\u001b[39m time\u001b[38;5;241m.\u001b[39mtime()\n\u001b[0;32m---> 13\u001b[0m   generated_ouput \u001b[38;5;241m=\u001b[39m \u001b[43mllm\u001b[49m\u001b[38;5;241;43m.\u001b[39;49m\u001b[43minvoke\u001b[49m\u001b[43m(\u001b[49m\u001b[43mprompt\u001b[49m\u001b[43m[\u001b[49m\u001b[38;5;241;43m0\u001b[39;49m\u001b[43m]\u001b[49m\u001b[43m)\u001b[49m\n\u001b[1;32m     14\u001b[0m   latency \u001b[38;5;241m=\u001b[39m time\u001b[38;5;241m.\u001b[39mtime() \u001b[38;5;241m-\u001b[39m request_start_time\n\u001b[1;32m     15\u001b[0m   out_tokens \u001b[38;5;241m=\u001b[39m get_out_tokens(generated_ouput)\n",
      "File \u001b[0;32m/opt/homebrew/Caskroom/miniconda/base/envs/py310/lib/python3.10/site-packages/langchain_core/language_models/llms.py:276\u001b[0m, in \u001b[0;36mBaseLLM.invoke\u001b[0;34m(self, input, config, stop, **kwargs)\u001b[0m\n\u001b[1;32m    266\u001b[0m \u001b[38;5;28;01mdef\u001b[39;00m \u001b[38;5;21minvoke\u001b[39m(\n\u001b[1;32m    267\u001b[0m     \u001b[38;5;28mself\u001b[39m,\n\u001b[1;32m    268\u001b[0m     \u001b[38;5;28minput\u001b[39m: LanguageModelInput,\n\u001b[0;32m   (...)\u001b[0m\n\u001b[1;32m    272\u001b[0m     \u001b[38;5;241m*\u001b[39m\u001b[38;5;241m*\u001b[39mkwargs: Any,\n\u001b[1;32m    273\u001b[0m ) \u001b[38;5;241m-\u001b[39m\u001b[38;5;241m>\u001b[39m \u001b[38;5;28mstr\u001b[39m:\n\u001b[1;32m    274\u001b[0m     config \u001b[38;5;241m=\u001b[39m ensure_config(config)\n\u001b[1;32m    275\u001b[0m     \u001b[38;5;28;01mreturn\u001b[39;00m (\n\u001b[0;32m--> 276\u001b[0m         \u001b[38;5;28;43mself\u001b[39;49m\u001b[38;5;241;43m.\u001b[39;49m\u001b[43mgenerate_prompt\u001b[49m\u001b[43m(\u001b[49m\n\u001b[1;32m    277\u001b[0m \u001b[43m            \u001b[49m\u001b[43m[\u001b[49m\u001b[38;5;28;43mself\u001b[39;49m\u001b[38;5;241;43m.\u001b[39;49m\u001b[43m_convert_input\u001b[49m\u001b[43m(\u001b[49m\u001b[38;5;28;43minput\u001b[39;49m\u001b[43m)\u001b[49m\u001b[43m]\u001b[49m\u001b[43m,\u001b[49m\n\u001b[1;32m    278\u001b[0m \u001b[43m            \u001b[49m\u001b[43mstop\u001b[49m\u001b[38;5;241;43m=\u001b[39;49m\u001b[43mstop\u001b[49m\u001b[43m,\u001b[49m\n\u001b[1;32m    279\u001b[0m \u001b[43m            \u001b[49m\u001b[43mcallbacks\u001b[49m\u001b[38;5;241;43m=\u001b[39;49m\u001b[43mconfig\u001b[49m\u001b[38;5;241;43m.\u001b[39;49m\u001b[43mget\u001b[49m\u001b[43m(\u001b[49m\u001b[38;5;124;43m\"\u001b[39;49m\u001b[38;5;124;43mcallbacks\u001b[39;49m\u001b[38;5;124;43m\"\u001b[39;49m\u001b[43m)\u001b[49m\u001b[43m,\u001b[49m\n\u001b[1;32m    280\u001b[0m \u001b[43m            \u001b[49m\u001b[43mtags\u001b[49m\u001b[38;5;241;43m=\u001b[39;49m\u001b[43mconfig\u001b[49m\u001b[38;5;241;43m.\u001b[39;49m\u001b[43mget\u001b[49m\u001b[43m(\u001b[49m\u001b[38;5;124;43m\"\u001b[39;49m\u001b[38;5;124;43mtags\u001b[39;49m\u001b[38;5;124;43m\"\u001b[39;49m\u001b[43m)\u001b[49m\u001b[43m,\u001b[49m\n\u001b[1;32m    281\u001b[0m \u001b[43m            \u001b[49m\u001b[43mmetadata\u001b[49m\u001b[38;5;241;43m=\u001b[39;49m\u001b[43mconfig\u001b[49m\u001b[38;5;241;43m.\u001b[39;49m\u001b[43mget\u001b[49m\u001b[43m(\u001b[49m\u001b[38;5;124;43m\"\u001b[39;49m\u001b[38;5;124;43mmetadata\u001b[39;49m\u001b[38;5;124;43m\"\u001b[39;49m\u001b[43m)\u001b[49m\u001b[43m,\u001b[49m\n\u001b[1;32m    282\u001b[0m \u001b[43m            \u001b[49m\u001b[43mrun_name\u001b[49m\u001b[38;5;241;43m=\u001b[39;49m\u001b[43mconfig\u001b[49m\u001b[38;5;241;43m.\u001b[39;49m\u001b[43mget\u001b[49m\u001b[43m(\u001b[49m\u001b[38;5;124;43m\"\u001b[39;49m\u001b[38;5;124;43mrun_name\u001b[39;49m\u001b[38;5;124;43m\"\u001b[39;49m\u001b[43m)\u001b[49m\u001b[43m,\u001b[49m\n\u001b[1;32m    283\u001b[0m \u001b[43m            \u001b[49m\u001b[43mrun_id\u001b[49m\u001b[38;5;241;43m=\u001b[39;49m\u001b[43mconfig\u001b[49m\u001b[38;5;241;43m.\u001b[39;49m\u001b[43mpop\u001b[49m\u001b[43m(\u001b[49m\u001b[38;5;124;43m\"\u001b[39;49m\u001b[38;5;124;43mrun_id\u001b[39;49m\u001b[38;5;124;43m\"\u001b[39;49m\u001b[43m,\u001b[49m\u001b[43m \u001b[49m\u001b[38;5;28;43;01mNone\u001b[39;49;00m\u001b[43m)\u001b[49m\u001b[43m,\u001b[49m\n\u001b[1;32m    284\u001b[0m \u001b[43m            \u001b[49m\u001b[38;5;241;43m*\u001b[39;49m\u001b[38;5;241;43m*\u001b[39;49m\u001b[43mkwargs\u001b[49m\u001b[43m,\u001b[49m\n\u001b[1;32m    285\u001b[0m \u001b[43m        \u001b[49m\u001b[43m)\u001b[49m\n\u001b[1;32m    286\u001b[0m         \u001b[38;5;241m.\u001b[39mgenerations[\u001b[38;5;241m0\u001b[39m][\u001b[38;5;241m0\u001b[39m]\n\u001b[1;32m    287\u001b[0m         \u001b[38;5;241m.\u001b[39mtext\n\u001b[1;32m    288\u001b[0m     )\n",
      "File \u001b[0;32m/opt/homebrew/Caskroom/miniconda/base/envs/py310/lib/python3.10/site-packages/langchain_core/language_models/llms.py:633\u001b[0m, in \u001b[0;36mBaseLLM.generate_prompt\u001b[0;34m(self, prompts, stop, callbacks, **kwargs)\u001b[0m\n\u001b[1;32m    625\u001b[0m \u001b[38;5;28;01mdef\u001b[39;00m \u001b[38;5;21mgenerate_prompt\u001b[39m(\n\u001b[1;32m    626\u001b[0m     \u001b[38;5;28mself\u001b[39m,\n\u001b[1;32m    627\u001b[0m     prompts: List[PromptValue],\n\u001b[0;32m   (...)\u001b[0m\n\u001b[1;32m    630\u001b[0m     \u001b[38;5;241m*\u001b[39m\u001b[38;5;241m*\u001b[39mkwargs: Any,\n\u001b[1;32m    631\u001b[0m ) \u001b[38;5;241m-\u001b[39m\u001b[38;5;241m>\u001b[39m LLMResult:\n\u001b[1;32m    632\u001b[0m     prompt_strings \u001b[38;5;241m=\u001b[39m [p\u001b[38;5;241m.\u001b[39mto_string() \u001b[38;5;28;01mfor\u001b[39;00m p \u001b[38;5;129;01min\u001b[39;00m prompts]\n\u001b[0;32m--> 633\u001b[0m     \u001b[38;5;28;01mreturn\u001b[39;00m \u001b[38;5;28;43mself\u001b[39;49m\u001b[38;5;241;43m.\u001b[39;49m\u001b[43mgenerate\u001b[49m\u001b[43m(\u001b[49m\u001b[43mprompt_strings\u001b[49m\u001b[43m,\u001b[49m\u001b[43m \u001b[49m\u001b[43mstop\u001b[49m\u001b[38;5;241;43m=\u001b[39;49m\u001b[43mstop\u001b[49m\u001b[43m,\u001b[49m\u001b[43m \u001b[49m\u001b[43mcallbacks\u001b[49m\u001b[38;5;241;43m=\u001b[39;49m\u001b[43mcallbacks\u001b[49m\u001b[43m,\u001b[49m\u001b[43m \u001b[49m\u001b[38;5;241;43m*\u001b[39;49m\u001b[38;5;241;43m*\u001b[39;49m\u001b[43mkwargs\u001b[49m\u001b[43m)\u001b[49m\n",
      "File \u001b[0;32m/opt/homebrew/Caskroom/miniconda/base/envs/py310/lib/python3.10/site-packages/langchain_core/language_models/llms.py:803\u001b[0m, in \u001b[0;36mBaseLLM.generate\u001b[0;34m(self, prompts, stop, callbacks, tags, metadata, run_name, run_id, **kwargs)\u001b[0m\n\u001b[1;32m    788\u001b[0m \u001b[38;5;28;01mif\u001b[39;00m (\u001b[38;5;28mself\u001b[39m\u001b[38;5;241m.\u001b[39mcache \u001b[38;5;129;01mis\u001b[39;00m \u001b[38;5;28;01mNone\u001b[39;00m \u001b[38;5;129;01mand\u001b[39;00m get_llm_cache() \u001b[38;5;129;01mis\u001b[39;00m \u001b[38;5;28;01mNone\u001b[39;00m) \u001b[38;5;129;01mor\u001b[39;00m \u001b[38;5;28mself\u001b[39m\u001b[38;5;241m.\u001b[39mcache \u001b[38;5;129;01mis\u001b[39;00m \u001b[38;5;28;01mFalse\u001b[39;00m:\n\u001b[1;32m    789\u001b[0m     run_managers \u001b[38;5;241m=\u001b[39m [\n\u001b[1;32m    790\u001b[0m         callback_manager\u001b[38;5;241m.\u001b[39mon_llm_start(\n\u001b[1;32m    791\u001b[0m             dumpd(\u001b[38;5;28mself\u001b[39m),\n\u001b[0;32m   (...)\u001b[0m\n\u001b[1;32m    801\u001b[0m         )\n\u001b[1;32m    802\u001b[0m     ]\n\u001b[0;32m--> 803\u001b[0m     output \u001b[38;5;241m=\u001b[39m \u001b[38;5;28;43mself\u001b[39;49m\u001b[38;5;241;43m.\u001b[39;49m\u001b[43m_generate_helper\u001b[49m\u001b[43m(\u001b[49m\n\u001b[1;32m    804\u001b[0m \u001b[43m        \u001b[49m\u001b[43mprompts\u001b[49m\u001b[43m,\u001b[49m\u001b[43m \u001b[49m\u001b[43mstop\u001b[49m\u001b[43m,\u001b[49m\u001b[43m \u001b[49m\u001b[43mrun_managers\u001b[49m\u001b[43m,\u001b[49m\u001b[43m \u001b[49m\u001b[38;5;28;43mbool\u001b[39;49m\u001b[43m(\u001b[49m\u001b[43mnew_arg_supported\u001b[49m\u001b[43m)\u001b[49m\u001b[43m,\u001b[49m\u001b[43m \u001b[49m\u001b[38;5;241;43m*\u001b[39;49m\u001b[38;5;241;43m*\u001b[39;49m\u001b[43mkwargs\u001b[49m\n\u001b[1;32m    805\u001b[0m \u001b[43m    \u001b[49m\u001b[43m)\u001b[49m\n\u001b[1;32m    806\u001b[0m     \u001b[38;5;28;01mreturn\u001b[39;00m output\n\u001b[1;32m    807\u001b[0m \u001b[38;5;28;01mif\u001b[39;00m \u001b[38;5;28mlen\u001b[39m(missing_prompts) \u001b[38;5;241m>\u001b[39m \u001b[38;5;241m0\u001b[39m:\n",
      "File \u001b[0;32m/opt/homebrew/Caskroom/miniconda/base/envs/py310/lib/python3.10/site-packages/langchain_core/language_models/llms.py:670\u001b[0m, in \u001b[0;36mBaseLLM._generate_helper\u001b[0;34m(self, prompts, stop, run_managers, new_arg_supported, **kwargs)\u001b[0m\n\u001b[1;32m    668\u001b[0m     \u001b[38;5;28;01mfor\u001b[39;00m run_manager \u001b[38;5;129;01min\u001b[39;00m run_managers:\n\u001b[1;32m    669\u001b[0m         run_manager\u001b[38;5;241m.\u001b[39mon_llm_error(e, response\u001b[38;5;241m=\u001b[39mLLMResult(generations\u001b[38;5;241m=\u001b[39m[]))\n\u001b[0;32m--> 670\u001b[0m     \u001b[38;5;28;01mraise\u001b[39;00m e\n\u001b[1;32m    671\u001b[0m flattened_outputs \u001b[38;5;241m=\u001b[39m output\u001b[38;5;241m.\u001b[39mflatten()\n\u001b[1;32m    672\u001b[0m \u001b[38;5;28;01mfor\u001b[39;00m manager, flattened_output \u001b[38;5;129;01min\u001b[39;00m \u001b[38;5;28mzip\u001b[39m(run_managers, flattened_outputs):\n",
      "File \u001b[0;32m/opt/homebrew/Caskroom/miniconda/base/envs/py310/lib/python3.10/site-packages/langchain_core/language_models/llms.py:657\u001b[0m, in \u001b[0;36mBaseLLM._generate_helper\u001b[0;34m(self, prompts, stop, run_managers, new_arg_supported, **kwargs)\u001b[0m\n\u001b[1;32m    647\u001b[0m \u001b[38;5;28;01mdef\u001b[39;00m \u001b[38;5;21m_generate_helper\u001b[39m(\n\u001b[1;32m    648\u001b[0m     \u001b[38;5;28mself\u001b[39m,\n\u001b[1;32m    649\u001b[0m     prompts: List[\u001b[38;5;28mstr\u001b[39m],\n\u001b[0;32m   (...)\u001b[0m\n\u001b[1;32m    653\u001b[0m     \u001b[38;5;241m*\u001b[39m\u001b[38;5;241m*\u001b[39mkwargs: Any,\n\u001b[1;32m    654\u001b[0m ) \u001b[38;5;241m-\u001b[39m\u001b[38;5;241m>\u001b[39m LLMResult:\n\u001b[1;32m    655\u001b[0m     \u001b[38;5;28;01mtry\u001b[39;00m:\n\u001b[1;32m    656\u001b[0m         output \u001b[38;5;241m=\u001b[39m (\n\u001b[0;32m--> 657\u001b[0m             \u001b[38;5;28;43mself\u001b[39;49m\u001b[38;5;241;43m.\u001b[39;49m\u001b[43m_generate\u001b[49m\u001b[43m(\u001b[49m\n\u001b[1;32m    658\u001b[0m \u001b[43m                \u001b[49m\u001b[43mprompts\u001b[49m\u001b[43m,\u001b[49m\n\u001b[1;32m    659\u001b[0m \u001b[43m                \u001b[49m\u001b[43mstop\u001b[49m\u001b[38;5;241;43m=\u001b[39;49m\u001b[43mstop\u001b[49m\u001b[43m,\u001b[49m\n\u001b[1;32m    660\u001b[0m \u001b[43m                \u001b[49m\u001b[38;5;66;43;03m# TODO: support multiple run managers\u001b[39;49;00m\n\u001b[1;32m    661\u001b[0m \u001b[43m                \u001b[49m\u001b[43mrun_manager\u001b[49m\u001b[38;5;241;43m=\u001b[39;49m\u001b[43mrun_managers\u001b[49m\u001b[43m[\u001b[49m\u001b[38;5;241;43m0\u001b[39;49m\u001b[43m]\u001b[49m\u001b[43m \u001b[49m\u001b[38;5;28;43;01mif\u001b[39;49;00m\u001b[43m \u001b[49m\u001b[43mrun_managers\u001b[49m\u001b[43m \u001b[49m\u001b[38;5;28;43;01melse\u001b[39;49;00m\u001b[43m \u001b[49m\u001b[38;5;28;43;01mNone\u001b[39;49;00m\u001b[43m,\u001b[49m\n\u001b[1;32m    662\u001b[0m \u001b[43m                \u001b[49m\u001b[38;5;241;43m*\u001b[39;49m\u001b[38;5;241;43m*\u001b[39;49m\u001b[43mkwargs\u001b[49m\u001b[43m,\u001b[49m\n\u001b[1;32m    663\u001b[0m \u001b[43m            \u001b[49m\u001b[43m)\u001b[49m\n\u001b[1;32m    664\u001b[0m             \u001b[38;5;28;01mif\u001b[39;00m new_arg_supported\n\u001b[1;32m    665\u001b[0m             \u001b[38;5;28;01melse\u001b[39;00m \u001b[38;5;28mself\u001b[39m\u001b[38;5;241m.\u001b[39m_generate(prompts, stop\u001b[38;5;241m=\u001b[39mstop)\n\u001b[1;32m    666\u001b[0m         )\n\u001b[1;32m    667\u001b[0m     \u001b[38;5;28;01mexcept\u001b[39;00m \u001b[38;5;167;01mBaseException\u001b[39;00m \u001b[38;5;28;01mas\u001b[39;00m e:\n\u001b[1;32m    668\u001b[0m         \u001b[38;5;28;01mfor\u001b[39;00m run_manager \u001b[38;5;129;01min\u001b[39;00m run_managers:\n",
      "File \u001b[0;32m/opt/homebrew/Caskroom/miniconda/base/envs/py310/lib/python3.10/site-packages/langchain_core/language_models/llms.py:1317\u001b[0m, in \u001b[0;36mLLM._generate\u001b[0;34m(self, prompts, stop, run_manager, **kwargs)\u001b[0m\n\u001b[1;32m   1314\u001b[0m new_arg_supported \u001b[38;5;241m=\u001b[39m inspect\u001b[38;5;241m.\u001b[39msignature(\u001b[38;5;28mself\u001b[39m\u001b[38;5;241m.\u001b[39m_call)\u001b[38;5;241m.\u001b[39mparameters\u001b[38;5;241m.\u001b[39mget(\u001b[38;5;124m\"\u001b[39m\u001b[38;5;124mrun_manager\u001b[39m\u001b[38;5;124m\"\u001b[39m)\n\u001b[1;32m   1315\u001b[0m \u001b[38;5;28;01mfor\u001b[39;00m prompt \u001b[38;5;129;01min\u001b[39;00m prompts:\n\u001b[1;32m   1316\u001b[0m     text \u001b[38;5;241m=\u001b[39m (\n\u001b[0;32m-> 1317\u001b[0m         \u001b[38;5;28;43mself\u001b[39;49m\u001b[38;5;241;43m.\u001b[39;49m\u001b[43m_call\u001b[49m\u001b[43m(\u001b[49m\u001b[43mprompt\u001b[49m\u001b[43m,\u001b[49m\u001b[43m \u001b[49m\u001b[43mstop\u001b[49m\u001b[38;5;241;43m=\u001b[39;49m\u001b[43mstop\u001b[49m\u001b[43m,\u001b[49m\u001b[43m \u001b[49m\u001b[43mrun_manager\u001b[49m\u001b[38;5;241;43m=\u001b[39;49m\u001b[43mrun_manager\u001b[49m\u001b[43m,\u001b[49m\u001b[43m \u001b[49m\u001b[38;5;241;43m*\u001b[39;49m\u001b[38;5;241;43m*\u001b[39;49m\u001b[43mkwargs\u001b[49m\u001b[43m)\u001b[49m\n\u001b[1;32m   1318\u001b[0m         \u001b[38;5;28;01mif\u001b[39;00m new_arg_supported\n\u001b[1;32m   1319\u001b[0m         \u001b[38;5;28;01melse\u001b[39;00m \u001b[38;5;28mself\u001b[39m\u001b[38;5;241m.\u001b[39m_call(prompt, stop\u001b[38;5;241m=\u001b[39mstop, \u001b[38;5;241m*\u001b[39m\u001b[38;5;241m*\u001b[39mkwargs)\n\u001b[1;32m   1320\u001b[0m     )\n\u001b[1;32m   1321\u001b[0m     generations\u001b[38;5;241m.\u001b[39mappend([Generation(text\u001b[38;5;241m=\u001b[39mtext)])\n\u001b[1;32m   1322\u001b[0m \u001b[38;5;28;01mreturn\u001b[39;00m LLMResult(generations\u001b[38;5;241m=\u001b[39mgenerations)\n",
      "File \u001b[0;32m/opt/homebrew/Caskroom/miniconda/base/envs/py310/lib/python3.10/site-packages/langchain_community/llms/sambanova.py:453\u001b[0m, in \u001b[0;36mSambaverse._call\u001b[0;34m(self, prompt, stop, run_manager, **kwargs)\u001b[0m\n\u001b[1;32m    450\u001b[0m     \u001b[38;5;28;01mreturn\u001b[39;00m \u001b[38;5;28mself\u001b[39m\u001b[38;5;241m.\u001b[39m_handle_completion_requests(prompt, stop)\n\u001b[1;32m    451\u001b[0m \u001b[38;5;28;01mexcept\u001b[39;00m \u001b[38;5;167;01mException\u001b[39;00m \u001b[38;5;28;01mas\u001b[39;00m e:\n\u001b[1;32m    452\u001b[0m     \u001b[38;5;66;03m# Handle any errors raised by the inference endpoint\u001b[39;00m\n\u001b[0;32m--> 453\u001b[0m     \u001b[38;5;28;01mraise\u001b[39;00m \u001b[38;5;167;01mValueError\u001b[39;00m(\u001b[38;5;124mf\u001b[39m\u001b[38;5;124m\"\u001b[39m\u001b[38;5;124mError raised by the inference endpoint: \u001b[39m\u001b[38;5;132;01m{\u001b[39;00me\u001b[38;5;132;01m}\u001b[39;00m\u001b[38;5;124m\"\u001b[39m) \u001b[38;5;28;01mfrom\u001b[39;00m \u001b[38;5;21;01me\u001b[39;00m\n",
      "\u001b[0;31mValueError\u001b[0m: Error raised by the inference endpoint: 'details'"
     ]
    }
   ],
   "source": [
    "# This will run until the throughput of the model is no longer increasing by 10%.\n",
    "data = []\n",
    "\n",
    "for parallel_workers in [1, 2, 4, 8]:\n",
    "  print(f\"Number of ideal input tokens {input_tokens}\")\n",
    "  await benchmark(parallel_workers, input_tokens, output_tokens, num_requests_per_worker)\n",
    "  # Break if the throughput doesn't increase by more than 10%\n",
    "  if len(data) > 1 and (data[-1]['throughput'] - data[-2]['throughput'])/data[-2]['throughput'] < 0.1:\n",
    "    break"
   ]
  },
  {
   "cell_type": "markdown",
   "metadata": {},
   "source": [
    "## Example trying Replicate"
   ]
  },
  {
   "cell_type": "code",
   "execution_count": 116,
   "metadata": {},
   "outputs": [],
   "source": [
    "# Number of input and outut tokens to benchmark\n",
    "input_tokens = 50\n",
    "output_tokens = 50\n",
    "# Number of requests per worker(thread), higher gives more accurate results\n",
    "num_requests_per_worker = 25"
   ]
  },
  {
   "cell_type": "code",
   "execution_count": 117,
   "metadata": {},
   "outputs": [
    {
     "name": "stdout",
     "output_type": "stream",
     "text": [
      "Number of ideal input tokens 50\n",
      "Parallel queries 1\n",
      "Processing concurrent worker 0\n"
     ]
    },
    {
     "name": "stderr",
     "output_type": "stream",
     "text": [
      "100%|██████████| 25/25 [02:02<00:00,  4.91s/it]\n"
     ]
    },
    {
     "name": "stdout",
     "output_type": "stream",
     "text": [
      "Output tokens 2, median latency (s): 0.96, tokens per second 45.7\n",
      "Processing concurrent worker 0\n"
     ]
    },
    {
     "name": "stderr",
     "output_type": "stream",
     "text": [
      "100%|██████████| 25/25 [00:41<00:00,  1.67s/it]\n"
     ]
    },
    {
     "name": "stdout",
     "output_type": "stream",
     "text": [
      "Output tokens 24, median latency (s): 1.64, tokens per second 40.3\n",
      "Processing concurrent worker 0\n"
     ]
    },
    {
     "name": "stderr",
     "output_type": "stream",
     "text": [
      " 64%|██████▍   | 16/25 [00:37<00:21,  2.36s/it]\n"
     ]
    },
    {
     "ename": "ReplicateError",
     "evalue": "You have reached the free time limit. To continue using Replicate, set up billing at https://replicate.com/account/billing#billing.",
     "output_type": "error",
     "traceback": [
      "\u001b[0;31m---------------------------------------------------------------------------\u001b[0m",
      "\u001b[0;31mReplicateError\u001b[0m                            Traceback (most recent call last)",
      "Cell \u001b[0;32mIn[117], line 5\u001b[0m\n\u001b[1;32m      3\u001b[0m \u001b[38;5;28;01mfor\u001b[39;00m parallel_workers \u001b[38;5;129;01min\u001b[39;00m [\u001b[38;5;241m1\u001b[39m, \u001b[38;5;241m2\u001b[39m, \u001b[38;5;241m4\u001b[39m]:\n\u001b[1;32m      4\u001b[0m   \u001b[38;5;28mprint\u001b[39m(\u001b[38;5;124mf\u001b[39m\u001b[38;5;124m\"\u001b[39m\u001b[38;5;124mNumber of ideal input tokens \u001b[39m\u001b[38;5;132;01m{\u001b[39;00minput_tokens\u001b[38;5;132;01m}\u001b[39;00m\u001b[38;5;124m\"\u001b[39m)\n\u001b[0;32m----> 5\u001b[0m   \u001b[38;5;28;01mawait\u001b[39;00m benchmark(parallel_workers, input_tokens, output_tokens, num_requests_per_worker)\n\u001b[1;32m      6\u001b[0m   \u001b[38;5;66;03m# Break if the throughput doesn't increase by more than 10%\u001b[39;00m\n\u001b[1;32m      7\u001b[0m   \u001b[38;5;28;01mif\u001b[39;00m \u001b[38;5;28mlen\u001b[39m(data) \u001b[38;5;241m>\u001b[39m \u001b[38;5;241m1\u001b[39m \u001b[38;5;129;01mand\u001b[39;00m (data[\u001b[38;5;241m-\u001b[39m\u001b[38;5;241m1\u001b[39m][\u001b[38;5;124m'\u001b[39m\u001b[38;5;124mthroughput\u001b[39m\u001b[38;5;124m'\u001b[39m] \u001b[38;5;241m-\u001b[39m data[\u001b[38;5;241m-\u001b[39m\u001b[38;5;241m2\u001b[39m][\u001b[38;5;124m'\u001b[39m\u001b[38;5;124mthroughput\u001b[39m\u001b[38;5;124m'\u001b[39m])\u001b[38;5;241m/\u001b[39mdata[\u001b[38;5;241m-\u001b[39m\u001b[38;5;241m2\u001b[39m][\u001b[38;5;124m'\u001b[39m\u001b[38;5;124mthroughput\u001b[39m\u001b[38;5;124m'\u001b[39m] \u001b[38;5;241m<\u001b[39m \u001b[38;5;241m0.1\u001b[39m:\n",
      "Cell \u001b[0;32mIn[115], line 14\u001b[0m, in \u001b[0;36mbenchmark\u001b[0;34m(parallel_workers, in_tokens, out_tokens, num_requests_per_worker)\u001b[0m\n\u001b[1;32m     10\u001b[0m \u001b[38;5;28;01mfor\u001b[39;00m i, out_tokens \u001b[38;5;129;01min\u001b[39;00m \u001b[38;5;28menumerate\u001b[39m([\u001b[38;5;241m1\u001b[39m, out_tokens\u001b[38;5;241m/\u001b[39m\u001b[38;5;241m2\u001b[39m, out_tokens]):\n\u001b[1;32m     11\u001b[0m   \n\u001b[1;32m     12\u001b[0m   \u001b[38;5;66;03m# Clear the latencies array so that we get fresh statistics.\u001b[39;00m\n\u001b[1;32m     13\u001b[0m   latencies\u001b[38;5;241m.\u001b[39mclear()\n\u001b[0;32m---> 14\u001b[0m   \u001b[38;5;28;01mawait\u001b[39;00m single_benchmark(num_requests_per_worker, parallel_workers, in_tokens, out_tokens)\n\u001b[1;32m     16\u001b[0m   \u001b[38;5;66;03m# Compute the median latency and the mean number of tokens.\u001b[39;00m\n\u001b[1;32m     17\u001b[0m   avg_num_input_tokens[i] \u001b[38;5;241m=\u001b[39m statistics\u001b[38;5;241m.\u001b[39mmean([inp \u001b[38;5;28;01mfor\u001b[39;00m inp, _, _ \u001b[38;5;129;01min\u001b[39;00m latencies])\n",
      "Cell \u001b[0;32mIn[114], line 10\u001b[0m, in \u001b[0;36msingle_benchmark\u001b[0;34m(num_requests_per_worker, num_workers, in_tokens, out_tokens)\u001b[0m\n\u001b[1;32m      8\u001b[0m   tasks\u001b[38;5;241m.\u001b[39mappend(task)\n\u001b[1;32m      9\u001b[0m \u001b[38;5;66;03m# gather results from concurrent workers \u001b[39;00m\n\u001b[0;32m---> 10\u001b[0m \u001b[38;5;28;01mawait\u001b[39;00m asyncio\u001b[38;5;241m.\u001b[39mgather(\u001b[38;5;241m*\u001b[39mtasks)\n",
      "Cell \u001b[0;32mIn[113], line 13\u001b[0m, in \u001b[0;36mworker\u001b[0;34m(index, num_requests, in_tokens, max_out_tokens)\u001b[0m\n\u001b[1;32m     11\u001b[0m \u001b[38;5;28;01mfor\u001b[39;00m _ \u001b[38;5;129;01min\u001b[39;00m tqdm(\u001b[38;5;28mrange\u001b[39m(num_requests)):\n\u001b[1;32m     12\u001b[0m   request_start_time \u001b[38;5;241m=\u001b[39m time\u001b[38;5;241m.\u001b[39mtime()\n\u001b[0;32m---> 13\u001b[0m   generated_ouput \u001b[38;5;241m=\u001b[39m \u001b[43mllm\u001b[49m\u001b[38;5;241;43m.\u001b[39;49m\u001b[43minvoke\u001b[49m\u001b[43m(\u001b[49m\u001b[43mprompt\u001b[49m\u001b[43m[\u001b[49m\u001b[38;5;241;43m0\u001b[39;49m\u001b[43m]\u001b[49m\u001b[43m)\u001b[49m\n\u001b[1;32m     14\u001b[0m   latency \u001b[38;5;241m=\u001b[39m time\u001b[38;5;241m.\u001b[39mtime() \u001b[38;5;241m-\u001b[39m request_start_time\n\u001b[1;32m     15\u001b[0m   out_tokens \u001b[38;5;241m=\u001b[39m get_out_tokens(generated_ouput)\n",
      "Cell \u001b[0;32mIn[108], line 66\u001b[0m, in \u001b[0;36mReplicateWrapper.invoke\u001b[0;34m(self, prompt)\u001b[0m\n\u001b[1;32m     59\u001b[0m \u001b[38;5;28;01mdef\u001b[39;00m \u001b[38;5;21minvoke\u001b[39m(\u001b[38;5;28mself\u001b[39m, prompt):\n\u001b[1;32m     60\u001b[0m     \u001b[38;5;28minput\u001b[39m \u001b[38;5;241m=\u001b[39m {\n\u001b[1;32m     61\u001b[0m         \u001b[38;5;124m\"\u001b[39m\u001b[38;5;124mprompt\u001b[39m\u001b[38;5;124m\"\u001b[39m: prompt,\n\u001b[1;32m     62\u001b[0m         \u001b[38;5;124m\"\u001b[39m\u001b[38;5;124mtemperature\u001b[39m\u001b[38;5;124m\"\u001b[39m: \u001b[38;5;28mself\u001b[39m\u001b[38;5;241m.\u001b[39mtemperature,\n\u001b[1;32m     63\u001b[0m         \u001b[38;5;124m\"\u001b[39m\u001b[38;5;124mmax_length\u001b[39m\u001b[38;5;124m\"\u001b[39m: \u001b[38;5;28mself\u001b[39m\u001b[38;5;241m.\u001b[39mmax_length\n\u001b[1;32m     64\u001b[0m     }\n\u001b[0;32m---> 66\u001b[0m     output \u001b[38;5;241m=\u001b[39m \u001b[38;5;28;43mself\u001b[39;49m\u001b[38;5;241;43m.\u001b[39;49m\u001b[43mapi\u001b[49m\u001b[38;5;241;43m.\u001b[39;49m\u001b[43mrun\u001b[49m\u001b[43m(\u001b[49m\n\u001b[1;32m     67\u001b[0m \u001b[43m    \u001b[49m\u001b[38;5;66;43;03m# output = replicate.run(\u001b[39;49;00m\n\u001b[1;32m     68\u001b[0m \u001b[43m        \u001b[49m\u001b[38;5;124;43m\"\u001b[39;49m\u001b[38;5;124;43mreplicate/llama-7b:455d66312a66299fba685548fe24f66880f093007b927abd19f4356295f8577c\u001b[39;49m\u001b[38;5;124;43m\"\u001b[39;49m\u001b[43m,\u001b[49m\n\u001b[1;32m     69\u001b[0m \u001b[43m        \u001b[49m\u001b[38;5;28;43minput\u001b[39;49m\u001b[38;5;241;43m=\u001b[39;49m\u001b[38;5;28;43minput\u001b[39;49m\n\u001b[1;32m     70\u001b[0m \u001b[43m    \u001b[49m\u001b[43m)\u001b[49m\n\u001b[1;32m     72\u001b[0m     \u001b[38;5;28;01mreturn\u001b[39;00m \u001b[38;5;124m\"\u001b[39m\u001b[38;5;124m\"\u001b[39m\u001b[38;5;241m.\u001b[39mjoin(output)\n",
      "File \u001b[0;32m/opt/homebrew/Caskroom/miniconda/base/envs/py310/lib/python3.10/site-packages/replicate/client.py:148\u001b[0m, in \u001b[0;36mClient.run\u001b[0;34m(self, ref, input, **params)\u001b[0m\n\u001b[1;32m    138\u001b[0m \u001b[38;5;28;01mdef\u001b[39;00m \u001b[38;5;21mrun\u001b[39m(\n\u001b[1;32m    139\u001b[0m     \u001b[38;5;28mself\u001b[39m,\n\u001b[1;32m    140\u001b[0m     ref: \u001b[38;5;28mstr\u001b[39m,\n\u001b[1;32m    141\u001b[0m     \u001b[38;5;28minput\u001b[39m: Optional[Dict[\u001b[38;5;28mstr\u001b[39m, Any]] \u001b[38;5;241m=\u001b[39m \u001b[38;5;28;01mNone\u001b[39;00m,\n\u001b[1;32m    142\u001b[0m     \u001b[38;5;241m*\u001b[39m\u001b[38;5;241m*\u001b[39mparams: Unpack[\u001b[38;5;124m\"\u001b[39m\u001b[38;5;124mPredictions.CreatePredictionParams\u001b[39m\u001b[38;5;124m\"\u001b[39m],\n\u001b[1;32m    143\u001b[0m ) \u001b[38;5;241m-\u001b[39m\u001b[38;5;241m>\u001b[39m Union[Any, Iterator[Any]]:  \u001b[38;5;66;03m# noqa: ANN401\u001b[39;00m\n\u001b[1;32m    144\u001b[0m \u001b[38;5;250m    \u001b[39m\u001b[38;5;124;03m\"\"\"\u001b[39;00m\n\u001b[1;32m    145\u001b[0m \u001b[38;5;124;03m    Run a model and wait for its output.\u001b[39;00m\n\u001b[1;32m    146\u001b[0m \u001b[38;5;124;03m    \"\"\"\u001b[39;00m\n\u001b[0;32m--> 148\u001b[0m     \u001b[38;5;28;01mreturn\u001b[39;00m \u001b[43mrun\u001b[49m\u001b[43m(\u001b[49m\u001b[38;5;28;43mself\u001b[39;49m\u001b[43m,\u001b[49m\u001b[43m \u001b[49m\u001b[43mref\u001b[49m\u001b[43m,\u001b[49m\u001b[43m \u001b[49m\u001b[38;5;28;43minput\u001b[39;49m\u001b[43m,\u001b[49m\u001b[43m \u001b[49m\u001b[38;5;241;43m*\u001b[39;49m\u001b[38;5;241;43m*\u001b[39;49m\u001b[43mparams\u001b[49m\u001b[43m)\u001b[49m\n",
      "File \u001b[0;32m/opt/homebrew/Caskroom/miniconda/base/envs/py310/lib/python3.10/site-packages/replicate/run.py:40\u001b[0m, in \u001b[0;36mrun\u001b[0;34m(client, ref, input, **params)\u001b[0m\n\u001b[1;32m     37\u001b[0m version, owner, name, version_id \u001b[38;5;241m=\u001b[39m identifier\u001b[38;5;241m.\u001b[39m_resolve(ref)\n\u001b[1;32m     39\u001b[0m \u001b[38;5;28;01mif\u001b[39;00m version_id \u001b[38;5;129;01mis\u001b[39;00m \u001b[38;5;129;01mnot\u001b[39;00m \u001b[38;5;28;01mNone\u001b[39;00m:\n\u001b[0;32m---> 40\u001b[0m     prediction \u001b[38;5;241m=\u001b[39m \u001b[43mclient\u001b[49m\u001b[38;5;241;43m.\u001b[39;49m\u001b[43mpredictions\u001b[49m\u001b[38;5;241;43m.\u001b[39;49m\u001b[43mcreate\u001b[49m\u001b[43m(\u001b[49m\n\u001b[1;32m     41\u001b[0m \u001b[43m        \u001b[49m\u001b[43mversion\u001b[49m\u001b[38;5;241;43m=\u001b[39;49m\u001b[43mversion_id\u001b[49m\u001b[43m,\u001b[49m\u001b[43m \u001b[49m\u001b[38;5;28;43minput\u001b[39;49m\u001b[38;5;241;43m=\u001b[39;49m\u001b[38;5;28;43minput\u001b[39;49m\u001b[43m \u001b[49m\u001b[38;5;129;43;01mor\u001b[39;49;00m\u001b[43m \u001b[49m\u001b[43m{\u001b[49m\u001b[43m}\u001b[49m\u001b[43m,\u001b[49m\u001b[43m \u001b[49m\u001b[38;5;241;43m*\u001b[39;49m\u001b[38;5;241;43m*\u001b[39;49m\u001b[43mparams\u001b[49m\n\u001b[1;32m     42\u001b[0m \u001b[43m    \u001b[49m\u001b[43m)\u001b[49m\n\u001b[1;32m     43\u001b[0m \u001b[38;5;28;01melif\u001b[39;00m owner \u001b[38;5;129;01mand\u001b[39;00m name:\n\u001b[1;32m     44\u001b[0m     prediction \u001b[38;5;241m=\u001b[39m client\u001b[38;5;241m.\u001b[39mmodels\u001b[38;5;241m.\u001b[39mpredictions\u001b[38;5;241m.\u001b[39mcreate(\n\u001b[1;32m     45\u001b[0m         model\u001b[38;5;241m=\u001b[39m(owner, name), \u001b[38;5;28minput\u001b[39m\u001b[38;5;241m=\u001b[39m\u001b[38;5;28minput\u001b[39m \u001b[38;5;129;01mor\u001b[39;00m {}, \u001b[38;5;241m*\u001b[39m\u001b[38;5;241m*\u001b[39mparams\n\u001b[1;32m     46\u001b[0m     )\n",
      "File \u001b[0;32m/opt/homebrew/Caskroom/miniconda/base/envs/py310/lib/python3.10/site-packages/replicate/prediction.py:364\u001b[0m, in \u001b[0;36mPredictions.create\u001b[0;34m(self, version, input, **params)\u001b[0m\n\u001b[1;32m    355\u001b[0m \u001b[38;5;250m\u001b[39m\u001b[38;5;124;03m\"\"\"\u001b[39;00m\n\u001b[1;32m    356\u001b[0m \u001b[38;5;124;03mCreate a new prediction for the specified model version.\u001b[39;00m\n\u001b[1;32m    357\u001b[0m \u001b[38;5;124;03m\"\"\"\u001b[39;00m\n\u001b[1;32m    359\u001b[0m body \u001b[38;5;241m=\u001b[39m _create_prediction_body(\n\u001b[1;32m    360\u001b[0m     version,\n\u001b[1;32m    361\u001b[0m     \u001b[38;5;28minput\u001b[39m,\n\u001b[1;32m    362\u001b[0m     \u001b[38;5;241m*\u001b[39m\u001b[38;5;241m*\u001b[39mparams,\n\u001b[1;32m    363\u001b[0m )\n\u001b[0;32m--> 364\u001b[0m resp \u001b[38;5;241m=\u001b[39m \u001b[38;5;28;43mself\u001b[39;49m\u001b[38;5;241;43m.\u001b[39;49m\u001b[43m_client\u001b[49m\u001b[38;5;241;43m.\u001b[39;49m\u001b[43m_request\u001b[49m\u001b[43m(\u001b[49m\n\u001b[1;32m    365\u001b[0m \u001b[43m    \u001b[49m\u001b[38;5;124;43m\"\u001b[39;49m\u001b[38;5;124;43mPOST\u001b[39;49m\u001b[38;5;124;43m\"\u001b[39;49m\u001b[43m,\u001b[49m\n\u001b[1;32m    366\u001b[0m \u001b[43m    \u001b[49m\u001b[38;5;124;43m\"\u001b[39;49m\u001b[38;5;124;43m/v1/predictions\u001b[39;49m\u001b[38;5;124;43m\"\u001b[39;49m\u001b[43m,\u001b[49m\n\u001b[1;32m    367\u001b[0m \u001b[43m    \u001b[49m\u001b[43mjson\u001b[49m\u001b[38;5;241;43m=\u001b[39;49m\u001b[43mbody\u001b[49m\u001b[43m,\u001b[49m\n\u001b[1;32m    368\u001b[0m \u001b[43m\u001b[49m\u001b[43m)\u001b[49m\n\u001b[1;32m    370\u001b[0m \u001b[38;5;28;01mreturn\u001b[39;00m _json_to_prediction(\u001b[38;5;28mself\u001b[39m\u001b[38;5;241m.\u001b[39m_client, resp\u001b[38;5;241m.\u001b[39mjson())\n",
      "File \u001b[0;32m/opt/homebrew/Caskroom/miniconda/base/envs/py310/lib/python3.10/site-packages/replicate/client.py:86\u001b[0m, in \u001b[0;36mClient._request\u001b[0;34m(self, method, path, **kwargs)\u001b[0m\n\u001b[1;32m     84\u001b[0m \u001b[38;5;28;01mdef\u001b[39;00m \u001b[38;5;21m_request\u001b[39m(\u001b[38;5;28mself\u001b[39m, method: \u001b[38;5;28mstr\u001b[39m, path: \u001b[38;5;28mstr\u001b[39m, \u001b[38;5;241m*\u001b[39m\u001b[38;5;241m*\u001b[39mkwargs) \u001b[38;5;241m-\u001b[39m\u001b[38;5;241m>\u001b[39m httpx\u001b[38;5;241m.\u001b[39mResponse:\n\u001b[1;32m     85\u001b[0m     resp \u001b[38;5;241m=\u001b[39m \u001b[38;5;28mself\u001b[39m\u001b[38;5;241m.\u001b[39m_client\u001b[38;5;241m.\u001b[39mrequest(method, path, \u001b[38;5;241m*\u001b[39m\u001b[38;5;241m*\u001b[39mkwargs)\n\u001b[0;32m---> 86\u001b[0m     \u001b[43m_raise_for_status\u001b[49m\u001b[43m(\u001b[49m\u001b[43mresp\u001b[49m\u001b[43m)\u001b[49m\n\u001b[1;32m     88\u001b[0m     \u001b[38;5;28;01mreturn\u001b[39;00m resp\n",
      "File \u001b[0;32m/opt/homebrew/Caskroom/miniconda/base/envs/py310/lib/python3.10/site-packages/replicate/client.py:359\u001b[0m, in \u001b[0;36m_raise_for_status\u001b[0;34m(resp)\u001b[0m\n\u001b[1;32m    357\u001b[0m \u001b[38;5;28;01mdef\u001b[39;00m \u001b[38;5;21m_raise_for_status\u001b[39m(resp: httpx\u001b[38;5;241m.\u001b[39mResponse) \u001b[38;5;241m-\u001b[39m\u001b[38;5;241m>\u001b[39m \u001b[38;5;28;01mNone\u001b[39;00m:\n\u001b[1;32m    358\u001b[0m     \u001b[38;5;28;01mif\u001b[39;00m \u001b[38;5;241m400\u001b[39m \u001b[38;5;241m<\u001b[39m\u001b[38;5;241m=\u001b[39m resp\u001b[38;5;241m.\u001b[39mstatus_code \u001b[38;5;241m<\u001b[39m \u001b[38;5;241m600\u001b[39m:\n\u001b[0;32m--> 359\u001b[0m         \u001b[38;5;28;01mraise\u001b[39;00m ReplicateError(resp\u001b[38;5;241m.\u001b[39mjson()[\u001b[38;5;124m\"\u001b[39m\u001b[38;5;124mdetail\u001b[39m\u001b[38;5;124m\"\u001b[39m])\n",
      "\u001b[0;31mReplicateError\u001b[0m: You have reached the free time limit. To continue using Replicate, set up billing at https://replicate.com/account/billing#billing."
     ]
    }
   ],
   "source": [
    "# This will run until the throughput of the model is no longer increasing by 10%.\n",
    "data = []\n",
    "for parallel_workers in [1, 2, 4]:\n",
    "  print(f\"Number of ideal input tokens {input_tokens}\")\n",
    "  await benchmark(parallel_workers, input_tokens, output_tokens, num_requests_per_worker)\n",
    "  # Break if the throughput doesn't increase by more than 10%\n",
    "  if len(data) > 1 and (data[-1]['throughput'] - data[-2]['throughput'])/data[-2]['throughput'] < 0.1:\n",
    "    break"
   ]
  },
  {
   "cell_type": "markdown",
   "metadata": {},
   "source": [
    "## Example trying Llama2 7b"
   ]
  },
  {
   "cell_type": "code",
   "execution_count": 30,
   "metadata": {},
   "outputs": [],
   "source": [
    "# Number of input and outut tokens to benchmark\n",
    "input_tokens = 50\n",
    "output_tokens = 50\n",
    "# Number of requests per worker(thread), higher gives more accurate results\n",
    "num_requests_per_worker = 5"
   ]
  },
  {
   "cell_type": "code",
   "execution_count": 31,
   "metadata": {},
   "outputs": [
    {
     "name": "stdout",
     "output_type": "stream",
     "text": [
      "Number of ideal input tokens 50\n",
      "Parallel queries 1\n",
      "Processing concurrent worker 0\n"
     ]
    },
    {
     "name": "stderr",
     "output_type": "stream",
     "text": [
      "100%|██████████| 5/5 [00:10<00:00,  2.19s/it]\n"
     ]
    },
    {
     "name": "stdout",
     "output_type": "stream",
     "text": [
      "Output tokens 2, median latency (s): 2.15, tokens per second 20.5\n",
      "Processing concurrent worker 0\n"
     ]
    },
    {
     "name": "stderr",
     "output_type": "stream",
     "text": [
      "100%|██████████| 5/5 [00:14<00:00,  2.93s/it]\n"
     ]
    },
    {
     "name": "stdout",
     "output_type": "stream",
     "text": [
      "Output tokens 26, median latency (s): 2.93, tokens per second 23.2\n",
      "Processing concurrent worker 0\n"
     ]
    },
    {
     "name": "stderr",
     "output_type": "stream",
     "text": [
      "100%|██████████| 5/5 [00:18<00:00,  3.76s/it]\n"
     ]
    },
    {
     "name": "stdout",
     "output_type": "stream",
     "text": [
      "Output tokens 51, median latency (s): 3.76, tokens per second 24.7\n",
      "Time to first token (s): 2.15, Time per output token (ms) 33.42\n",
      "Number of ideal input tokens 50\n",
      "Parallel queries 2\n",
      "Processing concurrent worker 0\n",
      "Processing concurrent worker 1\n"
     ]
    },
    {
     "name": "stderr",
     "output_type": "stream",
     "text": [
      "100%|██████████| 5/5 [00:10<00:00,  2.18s/it]\n",
      "100%|██████████| 5/5 [00:10<00:00,  2.20s/it]\n"
     ]
    },
    {
     "name": "stdout",
     "output_type": "stream",
     "text": [
      "Output tokens 2, median latency (s): 2.18, tokens per second 40.3\n",
      "Processing concurrent worker 0\n",
      "Processing concurrent worker 1\n"
     ]
    },
    {
     "name": "stderr",
     "output_type": "stream",
     "text": [
      "100%|██████████| 5/5 [00:14<00:00,  2.95s/it]\n",
      "100%|██████████| 5/5 [00:14<00:00,  2.94s/it]\n"
     ]
    },
    {
     "name": "stdout",
     "output_type": "stream",
     "text": [
      "Output tokens 26, median latency (s): 2.94, tokens per second 46.2\n",
      "Processing concurrent worker 0\n",
      "Processing concurrent worker 1\n"
     ]
    },
    {
     "name": "stderr",
     "output_type": "stream",
     "text": [
      "100%|██████████| 5/5 [00:18<00:00,  3.74s/it]\n",
      "100%|██████████| 5/5 [00:18<00:00,  3.71s/it]\n"
     ]
    },
    {
     "name": "stdout",
     "output_type": "stream",
     "text": [
      "Output tokens 51, median latency (s): 3.73, tokens per second 49.9\n",
      "Time to first token (s): 2.18, Time per output token (ms) 31.46\n",
      "Number of ideal input tokens 50\n",
      "Parallel queries 4\n",
      "Processing concurrent worker 0\n",
      "Processing concurrent worker 1\n",
      "Processing concurrent worker 2\n",
      "Processing concurrent worker 3\n"
     ]
    },
    {
     "name": "stderr",
     "output_type": "stream",
     "text": [
      "100%|██████████| 5/5 [00:10<00:00,  2.19s/it]\n",
      "100%|██████████| 5/5 [00:10<00:00,  2.13s/it]\n",
      "100%|██████████| 5/5 [00:10<00:00,  2.19s/it]\n",
      "100%|██████████| 5/5 [00:10<00:00,  2.18s/it]\n"
     ]
    },
    {
     "name": "stdout",
     "output_type": "stream",
     "text": [
      "Output tokens 2, median latency (s): 2.18, tokens per second 80.6\n",
      "Processing concurrent worker 0\n",
      "Processing concurrent worker 1\n",
      "Processing concurrent worker 2\n",
      "Processing concurrent worker 3\n"
     ]
    },
    {
     "name": "stderr",
     "output_type": "stream",
     "text": [
      "100%|██████████| 5/5 [00:14<00:00,  2.95s/it]\n",
      "100%|██████████| 5/5 [00:14<00:00,  2.92s/it]\n",
      "100%|██████████| 5/5 [00:14<00:00,  2.92s/it]\n",
      "100%|██████████| 5/5 [00:14<00:00,  2.94s/it]\n"
     ]
    },
    {
     "name": "stdout",
     "output_type": "stream",
     "text": [
      "Output tokens 26, median latency (s): 2.93, tokens per second 93.0\n",
      "Processing concurrent worker 0\n",
      "Processing concurrent worker 1\n",
      "Processing concurrent worker 2\n",
      "Processing concurrent worker 3\n"
     ]
    },
    {
     "name": "stderr",
     "output_type": "stream",
     "text": [
      "100%|██████████| 5/5 [00:18<00:00,  3.73s/it]\n",
      "100%|██████████| 5/5 [00:18<00:00,  3.76s/it]\n",
      "100%|██████████| 5/5 [00:18<00:00,  3.75s/it]\n",
      "100%|██████████| 5/5 [00:18<00:00,  3.76s/it]\n"
     ]
    },
    {
     "name": "stdout",
     "output_type": "stream",
     "text": [
      "Output tokens 51, median latency (s): 3.74, tokens per second 99.4\n",
      "Time to first token (s): 2.18, Time per output token (ms) 32.74\n",
      "Number of ideal input tokens 50\n",
      "Parallel queries 8\n",
      "Processing concurrent worker 0\n",
      "Processing concurrent worker 1\n",
      "Processing concurrent worker 2\n",
      "Processing concurrent worker 3\n",
      "Processing concurrent worker 4\n",
      "Processing concurrent worker 5\n",
      "Processing concurrent worker 6\n",
      "Processing concurrent worker 7\n"
     ]
    },
    {
     "name": "stderr",
     "output_type": "stream",
     "text": [
      "100%|██████████| 5/5 [00:11<00:00,  2.21s/it]\n",
      "100%|██████████| 5/5 [00:10<00:00,  2.19s/it]\n",
      "100%|██████████| 5/5 [00:11<00:00,  2.22s/it]\n",
      "100%|██████████| 5/5 [00:10<00:00,  2.19s/it]\n",
      "100%|██████████| 5/5 [00:11<00:00,  2.20s/it]\n",
      "100%|██████████| 5/5 [00:11<00:00,  2.20s/it]\n",
      "100%|██████████| 5/5 [00:10<00:00,  2.18s/it]\n",
      "100%|██████████| 5/5 [00:10<00:00,  2.20s/it]\n"
     ]
    },
    {
     "name": "stdout",
     "output_type": "stream",
     "text": [
      "Output tokens 2, median latency (s): 2.19, tokens per second 160.7\n",
      "Processing concurrent worker 0\n",
      "Processing concurrent worker 1\n",
      "Processing concurrent worker 2\n",
      "Processing concurrent worker 3\n",
      "Processing concurrent worker 4\n",
      "Processing concurrent worker 5\n",
      "Processing concurrent worker 6\n",
      "Processing concurrent worker 7\n"
     ]
    },
    {
     "name": "stderr",
     "output_type": "stream",
     "text": [
      "100%|██████████| 5/5 [00:14<00:00,  2.95s/it]\n",
      "100%|██████████| 5/5 [00:14<00:00,  2.97s/it]\n",
      "100%|██████████| 5/5 [00:14<00:00,  2.98s/it]\n",
      "100%|██████████| 5/5 [00:14<00:00,  2.96s/it]\n",
      "100%|██████████| 5/5 [00:14<00:00,  2.97s/it]\n",
      "100%|██████████| 5/5 [00:14<00:00,  2.95s/it]\n",
      "100%|██████████| 5/5 [00:14<00:00,  2.94s/it]\n",
      "100%|██████████| 5/5 [00:14<00:00,  2.96s/it]\n"
     ]
    },
    {
     "name": "stdout",
     "output_type": "stream",
     "text": [
      "Output tokens 26, median latency (s): 2.95, tokens per second 184.4\n",
      "Processing concurrent worker 0\n",
      "Processing concurrent worker 1\n",
      "Processing concurrent worker 2\n",
      "Processing concurrent worker 3\n",
      "Processing concurrent worker 4\n",
      "Processing concurrent worker 5\n",
      "Processing concurrent worker 6\n",
      "Processing concurrent worker 7\n"
     ]
    },
    {
     "name": "stderr",
     "output_type": "stream",
     "text": [
      "100%|██████████| 5/5 [00:18<00:00,  3.76s/it]\n",
      "100%|██████████| 5/5 [00:18<00:00,  3.77s/it]\n",
      "100%|██████████| 5/5 [00:18<00:00,  3.76s/it]\n",
      "100%|██████████| 5/5 [00:18<00:00,  3.76s/it]\n",
      "100%|██████████| 5/5 [00:18<00:00,  3.74s/it]\n",
      "100%|██████████| 5/5 [00:18<00:00,  3.74s/it]\n",
      "100%|██████████| 5/5 [00:18<00:00,  3.73s/it]\n",
      "100%|██████████| 5/5 [00:18<00:00,  3.74s/it]"
     ]
    },
    {
     "name": "stdout",
     "output_type": "stream",
     "text": [
      "Output tokens 51, median latency (s): 3.74, tokens per second 198.7\n",
      "Time to first token (s): 2.19, Time per output token (ms) 31.78\n"
     ]
    },
    {
     "name": "stderr",
     "output_type": "stream",
     "text": [
      "\n"
     ]
    }
   ],
   "source": [
    "# This will run until the throughput of the model is no longer increasing by 10%.\n",
    "data = []\n",
    "for parallel_workers in [1, 2, 4, 8]:\n",
    "  print(f\"Number of ideal input tokens {input_tokens}\")\n",
    "  await benchmark(parallel_workers, input_tokens, output_tokens, num_requests_per_worker)\n",
    "  # Break if the throughput doesn't increase by more than 10%\n",
    "  if len(data) > 1 and (data[-1]['performance_metrics']['throughput'] - data[-2]['performance_metrics']['throughput'])/data[-2]['performance_metrics']['throughput'] < 0.1:\n",
    "    break"
   ]
  },
  {
   "cell_type": "code",
   "execution_count": 32,
   "metadata": {},
   "outputs": [
    {
     "data": {
      "text/plain": [
       "[{'parallel_workers': 1,\n",
       "  'performance_metrics': {'TTFT': 2.15,\n",
       "   'TPOT': 33.42292785644531,\n",
       "   'latency': 3.761892080307007,\n",
       "   'throughput': 24.721602325287943}},\n",
       " {'parallel_workers': 2,\n",
       "  'performance_metrics': {'TTFT': 2.18,\n",
       "   'TPOT': 31.45519256591797,\n",
       "   'latency': 3.7270323038101196,\n",
       "   'throughput': 49.905658131767055}},\n",
       " {'parallel_workers': 4,\n",
       "  'performance_metrics': {'TTFT': 2.18,\n",
       "   'TPOT': 32.73581504821777,\n",
       "   'latency': 3.743805408477783,\n",
       "   'throughput': 99.36413873370992}},\n",
       " {'parallel_workers': 8,\n",
       "  'performance_metrics': {'TTFT': 2.19,\n",
       "   'TPOT': 31.779398918151855,\n",
       "   'latency': 3.744665026664734,\n",
       "   'throughput': 198.68265778171875}}]"
      ]
     },
     "execution_count": 32,
     "metadata": {},
     "output_type": "execute_result"
    }
   ],
   "source": [
    "data"
   ]
  },
  {
   "cell_type": "code",
   "execution_count": 33,
   "metadata": {},
   "outputs": [
    {
     "data": {
      "image/png": "[encoded data removed]",
      "text/plain": [
       "<Figure size 640x480 with 1 Axes>"
      ]
     },
     "metadata": {},
     "output_type": "display_data"
    }
   ],
   "source": [
    "# Plot the latency vs throughput curve\n",
    "plt.xlabel(\"Latency (s)\")\n",
    "plt.ylabel(\"Throughput (tok/s)\")\n",
    "# line = plt.plot([x['latency'] for x in data], [x['throughput'] for x in data], marker='o')\n",
    "line = plt.plot([x['performance_metrics']['latency'] for x in data], [x['performance_metrics']['throughput'] for x in data], marker='o')\n",
    "plt.show()"
   ]
  },
  {
   "cell_type": "code",
   "execution_count": null,
   "metadata": {},
   "outputs": [],
   "source": [
    "# Post from Andrew Ng\n",
    "# Today, a lot of LLM output is for human consumption. A human might read around 250 words per minute, which is around 6 tokens per second \n",
    "# (250 words/min / (0.75 words/token) / (60 secs/min)). So it might seem there’s little value to generating tokens much faster than this."
   ]
  }
 ],
 "metadata": {
  "kernelspec": {
   "display_name": "py310",
   "language": "python",
   "name": "py310"
  },
  "language_info": {
   "codemirror_mode": {
    "name": "ipython",
    "version": 3
   },
   "file_extension": ".py",
   "mimetype": "text/x-python",
   "name": "python",
   "nbconvert_exporter": "python",
   "pygments_lexer": "ipython3",
   "version": "3.10.13"
  }
 },
 "nbformat": 4,
 "nbformat_minor": 2
}
