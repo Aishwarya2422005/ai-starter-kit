{
 "cells": [
  {
   "cell_type": "code",
   "execution_count": null,
   "metadata": {},
   "outputs": [],
   "source": [
    "from multimodal import MultimodalRetrieval\n",
    "import os\n",
    "import sys\n",
    "\n",
    "current_dir = os.getcwd()\n",
    "kit_dir = os.path.abspath(os.path.join(current_dir, \"..\"))\n",
    "repo_dir = os.path.abspath(os.path.join(kit_dir, \"..\"))\n",
    "\n",
    "sys.path.append(kit_dir)\n",
    "sys.path.append(repo_dir)"
   ]
  },
  {
   "cell_type": "code",
   "execution_count": 2,
   "metadata": {},
   "outputs": [],
   "source": [
    "multimodal = MultimodalRetrieval()\n",
    "\n",
    "filepath = os.path.join(kit_dir,\"data/sample_docs/invoicesample.pdf\")"
   ]
  },
  {
   "cell_type": "code",
   "execution_count": 3,
   "metadata": {},
   "outputs": [
    {
     "name": "stderr",
     "output_type": "stream",
     "text": [
      "Some weights of the model checkpoint at microsoft/table-transformer-structure-recognition were not used when initializing TableTransformerForObjectDetection: ['model.backbone.conv_encoder.model.layer2.0.downsample.1.num_batches_tracked', 'model.backbone.conv_encoder.model.layer3.0.downsample.1.num_batches_tracked', 'model.backbone.conv_encoder.model.layer4.0.downsample.1.num_batches_tracked']\n",
      "- This IS expected if you are initializing TableTransformerForObjectDetection from the checkpoint of a model trained on another task or with another architecture (e.g. initializing a BertForSequenceClassification model from a BertForPreTraining model).\n",
      "- This IS NOT expected if you are initializing TableTransformerForObjectDetection from the checkpoint of a model that you expect to be exactly identical (initializing a BertForSequenceClassification model from a BertForSequenceClassification model).\n"
     ]
    }
   ],
   "source": [
    "raw_pdf_elements, output_path = multimodal.extract_pdf(filepath)"
   ]
  },
  {
   "cell_type": "code",
   "execution_count": 4,
   "metadata": {},
   "outputs": [],
   "source": [
    "text_docs, table_docs, image_paths = multimodal.process_raw_elements(raw_pdf_elements, output_path)"
   ]
  },
  {
   "cell_type": "code",
   "execution_count": 5,
   "metadata": {},
   "outputs": [],
   "source": [
    "retriever = multimodal.create_vectorstore()"
   ]
  },
  {
   "cell_type": "code",
   "execution_count": 6,
   "metadata": {},
   "outputs": [],
   "source": [
    "retriever = multimodal.vectorstore_ingest(retriever, text_docs, table_docs, image_paths, summarize_texts=True, summarize_tables=True)"
   ]
  },
  {
   "cell_type": "code",
   "execution_count": 7,
   "metadata": {},
   "outputs": [],
   "source": [
    "qachain = multimodal.set_retrieval_chain(retriever)"
   ]
  },
  {
   "cell_type": "code",
   "execution_count": 13,
   "metadata": {},
   "outputs": [
    {
     "data": {
      "text/plain": [
       "{'question': 'how many apples they bought',\n",
       " 'answer': ' Sure, I can help you with that! Based on the provided context, the answer to the question \"how many apples they bought\" is 1. According to the table, the quantity of apples purchased is listed as 1 in the second column.\\n\\nSource: Context table\\n\\nI hope that helps! Let me know if you have any other questions.',\n",
       " 'source_documents': [Document(page_content='<table><tr><td>Apple</td><td>$5.00</td><td>1</td><td>$5.00</td></tr><tr><td>Orange</td><td>$1.99</td><td>2</td><td>$3.98</td></tr><tr><td>Watermelon</td><td>$1.69</td><td>3</td><td>$5.07</td></tr><tr><td>Mango</td><td>$9.56</td><td>2</td><td>$19.12</td></tr><tr><td>Peach</td><td>$2.99</td><td>1</td><td>$2.99</td></tr></table>', metadata={'detection_class_prob': 0.6352005004882812, 'coordinates': {'points': ((109.49646759033203, 997.8081665039062), (109.49646759033203, 1492.0428466796875), (1533.4151611328125, 1492.0428466796875), (1533.4151611328125, 997.8081665039062)), 'system': 'PixelSpace', 'layout_width': 1653, 'layout_height': 2339}, 'last_modified': '2024-05-07T14:57:25', 'text_as_html': '<table><tr><td>Apple</td><td>$5.00</td><td>1</td><td>$5.00</td></tr><tr><td>Orange</td><td>$1.99</td><td>2</td><td>$3.98</td></tr><tr><td>Watermelon</td><td>$1.69</td><td>3</td><td>$5.07</td></tr><tr><td>Mango</td><td>$9.56</td><td>2</td><td>$19.12</td></tr><tr><td>Peach</td><td>$2.99</td><td>1</td><td>$2.99</td></tr></table>', 'filetype': 'application/pdf', 'languages': ['eng'], 'page_number': 1, 'file_directory': '/Users/jorgep/Documents/ask_public_own/ai-starter-kit/multimodal_knowledge_retriever/data/sample_docs', 'filename': 'invoicesample.pdf', 'type': 'table'})]}"
      ]
     },
     "execution_count": 13,
     "metadata": {},
     "output_type": "execute_result"
    }
   ],
   "source": [
    "qachain.invoke(\"how many apples they bought\")"
   ]
  },
  {
   "cell_type": "code",
   "execution_count": 9,
   "metadata": {},
   "outputs": [
    {
     "data": {
      "text/plain": [
       "{'question': 'whats the adress of the store',\n",
       " 'answer': ' Sure, I can help you with that! Based on the provided context, the address of the store is 221 Queen St Melbourne VIC 3000.',\n",
       " 'source_documents': [Document(page_content='ATTENTION TO\\n\\nDenny Gunawan\\n\\n221 Queen St Melbourne VIC 3000\\n\\n123 Somewhere St, Melbourne VIC 3000 (03) 1234 5678\\n\\n$39.60\\n\\nInvoice Number: #20130304', metadata={'filetype': 'application/pdf', 'languages': ['eng'], 'last_modified': '2024-05-07T14:57:25', 'page_number': 1, 'file_directory': '/Users/jorgep/Documents/ask_public_own/ai-starter-kit/multimodal_knowledge_retriever/data/sample_docs', 'filename': 'invoicesample.pdf', 'type': 'text'})]}"
      ]
     },
     "execution_count": 9,
     "metadata": {},
     "output_type": "execute_result"
    }
   ],
   "source": [
    "qachain.invoke(\"whats the address of the store\")"
   ]
  },
  {
   "cell_type": "code",
   "execution_count": 12,
   "metadata": {},
   "outputs": [
    {
     "data": {
      "text/plain": [
       "{'question': 'what is the main color in the bussines logo',\n",
       " 'answer': \" Sure, I can help you with that! Based on the context you provided, the main color in the business logo is gold. The logo features a gold and yellow color scheme, with a sun in the center that is surrounded by a green field. The gold color represents the company's focus on high-quality and fresh produce.\\n\\nSource: Sunny Farm logo\",\n",
       " 'source_documents': [Document(page_content=\"The image features a logo for Sunny Farm, a company that specializes in fresh produce. The logo is a gold and yellow color scheme, with a sun in the center. The sun is surrounded by a green field, which represents the company's focus on fresh, high-quality produce. The logo is displayed on a white background, making it stand out.\", metadata={'type': 'image', 'file_directory': '/Users/jorgep/Documents/ask_public_own/ai-starter-kit/multimodal_knowledge_retriever/data/sample_docs/invoicesample/figure-1-1.jpg'})]}"
      ]
     },
     "execution_count": 12,
     "metadata": {},
     "output_type": "execute_result"
    }
   ],
   "source": [
    "qachain.invoke(\"what is the main color in the business logo\")"
   ]
  },
  {
   "cell_type": "code",
   "execution_count": null,
   "metadata": {},
   "outputs": [],
   "source": []
  }
 ],
 "metadata": {
  "kernelspec": {
   "display_name": "multimodalenv",
   "language": "python",
   "name": "python3"
  },
  "language_info": {
   "codemirror_mode": {
    "name": "ipython",
    "version": 3
   },
   "file_extension": ".py",
   "mimetype": "text/x-python",
   "name": "python",
   "nbconvert_exporter": "python",
   "pygments_lexer": "ipython3",
   "version": "3.10.11"
  }
 },
 "nbformat": 4,
 "nbformat_minor": 2
}
