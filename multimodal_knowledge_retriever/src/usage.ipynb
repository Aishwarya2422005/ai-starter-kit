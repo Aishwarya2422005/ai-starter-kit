{
 "cells": [
  {
   "cell_type": "code",
   "execution_count": 1,
   "metadata": {},
   "outputs": [],
   "source": [
    "from multimodal import MultimodalRetrieval\n",
    "import os\n",
    "import sys\n",
    "\n",
    "current_dir = os.getcwd()\n",
    "kit_dir = os.path.abspath(os.path.join(current_dir, \"..\"))\n",
    "repo_dir = os.path.abspath(os.path.join(kit_dir, \"..\"))\n",
    "\n",
    "sys.path.append(kit_dir)\n",
    "sys.path.append(repo_dir)"
   ]
  },
  {
   "cell_type": "code",
   "execution_count": 2,
   "metadata": {},
   "outputs": [],
   "source": [
    "multimodal = MultimodalRetrieval()\n",
    "\n",
    "filepath = os.path.join(kit_dir,\"data/sample_docs/invoicesample.pdf\")"
   ]
  },
  {
   "cell_type": "code",
   "execution_count": 3,
   "metadata": {},
   "outputs": [
    {
     "name": "stderr",
     "output_type": "stream",
     "text": [
      "Some weights of the model checkpoint at microsoft/table-transformer-structure-recognition were not used when initializing TableTransformerForObjectDetection: ['model.backbone.conv_encoder.model.layer2.0.downsample.1.num_batches_tracked', 'model.backbone.conv_encoder.model.layer3.0.downsample.1.num_batches_tracked', 'model.backbone.conv_encoder.model.layer4.0.downsample.1.num_batches_tracked']\n",
      "- This IS expected if you are initializing TableTransformerForObjectDetection from the checkpoint of a model trained on another task or with another architecture (e.g. initializing a BertForSequenceClassification model from a BertForPreTraining model).\n",
      "- This IS NOT expected if you are initializing TableTransformerForObjectDetection from the checkpoint of a model that you expect to be exactly identical (initializing a BertForSequenceClassification model from a BertForSequenceClassification model).\n"
     ]
    }
   ],
   "source": [
    "raw_pdf_elements, output_path = multimodal.extract_pdf(filepath)"
   ]
  },
  {
   "cell_type": "code",
   "execution_count": 4,
   "metadata": {},
   "outputs": [],
   "source": [
    "text_docs, table_docs, image_paths = multimodal.process_raw_elements(raw_pdf_elements, output_path)"
   ]
  },
  {
   "cell_type": "code",
   "execution_count": 5,
   "metadata": {},
   "outputs": [],
   "source": [
    "retriever = multimodal.create_vectorstore()"
   ]
  },
  {
   "cell_type": "code",
   "execution_count": 6,
   "metadata": {},
   "outputs": [],
   "source": [
    "retriever = multimodal.vectorstore_ingest(retriever, text_docs, table_docs, image_paths, summarize_texts=True, summarize_tables=True)"
   ]
  },
  {
   "cell_type": "code",
   "execution_count": 7,
   "metadata": {},
   "outputs": [],
   "source": [
    "qachain = multimodal.set_retrieval_chain(retriever)"
   ]
  },
  {
   "cell_type": "code",
   "execution_count": 8,
   "metadata": {},
   "outputs": [
    {
     "data": {
      "text/plain": [
       "{'question': 'how many apples they bought',\n",
       " 'answer': ' Sure, I can help you with that! Based on the provided context, the answer to the question \"how many apples they bought\" is 1. According to the table, the quantity of apples purchased is listed as 1 in the second column.\\n\\nSource: Context table\\n\\nI hope that helps! Let me know if you have any other questions.',\n",
       " 'source_documents': [Document(page_content='<table><tr><td>Apple</td><td>$5.00</td><td>1</td><td>$5.00</td></tr><tr><td>Orange</td><td>$1.99</td><td>2</td><td>$3.98</td></tr><tr><td>Watermelon</td><td>$1.69</td><td>3</td><td>$5.07</td></tr><tr><td>Mango</td><td>$9.56</td><td>2</td><td>$19.12</td></tr><tr><td>Peach</td><td>$2.99</td><td>1</td><td>$2.99</td></tr></table>', metadata={'last_modified': '2024-05-08T08:57:57', 'text_as_html': '<table><tr><td>Apple</td><td>$5.00</td><td>1</td><td>$5.00</td></tr><tr><td>Orange</td><td>$1.99</td><td>2</td><td>$3.98</td></tr><tr><td>Watermelon</td><td>$1.69</td><td>3</td><td>$5.07</td></tr><tr><td>Mango</td><td>$9.56</td><td>2</td><td>$19.12</td></tr><tr><td>Peach</td><td>$2.99</td><td>1</td><td>$2.99</td></tr></table>', 'table_as_cells': [{'x': 0, 'y': 0, 'w': 1, 'h': 1, 'content': 'Apple'}, {'x': 0, 'y': 1, 'w': 1, 'h': 1, 'content': 'Orange'}, {'x': 0, 'y': 2, 'w': 1, 'h': 1, 'content': 'Watermelon'}, {'x': 0, 'y': 3, 'w': 1, 'h': 1, 'content': 'Mango'}, {'x': 0, 'y': 4, 'w': 1, 'h': 1, 'content': 'Peach'}, {'x': 1, 'y': 0, 'w': 1, 'h': 1, 'content': '$5.00'}, {'x': 1, 'y': 1, 'w': 1, 'h': 1, 'content': '$1.99'}, {'x': 1, 'y': 2, 'w': 1, 'h': 1, 'content': '$1.69'}, {'x': 1, 'y': 3, 'w': 1, 'h': 1, 'content': '$9.56'}, {'x': 1, 'y': 4, 'w': 1, 'h': 1, 'content': '$2.99'}, {'x': 2, 'y': 0, 'w': 1, 'h': 1, 'content': '1'}, {'x': 2, 'y': 1, 'w': 1, 'h': 1, 'content': '2'}, {'x': 2, 'y': 2, 'w': 1, 'h': 1, 'content': '3'}, {'x': 2, 'y': 3, 'w': 1, 'h': 1, 'content': '2'}, {'x': 2, 'y': 4, 'w': 1, 'h': 1, 'content': '1'}, {'x': 3, 'y': 0, 'w': 1, 'h': 1, 'content': '$5.00'}, {'x': 3, 'y': 1, 'w': 1, 'h': 1, 'content': '$3.98'}, {'x': 3, 'y': 2, 'w': 1, 'h': 1, 'content': '$5.07'}, {'x': 3, 'y': 3, 'w': 1, 'h': 1, 'content': '$19.12'}, {'x': 3, 'y': 4, 'w': 1, 'h': 1, 'content': '$2.99'}], 'filetype': 'application/pdf', 'languages': ['eng'], 'page_number': 1, 'orig_elements': 'eJyVlW1r2zAQx7+KMHmxQePowY7tUgp7uRdlGR3sRShGsS+OqJ+wFdpQ+t0nXdK6jeNpgwTlzveT7v45n9YvHpRQQa1TlXvXxKPbQMaUyjnlCcyDcAvzmAXRPNqKKM62LMg4866IV4GWudTSMC9e1jRdrmqpoUe7lIdmr9MdqGKnjYcLkRjm5H5Sud4ZL1uGwnjbRtXacus1o4kfXpEkifz44Yq82SxIuE/REQrhB5c8R8Z4vP7Qa6hsLSv1DOV9KzPwXs2DHDRkWjV1mpWy79O2azYmjPpLEXLzfKtK0IcWEF3deZhxXexlgWWtPagL7wG9vU6rJldbBSgapzyY03BO4180vg4j87F0a8i03lcb6Gy5xqPlpoRU9mkGZYmbWvFqbfS3+3xr2xIsuTvFP53WZ5unWQ92NbV8on50Jksnxs6x3+bv6ioom9qF8nP0zhzYuChxTq1AZjsXFZxTs9CndIpiU5rMmJ8kLmokiaGWTmqkxsw06dJFjdSY8X/IcKQGmyL4lBLcRYxUEC5ipIDzjFH1zjr+rw/EZB8IP4ld1LgPzFmRixr3AUt8NimFmJLir40g3uWwg0fDs7bTY6er0qI3OE9ub3Rnvvktjo+bhfllLRTs3WKX/AsEj/BxigxR9gV6t/jgt4KO6WGYfNxhOewgPp0fjXfAmTIE2Xfq0vGo8ZjG2TJE8Y/Js0t+hBdH/fB2sNoep2kha5WR7+YS6cmqUxksHguC2hLUjhylIigRGSonWDHBQggWQDAtgseSn3tZa6UPXx6Lr+R+v9GNliVhpz05QWWJQDuyNpZqA94a5O1y+mWz9l4f/gCNTgU7', 'file_directory': '/Users/jorgep/Documents/ask_public_own/ai-starter-kit/multimodal_knowledge_retriever/data/sample_docs', 'filename': 'invoicesample.pdf', 'type': 'table'})]}"
      ]
     },
     "execution_count": 8,
     "metadata": {},
     "output_type": "execute_result"
    }
   ],
   "source": [
    "qachain.invoke(\"how many apples they bought\")"
   ]
  },
  {
   "cell_type": "code",
   "execution_count": 9,
   "metadata": {},
   "outputs": [
    {
     "data": {
      "text/plain": [
       "{'question': 'whats the address of the store',\n",
       " 'answer': ' Sure, I can help you with that! Based on the provided context, the address of the store is 221 Queen St Melbourne VIC 3000.',\n",
       " 'source_documents': [Document(page_content='ATTENTION TO\\n\\nDenny Gunawan\\n\\n221 Queen St Melbourne VIC 3000\\n\\n123 Somewhere St, Melbourne VIC 3000 (03) 1234 5678\\n\\n$39.60\\n\\nInvoice Number: #20130304', metadata={'filetype': 'application/pdf', 'languages': ['eng'], 'last_modified': '2024-05-08T08:57:57', 'page_number': 1, 'orig_elements': 'eJy9VtuO2zYQ/RVB7UMLmBLvl30rmqLYh2xSrNOXxcKgyJGXWVkyJHqdTdB/LyU5QS5OgBiwAb3M0YxEnjNnyLsPOTSwgTaugs+vsrzmTmKrDLK15ohXTKGKY4Uwr53DmlnvaL7I8g1E6220qeZD7rqu96G1EYYpbuxzt4urBwjrh5gQyphJNQd4H3x8SCiRgiV024U2jnV3d8bQQiwywnnB7xfZx5gSWYgxJgKrgh4B5oqE5MPzEGEz7uR1eAfN7dY6yP9LLzxEcDF07co1dhhW276rUhouqGRCpoQ6NBCftzDVvn6ZTwtu1zu7nnZ1l0O7zu8ndIirTedDHWDijGLKERYI6yXWV0KlZ6zepspVu9tU0I+7HRcR4d3IR/7HcvnXzfL61U22fDWmfvzvMsRmWu7XsijONBXMIuIrQCmQyDJXIVkL75QllWXqbLIQJQqVWBe4IBPrcyyFKNgYa8JHmb6O5/zTRNFMfkeTsBlp3dpprXn5ZoB+KN92/Rq25YvO7UbShtIOj6vtrmqCW3X7trQBDdH2EXr0GGK52TUxJAVts3psu30DPn2yh9gHeIK+HAksB7vZNrDynRvK0D51wcEMlXVY73pABJHi7XZ91j75vDeux40f6w0JTjKMPTJepN6otUNGG4ukskYTaWpTi/P1BiZTMzDKZvE/AVIWegIYl4U5Bkwlp5qWYnFh076Atn3O/t61dm/bz5W5sX1vY3iC5Zh5RCHMMTbYUVR7xxAnTiNLcYVAVApDLbmhZ3QvJrogi4zLRNtBoQkQjB8kY1SMhv0GmEtOUyjNK3PpsUopyf7ZAbTZbcxeQlN1u76F7N/rP7NkEPxTmvGaao1JjQy2HnFlKbIgBSKiJsJrUwnpz6aZpAVeZIqa+Zibw3QAFGo6FhNOv43n9BP9ZAS9sFiEsuy228D+AXpIgi2OKJb9htnvWcrkmZBK/5zpakZqZRTSNPmNc+mRrkmFnKO6GgUEf8axSIQaZ5zU+jD0DoAyrMATwJUs2BFgLvmhjJeU6VdmCvmFdd60LvGz7vrwHvz32JfeG0lNlS6OCqcLiwNkcaWQrZhQ1GKs6vONvHTxSHmGJMZHZg+hIPP844oV/Eg8pZ9mH67SgXRhYa7nS0l2M729yn6hmDDMMP+BS+7/B18KfS4=', 'file_directory': '/Users/jorgep/Documents/ask_public_own/ai-starter-kit/multimodal_knowledge_retriever/data/sample_docs', 'filename': 'invoicesample.pdf', 'type': 'text'})]}"
      ]
     },
     "execution_count": 9,
     "metadata": {},
     "output_type": "execute_result"
    }
   ],
   "source": [
    "qachain.invoke({\"question\":\"whats the address of the store\"})"
   ]
  },
  {
   "cell_type": "code",
   "execution_count": 10,
   "metadata": {},
   "outputs": [
    {
     "data": {
      "text/plain": [
       "{'question': 'what is the main color in the business logo',\n",
       " 'answer': ' The main color in the business logo is gold. [Source: Context]\\n\\nI can confirm that the answer is contained in the provided context, which describes the logo as featuring \"a gold and yellow color scheme.\"',\n",
       " 'source_documents': [Document(page_content=\"The image features a logo for Sunny Farm, a company that specializes in fresh produce. The logo is a gold and yellow color scheme, with a sun in the center. The sun is surrounded by a green field, which represents the company's focus on fresh, high-quality produce. The logo is displayed on a white background, making it stand out.\", metadata={'type': 'image', 'file_directory': '/Users/jorgep/Documents/ask_public_own/ai-starter-kit/multimodal_knowledge_retriever/data/sample_docs/invoicesample', 'filename': 'figure-1-1.jpg'})]}"
      ]
     },
     "execution_count": 10,
     "metadata": {},
     "output_type": "execute_result"
    }
   ],
   "source": [
    "qachain.invoke(\"what is the main color in the business logo\")"
   ]
  },
  {
   "cell_type": "code",
   "execution_count": null,
   "metadata": {},
   "outputs": [],
   "source": []
  }
 ],
 "metadata": {
  "kernelspec": {
   "display_name": "multimodalenv",
   "language": "python",
   "name": "python3"
  },
  "language_info": {
   "codemirror_mode": {
    "name": "ipython",
    "version": 3
   },
   "file_extension": ".py",
   "mimetype": "text/x-python",
   "name": "python",
   "nbconvert_exporter": "python",
   "pygments_lexer": "ipython3",
   "version": "3.10.11"
  }
 },
 "nbformat": 4,
 "nbformat_minor": 2
}
