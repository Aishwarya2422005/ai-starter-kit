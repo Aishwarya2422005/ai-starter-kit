{
 "cells": [
  {
   "cell_type": "markdown",
   "metadata": {},
   "source": [
    "# Multimodal RAG"
   ]
  },
  {
   "cell_type": "code",
   "execution_count": 1,
   "metadata": {},
   "outputs": [],
   "source": [
    "import os\n",
    "import sys\n",
    "import glob\n",
    "\n",
    "current_dir = os.getcwd()\n",
    "kit_dir = os.path.abspath(os.path.join(current_dir, \"..\"))\n",
    "repo_dir = os.path.abspath(os.path.join(kit_dir, \"..\"))\n",
    "\n",
    "sys.path.append(kit_dir)\n",
    "sys.path.append(repo_dir)\n",
    "\n",
    "from dotenv import load_dotenv\n",
    "load_dotenv(os.path.join(repo_dir,'.env'))\n",
    "\n",
    "import requests\n",
    "import json\n",
    "import base64\n",
    "from pprint import pprint"
   ]
  },
  {
   "cell_type": "markdown",
   "metadata": {},
   "source": [
    "## utils"
   ]
  },
  {
   "cell_type": "code",
   "execution_count": 2,
   "metadata": {},
   "outputs": [],
   "source": [
    "def image_to_base64(image_path):\n",
    "    with open(image_path, \"rb\") as image_file:\n",
    "        image_binary = image_file.read()\n",
    "        base64_image = base64.b64encode(image_binary).decode()\n",
    "        return base64_image"
   ]
  },
  {
   "cell_type": "markdown",
   "metadata": {},
   "source": [
    "## Multimodal call"
   ]
  },
  {
   "cell_type": "markdown",
   "metadata": {},
   "source": [
    "### sambastudio llava call method"
   ]
  },
  {
   "cell_type": "code",
   "execution_count": 3,
   "metadata": {},
   "outputs": [],
   "source": [
    "# sambastudio call\n",
    "def llava_call(prompt, image_path):\n",
    "    image=image_to_base64(image_path)\n",
    "    endpoint_url = f\"{os.environ.get('LVLM_BASE_URL')}/api/predict/generic/{os.environ.get('LVLM_PROJECT_ID')}/{os.environ.get('LVLM_ENDPOINT_ID')}\"\n",
    "    endpoint_key = os.environ.get('LVLM_API_KEY')\n",
    "    # Define the data payload\n",
    "    data = {\n",
    "        \"instances\": [{\n",
    "            \"prompt\": prompt,\n",
    "            \"image_content\": f\"{image}\"\n",
    "        }],\n",
    "        \"params\": {\n",
    "            \"do_sample\": {\"type\": \"bool\", \"value\": \"false\"},\n",
    "            \"max_tokens_to_generate\": {\"type\": \"int\", \"value\": \"512\"},\n",
    "            \"temperature\": {\"type\": \"float\", \"value\": \"1\"},\n",
    "            \"top_k\": {\"type\": \"int\", \"value\": \"50\"},\n",
    "            \"top_logprobs\": {\"type\": \"int\", \"value\": \"0\"},\n",
    "            \"top_p\": {\"type\": \"float\", \"value\": \"1\"}\n",
    "        }\n",
    "    }\n",
    "    # Define headers\n",
    "    headers = {\n",
    "        \"Content-Type\": \"application/json\",\n",
    "        \"key\": endpoint_key\n",
    "    }\n",
    "    response = requests.post(endpoint_url, headers=headers, data=json.dumps(data))\n",
    "    return response.json()[\"predictions\"][0]['completion']"
   ]
  },
  {
   "cell_type": "markdown",
   "metadata": {},
   "source": [
    "### QA Llava Call"
   ]
  },
  {
   "cell_type": "code",
   "execution_count": 4,
   "metadata": {},
   "outputs": [
    {
     "data": {
      "text/plain": [
       "'At 4 pm, you could find approximately 10 birds on the tree.'"
      ]
     },
     "execution_count": 4,
     "metadata": {},
     "output_type": "execute_result"
    }
   ],
   "source": [
    "prompt = \"A chat between a curious human and an artificial intelligence assistant. The assistant gives helpful, detailed, and polite answers to the humans question. USER: <image>\\nhow many birds could you find at 4pm?. ASSISTANT:\"\n",
    "image_path = os.path.join(kit_dir,\"data\",\"sample_docs\",\"sample.png\")\n",
    "llava_call(prompt, image_path)"
   ]
  },
  {
   "cell_type": "markdown",
   "metadata": {},
   "source": [
    "### Summary Llava call"
   ]
  },
  {
   "cell_type": "code",
   "execution_count": 5,
   "metadata": {},
   "outputs": [
    {
     "data": {
      "text/plain": [
       "'The image displays a graph showing the number of birds on a tree at different times of the day. The graph is a combination of a bar plot and a scatter plot, with the bar plot showing the number of birds at various times of the day, and the scatter plot showing the number of birds on a tree at a specific time.\\n\\nThe graph is divided into two main sections. The first section, which is the bar plot, shows the number of birds on a tree at different times of the day, with the bars extending from 10 am to 11 pm. The second section, which is the scatter plot, shows the number of birds on a tree at a specific time, with the x-axis representing the time and the y-axis representing the number of birds.\\n\\nThe graph is labeled with the time of the day, and the number of birds is represented by the number of orange dots on the graph. The dots are scattered throughout the graph, with some appearing closer to the bars and others appearing closer to the scatter plot.'"
      ]
     },
     "execution_count": 5,
     "metadata": {},
     "output_type": "execute_result"
    }
   ],
   "source": [
    "prompt = \"A chat between a curious human and an artificial intelligence assistant. The assistant gives helpful, detailed, and polite answers to the humans question. USER: <image>\\nDescribe the image in detail. Be specific about graphs, such as bar plots, scatter plots, or others. ASSISTANT:\"\n",
    "llava_call(prompt, image_path)"
   ]
  },
  {
   "cell_type": "markdown",
   "metadata": {},
   "source": [
    "## Doc Extraction"
   ]
  },
  {
   "cell_type": "markdown",
   "metadata": {},
   "source": [
    "### Unstructured PDF extraction"
   ]
  },
  {
   "cell_type": "code",
   "execution_count": 6,
   "metadata": {},
   "outputs": [
    {
     "name": "stderr",
     "output_type": "stream",
     "text": [
      "/Users/luiss/.pyenv/versions/3.11.3/lib/python3.11/site-packages/tqdm/auto.py:21: TqdmWarning: IProgress not found. Please update jupyter and ipywidgets. See https://ipywidgets.readthedocs.io/en/stable/user_install.html\n",
      "  from .autonotebook import tqdm as notebook_tqdm\n",
      "Some weights of the model checkpoint at microsoft/table-transformer-structure-recognition were not used when initializing TableTransformerForObjectDetection: ['model.backbone.conv_encoder.model.layer2.0.downsample.1.num_batches_tracked', 'model.backbone.conv_encoder.model.layer3.0.downsample.1.num_batches_tracked', 'model.backbone.conv_encoder.model.layer4.0.downsample.1.num_batches_tracked']\n",
      "- This IS expected if you are initializing TableTransformerForObjectDetection from the checkpoint of a model trained on another task or with another architecture (e.g. initializing a BertForSequenceClassification model from a BertForPreTraining model).\n",
      "- This IS NOT expected if you are initializing TableTransformerForObjectDetection from the checkpoint of a model that you expect to be exactly identical (initializing a BertForSequenceClassification model from a BertForSequenceClassification model).\n"
     ]
    }
   ],
   "source": [
    "from unstructured.partition.pdf import partition_pdf\n",
    "\n",
    "# Path to save images\n",
    "file_path=os.path.join(kit_dir, \"data\", \"sample_docs\", \"invoicesample.pdf\")\n",
    "output_path=os.path.splitext(file_path)[0]\n",
    "\n",
    "# Get elements\n",
    "raw_pdf_elements = partition_pdf(\n",
    "    filename=file_path,\n",
    "    extract_images_in_pdf=True,\n",
    "    strategy='hi_res',\n",
    "     hi_res_model_name=\"yolox\",\n",
    "    # Use layout model (YOLOX) to get bounding boxes (for tables) and find titles\n",
    "    # Titles are any sub-section of the document\n",
    "    infer_table_structure=True,\n",
    "    chunking_strategy=\"by_title\",\n",
    "    max_characters=1000,\n",
    "    new_after_n_chars=800,\n",
    "    combine_text_under_n_chars=500,\n",
    "    extract_image_block_output_dir=output_path,\n",
    ")"
   ]
  },
  {
   "cell_type": "markdown",
   "metadata": {},
   "source": [
    "### View Elements"
   ]
  },
  {
   "cell_type": "code",
   "execution_count": 7,
   "metadata": {},
   "outputs": [
    {
     "name": "stdout",
     "output_type": "stream",
     "text": [
      "\u001b[95m ELEMENT 0\u001b[00m\n",
      "TYPE: <class 'unstructured.documents.elements.CompositeElement'>\n",
      "META: {'filetype': 'application/pdf', 'languages': ['eng'], 'last_modified': '2024-07-29T09:07:11', 'page_number': 1, 'orig_elements': 'eJy9lk2P2zYQhv8KofbQAqbE74+9FU1R7CGbFOv0slgYlDjyMpElQ6J2swn630tJTpEmToAYsI/zaoYi55kZ8u5jBg3soI2b4LMrlGmrnClrgZmpFRaWeVxy6bFlglIjjK6FzFYo20F03kWXYj5mVdf1PrQuwjDbjXvuxrh5gLB9iElhnNsUc5Cfgo8PSaVK8qTuu9DGKe7uzlqWyxWiQuTifoU+2YyqXE42lUTn7IiwRCQlG56HCLvpJK/De2hu966C7J/0wUOEKoau3VSNG4bNvu/K5EZyprhUyaEODcTnPcyxr19m84bb7ei286nuMmi32f2sDnGz63yoA8w5Y4QJTDRmdk3sFdFXlE7R+xS5acddCf102mkTEd5P+ch+W6//uFlfv7pB61eT66f/rkNs5u1+iaVmVkghDRZl7bBgssaloR7XRCpDLSesYmfDQrXMdcq6JDmds77YSsqcT7ahYsL0pb34nwbFcPUNJmE3pXXv5r1mxZsB+qFoxjAMxYuuGqecDUVa521aeChcwEN0fYQevwux2I1NDAmdazbv2u6pAZ/W6iH2AR6hL6bMFYPb7RvY+K4aitA+dqGCRSrqsB17wBTT/O1+e9YC+bworqcTHysKaakX1jrMjaepMqDGprSAneSqFKT0lTHnKwpC5yrgjC/U/xOUys0scKFye0yYQ07tVkbkhbv1BbTtM/pzbN2Taz8nc+P63sXwCOvJ8wihEsBJYkusjLNYKFFhqwhglfJpBBDg4qyETE5XSKiUtgOhWZBcHJBxJqdO/UpYQk4jxA2zl56njFH01wjQotuIXkJTdmPfAvr7+nfECSE/xEzpUrh0sWCmTImFlAI7RwU2ymnONVDJ67MxUywnK6SZXe63xTQJip7vw6Szr+3F/cR+spJdGBZlHN12O3h6gB4SsNURYugXwn9FyVMgqbT5IYCMSlFZkV4vRKSxSCuLTV1y7GrrGXeUeK3O13RU6mnGKWMOQ+8gaMtzMgtCq5wfEZaQ72K8JKafuc3V/1rnTVul/Gy7PnwA/82RV4OXOt1ClTJp5PH0lCwtq7H0dVUrUpXOnO+lkl4cyc/SlPEpswdT0mX+Cc1zccSe3U9rH6HThXRhMNfLowTdzF+v0E+MUE44Ed/pkvt/AeobeIE=', 'file_directory': '/Users/luiss/Documents/projects/ai-starter-kit/multimodal_knowledge_retriever/data/sample_docs', 'filename': 'invoicesample.pdf'}\n",
      "TEXT: ATTENTION TO\n",
      "\n",
      "Denny Gunawan\n",
      "\n",
      "221 Queen St Melbourne VIC 3000\n",
      "\n",
      "123 Somewhere St, Melbourne VIC 3000 (03) 1234 5678\n",
      "\n",
      "$39.60\n",
      "\n",
      "Invoice Number: #20130304\n",
      "\n",
      "\n",
      "##########\n",
      "\n",
      "\u001b[95m ELEMENT 1\u001b[00m\n",
      "TYPE: <class 'unstructured.documents.elements.Table'>\n",
      "META: {'last_modified': '2024-07-29T09:07:11', 'text_as_html': '<table><tbody><tr><td>Apple</td><td>$5.00</td><td>1</td><td>$5.00</td></tr><tr><td>Orange</td><td>$1.99</td><td>2</td><td>$3.98</td></tr><tr><td>Watermelon</td><td>$1.69</td><td>3</td><td>$5.07</td></tr><tr><td>Mango</td><td>$9.56</td><td>2</td><td>$19.12</td></tr><tr><td>Peach</td><td>$2.99</td><td>1</td><td>$2.99</td></tr></tbody></table>', 'filetype': 'application/pdf', 'languages': ['eng'], 'page_number': 1, 'orig_elements': 'eJxtkl2LozAUhv9KCHuxC9WaRGtTysBe7sUwXWZgL0qRqEcNo0b0lJ0yzH/fJO2MXdoL0fN6nvPxJvt3Ci100GOmS7ohVKpExElSBcArEcRVJAKVSB6s87QSfB3LuEjogtAOUJUKlWXeaWHMWOpeIUw+btXJHDFrQNcNWoULIS1zkf/qEhurslUirDoY3aPj9nsWyTBZECnTcH1YkM+YxZKHkRcSIcL4nnJmrEKn04TQuV12+g3a50EVQD/sjxIQCtSmz4pWTVM2jCa3aVG4Egm3/yvdAp4G8OjukfqJ+/qoar/WnkJf04NXJ8w6U+pKgzeNRzwOojTg8iWSmyjdMObowZJZf+xyGN26VkF4w0xNWYNd68AtqryFhy3mpjzZ12if8uHnMLSwXdovF31Lwij6itg9fenBM/w02pmvaBZK+RXxWRehXN/Sf+wZjh20pr+usJoriP/6p7cVHm17MyfZA1zda89kyPgtvQNVNHMWvx6e3dM9vLz4tzzb6U/bWe0sfhpr1euC/LKXYiK7URewfK2J95h4D8nZMuKtIrMDxG9O/ELEL0L8eMS3J7+PqkeNp++v9Q/yfMzRoGoJu9TkxDtMhI9TF/uVXYLD3f34vGwvbmr6cfgHlwoJNQ==', 'file_directory': '/Users/luiss/Documents/projects/ai-starter-kit/multimodal_knowledge_retriever/data/sample_docs', 'filename': 'invoicesample.pdf'}\n",
      "TEXT: Organic Items Price/kg Apple $5.00 Orange $1.99 Watermelon $1.69 Mango $9.56 Peach $2.99 Quantity(kg) Subtotal 1 $5.00 2 $3.98 3 $5.07 2 $19.12 1 $2.99\n",
      "\n",
      "\n",
      "##########\n",
      "\n",
      "\u001b[95m ELEMENT 2\u001b[00m\n",
      "TYPE: <class 'unstructured.documents.elements.CompositeElement'>\n",
      "META: {'filetype': 'application/pdf', 'languages': ['eng'], 'last_modified': '2024-07-29T09:07:11', 'page_number': 1, 'orig_elements': 'eJzNVl2P3DQU/StWBBKgseWv2PG+9QkkYKm00we0Wo0c+2bWUj6miQNdSv87zse0I3agW6RZ9inyiU/inHPvyb19n0ENDbRxF3x2hTIqtQdaFphroFjqkmFrtMTWgrWqZFA4mm1Q1kC03kabOO8z13W9D62NMMzr2j50Y9zdQ9jfx4RwIUzirPDvwcf7hDKVi4QeutDGiXd7qzRJ+5jJGZF3G7SuOdV6WRdakOIMsDISkg0PQ4Rm+pLX4R3UNwfrIPuQbniI4GLo2p2r7TDsDn1Xpm2UKCOoThuqUEN8OMDMff1zNh+43Y92P3/VbQbtPrub0SHums6HKsCsGadcYqoxN1tqrqi+YmxiHxJz145NCf30tdMhIryb9Mi2P7y6/hH9+subad/xpdsQ6/msf/dEUsOk8hzn3pRYWqOwkc4kd3zpCpGnW9XFPMk5YUlyxigxk+THtVGEzxYoQ+RZYGb8N08Mp5I/syffoZ+6HhoUDsPYIN/VXY+GEJFNsm6Q69ohnRXi2CPrwyEMLrR7BHWIBL2qw9vRNmjovK1hQN4eQjkOqIJ+snFsCLoeW3dC3KDG7luLBvBocMnuPgxvR0Bu7Idx2CDobUR1euH46Wlj39rNzKisC3UYwpC2dMiPAUFczk1OC+ra9ukx4TfYTp94prA4t9rbymItlZqaPRWWKhT2XqtK8VxY6S5WWIZpQqfena5T4awAZ8IsAGOmOI+spH8truesnZuxjF20NfoTbafrk9paVCWlymlslXVYSs5wyfMSq8IW3gsnDNUXU59RVkyNzFKrLY39CVGcqI9qF+cR/tnm/j/0f1qcgpQKKsBCCYmlkx5bRysscybAOMYLz59Bd8OIPtWdUyGWvxrjkhF+DllZL0b372+26BtGv/72VPg3rUsy7bs+/AH+n6KnUtKU3rIUOD5FDxcqzRkesHIypZtRQrni4iZwWui1sI8I42b5jbFUB/Ow8RhZWC/GhKcnDhOWVirNEEK4JDpUObZFZTCroDKFLyoFF6x8UXCi1+wQs6AfEcXWDJJGE3EemVkvRvSvhCKUfnHZc3B5ycoc56VIo1zpc2xyyXCV5qc0xRrLXHk5ByQVJF9ThC3qLkhKGk6KU70fIyvrBTlA1Jcb4JlLOS8F1l6kyK9kaoEyTUDSV86Vokgz9SVbIJdr7vBjC6wIE3KN+qMBj5GF9YIMMJ934O4vh3kqlQ==', 'file_directory': '/Users/luiss/Documents/projects/ai-starter-kit/multimodal_knowledge_retriever/data/sample_docs', 'filename': 'invoicesample.pdf'}\n",
      "TEXT: THANK YOU\n",
      "\n",
      "* Lorem ipsum dolor sit amet, consectetur adipiscing elit. Aliquam sodales dapibus fermentum. Nunc adipiscing, magna sed scelerisque cursus, erat lectus dapibus urna, sed facilisis leo dui et ipsum.\n",
      "\n",
      "Subtotal | Total\n",
      "\n",
      "Subtotal\n",
      "\n",
      "GST (10%)\n",
      "\n",
      "Total\n",
      "\n",
      "$36.00\n",
      "\n",
      "$3.60\n",
      "\n",
      "$39.60\n",
      "\n",
      "\n",
      "##########\n",
      "\n"
     ]
    }
   ],
   "source": [
    "for i, element in enumerate(raw_pdf_elements):\n",
    "    print(f\"\\033[95m ELEMENT {i}\\033[00m\")\n",
    "    print(f\"TYPE: {type(element)}\")\n",
    "    print(f\"META: {element.metadata.to_dict()}\")\n",
    "    print(f\"TEXT: {element.text}\")\n",
    "    print(\"\\n\\n##########\\n\")"
   ]
  },
  {
   "cell_type": "code",
   "execution_count": 8,
   "metadata": {},
   "outputs": [
    {
     "data": {
      "text/plain": [
       "{\"<class 'unstructured.documents.elements.CompositeElement'>\": 2,\n",
       " \"<class 'unstructured.documents.elements.Table'>\": 1}"
      ]
     },
     "execution_count": 8,
     "metadata": {},
     "output_type": "execute_result"
    }
   ],
   "source": [
    "# Create a dictionary to store counts of each type\n",
    "category_counts = {}\n",
    "\n",
    "for element in raw_pdf_elements:\n",
    "    category = str(type(element))\n",
    "    if category in category_counts:\n",
    "        category_counts[category] += 1\n",
    "    else:\n",
    "        category_counts[category] = 1\n",
    "\n",
    "# Unique_categories will have unique elements\n",
    "# TableChunk if Table > max chars set above\n",
    "unique_categories = set(category_counts.keys())\n",
    "category_counts"
   ]
  },
  {
   "cell_type": "code",
   "execution_count": 9,
   "metadata": {},
   "outputs": [
    {
     "name": "stdout",
     "output_type": "stream",
     "text": [
      "1\n",
      "2\n"
     ]
    }
   ],
   "source": [
    "from langchain.schema import Document\n",
    "\n",
    "\n",
    "# Categorize by type\n",
    "categorized_elements = []\n",
    "for element in raw_pdf_elements:\n",
    "    if \"unstructured.documents.elements.Table\" in str(type(element)):\n",
    "        meta = element.metadata.to_dict()\n",
    "        meta[\"type\"] = \"table\"\n",
    "        categorized_elements.append(Document(page_content=element.metadata.text_as_html, metadata=meta))\n",
    "    elif \"unstructured.documents.elements.CompositeElement\" in str(type(element)):\n",
    "        meta = element.metadata.to_dict()\n",
    "        meta[\"type\"] = \"text\"\n",
    "        categorized_elements.append(Document(page_content=str(element), metadata=meta))\n",
    "\n",
    "# Tables\n",
    "table_docs = [e for e in categorized_elements if e.metadata[\"type\"] == \"table\"]\n",
    "print(len(table_docs))\n",
    "\n",
    "# Text\n",
    "text_docs = [e for e in categorized_elements if e.metadata[\"type\"] == \"text\"]\n",
    "print(len(text_docs))"
   ]
  },
  {
   "cell_type": "markdown",
   "metadata": {},
   "source": [
    "### Text and table summaries"
   ]
  },
  {
   "cell_type": "code",
   "execution_count": 10,
   "metadata": {},
   "outputs": [],
   "source": [
    "from utils.model_wrappers.langchain_llms import SambaNovaFastAPI\n",
    "from langchain_core.output_parsers import StrOutputParser\n",
    "from langchain_core.prompts import load_prompt"
   ]
  },
  {
   "cell_type": "code",
   "execution_count": 11,
   "metadata": {},
   "outputs": [],
   "source": [
    "text_prompt = load_prompt(os.path.join(kit_dir, \"prompts\", \"llama70b-text_summary.yaml\"))\n",
    "table_prompt = load_prompt(os.path.join(kit_dir, \"prompts\", \"llama70b-table_summary.yaml\"))\n",
    "\n",
    "# Summary chain\n",
    "model = SambaNovaFastAPI(\n",
    "    max_tokens = 500,\n",
    "    model= 'llama3-8b',\n",
    ")\n",
    "text_summarize_chain = {\"element\": lambda x: x} | text_prompt | model | StrOutputParser()\n",
    "table_summarize_chain = {\"element\": lambda x: x} | table_prompt | model | StrOutputParser()"
   ]
  },
  {
   "cell_type": "markdown",
   "metadata": {},
   "source": [
    "### Text Summaries"
   ]
  },
  {
   "cell_type": "code",
   "execution_count": 12,
   "metadata": {},
   "outputs": [],
   "source": [
    "# Apply to text\n",
    "texts = [i.page_content for i in text_docs if i.page_content != \"\"]\n",
    "if texts:\n",
    "    text_summaries = text_summarize_chain.batch(texts, {\"max_concurrency\": 1})"
   ]
  },
  {
   "cell_type": "code",
   "execution_count": 13,
   "metadata": {},
   "outputs": [
    {
     "data": {
      "text/plain": [
       "['Here is a concise summary of the text chunk:\\n\\nThis is an invoice addressed to Denny Gunawan, with a total amount of $39.60, and details of two addresses in Melbourne, VIC.',\n",
       " 'A receipt summary:\\n\\nA subtotal of $36.00 is calculated, then a 10% GST (Goods and Services Tax) is added, resulting in a total of $39.60.']"
      ]
     },
     "execution_count": 13,
     "metadata": {},
     "output_type": "execute_result"
    }
   ],
   "source": [
    "text_summaries"
   ]
  },
  {
   "cell_type": "markdown",
   "metadata": {},
   "source": [
    "### Table summaries"
   ]
  },
  {
   "cell_type": "code",
   "execution_count": 14,
   "metadata": {},
   "outputs": [],
   "source": [
    "# Apply to tables\n",
    "tables = [i.page_content for i in table_docs]\n",
    "if tables:\n",
    "    table_summaries = table_summarize_chain.batch(tables, {\"max_concurrency\":1})"
   ]
  },
  {
   "cell_type": "code",
   "execution_count": 15,
   "metadata": {},
   "outputs": [
    {
     "data": {
      "text/plain": [
       "['Here is a concise summary of the table:\\n\\n**Total Items:** 9\\n**Total Cost:** $47.34']"
      ]
     },
     "execution_count": 15,
     "metadata": {},
     "output_type": "execute_result"
    }
   ],
   "source": [
    "table_summaries"
   ]
  },
  {
   "cell_type": "markdown",
   "metadata": {},
   "source": [
    "### Image summary"
   ]
  },
  {
   "cell_type": "code",
   "execution_count": 16,
   "metadata": {},
   "outputs": [],
   "source": [
    "image_prompt = \"A chat between a curious human and an artificial intelligence assistant. The assistant gives helpful, detailed, and polite answers to the humans question. USER: <image>\\n, such as bar plots. ASSISTANT:\"\n",
    "image_prompt = load_prompt(os.path.join(kit_dir, \"prompts\", \"llava.yaml\"))\n",
    "prompt = image_prompt.format(instruction = \"Describe the image in detail. Be specific about graphs include name of axis, labels, legends and important numerical information\")\n",
    "image_paths = []\n",
    "image_paths.extend(glob.glob(os.path.join(output_path, '*.jpg')))\n",
    "image_paths.extend(glob.glob(os.path.join(output_path, '*.png')))\n",
    "\n",
    "image_summaries = []\n",
    "image_docs = []\n",
    "\n",
    "for image_path in image_paths:\n",
    "    result = llava_call(prompt, image_path)\n",
    "    image_summaries.append(result)\n",
    "    image_docs.append(Document(\n",
    "                        page_content=result, \n",
    "                        metadata={\n",
    "                                'type': 'image', \n",
    "                                'file_directory': os.path.dirname(image_path),\n",
    "                                'filename': os.path.basename(image_path),\n",
    "                            }\n",
    "                        )\n",
    "                    )"
   ]
  },
  {
   "cell_type": "code",
   "execution_count": 17,
   "metadata": {},
   "outputs": [
    {
     "data": {
      "text/plain": [
       "[\"The image features a logo for Sunny Farm, a company that specializes in fresh produce. The logo is a gold and yellow color scheme, with a sun in the center, symbolizing the warmth and freshness of the products. The sun is surrounded by trees, which further emphasize the connection to nature and the source of the fresh produce.\\n\\nThe logo is placed on a white background, making it stand out and be easily recognizable. The sun in the logo is positioned at the top left corner, while the trees are located at the bottom right corner. The overall design of the logo is simple yet effective in conveying the company's message.\"]"
      ]
     },
     "execution_count": 17,
     "metadata": {},
     "output_type": "execute_result"
    }
   ],
   "source": [
    "image_summaries"
   ]
  },
  {
   "cell_type": "code",
   "execution_count": 18,
   "metadata": {},
   "outputs": [
    {
     "data": {
      "text/plain": [
       "[Document(metadata={'type': 'image', 'file_directory': '/Users/luiss/Documents/projects/ai-starter-kit/multimodal_knowledge_retriever/data/sample_docs/invoicesample', 'filename': 'figure-1-1.jpg'}, page_content=\"The image features a logo for Sunny Farm, a company that specializes in fresh produce. The logo is a gold and yellow color scheme, with a sun in the center, symbolizing the warmth and freshness of the products. The sun is surrounded by trees, which further emphasize the connection to nature and the source of the fresh produce.\\n\\nThe logo is placed on a white background, making it stand out and be easily recognizable. The sun in the logo is positioned at the top left corner, while the trees are located at the bottom right corner. The overall design of the logo is simple yet effective in conveying the company's message.\")]"
      ]
     },
     "execution_count": 18,
     "metadata": {},
     "output_type": "execute_result"
    }
   ],
   "source": [
    "image_docs"
   ]
  },
  {
   "cell_type": "markdown",
   "metadata": {},
   "source": [
    "### add to vectorstore"
   ]
  },
  {
   "cell_type": "code",
   "execution_count": 19,
   "metadata": {},
   "outputs": [
    {
     "name": "stderr",
     "output_type": "stream",
     "text": [
      "/Users/luiss/.pyenv/versions/3.11.3/lib/python3.11/site-packages/langchain_core/_api/deprecation.py:139: LangChainDeprecationWarning: The class `Chroma` was deprecated in LangChain 0.2.9 and will be removed in 0.4. An updated version of the class exists in the langchain-chroma package and should be used instead. To use it run `pip install -U langchain-chroma` and import as `from langchain_chroma import Chroma`.\n",
      "  warn_deprecated(\n"
     ]
    }
   ],
   "source": [
    "import uuid\n",
    "\n",
    "from langchain.retrievers.multi_vector import MultiVectorRetriever\n",
    "from langchain.storage import InMemoryByteStore\n",
    "from utils.model_wrappers.langchain_embeddings import SambaStudioEmbeddings\n",
    "from langchain_community.vectorstores import Chroma\n",
    "from langchain_core.documents import Document\n",
    "\n",
    "# The vectorstore to use to index the child chunks\n",
    "vectorstore = Chroma(\n",
    "    collection_name=\"summaries\", embedding_function=SambaStudioEmbeddings(\n",
    "        type=\"sambastudio\", batch_size=1, coe=True, select_expert=\"e5-mistral-7b-instruct\")\n",
    ")\n",
    "\n",
    "# The storage layer for the parent documents\n",
    "store = InMemoryByteStore()  \n",
    "id_key = \"doc_id\"\n",
    "\n",
    "# The retriever (empty to start)\n",
    "retriever = MultiVectorRetriever(\n",
    "    vectorstore=vectorstore,\n",
    "    docstore=store,\n",
    "    id_key=id_key,\n",
    "    search_kwargs={\"k\":2}\n",
    ")"
   ]
  },
  {
   "cell_type": "code",
   "execution_count": null,
   "metadata": {},
   "outputs": [],
   "source": [
    "# Add texts\n",
    "if texts:\n",
    "    doc_ids = [str(uuid.uuid4()) for _ in text_docs]\n",
    "    summary_texts = [\n",
    "        Document(page_content=s, metadata={id_key: doc_ids[i]})\n",
    "        for i, s in enumerate(text_summaries)\n",
    "    ]\n",
    "    retriever.vectorstore.add_documents(summary_texts)\n",
    "    retriever.docstore.mset(list(zip(doc_ids, text_docs)))\n",
    "\n",
    "# Add tables\n",
    "if tables:\n",
    "    table_ids = [str(uuid.uuid4()) for _ in table_docs]\n",
    "    summary_tables = [\n",
    "        Document(page_content=s, metadata={id_key: table_ids[i]})\n",
    "        for i, s in enumerate(table_summaries)\n",
    "    ]\n",
    "    retriever.vectorstore.add_documents(summary_tables)\n",
    "    retriever.docstore.mset(list(zip(table_ids, table_docs)))\n",
    "\n",
    "# Add images\n",
    "if image_summaries:\n",
    "    img_ids = [str(uuid.uuid4()) for _ in image_summaries]\n",
    "    summary_img = [\n",
    "        Document(page_content=s, metadata={id_key: img_ids[i]})\n",
    "        for i, s in enumerate(image_summaries)\n",
    "    ]\n",
    "    retriever.vectorstore.add_documents(summary_img)\n",
    "    retriever.docstore.mset(\n",
    "        list(zip(img_ids, image_docs))\n",
    "    )  # Store the image summary as the raw document"
   ]
  },
  {
   "cell_type": "code",
   "execution_count": null,
   "metadata": {},
   "outputs": [],
   "source": [
    "retriever.invoke(\"what is the final price in the invoice?\")"
   ]
  },
  {
   "cell_type": "code",
   "execution_count": 22,
   "metadata": {},
   "outputs": [
    {
     "data": {
      "text/plain": [
       "[Document(page_content=\"The image features a logo for Sunny Farm, a company that specializes in fresh produce. The logo is a gold and yellow color scheme, with a sun in the center, symbolizing the warmth and freshness of the products. The sun is surrounded by trees, which further emphasize the connection to nature and the source of the fresh produce.\\n\\nThe logo is placed on a white background, making it stand out and be easily recognizable. The sun in the logo is positioned at the top left corner, while the trees are located at the bottom right corner. The overall design of the logo is simple yet effective in conveying the company's message.\", metadata={'type': 'image', 'file_directory': '/Users/jorgep/Documents/ask_public_own/ai-starter-kit/multimodal_knowledge_retriever/data/sample_docs/invoicesample', 'filename': 'figure-1-1.jpg'}),\n",
       " Document(page_content='ATTENTION TO\\n\\nDenny Gunawan\\n\\n221 Queen St Melbourne VIC 3000\\n\\n123 Somewhere St, Melbourne VIC 3000 (03) 1234 5678\\n\\n$39.60\\n\\nInvoice Number: #20130304', metadata={'filetype': 'application/pdf', 'languages': ['eng'], 'last_modified': '2024-05-08T08:57:57', 'page_number': 1, 'orig_elements': 'eJy9ltuO2zYQhl9FUHvRAqbE82HviqYo9iKbFOv0ZrEQKHHkZVaWBIleZxP03UtJTpCDEyAGbMA382vGIv9vhtTdhxQa2EIbCu/SqyQ1qqTUuhJhRQTinBpkwXJky9rVdSV5xWS6StItBOtssLHmQ1p13eB8awOMc9zY524Xigfwm4cQFcqYiTUHee9deIgqkYJFte98G6a6uztjaCZWCeE84/er5GNMiczEFBOBVUaPCEtFVNLxeQywnXby2r+D5ra3FaT/xQcOAlTBd21RNXYci37oypiGMyqZkDGh9g2E5x7m2tcv03nB7WZnN/Ou7lJoN+n9rI6h2HbO1x5mzyimHGGBsF5jfSVU/E3Vfaws2t22hGHa7bSIAO8mP9I/1uu/btbXr26S9asp9eN71z4083K/xmJVSZQRHAHnDHGHS2Sto0hVXNRQSoHJ+bAQJTIVXRc4I7PrSyyFyNgUa8InTF/HS/5pUDST32Hit5OtvZ3XmuZvRhjG/G03bKDPX3TVbjJtzO34WPS7svFV0e3b3Ho0BjsEGNCjD/l21wQfCdqmeGy7fQMu/uUAYfDwBEM+GZiPdts3ULiuGnPfPnW+gkXKa7/ZDYAIItnbfnPWPvm8N66njR/rDai0AWIM4ix2BI+dgGytCcK1KSVIyqjh5+sNTOZmYJQt8D8JUmZ6FhiXmTkmzCWnDi3F4sJD+wLa9jn5e9favW0/J3Njh8EG/wTrKfMIIScl45RT5LSOmIBSpHVFECtr5mrQNSf6nIR0RlYJl9G2A6FZEIwfkDEqpoH9RlhKTiPENDWXPlYpJck/O4A2uQ3JS2jKbje0kPx7/WfCMMY/xUzHzcezliMDxiFOsETxmAVUY8KYKJ2Q5fmmStIMrxJFzXLNLaGOUNR8LUadfhsv6SfOkxH0wrAIZcltt4X9AwwQga2OEEt+w+z3JGbyREilfwogqQkhVGskTV3GK5NwVCpDEeWkNtoJIVl1vqEjQk1nnNT6cOgdBGVYhmeBK5mxI8JS8kOMl8T0KzOZ/GJ03rRV9GfTDf49uO+5L5Xh2CmMVG2j+1LFT0jDSZwhK7ksiZaEns39+OER8wyJjk/OHkJBlvOPK5bxI/Gcftr4cBUvpAuDuV4+SpKb+elV8guNJxNmmP9gSu7/ByzZesU=', 'file_directory': '/Users/jorgep/Documents/ask_public_own/ai-starter-kit/multimodal_knowledge_retriever/data/sample_docs', 'filename': 'invoicesample.pdf', 'type': 'text'})]"
      ]
     },
     "execution_count": 22,
     "metadata": {},
     "output_type": "execute_result"
    }
   ],
   "source": [
    "retriever.invoke(\"what is the logo of the company\")"
   ]
  },
  {
   "cell_type": "markdown",
   "metadata": {},
   "source": [
    "## Retrieval with raw text, raw tables and image summaries"
   ]
  },
  {
   "cell_type": "code",
   "execution_count": 23,
   "metadata": {},
   "outputs": [],
   "source": [
    "from langchain.chains import RetrievalQA\n",
    "\n",
    "prompt = load_prompt(os.path.join(kit_dir,\"prompts\",\"llama70b-knowledge_retriever_custom_qa_prompt.yaml\"))\n",
    "\n",
    "chain = RetrievalQA.from_llm(\n",
    "    llm = model,\n",
    "    retriever=retriever,\n",
    "    return_source_documents=True,\n",
    "    input_key=\"question\",\n",
    "    output_key=\"answer\"\n",
    ")\n",
    "chain.combine_documents_chain.llm_chain.prompt=prompt\n"
   ]
  },
  {
   "cell_type": "code",
   "execution_count": 24,
   "metadata": {},
   "outputs": [
    {
     "data": {
      "text/plain": [
       "{'question': 'what is the final price in the invoice?',\n",
       " 'answer': ' Sure, I can help you with that! Based on the provided context, the final price in the invoice is $39.60. This can beWiki confirmed by looking at the \"Total\" section of the invoice, which states $39.60.\\n\\nHere\\'s a breakdown of how I arrived at this answer:\\n\\n* I first looked at the \"Subtotal\" section, which states $36.00.\\n* Next, I looked at the \"GST (10%)\" section, which states $3.60.\\n* Finally, I added the subtotal and GST amounts together to get the final total, which is $39.60.\\n\\nI hope that helps! Let me know if you have any other questions.',\n",
       " 'source_documents': [Document(page_content='THANK YOU\\n\\n* Lorem ipsum dolor sit amet, consectetur adipiscing elit. Aliquam sodales dapibus fermentum. Nunc adipiscing, magna sed scelerisque cursus, erat lectus dapibus urna, sed facilisis leo dui et ipsum.\\n\\nSubtotal | Total\\n\\nSubtotal\\n\\nGST (10%)\\n\\nTotal\\n\\n$36.00\\n\\n$3.60\\n\\n$39.60', metadata={'filetype': 'application/pdf', 'languages': ['eng'], 'last_modified': '2024-05-08T08:57:57', 'page_number': 1, 'orig_elements': 'eJzNV12L3DYU/SvCtNCWkdH3R97y1ELbbWAnD2VZBlm6nhV47Iktt9mm+e+VPZ5kaKZNtjDbAYPRsY4tnXPvsX33roAGdtCmTQzFC1SAYLVlTmPDNGARALDx2mJjHCOWMU85K1ao2EFywSWXOe8K33V9iK1LMMzjxj12Y9o8QNw+pIwwzm3mLPDvMaSHjFIleUb3XWzTxLu7U7rM86iVtBT3K7SMGdH6MDaal+YMsDAyUgyPQ4LdtJNX8S00t3vnoXifLwRI4FPs2o1v3DBs9n1X5WmkVJYTnSfUsYH0uIeZ++rnYl5wux3ddt7VXQHttrif0SFtdl2IdYRZM0aYwERiYtbEvJA6HxN7n5mbdtxV0E+7nRaR4O2kR7H+4eXNj+jXX15P844PXcfUzGv9uyfSGSaodFgq4bCoK4WdrStc1ZK4UFWgGL+YJ5KVNEtOKSntJPlxbFXJZguULcVZYGb8N08sI4I9syffoZ+6HnYo7odxh0LXdD0aYkIuy7pCvmuHvFZIY49ciPs4+NhuETQxlehlE9+MboeGLrgGBhTcPlbjgGroJxvHXYluxtafEFdo57atQwMENPhsdx+HNyMgP/bDOKwQ9C6hJj9w/Hi3sW/dambUzscmDnHIUzoUxoggHdZdnhbUjevzbeJvsJ62eKawAjdCQfCY1FrmwjIhF5a1OFQ5AXRd1dTWFyssS3VJpt6dzlPhLACj3B4ASq05jyykfy2u56yd27FKXXIN+hOtp/MXtTVQRWrqAbNKKCwMI7jK6YqtkMGJyihqLxe1lFAzNXJ+xtLYHxHFSvVBbXMeYZ9t7v9D/y/SPUseqFA2x2kdsLC1w4YIikEHYAyCJNQ/g+6WlvpUd0Y4P7zVaE77kp1DFtbV6P797Rp9Q8nX354K/7r1WaZt18c/IPxT9HiRPzRqybEUrMKCC4+dpxI7IYDpyuWvD3JxExgxeinsI0KZPbzGKGVzqZ9BDqyrMeEJicO5DFJaDJTWWCiVRa9y5WcLnLGWMGnU5UTnhpV6yQ4+C/oBUXTJIGF1yc8jM+tqRP+Kq5KQJ5d9MNIHZR3mRDEs8lsWOybnzKfc0XxVXu5TjgrCS7mkCD2oe0By0rDSnOr9KbKwrsiBUj3dAK1pHVwFuJb510ZQX2GjK4spkVz6/JNjgrlgC0ix5A47tsCCUC6WqD8a8ClyYF2RAfbzDtz/BSExKVI=', 'file_directory': '/Users/jorgep/Documents/ask_public_own/ai-starter-kit/multimodal_knowledge_retriever/data/sample_docs', 'filename': 'invoicesample.pdf', 'type': 'text'}),\n",
       "  Document(page_content='ATTENTION TO\\n\\nDenny Gunawan\\n\\n221 Queen St Melbourne VIC 3000\\n\\n123 Somewhere St, Melbourne VIC 3000 (03) 1234 5678\\n\\n$39.60\\n\\nInvoice Number: #20130304', metadata={'filetype': 'application/pdf', 'languages': ['eng'], 'last_modified': '2024-05-08T08:57:57', 'page_number': 1, 'orig_elements': 'eJy9ltuO2zYQhl9FUHvRAqbE82HviqYo9iKbFOv0ZrEQKHHkZVaWBIleZxP03UtJTpCDEyAGbMA382vGIv9vhtTdhxQa2EIbCu/SqyQ1qqTUuhJhRQTinBpkwXJky9rVdSV5xWS6StItBOtssLHmQ1p13eB8awOMc9zY524Xigfwm4cQFcqYiTUHee9deIgqkYJFte98G6a6uztjaCZWCeE84/er5GNMiczEFBOBVUaPCEtFVNLxeQywnXby2r+D5ra3FaT/xQcOAlTBd21RNXYci37oypiGMyqZkDGh9g2E5x7m2tcv03nB7WZnN/Ou7lJoN+n9rI6h2HbO1x5mzyimHGGBsF5jfSVU/E3Vfaws2t22hGHa7bSIAO8mP9I/1uu/btbXr26S9asp9eN71z4083K/xmJVSZQRHAHnDHGHS2Sto0hVXNRQSoHJ+bAQJTIVXRc4I7PrSyyFyNgUa8InTF/HS/5pUDST32Hit5OtvZ3XmuZvRhjG/G03bKDPX3TVbjJtzO34WPS7svFV0e3b3Ho0BjsEGNCjD/l21wQfCdqmeGy7fQMu/uUAYfDwBEM+GZiPdts3ULiuGnPfPnW+gkXKa7/ZDYAIItnbfnPWPvm8N66njR/rDai0AWIM4ix2BI+dgGytCcK1KSVIyqjh5+sNTOZmYJQt8D8JUmZ6FhiXmTkmzCWnDi3F4sJD+wLa9jn5e9favW0/J3Njh8EG/wTrKfMIIScl45RT5LSOmIBSpHVFECtr5mrQNSf6nIR0RlYJl9G2A6FZEIwfkDEqpoH9RlhKTiPENDWXPlYpJck/O4A2uQ3JS2jKbje0kPx7/WfCMMY/xUzHzcezliMDxiFOsETxmAVUY8KYKJ2Q5fmmStIMrxJFzXLNLaGOUNR8LUadfhsv6SfOkxH0wrAIZcltt4X9AwwQga2OEEt+w+z3JGbyREilfwogqQkhVGskTV3GK5NwVCpDEeWkNtoJIVl1vqEjQk1nnNT6cOgdBGVYhmeBK5mxI8JS8kOMl8T0KzOZ/GJ03rRV9GfTDf49uO+5L5Xh2CmMVG2j+1LFT0jDSZwhK7ksiZaEns39+OER8wyJjk/OHkJBlvOPK5bxI/Gcftr4cBUvpAuDuV4+SpKb+elV8guNJxNmmP9gSu7/ByzZesU=', 'file_directory': '/Users/jorgep/Documents/ask_public_own/ai-starter-kit/multimodal_knowledge_retriever/data/sample_docs', 'filename': 'invoicesample.pdf', 'type': 'text'})]}"
      ]
     },
     "execution_count": 24,
     "metadata": {},
     "output_type": "execute_result"
    }
   ],
   "source": [
    "chain.invoke({\"question\": \"what is the final price in the invoice?\"})"
   ]
  },
  {
   "cell_type": "code",
   "execution_count": 25,
   "metadata": {},
   "outputs": [
    {
     "data": {
      "text/plain": [
       "{'question': 'what is the logo of the company',\n",
       " 'answer': ' Based on the provided context, the logo of the company is a gold and yellow logo featuring a sun in the center, surrounded by trees. The sun is positioned at the top left corner, while the trees are located at the bottom right corner. The logo is placed on a white background, making it stand out and easily recognizable.',\n",
       " 'source_documents': [Document(page_content=\"The image features a logo for Sunny Farm, a company that specializes in fresh produce. The logo is a gold and yellow color scheme, with a sun in the center, symbolizing the warmth and freshness of the products. The sun is surrounded by trees, which further emphasize the connection to nature and the source of the fresh produce.\\n\\nThe logo is placed on a white background, making it stand out and be easily recognizable. The sun in the logo is positioned at the top left corner, while the trees are located at the bottom right corner. The overall design of the logo is simple yet effective in conveying the company's message.\", metadata={'type': 'image', 'file_directory': '/Users/jorgep/Documents/ask_public_own/ai-starter-kit/multimodal_knowledge_retriever/data/sample_docs/invoicesample', 'filename': 'figure-1-1.jpg'}),\n",
       "  Document(page_content='ATTENTION TO\\n\\nDenny Gunawan\\n\\n221 Queen St Melbourne VIC 3000\\n\\n123 Somewhere St, Melbourne VIC 3000 (03) 1234 5678\\n\\n$39.60\\n\\nInvoice Number: #20130304', metadata={'filetype': 'application/pdf', 'languages': ['eng'], 'last_modified': '2024-05-08T08:57:57', 'page_number': 1, 'orig_elements': 'eJy9ltuO2zYQhl9FUHvRAqbE82HviqYo9iKbFOv0ZrEQKHHkZVaWBIleZxP03UtJTpCDEyAGbMA382vGIv9vhtTdhxQa2EIbCu/SqyQ1qqTUuhJhRQTinBpkwXJky9rVdSV5xWS6StItBOtssLHmQ1p13eB8awOMc9zY524Xigfwm4cQFcqYiTUHee9deIgqkYJFte98G6a6uztjaCZWCeE84/er5GNMiczEFBOBVUaPCEtFVNLxeQywnXby2r+D5ra3FaT/xQcOAlTBd21RNXYci37oypiGMyqZkDGh9g2E5x7m2tcv03nB7WZnN/Ou7lJoN+n9rI6h2HbO1x5mzyimHGGBsF5jfSVU/E3Vfaws2t22hGHa7bSIAO8mP9I/1uu/btbXr26S9asp9eN71z4083K/xmJVSZQRHAHnDHGHS2Sto0hVXNRQSoHJ+bAQJTIVXRc4I7PrSyyFyNgUa8InTF/HS/5pUDST32Hit5OtvZ3XmuZvRhjG/G03bKDPX3TVbjJtzO34WPS7svFV0e3b3Ho0BjsEGNCjD/l21wQfCdqmeGy7fQMu/uUAYfDwBEM+GZiPdts3ULiuGnPfPnW+gkXKa7/ZDYAIItnbfnPWPvm8N66njR/rDai0AWIM4ix2BI+dgGytCcK1KSVIyqjh5+sNTOZmYJQt8D8JUmZ6FhiXmTkmzCWnDi3F4sJD+wLa9jn5e9favW0/J3Njh8EG/wTrKfMIIScl45RT5LSOmIBSpHVFECtr5mrQNSf6nIR0RlYJl9G2A6FZEIwfkDEqpoH9RlhKTiPENDWXPlYpJck/O4A2uQ3JS2jKbje0kPx7/WfCMMY/xUzHzcezliMDxiFOsETxmAVUY8KYKJ2Q5fmmStIMrxJFzXLNLaGOUNR8LUadfhsv6SfOkxH0wrAIZcltt4X9AwwQga2OEEt+w+z3JGbyREilfwogqQkhVGskTV3GK5NwVCpDEeWkNtoJIVl1vqEjQk1nnNT6cOgdBGVYhmeBK5mxI8JS8kOMl8T0KzOZ/GJ03rRV9GfTDf49uO+5L5Xh2CmMVG2j+1LFT0jDSZwhK7ksiZaEns39+OER8wyJjk/OHkJBlvOPK5bxI/Gcftr4cBUvpAuDuV4+SpKb+elV8guNJxNmmP9gSu7/ByzZesU=', 'file_directory': '/Users/jorgep/Documents/ask_public_own/ai-starter-kit/multimodal_knowledge_retriever/data/sample_docs', 'filename': 'invoicesample.pdf', 'type': 'text'})]}"
      ]
     },
     "execution_count": 25,
     "metadata": {},
     "output_type": "execute_result"
    }
   ],
   "source": [
    "chain.invoke(\"what is the logo of the company\")"
   ]
  },
  {
   "cell_type": "markdown",
   "metadata": {},
   "source": [
    "## Retrieval with raw text, raw tables and raw images"
   ]
  },
  {
   "cell_type": "code",
   "execution_count": 26,
   "metadata": {},
   "outputs": [],
   "source": [
    "query = \"what it says the text in the logo\"#\"what is the logo of the company?\""
   ]
  },
  {
   "cell_type": "code",
   "execution_count": 27,
   "metadata": {},
   "outputs": [
    {
     "data": {
      "text/plain": [
       "[Document(page_content=\"The image features a logo for Sunny Farm, a company that specializes in fresh produce. The logo is a gold and yellow color scheme, with a sun in the center, symbolizing the warmth and freshness of the products. The sun is surrounded by trees, which further emphasize the connection to nature and the source of the fresh produce.\\n\\nThe logo is placed on a white background, making it stand out and be easily recognizable. The sun in the logo is positioned at the top left corner, while the trees are located at the bottom right corner. The overall design of the logo is simple yet effective in conveying the company's message.\", metadata={'type': 'image', 'file_directory': '/Users/jorgep/Documents/ask_public_own/ai-starter-kit/multimodal_knowledge_retriever/data/sample_docs/invoicesample', 'filename': 'figure-1-1.jpg'}),\n",
       " Document(page_content='ATTENTION TO\\n\\nDenny Gunawan\\n\\n221 Queen St Melbourne VIC 3000\\n\\n123 Somewhere St, Melbourne VIC 3000 (03) 1234 5678\\n\\n$39.60\\n\\nInvoice Number: #20130304', metadata={'filetype': 'application/pdf', 'languages': ['eng'], 'last_modified': '2024-05-08T08:57:57', 'page_number': 1, 'orig_elements': 'eJy9ltuO2zYQhl9FUHvRAqbE82HviqYo9iKbFOv0ZrEQKHHkZVaWBIleZxP03UtJTpCDEyAGbMA382vGIv9vhtTdhxQa2EIbCu/SqyQ1qqTUuhJhRQTinBpkwXJky9rVdSV5xWS6StItBOtssLHmQ1p13eB8awOMc9zY524Xigfwm4cQFcqYiTUHee9deIgqkYJFte98G6a6uztjaCZWCeE84/er5GNMiczEFBOBVUaPCEtFVNLxeQywnXby2r+D5ra3FaT/xQcOAlTBd21RNXYci37oypiGMyqZkDGh9g2E5x7m2tcv03nB7WZnN/Ou7lJoN+n9rI6h2HbO1x5mzyimHGGBsF5jfSVU/E3Vfaws2t22hGHa7bSIAO8mP9I/1uu/btbXr26S9asp9eN71z4083K/xmJVSZQRHAHnDHGHS2Sto0hVXNRQSoHJ+bAQJTIVXRc4I7PrSyyFyNgUa8InTF/HS/5pUDST32Hit5OtvZ3XmuZvRhjG/G03bKDPX3TVbjJtzO34WPS7svFV0e3b3Ho0BjsEGNCjD/l21wQfCdqmeGy7fQMu/uUAYfDwBEM+GZiPdts3ULiuGnPfPnW+gkXKa7/ZDYAIItnbfnPWPvm8N66njR/rDai0AWIM4ix2BI+dgGytCcK1KSVIyqjh5+sNTOZmYJQt8D8JUmZ6FhiXmTkmzCWnDi3F4sJD+wLa9jn5e9favW0/J3Njh8EG/wTrKfMIIScl45RT5LSOmIBSpHVFECtr5mrQNSf6nIR0RlYJl9G2A6FZEIwfkDEqpoH9RlhKTiPENDWXPlYpJck/O4A2uQ3JS2jKbje0kPx7/WfCMMY/xUzHzcezliMDxiFOsETxmAVUY8KYKJ2Q5fmmStIMrxJFzXLNLaGOUNR8LUadfhsv6SfOkxH0wrAIZcltt4X9AwwQga2OEEt+w+z3JGbyREilfwogqQkhVGskTV3GK5NwVCpDEeWkNtoJIVl1vqEjQk1nnNT6cOgdBGVYhmeBK5mxI8JS8kOMl8T0KzOZ/GJ03rRV9GfTDf49uO+5L5Xh2CmMVG2j+1LFT0jDSZwhK7ksiZaEns39+OER8wyJjk/OHkJBlvOPK5bxI/Gcftr4cBUvpAuDuV4+SpKb+elV8guNJxNmmP9gSu7/ByzZesU=', 'file_directory': '/Users/jorgep/Documents/ask_public_own/ai-starter-kit/multimodal_knowledge_retriever/data/sample_docs', 'filename': 'invoicesample.pdf', 'type': 'text'})]"
      ]
     },
     "execution_count": 27,
     "metadata": {},
     "output_type": "execute_result"
    }
   ],
   "source": [
    "retriever.invoke(query)"
   ]
  },
  {
   "cell_type": "code",
   "execution_count": 28,
   "metadata": {},
   "outputs": [
    {
     "data": {
      "text/plain": [
       "{'question': 'what it says the text in the logo',\n",
       " 'answer': ' The text in the logo of Sunny Farm, as described in the first context, does not explicitly state what the text says. However, based on the description of the logo, it appears to feature the company name \"Sunny Farm\" in a gold and yellow color scheme, with a sun in the center and trees surrounding it.\\n\\nTherefore, a possible answer to the question \"what does the text in the logo say?\" could be:\\n\\n\"The text in the logo of Sunny Farm appears to be the company name \\'Sunny Farm\\', written in a gold and yellow color scheme with a sun in the center and trees surrounding it.\"\\n\\nPlease note that this answer is based on the information provided in the context and may not be entirely accurate. If further information is available or if the question is ambiguous, it\\'s always best to clarify or ask for additional details.',\n",
       " 'source_documents': [Document(page_content=\"The image features a logo for Sunny Farm, a company that specializes in fresh produce. The logo is a gold and yellow color scheme, with a sun in the center, symbolizing the warmth and freshness of the products. The sun is surrounded by trees, which further emphasize the connection to nature and the source of the fresh produce.\\n\\nThe logo is placed on a white background, making it stand out and be easily recognizable. The sun in the logo is positioned at the top left corner, while the trees are located at the bottom right corner. The overall design of the logo is simple yet effective in conveying the company's message.\", metadata={'type': 'image', 'file_directory': '/Users/jorgep/Documents/ask_public_own/ai-starter-kit/multimodal_knowledge_retriever/data/sample_docs/invoicesample', 'filename': 'figure-1-1.jpg'}),\n",
       "  Document(page_content='ATTENTION TO\\n\\nDenny Gunawan\\n\\n221 Queen St Melbourne VIC 3000\\n\\n123 Somewhere St, Melbourne VIC 3000 (03) 1234 5678\\n\\n$39.60\\n\\nInvoice Number: #20130304', metadata={'filetype': 'application/pdf', 'languages': ['eng'], 'last_modified': '2024-05-08T08:57:57', 'page_number': 1, 'orig_elements': 'eJy9ltuO2zYQhl9FUHvRAqbE82HviqYo9iKbFOv0ZrEQKHHkZVaWBIleZxP03UtJTpCDEyAGbMA382vGIv9vhtTdhxQa2EIbCu/SqyQ1qqTUuhJhRQTinBpkwXJky9rVdSV5xWS6StItBOtssLHmQ1p13eB8awOMc9zY524Xigfwm4cQFcqYiTUHee9deIgqkYJFte98G6a6uztjaCZWCeE84/er5GNMiczEFBOBVUaPCEtFVNLxeQywnXby2r+D5ra3FaT/xQcOAlTBd21RNXYci37oypiGMyqZkDGh9g2E5x7m2tcv03nB7WZnN/Ou7lJoN+n9rI6h2HbO1x5mzyimHGGBsF5jfSVU/E3Vfaws2t22hGHa7bSIAO8mP9I/1uu/btbXr26S9asp9eN71z4083K/xmJVSZQRHAHnDHGHS2Sto0hVXNRQSoHJ+bAQJTIVXRc4I7PrSyyFyNgUa8InTF/HS/5pUDST32Hit5OtvZ3XmuZvRhjG/G03bKDPX3TVbjJtzO34WPS7svFV0e3b3Ho0BjsEGNCjD/l21wQfCdqmeGy7fQMu/uUAYfDwBEM+GZiPdts3ULiuGnPfPnW+gkXKa7/ZDYAIItnbfnPWPvm8N66njR/rDai0AWIM4ix2BI+dgGytCcK1KSVIyqjh5+sNTOZmYJQt8D8JUmZ6FhiXmTkmzCWnDi3F4sJD+wLa9jn5e9favW0/J3Njh8EG/wTrKfMIIScl45RT5LSOmIBSpHVFECtr5mrQNSf6nIR0RlYJl9G2A6FZEIwfkDEqpoH9RlhKTiPENDWXPlYpJck/O4A2uQ3JS2jKbje0kPx7/WfCMMY/xUzHzcezliMDxiFOsETxmAVUY8KYKJ2Q5fmmStIMrxJFzXLNLaGOUNR8LUadfhsv6SfOkxH0wrAIZcltt4X9AwwQga2OEEt+w+z3JGbyREilfwogqQkhVGskTV3GK5NwVCpDEeWkNtoJIVl1vqEjQk1nnNT6cOgdBGVYhmeBK5mxI8JS8kOMl8T0KzOZ/GJ03rRV9GfTDf49uO+5L5Xh2CmMVG2j+1LFT0jDSZwhK7ksiZaEns39+OER8wyJjk/OHkJBlvOPK5bxI/Gcftr4cBUvpAuDuV4+SpKb+elV8guNJxNmmP9gSu7/ByzZesU=', 'file_directory': '/Users/jorgep/Documents/ask_public_own/ai-starter-kit/multimodal_knowledge_retriever/data/sample_docs', 'filename': 'invoicesample.pdf', 'type': 'text'})]}"
      ]
     },
     "execution_count": 28,
     "metadata": {},
     "output_type": "execute_result"
    }
   ],
   "source": [
    "chain.invoke({\"question\": query})"
   ]
  },
  {
   "cell_type": "markdown",
   "metadata": {},
   "source": [
    "### filter image results"
   ]
  },
  {
   "cell_type": "code",
   "execution_count": 29,
   "metadata": {},
   "outputs": [],
   "source": [
    "def get_retrieved_images(retriever, query):\n",
    "    results=retriever.invoke(query)\n",
    "    results = [result for result in results if result.metadata[\"type\"]==\"image\"]\n",
    "    return results"
   ]
  },
  {
   "cell_type": "code",
   "execution_count": 30,
   "metadata": {},
   "outputs": [
    {
     "data": {
      "text/plain": [
       "[Document(page_content=\"The image features a logo for Sunny Farm, a company that specializes in fresh produce. The logo is a gold and yellow color scheme, with a sun in the center, symbolizing the warmth and freshness of the products. The sun is surrounded by trees, which further emphasize the connection to nature and the source of the fresh produce.\\n\\nThe logo is placed on a white background, making it stand out and be easily recognizable. The sun in the logo is positioned at the top left corner, while the trees are located at the bottom right corner. The overall design of the logo is simple yet effective in conveying the company's message.\", metadata={'type': 'image', 'file_directory': '/Users/jorgep/Documents/ask_public_own/ai-starter-kit/multimodal_knowledge_retriever/data/sample_docs/invoicesample', 'filename': 'figure-1-1.jpg'})]"
      ]
     },
     "execution_count": 30,
     "metadata": {},
     "output_type": "execute_result"
    }
   ],
   "source": [
    "retrieved_images = get_retrieved_images(retriever, query)\n",
    "retrieved_images"
   ]
  },
  {
   "cell_type": "markdown",
   "metadata": {},
   "source": [
    "### Generate response over retrieved raw images "
   ]
  },
  {
   "cell_type": "code",
   "execution_count": 31,
   "metadata": {},
   "outputs": [],
   "source": [
    "def get_image_answers(retrieved_image_docs, query):\n",
    "    image_answer_prompt_template = load_prompt(os.path.join(kit_dir,\"prompts\",\"llava-qa.yaml\"))\n",
    "    image_answer_prompt = image_answer_prompt_template.format(question = query)\n",
    "    answers = []\n",
    "    for doc in retrieved_image_docs:\n",
    "        image_path = os.path.join(doc.metadata[\"file_directory\"],doc.metadata[\"filename\"])\n",
    "        answers.append(llava_call(image_answer_prompt, image_path))\n",
    "    return answers"
   ]
  },
  {
   "cell_type": "code",
   "execution_count": 32,
   "metadata": {},
   "outputs": [
    {
     "data": {
      "text/plain": [
       "['The text in the logo says \"Sunny Farm Victoria.\"']"
      ]
     },
     "execution_count": 32,
     "metadata": {},
     "output_type": "execute_result"
    }
   ],
   "source": [
    "image_answers = get_image_answers(retrieved_images, query)\n",
    "image_answers"
   ]
  },
  {
   "cell_type": "code",
   "execution_count": 33,
   "metadata": {},
   "outputs": [],
   "source": [
    "def get_retrieved_docs(retriever, query):\n",
    "    results=retriever.invoke(query)\n",
    "    results = [result for result in results if result.metadata[\"type\"]!=\"image\"]\n",
    "    return results"
   ]
  },
  {
   "cell_type": "code",
   "execution_count": 34,
   "metadata": {},
   "outputs": [
    {
     "data": {
      "text/plain": [
       "[Document(page_content='ATTENTION TO\\n\\nDenny Gunawan\\n\\n221 Queen St Melbourne VIC 3000\\n\\n123 Somewhere St, Melbourne VIC 3000 (03) 1234 5678\\n\\n$39.60\\n\\nInvoice Number: #20130304', metadata={'filetype': 'application/pdf', 'languages': ['eng'], 'last_modified': '2024-05-08T08:57:57', 'page_number': 1, 'orig_elements': 'eJy9ltuO2zYQhl9FUHvRAqbE82HviqYo9iKbFOv0ZrEQKHHkZVaWBIleZxP03UtJTpCDEyAGbMA382vGIv9vhtTdhxQa2EIbCu/SqyQ1qqTUuhJhRQTinBpkwXJky9rVdSV5xWS6StItBOtssLHmQ1p13eB8awOMc9zY524Xigfwm4cQFcqYiTUHee9deIgqkYJFte98G6a6uztjaCZWCeE84/er5GNMiczEFBOBVUaPCEtFVNLxeQywnXby2r+D5ra3FaT/xQcOAlTBd21RNXYci37oypiGMyqZkDGh9g2E5x7m2tcv03nB7WZnN/Ou7lJoN+n9rI6h2HbO1x5mzyimHGGBsF5jfSVU/E3Vfaws2t22hGHa7bSIAO8mP9I/1uu/btbXr26S9asp9eN71z4083K/xmJVSZQRHAHnDHGHS2Sto0hVXNRQSoHJ+bAQJTIVXRc4I7PrSyyFyNgUa8InTF/HS/5pUDST32Hit5OtvZ3XmuZvRhjG/G03bKDPX3TVbjJtzO34WPS7svFV0e3b3Ho0BjsEGNCjD/l21wQfCdqmeGy7fQMu/uUAYfDwBEM+GZiPdts3ULiuGnPfPnW+gkXKa7/ZDYAIItnbfnPWPvm8N66njR/rDai0AWIM4ix2BI+dgGytCcK1KSVIyqjh5+sNTOZmYJQt8D8JUmZ6FhiXmTkmzCWnDi3F4sJD+wLa9jn5e9favW0/J3Njh8EG/wTrKfMIIScl45RT5LSOmIBSpHVFECtr5mrQNSf6nIR0RlYJl9G2A6FZEIwfkDEqpoH9RlhKTiPENDWXPlYpJck/O4A2uQ3JS2jKbje0kPx7/WfCMMY/xUzHzcezliMDxiFOsETxmAVUY8KYKJ2Q5fmmStIMrxJFzXLNLaGOUNR8LUadfhsv6SfOkxH0wrAIZcltt4X9AwwQga2OEEt+w+z3JGbyREilfwogqQkhVGskTV3GK5NwVCpDEeWkNtoJIVl1vqEjQk1nnNT6cOgdBGVYhmeBK5mxI8JS8kOMl8T0KzOZ/GJ03rRV9GfTDf49uO+5L5Xh2CmMVG2j+1LFT0jDSZwhK7ksiZaEns39+OER8wyJjk/OHkJBlvOPK5bxI/Gcftr4cBUvpAuDuV4+SpKb+elV8guNJxNmmP9gSu7/ByzZesU=', 'file_directory': '/Users/jorgep/Documents/ask_public_own/ai-starter-kit/multimodal_knowledge_retriever/data/sample_docs', 'filename': 'invoicesample.pdf', 'type': 'text'})]"
      ]
     },
     "execution_count": 34,
     "metadata": {},
     "output_type": "execute_result"
    }
   ],
   "source": [
    "context_docs = get_retrieved_docs(retriever, query)\n",
    "context_docs"
   ]
  },
  {
   "cell_type": "code",
   "execution_count": 37,
   "metadata": {},
   "outputs": [
    {
     "data": {
      "text/plain": [
       "' Sure, I can help you with that! Based on the provided context, the text in the logo says \"Sunny Farm Victoria.\"'"
      ]
     },
     "execution_count": 37,
     "metadata": {},
     "output_type": "execute_result"
    }
   ],
   "source": [
    "prompt = load_prompt(os.path.join(kit_dir, \"prompts\", \"llama70b-knowledge_retriever_custom_qa_prompt.yaml\"))\n",
    "text_contexts = [doc.page_content for doc in context_docs]\n",
    "full_context = '\\n\\n'.join(image_answers)+'\\n\\n'+'\\n\\n'.join(text_contexts)\n",
    "formated_prompt = prompt.format(context=full_context, question=query)\n",
    "formated_prompt\n",
    "model.invoke(formated_prompt)"
   ]
  }
 ],
 "metadata": {
  "kernelspec": {
   "display_name": "multimodalenv",
   "language": "python",
   "name": "python3"
  },
  "language_info": {
   "codemirror_mode": {
    "name": "ipython",
    "version": 3
   },
   "file_extension": ".py",
   "mimetype": "text/x-python",
   "name": "python",
   "nbconvert_exporter": "python",
   "pygments_lexer": "ipython3",
   "version": "3.11.3"
  }
 },
 "nbformat": 4,
 "nbformat_minor": 2
}
