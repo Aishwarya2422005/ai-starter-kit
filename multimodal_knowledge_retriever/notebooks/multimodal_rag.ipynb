{
 "cells": [
  {
   "cell_type": "markdown",
   "metadata": {},
   "source": [
    "# Multimodal RAG"
   ]
  },
  {
   "cell_type": "code",
   "execution_count": 1,
   "metadata": {},
   "outputs": [],
   "source": [
    "import os\n",
    "import sys\n",
    "import glob\n",
    "\n",
    "current_dir = os.getcwd()\n",
    "kit_dir = os.path.abspath(os.path.join(current_dir, \"..\"))\n",
    "repo_dir = os.path.abspath(os.path.join(kit_dir, \"..\"))\n",
    "\n",
    "sys.path.append(kit_dir)\n",
    "sys.path.append(repo_dir)\n",
    "\n",
    "from utils.sambanova_endpoint import SambaNovaEndpoint\n",
    "from dotenv import load_dotenv\n",
    "load_dotenv(os.path.join(repo_dir,'.env'))\n",
    "\n",
    "import requests\n",
    "import json\n",
    "import base64\n",
    "from pprint import pprint"
   ]
  },
  {
   "cell_type": "markdown",
   "metadata": {},
   "source": [
    "## utils"
   ]
  },
  {
   "cell_type": "code",
   "execution_count": 2,
   "metadata": {},
   "outputs": [],
   "source": [
    "def image_to_base64(image_path):\n",
    "    with open(image_path, \"rb\") as image_file:\n",
    "        image_binary = image_file.read()\n",
    "        base64_image = base64.b64encode(image_binary).decode()\n",
    "        return base64_image"
   ]
  },
  {
   "cell_type": "markdown",
   "metadata": {},
   "source": [
    "## Multimodal call"
   ]
  },
  {
   "cell_type": "markdown",
   "metadata": {},
   "source": [
    "### sambastudio llava call method"
   ]
  },
  {
   "cell_type": "code",
   "execution_count": 3,
   "metadata": {},
   "outputs": [],
   "source": [
    "# sambastudio call\n",
    "def llava_call(prompt, image_path):\n",
    "    image=image_to_base64(image_path)\n",
    "    endpoint_url = f\"{os.environ.get('LVLM_BASE_URL')}/api/predict/generic/{os.environ.get('LVLM_PROJECT_ID')}/{os.environ.get('LVLM_ENDPOINT_ID')}\"\n",
    "    endpoint_key = os.environ.get('LVLM_API_KEY')\n",
    "    # Define the data payload\n",
    "    data = {\n",
    "        \"instances\": [{\n",
    "            \"prompt\": prompt,\n",
    "            \"image_content\": f\"{image}\"\n",
    "        }],\n",
    "        \"params\": {\n",
    "            \"do_sample\": {\"type\": \"bool\", \"value\": \"false\"},\n",
    "            \"max_tokens_to_generate\": {\"type\": \"int\", \"value\": \"512\"},\n",
    "            \"temperature\": {\"type\": \"float\", \"value\": \"1\"},\n",
    "            \"top_k\": {\"type\": \"int\", \"value\": \"50\"},\n",
    "            \"top_logprobs\": {\"type\": \"int\", \"value\": \"0\"},\n",
    "            \"top_p\": {\"type\": \"float\", \"value\": \"1\"}\n",
    "        }\n",
    "    }\n",
    "    # Define headers\n",
    "    headers = {\n",
    "        \"Content-Type\": \"application/json\",\n",
    "        \"key\": endpoint_key\n",
    "    }\n",
    "    response = requests.post(endpoint_url, headers=headers, data=json.dumps(data))\n",
    "    return response.json()[\"predictions\"][0]['completion']"
   ]
  },
  {
   "cell_type": "markdown",
   "metadata": {},
   "source": [
    "### QA Llava Call"
   ]
  },
  {
   "cell_type": "code",
   "execution_count": 4,
   "metadata": {},
   "outputs": [
    {
     "data": {
      "text/plain": [
       "'At 4 pm, you could find approximately 10 birds on the tree.'"
      ]
     },
     "execution_count": 4,
     "metadata": {},
     "output_type": "execute_result"
    }
   ],
   "source": [
    "prompt = \"A chat between a curious human and an artificial intelligence assistant. The assistant gives helpful, detailed, and polite answers to the humans question. USER: <image>\\nhow many birds could you find at 4pm?. ASSISTANT:\"\n",
    "image_path = os.path.join(kit_dir,\"data\",\"sample_docs\",\"sample.png\")\n",
    "llava_call(prompt, image_path)"
   ]
  },
  {
   "cell_type": "markdown",
   "metadata": {},
   "source": [
    "### Summary Llava call"
   ]
  },
  {
   "cell_type": "code",
   "execution_count": 5,
   "metadata": {},
   "outputs": [
    {
     "data": {
      "text/plain": [
       "'The image displays a graph showing the number of birds on a tree at different times of the day. The graph is a combination of a bar plot and a scatter plot, with the bar plot showing the number of birds at various times of the day, and the scatter plot showing the number of birds on a tree at a specific time.\\n\\nThe graph is divided into two main sections. The first section, which is the bar plot, shows the number of birds on a tree at different times of the day, with the bars extending from 10 am to 11 pm. The second section, which is the scatter plot, shows the number of birds on a tree at a specific time, with the x-axis representing the time and the y-axis representing the number of birds.\\n\\nThe graph is labeled with the time of the day, and the number of birds is represented by the number of orange dots on the graph. The dots are scattered throughout the graph, with some appearing closer to the bars and others appearing closer to the scatter plot.'"
      ]
     },
     "execution_count": 5,
     "metadata": {},
     "output_type": "execute_result"
    }
   ],
   "source": [
    "prompt = \"A chat between a curious human and an artificial intelligence assistant. The assistant gives helpful, detailed, and polite answers to the humans question. USER: <image>\\nDescribe the image in detail. Be specific about graphs, such as bar plots, scatter plots, or others. ASSISTANT:\"\n",
    "llava_call(prompt, image_path)"
   ]
  },
  {
   "cell_type": "markdown",
   "metadata": {},
   "source": [
    "## Doc Extraction"
   ]
  },
  {
   "cell_type": "markdown",
   "metadata": {},
   "source": [
    "### Unstructured PDF extraction"
   ]
  },
  {
   "cell_type": "code",
   "execution_count": 6,
   "metadata": {},
   "outputs": [
    {
     "name": "stderr",
     "output_type": "stream",
     "text": [
      "Some weights of the model checkpoint at microsoft/table-transformer-structure-recognition were not used when initializing TableTransformerForObjectDetection: ['model.backbone.conv_encoder.model.layer2.0.downsample.1.num_batches_tracked', 'model.backbone.conv_encoder.model.layer3.0.downsample.1.num_batches_tracked', 'model.backbone.conv_encoder.model.layer4.0.downsample.1.num_batches_tracked']\n",
      "- This IS expected if you are initializing TableTransformerForObjectDetection from the checkpoint of a model trained on another task or with another architecture (e.g. initializing a BertForSequenceClassification model from a BertForPreTraining model).\n",
      "- This IS NOT expected if you are initializing TableTransformerForObjectDetection from the checkpoint of a model that you expect to be exactly identical (initializing a BertForSequenceClassification model from a BertForSequenceClassification model).\n"
     ]
    }
   ],
   "source": [
    "from unstructured.partition.pdf import partition_pdf\n",
    "\n",
    "# Path to save images\n",
    "file_path=os.path.join(kit_dir, \"data\", \"sample_docs\", \"invoicesample.pdf\")\n",
    "output_path=os.path.splitext(file_path)[0]\n",
    "\n",
    "# Get elements\n",
    "raw_pdf_elements = partition_pdf(\n",
    "    filename=file_path,\n",
    "    extract_images_in_pdf=True,\n",
    "    strategy='hi_res',\n",
    "     hi_res_model_name=\"yolox\",\n",
    "    # Use layout model (YOLOX) to get bounding boxes (for tables) and find titles\n",
    "    # Titles are any sub-section of the document\n",
    "    infer_table_structure=True,\n",
    "    chunking_strategy=\"by_title\",\n",
    "    max_characters=1000,\n",
    "    new_after_n_chars=800,\n",
    "    combine_text_under_n_chars=500,\n",
    "    extract_image_block_output_dir=output_path,\n",
    ")"
   ]
  },
  {
   "cell_type": "markdown",
   "metadata": {},
   "source": [
    "### View Elements"
   ]
  },
  {
   "cell_type": "code",
   "execution_count": 7,
   "metadata": {},
   "outputs": [
    {
     "name": "stdout",
     "output_type": "stream",
     "text": [
      "\u001b[95m ELEMENT 0\u001b[00m\n",
      "TYPE: <class 'unstructured.documents.elements.CompositeElement'>\n",
      "META: {'filetype': 'application/pdf', 'languages': ['eng'], 'last_modified': '2024-05-08T08:57:57', 'page_number': 1, 'orig_elements': 'eJy9lk2P2zYQhv+KoPbQAqbEb5F7K5qi2EM2KdbpZbEQSGrkZVaWBIleZxP0v5eSnCAfToAYsAFd5tWMTb7PDMW7Dyk0sIU2lL5Kr5JUWF1r4AYRYwBxbCxSuCDIacI0NoWuqzpdJekWgqlMMLHmQ+q6bqh8awKMc9yY524Xygfwm4cQFcqYjjUHee+r8BBVIgWLat/5Nkx1d3da00ysEsJ5xu9XyceYEpmJKSYCFxk9IiwVUUnH5zHAdtrJa/8OmtveOEj/iy8qCOCC79rSNWYcy37obEzDGZVMyJhQ+wbCcw9z7euX6bzgdrMzm3lXdym0m/R+VsdQbrvK1x5mzyimHGGBsFpjdSWK+EzVfaws293WwjDtdlpEgHeTH+kf6/VfN+vrVzfJ+tWU+vF/1z4083K/xmJ4jakzGlErasQlkchKqBBIEx9FrLH8bFhIIbIiui5wRmbXl1gKkbEpVoRPmL6Ol/zToCgmv8PEbydbezOvNc3fjDCM+dtu2ECfv+jcbjJtzM34WPY723hXdvs2Nx6NwQwBBvToQ77dNcFHgqYpH9tu30AVf3KAMHh4giGfDMxHs+0bKKvOjblvnzrvYJHy2m92AyCCSPa235y1Tz7vjetp48d6w2IFzFQOGVuZ2BtOIEtib8i6sMS5ymHGztcbmMzNwChb4H8SpMzULDAuM31MmEtOHVqKxYWH9gW07XPy9641e9N+TubGDIMJ/gnWU+YRQlirigscx7Wo4/TyKh6qrrbIcaeU4oopflZCKiOrhMto24HQLAjGD8gYFdPAfiMsJacRYorqSx+rlJLknx1Am9yG5CU0ttsNLST/Xv+ZMIzxTzEjVOuqMg5xoi3itHDIQsERGAWu5sIQLM/GTNIMr5KC6uUzt4QqQinmz2LU6bfxkn7iPGlBLwyLUJbcdlvYP8AAEdjqCLHkN8x+T2ImT4Qs1E8BrHElLcQTkYhaRYq1Rkprhggh0hETrwzqfDcZQkQxnXFSqcOhdxAKzTI8C7yQGTsiLCU/xHhJTL8ynckvRudN66I/m27w76H6nvsca6slIQiAMMQ1MGStIIjVhRZgQVhxvgtLvHjEPE2i45Ozh1CQ5fzjBcv4kXhOP218eBE/SBcGc71cSpKb+e1V8gvFhGGG+Q+m5P5/W6t/sw==', 'file_directory': '/Users/jorgep/Documents/ask_public_own/ai-starter-kit/multimodal_knowledge_retriever/data/sample_docs', 'filename': 'invoicesample.pdf'}\n",
      "TEXT: ATTENTION TO\n",
      "\n",
      "Denny Gunawan\n",
      "\n",
      "221 Queen St Melbourne VIC 3000\n",
      "\n",
      "123 Somewhere St, Melbourne VIC 3000 (03) 1234 5678\n",
      "\n",
      "$39.60\n",
      "\n",
      "Invoice Number: #20130304\n",
      "\n",
      "\n",
      "##########\n",
      "\n",
      "\u001b[95m ELEMENT 1\u001b[00m\n",
      "TYPE: <class 'unstructured.documents.elements.Table'>\n",
      "META: {'last_modified': '2024-05-08T08:57:57', 'text_as_html': '<table><tr><td>Apple</td><td>$5.00</td><td>1</td><td>$5.00</td></tr><tr><td>Orange</td><td>$1.99</td><td>2</td><td>$3.98</td></tr><tr><td>Watermelon</td><td>$1.69</td><td>3</td><td>$5.07</td></tr><tr><td>Mango</td><td>$9.56</td><td>2</td><td>$19.12</td></tr><tr><td>Peach</td><td>$2.99</td><td>1</td><td>$2.99</td></tr></table>', 'table_as_cells': [{'x': 0, 'y': 0, 'w': 1, 'h': 1, 'content': 'Apple'}, {'x': 0, 'y': 1, 'w': 1, 'h': 1, 'content': 'Orange'}, {'x': 0, 'y': 2, 'w': 1, 'h': 1, 'content': 'Watermelon'}, {'x': 0, 'y': 3, 'w': 1, 'h': 1, 'content': 'Mango'}, {'x': 0, 'y': 4, 'w': 1, 'h': 1, 'content': 'Peach'}, {'x': 1, 'y': 0, 'w': 1, 'h': 1, 'content': '$5.00'}, {'x': 1, 'y': 1, 'w': 1, 'h': 1, 'content': '$1.99'}, {'x': 1, 'y': 2, 'w': 1, 'h': 1, 'content': '$1.69'}, {'x': 1, 'y': 3, 'w': 1, 'h': 1, 'content': '$9.56'}, {'x': 1, 'y': 4, 'w': 1, 'h': 1, 'content': '$2.99'}, {'x': 2, 'y': 0, 'w': 1, 'h': 1, 'content': '1'}, {'x': 2, 'y': 1, 'w': 1, 'h': 1, 'content': '2'}, {'x': 2, 'y': 2, 'w': 1, 'h': 1, 'content': '3'}, {'x': 2, 'y': 3, 'w': 1, 'h': 1, 'content': '2'}, {'x': 2, 'y': 4, 'w': 1, 'h': 1, 'content': '1'}, {'x': 3, 'y': 0, 'w': 1, 'h': 1, 'content': '$5.00'}, {'x': 3, 'y': 1, 'w': 1, 'h': 1, 'content': '$3.98'}, {'x': 3, 'y': 2, 'w': 1, 'h': 1, 'content': '$5.07'}, {'x': 3, 'y': 3, 'w': 1, 'h': 1, 'content': '$19.12'}, {'x': 3, 'y': 4, 'w': 1, 'h': 1, 'content': '$2.99'}], 'filetype': 'application/pdf', 'languages': ['eng'], 'page_number': 1, 'orig_elements': 'eJyVldtq4zAQhl9FmFzsQuJYkh3HJRT2ci/KZmlhL0Iwij11RH3CVmhC6buvNDm4jeNqFxKUGc8nzfwZj1ZvDuRQQKlimTp3xNmIJPQ3LJl4fhhMfM5mk0h40cSn4IdpkCYJUGdMnAKUSIUSmnlzkqpqUlkKBS3auThUOxVvQWZbpT2M80gzJ/erTNVWe+ks4NpbV7JUhlutqBe5wZhEUejO12NytqkfMddDR8C569/yHBntcdpDq6AwtSzlHvLHWiTgvOsHKShIlKzKOMlF28Z1U210mOfOeMD082eZgzrUgOjywcGMy2wnMixr5UCZOWv0tiouqlQ+S0DRmMf8iRdMvPmTN78LQv0xdK3JuNwVG2hMudqjxCaHWLRxAnmOmxrxSqX1N/v8qOscDLk9xb+e1r3JU68Hs+paPlG/Gp2lFaPX2B/9dzUF5FVpQ9k1+qAPrGwUv6aWIJKtjfKvqVHget4QRYc0GVE3imxUTxJNzaxUT42RbtKZjeqpMWL/kGFPDTpEsCElmI3oqcBtRE8B6xm96q11/F8f8ME+4G40t1H9PtBnhTaq3wc0cumgFHxIii8bgV/kMINHwV6Z6bFVRW7QBc6T+4Vq9De9x/GxmOpfxkLBLha95Z8ieISPU6SLMi/QxWKd3wjap7th8nGHWbcD/3R+2N8BZ0oXZN6pW8ejxn0aZ0sXxT4mT2/5EZ4e9cPbwWh7nKaZKGVCfupLpCXLRiYwfckIaktQO3KUiqBEpKucYMUECyFYAMG0CB5Lfu9EqaQ6fHvJvpPH3UZVSuSEnvZkBJUlHO3Q2FiqCTg3yPlyejJZO+/rvzAYBZQ=', 'file_directory': '/Users/jorgep/Documents/ask_public_own/ai-starter-kit/multimodal_knowledge_retriever/data/sample_docs', 'filename': 'invoicesample.pdf'}\n",
      "TEXT: Organic Items Price/kg Apple $5.00 Orange $1.99 Watermelon $1.69 Mango $9.56 Peach $2.99 Quantity(kg) Subtotal 1 $5.00 2 $3.98 3 $5.07 2 $19.12 1 $2.99\n",
      "\n",
      "\n",
      "##########\n",
      "\n",
      "\u001b[95m ELEMENT 2\u001b[00m\n",
      "TYPE: <class 'unstructured.documents.elements.CompositeElement'>\n",
      "META: {'filetype': 'application/pdf', 'languages': ['eng'], 'last_modified': '2024-05-08T08:57:57', 'page_number': 1, 'orig_elements': 'eJzNVluL3DYY/SvCtNCWkdD9krc8tdB2G9jJQ1mWQdZlVuCxJ7bcZpvmv1e+TLI002ZTmO2CwehYx5bOOd9n3byrQhMOoc275KsXoKqNxkEwA2X0AnIiHNRUY+gdZ1FyojWL1QZUh5Ctt9kWzrvKdV3vU2tzGOZxY++7Me/uQtrf5YJQxkzhrPDvyee7ghIpWEGPXWrzxLu5kQqVecQIgvjtBqxjipVaxloxpM8AK6Mg1XA/5HCYdvIqvQ3N9dG6UL0vD3zIweXUtTvX2GHYHfuuLtMwkoZhVSbE1IR8fwwz99XP1bzgdj/a/byrmyq0++p2Roe8O3Q+xRRmzSimHGIBsd5i/UKock3sY2Hu2vFQh37a7bSIHN5OelTbH15e/Qh+/eX1NO/00W3KzbzWv3vClBLKSwyZiKF4ghm01FKotHXcY4ljLS7miaCIFMkJwchMkp/GRiI6WyAN4meBmfHfPDEUc/rEnnwHfur6cADpOIwH4Lum68GQMrBF1g1wXTuUtYY89sD6dEyDS+0ehCZlBF426c1oD2DovG3CALw9pnocQAz9ZON4QOBqbN0D4gYc7L61YAgeDK7Y3afhzRiAG/thHDYg9DaDpnxw/Pi2sW/tZmZE61KThjSUKR3wYwIhL+tGDwN1ZfvymvRb2E5bPBMsWdLDlSfQxtpDroOBVikPGdGel1r3sdYXC5YhCuGpdqf7FJwVoISZBSDE6PPISvrXcD1ldq7HOnfZNuBPsJ3ujyprq7lW2FAYY7CQe2GgiY7DqJWOznHJsLmY+gQTPRUyKaW2FPZHRFIkP6itzyP0s8X9f+j/KN0NE9SymkCsrIQ8GAlrFRUUUWhlsI6U2ifQ3RCkHupOMWPLX41QThA9h6ysZ6P799db8A3BX3/7UPjXrSsy7bs+/RH8P7WekqAYaoqhU9hBXhsOa2k1DNZLQx3WnF0+/BRrtQb7hBBqlt8YIXSO+hlkYT0bEx7fcRyn1vIitTdBlY5DKdTCxNJxBDblEFGOFvhyojNNkVp7B5sF/YBIsvYgbhRi55GZ9WxE/4pJtIj1RbEvPT9EwRQ0NdOQF0OgtUxCXCtjOfMCh/pyDnDMkFi7CFnUXZDSaSjSD/X+FFlZz8gBJL/cAMUJU44J6AzG5cgjA9R1LaAMWGsRYtBSXbAEBF/7Dj2VwIoQxtdWfzLgU2RhPSMDzOcduP0LAycn+w==', 'file_directory': '/Users/jorgep/Documents/ask_public_own/ai-starter-kit/multimodal_knowledge_retriever/data/sample_docs', 'filename': 'invoicesample.pdf'}\n",
      "TEXT: THANK YOU\n",
      "\n",
      "* Lorem ipsum dolor sit amet, consectetur adipiscing elit. Aliquam sodales dapibus fermentum. Nunc adipiscing, magna sed scelerisque cursus, erat lectus dapibus urna, sed facilisis leo dui et ipsum.\n",
      "\n",
      "Subtotal | Total\n",
      "\n",
      "Subtotal\n",
      "\n",
      "GST (10%)\n",
      "\n",
      "Total\n",
      "\n",
      "$36.00\n",
      "\n",
      "$3.60\n",
      "\n",
      "$39.60\n",
      "\n",
      "\n",
      "##########\n",
      "\n"
     ]
    }
   ],
   "source": [
    "for i, element in enumerate(raw_pdf_elements):\n",
    "    print(f\"\\033[95m ELEMENT {i}\\033[00m\")\n",
    "    print(f\"TYPE: {type(element)}\")\n",
    "    print(f\"META: {element.metadata.to_dict()}\")\n",
    "    print(f\"TEXT: {element.text}\")\n",
    "    print(\"\\n\\n##########\\n\")"
   ]
  },
  {
   "cell_type": "code",
   "execution_count": 8,
   "metadata": {},
   "outputs": [
    {
     "data": {
      "text/plain": [
       "{\"<class 'unstructured.documents.elements.CompositeElement'>\": 2,\n",
       " \"<class 'unstructured.documents.elements.Table'>\": 1}"
      ]
     },
     "execution_count": 8,
     "metadata": {},
     "output_type": "execute_result"
    }
   ],
   "source": [
    "# Create a dictionary to store counts of each type\n",
    "category_counts = {}\n",
    "\n",
    "for element in raw_pdf_elements:\n",
    "    category = str(type(element))\n",
    "    if category in category_counts:\n",
    "        category_counts[category] += 1\n",
    "    else:\n",
    "        category_counts[category] = 1\n",
    "\n",
    "# Unique_categories will have unique elements\n",
    "# TableChunk if Table > max chars set above\n",
    "unique_categories = set(category_counts.keys())\n",
    "category_counts"
   ]
  },
  {
   "cell_type": "code",
   "execution_count": 26,
   "metadata": {},
   "outputs": [
    {
     "name": "stdout",
     "output_type": "stream",
     "text": [
      "1\n",
      "2\n"
     ]
    }
   ],
   "source": [
    "from langchain.schema import Document\n",
    "\n",
    "\n",
    "# Categorize by type\n",
    "categorized_elements = []\n",
    "for element in raw_pdf_elements:\n",
    "    if \"unstructured.documents.elements.Table\" in str(type(element)):\n",
    "        meta = element.metadata.to_dict()\n",
    "        meta[\"type\"] = \"table\"\n",
    "        categorized_elements.append(Document(page_content=element.metadata.text_as_html, metadata=meta))\n",
    "    elif \"unstructured.documents.elements.CompositeElement\" in str(type(element)):\n",
    "        meta = element.metadata.to_dict()\n",
    "        meta[\"type\"] = \"text\"\n",
    "        categorized_elements.append(Document(page_content=str(element), metadata=meta))\n",
    "\n",
    "# Tables\n",
    "table_docs = [e for e in categorized_elements if e.metadata[\"type\"] == \"table\"]\n",
    "print(len(table_docs))\n",
    "\n",
    "# Text\n",
    "text_docs = [e for e in categorized_elements if e.metadata[\"type\"] == \"text\"]\n",
    "print(len(text_docs))"
   ]
  },
  {
   "cell_type": "markdown",
   "metadata": {},
   "source": [
    "## Retrieval with raw text, raw tables and image summaries"
   ]
  },
  {
   "cell_type": "markdown",
   "metadata": {},
   "source": [
    "### Text and table summaries"
   ]
  },
  {
   "cell_type": "code",
   "execution_count": 10,
   "metadata": {},
   "outputs": [],
   "source": [
    "from langchain_community.llms.sambanova import Sambaverse\n",
    "from langchain_core.output_parsers import StrOutputParser\n",
    "from langchain_core.prompts import load_prompt"
   ]
  },
  {
   "cell_type": "code",
   "execution_count": 11,
   "metadata": {},
   "outputs": [],
   "source": [
    "text_prompt = load_prompt(os.path.join(kit_dir, \"prompts\", \"llama70b-text_summary.yaml\"))\n",
    "table_prompt = load_prompt(os.path.join(kit_dir, \"prompts\", \"llama70b-table_summary.yaml\"))\n",
    "\n",
    "# Summary chain\n",
    "model = Sambaverse(\n",
    "    sambaverse_model_name=\"Meta/llama-2-70b-chat-hf\",\n",
    "    model_kwargs={\n",
    "            \"do_sample\": True, \n",
    "            \"max_tokens_to_generate\": 256,\n",
    "            \"temperature\": 0.01,\n",
    "            \"process_prompt\": True,\n",
    "            \"select_expert\": \"llama-2-70b-chat-hf\"\n",
    "            #\"stop_sequences\": { \"type\":\"str\", \"value\":\"\"},\n",
    "            # \"repetition_penalty\": {\"type\": \"float\", \"value\": \"1\"},\n",
    "            # \"top_k\": {\"type\": \"int\", \"value\": \"50\"},\n",
    "            # \"top_p\": {\"type\": \"float\", \"value\": \"1\"}\n",
    "        }\n",
    ")\n",
    "text_summarize_chain = {\"element\": lambda x: x} | text_prompt | model | StrOutputParser()\n",
    "table_summarize_chain = {\"element\": lambda x: x} | table_prompt | model | StrOutputParser()"
   ]
  },
  {
   "cell_type": "markdown",
   "metadata": {},
   "source": [
    "### Text Summaries"
   ]
  },
  {
   "cell_type": "code",
   "execution_count": 12,
   "metadata": {},
   "outputs": [],
   "source": [
    "# Apply to text\n",
    "texts = [i.page_content for i in text_docs if i.page_content != \"\"]\n",
    "if texts:\n",
    "    text_summaries = text_summarize_chain.batch(texts, {\"max_concurrency\": 1})"
   ]
  },
  {
   "cell_type": "code",
   "execution_count": 13,
   "metadata": {},
   "outputs": [
    {
     "data": {
      "text/plain": [
       "[\" Sure! Here's a concise summary of the text chunk you provided:\\n\\nDenny Gunawan has an invoice for $39.60 with invoice number #20130304. The address is 221 Queen St Melbourne VIC 3000, and the phone number is (03) 1234 5678.\",\n",
       " ' A fictitious receipt or invoice with a subtotal, a 10% GST charge, and a total that includes the GST. The total amount is $39.60.']"
      ]
     },
     "execution_count": 13,
     "metadata": {},
     "output_type": "execute_result"
    }
   ],
   "source": [
    "text_summaries"
   ]
  },
  {
   "cell_type": "markdown",
   "metadata": {},
   "source": [
    "### Table summaries"
   ]
  },
  {
   "cell_type": "code",
   "execution_count": 14,
   "metadata": {},
   "outputs": [],
   "source": [
    "# Apply to tables\n",
    "tables = [i.page_content for i in table_docs]\n",
    "if tables:\n",
    "    table_summaries = table_summarize_chain.batch(tables, {\"max_concurrency\":1})"
   ]
  },
  {
   "cell_type": "code",
   "execution_count": 15,
   "metadata": {},
   "outputs": [
    {
     "data": {
      "text/plain": [
       "[' The table shows the prices and quantities of various fruits. The fruits included are Apple, Orange, Watermelon, Mango, and Peach. The prices range from $1.69 (Watermelon) to $9.56 (Mango). The quantities range from 1 (Apple, Peach) to 3 (Watermelon). The total cost of each fruit is also shown, which ranges from $5.00 (Apple) to $19.12 (Mango).']"
      ]
     },
     "execution_count": 15,
     "metadata": {},
     "output_type": "execute_result"
    }
   ],
   "source": [
    "table_summaries"
   ]
  },
  {
   "cell_type": "markdown",
   "metadata": {},
   "source": [
    "### Image summary"
   ]
  },
  {
   "cell_type": "code",
   "execution_count": 16,
   "metadata": {},
   "outputs": [],
   "source": [
    "image_prompt = \"A chat between a curious human and an artificial intelligence assistant. The assistant gives helpful, detailed, and polite answers to the humans question. USER: <image>\\n, such as bar plots. ASSISTANT:\"\n",
    "image_prompt = load_prompt(os.path.join(kit_dir, \"prompts\", \"llava.yaml\"))\n",
    "prompt = image_prompt.format(instruction = \"Describe the image in detail. Be specific about graphs include name of axis, labels, legends and important numerical information\")\n",
    "image_paths = []\n",
    "image_paths.extend(glob.glob(os.path.join(output_path, '*.jpg')))\n",
    "image_paths.extend(glob.glob(os.path.join(output_path, '*.png')))\n",
    "\n",
    "image_summaries = []\n",
    "image_docs = []\n",
    "\n",
    "for image_path in image_paths:\n",
    "    result = llava_call(prompt, image_path)\n",
    "    image_summaries.append(result)\n",
    "    image_docs.append(Document(page_content=result, metadata={\"type\": \"image\", 'file_directory': image_path }))"
   ]
  },
  {
   "cell_type": "code",
   "execution_count": 17,
   "metadata": {},
   "outputs": [
    {
     "data": {
      "text/plain": [
       "[\"The image features a logo for Sunny Farm, a company that specializes in fresh produce. The logo is a gold and yellow color scheme, with a sun in the center, symbolizing the warmth and freshness of the products. The sun is surrounded by trees, which further emphasize the connection to nature and the source of the fresh produce.\\n\\nThe logo is placed on a white background, making it stand out and be easily recognizable. The sun in the logo is positioned at the top left corner, while the trees are located at the bottom right corner. The overall design of the logo is simple yet effective in conveying the company's message.\"]"
      ]
     },
     "execution_count": 17,
     "metadata": {},
     "output_type": "execute_result"
    }
   ],
   "source": [
    "image_summaries"
   ]
  },
  {
   "cell_type": "markdown",
   "metadata": {},
   "source": [
    "### add to vectorstore"
   ]
  },
  {
   "cell_type": "code",
   "execution_count": 18,
   "metadata": {},
   "outputs": [],
   "source": [
    "import uuid\n",
    "\n",
    "from langchain.retrievers.multi_vector import MultiVectorRetriever\n",
    "from langchain.storage import InMemoryByteStore\n",
    "from utils.sambanova_endpoint import SambaNovaEmbeddingModel\n",
    "from langchain_community.vectorstores import Chroma\n",
    "from langchain_core.documents import Document\n",
    "\n",
    "# The vectorstore to use to index the child chunks\n",
    "vectorstore = Chroma(\n",
    "    collection_name=\"summaries\", embedding_function=SambaNovaEmbeddingModel()\n",
    ")\n",
    "\n",
    "# The storage layer for the parent documents\n",
    "store = InMemoryByteStore()  \n",
    "id_key = \"doc_id\"\n",
    "\n",
    "# The retriever (empty to start)\n",
    "retriever = MultiVectorRetriever(\n",
    "    vectorstore=vectorstore,\n",
    "    docstore=store,\n",
    "    id_key=id_key,\n",
    "    search_kwargs={\"k\":2}\n",
    ")"
   ]
  },
  {
   "cell_type": "code",
   "execution_count": 19,
   "metadata": {},
   "outputs": [],
   "source": [
    "# Add texts\n",
    "if texts:\n",
    "    doc_ids = [str(uuid.uuid4()) for _ in text_docs]\n",
    "    summary_texts = [\n",
    "        Document(page_content=s, metadata={id_key: doc_ids[i]})\n",
    "        for i, s in enumerate(text_summaries)\n",
    "    ]\n",
    "    retriever.vectorstore.add_documents(summary_texts)\n",
    "    retriever.docstore.mset(list(zip(doc_ids, text_docs)))\n",
    "\n",
    "# Add tables\n",
    "if tables:\n",
    "    table_ids = [str(uuid.uuid4()) for _ in table_docs]\n",
    "    summary_tables = [\n",
    "        Document(page_content=s, metadata={id_key: table_ids[i]})\n",
    "        for i, s in enumerate(table_summaries)\n",
    "    ]\n",
    "    retriever.vectorstore.add_documents(summary_tables)\n",
    "    retriever.docstore.mset(list(zip(table_ids, table_docs)))\n",
    "\n",
    "# Add images\n",
    "if image_summaries:\n",
    "    img_ids = [str(uuid.uuid4()) for _ in image_summaries]\n",
    "    summary_img = [\n",
    "        Document(page_content=s, metadata={id_key: img_ids[i]})\n",
    "        for i, s in enumerate(image_summaries)\n",
    "    ]\n",
    "    retriever.vectorstore.add_documents(summary_img)\n",
    "    retriever.docstore.mset(\n",
    "        list(zip(img_ids, image_docs))\n",
    "    )  # Store the image summary as the raw document"
   ]
  },
  {
   "cell_type": "code",
   "execution_count": 23,
   "metadata": {},
   "outputs": [
    {
     "data": {
      "text/plain": [
       "[Document(page_content='THANK YOU\\n\\n* Lorem ipsum dolor sit amet, consectetur adipiscing elit. Aliquam sodales dapibus fermentum. Nunc adipiscing, magna sed scelerisque cursus, erat lectus dapibus urna, sed facilisis leo dui et ipsum.\\n\\nSubtotal | Total\\n\\nSubtotal\\n\\nGST (10%)\\n\\nTotal\\n\\n$36.00\\n\\n$3.60\\n\\n$39.60', metadata={'filetype': 'application/pdf', 'languages': ['eng'], 'last_modified': '2024-05-08T08:57:57', 'page_number': 1, 'orig_elements': 'eJzNVVuL3DYY/SvCtNCWkdD9krc8tdB2G9jJQ1mWQdZlVuCxJ7bcZpvmv1f2eJKhmTabwmwHDEbHOrJ0zvk+3b2rQhN2oc2b5KsXoJJeqlALDqlkAvLIPKy1J5BwJxjVtY22rlag2oVsvc22cN5Vrut6n1qbwzCPG/vYjXnzENL2IReEMmYKZ4F/Tz4/FJRIwQq671KbJ97dnVSozCNGEMTvV2AZU6zUYawVQ/oMsDAKUg2PQw676SSv0tvQ3O6tC9X78sGHHFxOXbtxjR2Gzb7v6jINI2kYVmVCTE3Ij/swc1/9XM0bbrej3c6nuqtCu63uZ3TIm13nU0xh1oxiyiEWEOs11i+EKs/E3hfmph13dein006byOHtpEe1/uHlzY/g119eT/OOP12n3Mx7/bsnjkcRbXSwtiIUT6SFtSIGakato45iTOzFPBEUkSI5IRiZSfLj2EhEZwukQfwsMDP+myeGYk6f2ZPvwE9dH3Yg7YdxB3zXdD0YUga2yLoCrmuHsteQxx5Yn/ZpcKndgtCkjMDLJr0Z7Q4MnbdNGIC3+1SPA4ihn2wcdwjcjK07Ia7Azm5bC4bgweCK3X0a3owBuLEfxmEFQm8zaMoPx4+rjX1rVzMjWpeaNKShTOmAHxMI+bBvdBqoG9uXZdJvYT0d8VywZM0doQEqGgzkwSpYRyuh1A4Lrj0jhF0sWIYohKfand5TcBaAEmYOACFGn0cW0r+G6zmzczvWucu2AX+C9fR+UlmTonGQCkOFS4PlSkhoZC2hsEbUEmvHnL+Y+gQTPRUyKaV2KOyPiKRIflBbn0foZ4v7/9D/ae3U+RL8SKGyJkLOo4bGOAdlsFyUmyS6KJ5Bd0OQOtWdYsYOtxqhnCB6DllYV6P797dr8A3BX397Kvzr1hWZtl2f/gj+n1pPybcsl5eGTpMSfuYiNNjXUGsSyqOoCvLiJlCs1RLsI0KoOVxjhNA56meQA+tqTHh6x7G2xoQW0WvPFORaWagtppBxbwkvihMeLic60xSppXewWdAPiCRLD+JGIXYemVlXI/pXTCKMvzj2zHtntdGQRsfLjRsjLFWgoC89iYiIqRH4cg5wzJBYugg5qHtASqehSJ/q/SmysK7IASS/3ADKsPPKMxiFLCVAtYe25hpG6iIhsrgSyQVLQPCl79BjCSwIYXxp9UcDPkUOrCsywHzegfu/AHn5Kx4=', 'file_directory': '/Users/jorgep/Documents/ask_public_own/ai-starter-kit/multimodal_knowledge_retriever/data/sample_docs', 'filename': 'invoicesample.pdf', 'type': 'text'}),\n",
       " Document(page_content='ATTENTION TO\\n\\nDenny Gunawan\\n\\n221 Queen St Melbourne VIC 3000\\n\\n123 Somewhere St, Melbourne VIC 3000 (03) 1234 5678\\n\\n$39.60\\n\\nInvoice Number: #20130304', metadata={'filetype': 'application/pdf', 'languages': ['eng'], 'last_modified': '2024-05-08T08:57:57', 'page_number': 1, 'orig_elements': 'eJy9ltuO2zYQhl9FUHvRAqbE82HviqYo9iKbFOv0ZrEQKHLsZVaWDIleZxP03UtJTpCDEyAGbMA383vGJv+PM+Tdhxwa2EAbq+DzqywXtZJMSUCCWYc4rWukJadIKmuoptIro/JFlm8gWm+jTTUfctd1vQ+tjTBMcWOfu12sHiCsH2JSKGMm1RzkffDxIalECpbUbRfaONbd3RlDC7HICOcFv19kH2NKZCHGmAisCnpEmCuSkg/PQ4TNuJPX4R00t1vrIP8vfeEhgouhayvX2GGotn1XpzRcUMmETAmr0EB83sJU+/plPi24Xe/setrVXQ7tOr+f1CFWm86HVYDJM4opR1ggrJdYXwmVPmP1NlVW7W5TQz/udlxEhHejH/kfy+VfN8vrVzfZ8tWY+vF/lyE203K/xkJcjbGjEhmnOeK1MKgWtUkh5Yo7QZ3jZ8NClChUcl3ggkyuz7EUomBjrAkfMX0dz/mnQdFMfodJ2Iy2bu201rx8M0A/lG+7fg3b8kXndqNpQ2mHx2q7q5vgqm7fljagIdo+Qo8eQyw3uyaGRNA21WPb7Rvw6Sd7iH2AJ+jL0cBysJttA5Xv3FCG9qkLDmapXIX1rgdEECnebtdnPSefn43rcePHzob3bMVqIGhFwKSWNStkBGcIFDe+Zk75mp7vbGAyHQZG2Qz/kyBloSeBcVmYY8JUcmrTUiwu3LQvoG2fs793rd3b9nMyN7bvbQxPsBwzjxFSlDLAFFkvbereWiHtPCDsAUsOqX2JPCchXZBFxmWy7UBoEgTjB2SMirFhvxHmktMIMU3NpccqpST7ZwfQZrcxewlN3e36FrJ/r//MGMb4p5gRhj3V2qJxwiLua4lsDRw5ZbwDDPVKsrMxk7TAi0xRM19zc6gTFDVdi0mn38Zz+on9ZAS9MCxCWXbbbWD/AD0kYIsjxLLfMPs9S5k8E1LpnwJolVUap9uSuvEl4zVBWhiGlBZOCek4FvX5mo4INc44qfVh6B0EZViBJ4ErWbAjwlzyQ4yXxPQrM4X8onXetC75s+768B7899zXWmmtGUXMrnC6lLBHVuo0AXl6r2DvsVWrs7mfHh4pz5Dk+OjsIRRknn9csYIfiaf009qHq3QhXRjM9fwoyW6mb6+yXyhOM4th/oMuuf8fAA18nw==', 'file_directory': '/Users/jorgep/Documents/ask_public_own/ai-starter-kit/multimodal_knowledge_retriever/data/sample_docs', 'filename': 'invoicesample.pdf', 'type': 'text'})]"
      ]
     },
     "execution_count": 23,
     "metadata": {},
     "output_type": "execute_result"
    }
   ],
   "source": [
    "retriever.invoke(\"what is the final price in the invoice?\")"
   ]
  },
  {
   "cell_type": "code",
   "execution_count": 21,
   "metadata": {},
   "outputs": [
    {
     "data": {
      "text/plain": [
       "[Document(page_content=\"The image features a logo for Sunny Farm, a company that specializes in fresh produce. The logo is a gold and yellow color scheme, with a sun in the center, symbolizing the warmth and freshness of the products. The sun is surrounded by trees, which further emphasize the connection to nature and the source of the fresh produce.\\n\\nThe logo is placed on a white background, making it stand out and be easily recognizable. The sun in the logo is positioned at the top left corner, while the trees are located at the bottom right corner. The overall design of the logo is simple yet effective in conveying the company's message.\", metadata={'type': 'image', 'file_directory': '/Users/jorgep/Documents/ask_public_own/ai-starter-kit/multimodal_knowledge_retriever/data/sample_docs/invoicesample/figure-1-1.jpg'}),\n",
       " Document(page_content='ATTENTION TO\\n\\nDenny Gunawan\\n\\n221 Queen St Melbourne VIC 3000\\n\\n123 Somewhere St, Melbourne VIC 3000 (03) 1234 5678\\n\\n$39.60\\n\\nInvoice Number: #20130304', metadata={'filetype': 'application/pdf', 'languages': ['eng'], 'last_modified': '2024-05-08T08:57:57', 'page_number': 1, 'orig_elements': 'eJy9ltuO2zYQhl9FUHvRAqbE82HviqYo9iKbFOv0ZrEQKHLsZVaWDIleZxP03UtJTpCDEyAGbMA383vGJv+PM+Tdhxwa2EAbq+DzqywXtZJMSUCCWYc4rWukJadIKmuoptIro/JFlm8gWm+jTTUfctd1vQ+tjTBMcWOfu12sHiCsH2JSKGMm1RzkffDxIalECpbUbRfaONbd3RlDC7HICOcFv19kH2NKZCHGmAisCnpEmCuSkg/PQ4TNuJPX4R00t1vrIP8vfeEhgouhayvX2GGotn1XpzRcUMmETAmr0EB83sJU+/plPi24Xe/setrVXQ7tOr+f1CFWm86HVYDJM4opR1ggrJdYXwmVPmP1NlVW7W5TQz/udlxEhHejH/kfy+VfN8vrVzfZ8tWY+vF/lyE203K/xkJcjbGjEhmnOeK1MKgWtUkh5Yo7QZ3jZ8NClChUcl3ggkyuz7EUomBjrAkfMX0dz/mnQdFMfodJ2Iy2bu201rx8M0A/lG+7fg3b8kXndqNpQ2mHx2q7q5vgqm7fljagIdo+Qo8eQyw3uyaGRNA21WPb7Rvw6Sd7iH2AJ+jL0cBysJttA5Xv3FCG9qkLDmapXIX1rgdEECnebtdnPSefn43rcePHzob3bMVqIGhFwKSWNStkBGcIFDe+Zk75mp7vbGAyHQZG2Qz/kyBloSeBcVmYY8JUcmrTUiwu3LQvoG2fs793rd3b9nMyN7bvbQxPsBwzjxFSlDLAFFkvbereWiHtPCDsAUsOqX2JPCchXZBFxmWy7UBoEgTjB2SMirFhvxHmktMIMU3NpccqpST7ZwfQZrcxewlN3e36FrJ/r//MGMb4p5gRhj3V2qJxwiLua4lsDRw5ZbwDDPVKsrMxk7TAi0xRM19zc6gTFDVdi0mn38Zz+on9ZAS9MCxCWXbbbWD/AD0kYIsjxLLfMPs9S5k8E1LpnwJolVUap9uSuvEl4zVBWhiGlBZOCek4FvX5mo4INc44qfVh6B0EZViBJ4ErWbAjwlzyQ4yXxPQrM4X8onXetC75s+768B7899zXWmmtGUXMrnC6lLBHVuo0AXl6r2DvsVWrs7mfHh4pz5Dk+OjsIRRknn9csYIfiaf009qHq3QhXRjM9fwoyW6mb6+yXyhOM4th/oMuuf8fAA18nw==', 'file_directory': '/Users/jorgep/Documents/ask_public_own/ai-starter-kit/multimodal_knowledge_retriever/data/sample_docs', 'filename': 'invoicesample.pdf', 'type': 'text'})]"
      ]
     },
     "execution_count": 21,
     "metadata": {},
     "output_type": "execute_result"
    }
   ],
   "source": [
    "retriever.invoke(\"what is the logo of the company\")"
   ]
  },
  {
   "cell_type": "markdown",
   "metadata": {},
   "source": [
    "### Retrieval"
   ]
  },
  {
   "cell_type": "code",
   "execution_count": 22,
   "metadata": {},
   "outputs": [],
   "source": [
    "from langchain.chains import RetrievalQA\n",
    "\n",
    "prompt = load_prompt(os.path.join(kit_dir,\"prompts\",\"llama70b-knowledge_retriever_custom_qa_prompt.yaml\"))\n",
    "\n",
    "chain = RetrievalQA.from_llm(\n",
    "    llm = model,\n",
    "    retriever=retriever,\n",
    "    return_source_documents=True,\n",
    "    input_key=\"question\",\n",
    "    output_key=\"answer\"\n",
    ")\n",
    "chain.combine_documents_chain.llm_chain.prompt=prompt\n"
   ]
  },
  {
   "cell_type": "code",
   "execution_count": 24,
   "metadata": {},
   "outputs": [
    {
     "data": {
      "text/plain": [
       "{'question': 'what is the final price in the invoice?',\n",
       " 'answer': ' Sure, I can help you with that! Based on the provided context, the final price in the invoice is $39.60. This can be found in the context labeled \"Subtotal | Total\" which lists the total price as $39.60, including a $3.60 GST charge.\\n\\nSo, the answer to your question is:\\n\\n$39.60',\n",
       " 'source_documents': [Document(page_content='THANK YOU\\n\\n* Lorem ipsum dolor sit amet, consectetur adipiscing elit. Aliquam sodales dapibus fermentum. Nunc adipiscing, magna sed scelerisque cursus, erat lectus dapibus urna, sed facilisis leo dui et ipsum.\\n\\nSubtotal | Total\\n\\nSubtotal\\n\\nGST (10%)\\n\\nTotal\\n\\n$36.00\\n\\n$3.60\\n\\n$39.60', metadata={'filetype': 'application/pdf', 'languages': ['eng'], 'last_modified': '2024-05-08T08:57:57', 'page_number': 1, 'orig_elements': 'eJzNVVuL3DYY/SvCtNCWkdD9krc8tdB2G9jJQ1mWQdZlVuCxJ7bcZpvmv1f2eJKhmTabwmwHDEbHOrJ0zvk+3b2rQhN2oc2b5KsXoJJeqlALDqlkAvLIPKy1J5BwJxjVtY22rlag2oVsvc22cN5Vrut6n1qbwzCPG/vYjXnzENL2IReEMmYKZ4F/Tz4/FJRIwQq671KbJ97dnVSozCNGEMTvV2AZU6zUYawVQ/oMsDAKUg2PQw676SSv0tvQ3O6tC9X78sGHHFxOXbtxjR2Gzb7v6jINI2kYVmVCTE3Ij/swc1/9XM0bbrej3c6nuqtCu63uZ3TIm13nU0xh1oxiyiEWEOs11i+EKs/E3hfmph13dein006byOHtpEe1/uHlzY/g119eT/OOP12n3Mx7/bsnjkcRbXSwtiIUT6SFtSIGakato45iTOzFPBEUkSI5IRiZSfLj2EhEZwukQfwsMDP+myeGYk6f2ZPvwE9dH3Yg7YdxB3zXdD0YUga2yLoCrmuHsteQxx5Yn/ZpcKndgtCkjMDLJr0Z7Q4MnbdNGIC3+1SPA4ihn2wcdwjcjK07Ia7Azm5bC4bgweCK3X0a3owBuLEfxmEFQm8zaMoPx4+rjX1rVzMjWpeaNKShTOmAHxMI+bBvdBqoG9uXZdJvYT0d8VywZM0doQEqGgzkwSpYRyuh1A4Lrj0jhF0sWIYohKfand5TcBaAEmYOACFGn0cW0r+G6zmzczvWucu2AX+C9fR+UlmTonGQCkOFS4PlSkhoZC2hsEbUEmvHnL+Y+gQTPRUyKaV2KOyPiKRIflBbn0foZ4v7/9D/ae3U+RL8SKGyJkLOo4bGOAdlsFyUmyS6KJ5Bd0OQOtWdYsYOtxqhnCB6DllYV6P797dr8A3BX397Kvzr1hWZtl2f/gj+n1pPybcsl5eGTpMSfuYiNNjXUGsSyqOoCvLiJlCs1RLsI0KoOVxjhNA56meQA+tqTHh6x7G2xoQW0WvPFORaWagtppBxbwkvihMeLic60xSppXewWdAPiCRLD+JGIXYemVlXI/pXTCKMvzj2zHtntdGQRsfLjRsjLFWgoC89iYiIqRH4cg5wzJBYugg5qHtASqehSJ/q/SmysK7IASS/3ADKsPPKMxiFLCVAtYe25hpG6iIhsrgSyQVLQPCl79BjCSwIYXxp9UcDPkUOrCsywHzegfu/AHn5Kx4=', 'file_directory': '/Users/jorgep/Documents/ask_public_own/ai-starter-kit/multimodal_knowledge_retriever/data/sample_docs', 'filename': 'invoicesample.pdf', 'type': 'text'}),\n",
       "  Document(page_content='ATTENTION TO\\n\\nDenny Gunawan\\n\\n221 Queen St Melbourne VIC 3000\\n\\n123 Somewhere St, Melbourne VIC 3000 (03) 1234 5678\\n\\n$39.60\\n\\nInvoice Number: #20130304', metadata={'filetype': 'application/pdf', 'languages': ['eng'], 'last_modified': '2024-05-08T08:57:57', 'page_number': 1, 'orig_elements': 'eJy9ltuO2zYQhl9FUHvRAqbE82HviqYo9iKbFOv0ZrEQKHLsZVaWDIleZxP03UtJTpCDEyAGbMA383vGJv+PM+Tdhxwa2EAbq+DzqywXtZJMSUCCWYc4rWukJadIKmuoptIro/JFlm8gWm+jTTUfctd1vQ+tjTBMcWOfu12sHiCsH2JSKGMm1RzkffDxIalECpbUbRfaONbd3RlDC7HICOcFv19kH2NKZCHGmAisCnpEmCuSkg/PQ4TNuJPX4R00t1vrIP8vfeEhgouhayvX2GGotn1XpzRcUMmETAmr0EB83sJU+/plPi24Xe/setrVXQ7tOr+f1CFWm86HVYDJM4opR1ggrJdYXwmVPmP1NlVW7W5TQz/udlxEhHejH/kfy+VfN8vrVzfZ8tWY+vF/lyE203K/xkJcjbGjEhmnOeK1MKgWtUkh5Yo7QZ3jZ8NClChUcl3ggkyuz7EUomBjrAkfMX0dz/mnQdFMfodJ2Iy2bu201rx8M0A/lG+7fg3b8kXndqNpQ2mHx2q7q5vgqm7fljagIdo+Qo8eQyw3uyaGRNA21WPb7Rvw6Sd7iH2AJ+jL0cBysJttA5Xv3FCG9qkLDmapXIX1rgdEECnebtdnPSefn43rcePHzob3bMVqIGhFwKSWNStkBGcIFDe+Zk75mp7vbGAyHQZG2Qz/kyBloSeBcVmYY8JUcmrTUiwu3LQvoG2fs793rd3b9nMyN7bvbQxPsBwzjxFSlDLAFFkvbereWiHtPCDsAUsOqX2JPCchXZBFxmWy7UBoEgTjB2SMirFhvxHmktMIMU3NpccqpST7ZwfQZrcxewlN3e36FrJ/r//MGMb4p5gRhj3V2qJxwiLua4lsDRw5ZbwDDPVKsrMxk7TAi0xRM19zc6gTFDVdi0mn38Zz+on9ZAS9MCxCWXbbbWD/AD0kYIsjxLLfMPs9S5k8E1LpnwJolVUap9uSuvEl4zVBWhiGlBZOCek4FvX5mo4INc44qfVh6B0EZViBJ4ErWbAjwlzyQ4yXxPQrM4X8onXetC75s+768B7899zXWmmtGUXMrnC6lLBHVuo0AXl6r2DvsVWrs7mfHh4pz5Dk+OjsIRRknn9csYIfiaf009qHq3QhXRjM9fwoyW6mb6+yXyhOM4th/oMuuf8fAA18nw==', 'file_directory': '/Users/jorgep/Documents/ask_public_own/ai-starter-kit/multimodal_knowledge_retriever/data/sample_docs', 'filename': 'invoicesample.pdf', 'type': 'text'})]}"
      ]
     },
     "execution_count": 24,
     "metadata": {},
     "output_type": "execute_result"
    }
   ],
   "source": [
    "chain.invoke({\"question\": \"what is the final price in the invoice?\"})"
   ]
  },
  {
   "cell_type": "code",
   "execution_count": 25,
   "metadata": {},
   "outputs": [
    {
     "data": {
      "text/plain": [
       "{'question': 'what is the logo of the company',\n",
       " 'answer': ' Based on the provided context, the logo of the company is a gold and yellow logo featuring a sun in the center, surrounded by trees. The sun is positioned at the top left corner, while the trees are located at the bottom right corner. The logo is placed on a white background, making it stand out and easily recognizable.',\n",
       " 'source_documents': [Document(page_content=\"The image features a logo for Sunny Farm, a company that specializes in fresh produce. The logo is a gold and yellow color scheme, with a sun in the center, symbolizing the warmth and freshness of the products. The sun is surrounded by trees, which further emphasize the connection to nature and the source of the fresh produce.\\n\\nThe logo is placed on a white background, making it stand out and be easily recognizable. The sun in the logo is positioned at the top left corner, while the trees are located at the bottom right corner. The overall design of the logo is simple yet effective in conveying the company's message.\", metadata={'type': 'image', 'file_directory': '/Users/jorgep/Documents/ask_public_own/ai-starter-kit/multimodal_knowledge_retriever/data/sample_docs/invoicesample/figure-1-1.jpg'}),\n",
       "  Document(page_content='ATTENTION TO\\n\\nDenny Gunawan\\n\\n221 Queen St Melbourne VIC 3000\\n\\n123 Somewhere St, Melbourne VIC 3000 (03) 1234 5678\\n\\n$39.60\\n\\nInvoice Number: #20130304', metadata={'filetype': 'application/pdf', 'languages': ['eng'], 'last_modified': '2024-05-08T08:57:57', 'page_number': 1, 'orig_elements': 'eJy9ltuO2zYQhl9FUHvRAqbE82HviqYo9iKbFOv0ZrEQKHLsZVaWDIleZxP03UtJTpCDEyAGbMA383vGJv+PM+Tdhxwa2EAbq+DzqywXtZJMSUCCWYc4rWukJadIKmuoptIro/JFlm8gWm+jTTUfctd1vQ+tjTBMcWOfu12sHiCsH2JSKGMm1RzkffDxIalECpbUbRfaONbd3RlDC7HICOcFv19kH2NKZCHGmAisCnpEmCuSkg/PQ4TNuJPX4R00t1vrIP8vfeEhgouhayvX2GGotn1XpzRcUMmETAmr0EB83sJU+/plPi24Xe/setrVXQ7tOr+f1CFWm86HVYDJM4opR1ggrJdYXwmVPmP1NlVW7W5TQz/udlxEhHejH/kfy+VfN8vrVzfZ8tWY+vF/lyE203K/xkJcjbGjEhmnOeK1MKgWtUkh5Yo7QZ3jZ8NClChUcl3ggkyuz7EUomBjrAkfMX0dz/mnQdFMfodJ2Iy2bu201rx8M0A/lG+7fg3b8kXndqNpQ2mHx2q7q5vgqm7fljagIdo+Qo8eQyw3uyaGRNA21WPb7Rvw6Sd7iH2AJ+jL0cBysJttA5Xv3FCG9qkLDmapXIX1rgdEECnebtdnPSefn43rcePHzob3bMVqIGhFwKSWNStkBGcIFDe+Zk75mp7vbGAyHQZG2Qz/kyBloSeBcVmYY8JUcmrTUiwu3LQvoG2fs793rd3b9nMyN7bvbQxPsBwzjxFSlDLAFFkvbereWiHtPCDsAUsOqX2JPCchXZBFxmWy7UBoEgTjB2SMirFhvxHmktMIMU3NpccqpST7ZwfQZrcxewlN3e36FrJ/r//MGMb4p5gRhj3V2qJxwiLua4lsDRw5ZbwDDPVKsrMxk7TAi0xRM19zc6gTFDVdi0mn38Zz+on9ZAS9MCxCWXbbbWD/AD0kYIsjxLLfMPs9S5k8E1LpnwJolVUap9uSuvEl4zVBWhiGlBZOCek4FvX5mo4INc44qfVh6B0EZViBJ4ErWbAjwlzyQ4yXxPQrM4X8onXetC75s+768B7899zXWmmtGUXMrnC6lLBHVuo0AXl6r2DvsVWrs7mfHh4pz5Dk+OjsIRRknn9csYIfiaf009qHq3QhXRjM9fwoyW6mb6+yXyhOM4th/oMuuf8fAA18nw==', 'file_directory': '/Users/jorgep/Documents/ask_public_own/ai-starter-kit/multimodal_knowledge_retriever/data/sample_docs', 'filename': 'invoicesample.pdf', 'type': 'text'})]}"
      ]
     },
     "execution_count": 25,
     "metadata": {},
     "output_type": "execute_result"
    }
   ],
   "source": [
    "chain.invoke(\"what is the logo of the company\")"
   ]
  },
  {
   "cell_type": "markdown",
   "metadata": {},
   "source": [
    "## Retrieval with raw text, raw tables and raw images"
   ]
  },
  {
   "cell_type": "code",
   "execution_count": 28,
   "metadata": {},
   "outputs": [],
   "source": [
    "#WIP"
   ]
  },
  {
   "cell_type": "code",
   "execution_count": null,
   "metadata": {},
   "outputs": [],
   "source": []
  }
 ],
 "metadata": {
  "kernelspec": {
   "display_name": "multimodalenv",
   "language": "python",
   "name": "python3"
  },
  "language_info": {
   "codemirror_mode": {
    "name": "ipython",
    "version": 3
   },
   "file_extension": ".py",
   "mimetype": "text/x-python",
   "name": "python",
   "nbconvert_exporter": "python",
   "pygments_lexer": "ipython3",
   "version": "3.10.11"
  }
 },
 "nbformat": 4,
 "nbformat_minor": 2
}
