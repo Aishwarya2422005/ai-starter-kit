{
 "cells": [
  {
   "cell_type": "markdown",
   "metadata": {},
   "source": [
    "# Multimodal RAG"
   ]
  },
  {
   "cell_type": "code",
   "execution_count": 1,
   "metadata": {},
   "outputs": [],
   "source": [
    "import os\n",
    "import sys\n",
    "import glob\n",
    "\n",
    "current_dir = os.getcwd()\n",
    "kit_dir = os.path.abspath(os.path.join(current_dir, '..'))\n",
    "repo_dir = os.path.abspath(os.path.join(kit_dir, '..'))\n",
    "\n",
    "sys.path.append(kit_dir)\n",
    "sys.path.append(repo_dir)\n",
    "\n",
    "from dotenv import load_dotenv\n",
    "\n",
    "load_dotenv(os.path.join(repo_dir, '.env'), override=True)\n",
    "\n",
    "import requests\n",
    "import json\n",
    "import base64\n",
    "from pprint import pprint"
   ]
  },
  {
   "cell_type": "markdown",
   "metadata": {},
   "source": [
    "## utils"
   ]
  },
  {
   "cell_type": "code",
   "execution_count": 2,
   "metadata": {},
   "outputs": [],
   "source": [
    "def image_to_base64(image_path):\n",
    "    with open(image_path, 'rb') as image_file:\n",
    "        image_binary = image_file.read()\n",
    "        base64_image = base64.b64encode(image_binary).decode()\n",
    "        return base64_image"
   ]
  },
  {
   "cell_type": "markdown",
   "metadata": {},
   "source": [
    "## Multimodal call"
   ]
  },
  {
   "cell_type": "markdown",
   "metadata": {},
   "source": [
    "### sambastudio llava call method"
   ]
  },
  {
   "cell_type": "code",
   "execution_count": 3,
   "metadata": {},
   "outputs": [],
   "source": [
    "# sambastudio call\n",
    "def llava_call(prompt, image_path):\n",
    "    image = image_to_base64(image_path)\n",
    "    endpoint_url = f\"{os.environ.get('LVLM_BASE_URL')}/api/predict/generic/{os.environ.get('LVLM_PROJECT_ID')}/{os.environ.get('LVLM_ENDPOINT_ID')}\"\n",
    "    endpoint_key = os.environ.get('LVLM_API_KEY')\n",
    "    # Define the data payload\n",
    "    data = {\n",
    "        'instances': [{'prompt': prompt, 'image_content': f'{image}'}],\n",
    "        'params': {\n",
    "            'do_sample': {'type': 'bool', 'value': 'false'},\n",
    "            'max_tokens_to_generate': {'type': 'int', 'value': '512'},\n",
    "            'temperature': {'type': 'float', 'value': '1'},\n",
    "            'top_k': {'type': 'int', 'value': '50'},\n",
    "            'top_logprobs': {'type': 'int', 'value': '0'},\n",
    "            'top_p': {'type': 'float', 'value': '1'},\n",
    "        },\n",
    "    }\n",
    "    # Define headers\n",
    "    headers = {'Content-Type': 'application/json', 'key': endpoint_key}\n",
    "    response = requests.post(endpoint_url, headers=headers, data=json.dumps(data))\n",
    "    return response.json()['predictions'][0]['completion']"
   ]
  },
  {
   "cell_type": "markdown",
   "metadata": {},
   "source": [
    "### QA Llava Call"
   ]
  },
  {
   "cell_type": "code",
   "execution_count": 4,
   "metadata": {},
   "outputs": [
    {
     "data": {
      "text/plain": [
       "'At 4 pm, you could find approximately 10 birds on the tree.'"
      ]
     },
     "execution_count": 4,
     "metadata": {},
     "output_type": "execute_result"
    }
   ],
   "source": [
    "prompt = 'A chat between a curious human and an artificial intelligence assistant. The assistant gives helpful, detailed, and polite answers to the humans question. USER: <image>\\nhow many birds could you find at 4pm?. ASSISTANT:'\n",
    "image_path = os.path.join(kit_dir, 'data', 'sample_docs', 'sample.png')\n",
    "llava_call(prompt, image_path)"
   ]
  },
  {
   "cell_type": "markdown",
   "metadata": {},
   "source": [
    "### Summary Llava call"
   ]
  },
  {
   "cell_type": "code",
   "execution_count": 5,
   "metadata": {},
   "outputs": [
    {
     "data": {
      "text/plain": [
       "'The image displays a graph showing the number of birds on a tree at different times of the day. The graph is a combination of a bar plot and a scatter plot, with the bar plot showing the number of birds at various times of the day, and the scatter plot showing the number of birds on a tree at a specific time.\\n\\nThe graph is divided into two main sections. The first section, which is the bar plot, shows the number of birds on a tree at different times of the day, with the bars extending from 10 am to 11 pm. The second section, which is the scatter plot, shows the number of birds on a tree at a specific time, with the x-axis representing the time and the y-axis representing the number of birds.\\n\\nThe graph is labeled with the time of the day, and the number of birds is represented by the number of orange dots on the graph. The dots are scattered throughout the graph, with some appearing closer to the bars and others appearing closer to the scatter plot.'"
      ]
     },
     "execution_count": 5,
     "metadata": {},
     "output_type": "execute_result"
    }
   ],
   "source": [
    "prompt = 'A chat between a curious human and an artificial intelligence assistant. The assistant gives helpful, detailed, and polite answers to the humans question. USER: <image>\\nDescribe the image in detail. Be specific about graphs, such as bar plots, scatter plots, or others. ASSISTANT:'\n",
    "llava_call(prompt, image_path)"
   ]
  },
  {
   "cell_type": "markdown",
   "metadata": {},
   "source": [
    "## Doc Extraction"
   ]
  },
  {
   "cell_type": "markdown",
   "metadata": {},
   "source": [
    "### Unstructured PDF extraction"
   ]
  },
  {
   "cell_type": "code",
   "execution_count": 6,
   "metadata": {},
   "outputs": [
    {
     "name": "stderr",
     "output_type": "stream",
     "text": [
      "Some weights of the model checkpoint at microsoft/table-transformer-structure-recognition were not used when initializing TableTransformerForObjectDetection: ['model.backbone.conv_encoder.model.layer2.0.downsample.1.num_batches_tracked', 'model.backbone.conv_encoder.model.layer3.0.downsample.1.num_batches_tracked', 'model.backbone.conv_encoder.model.layer4.0.downsample.1.num_batches_tracked']\n",
      "- This IS expected if you are initializing TableTransformerForObjectDetection from the checkpoint of a model trained on another task or with another architecture (e.g. initializing a BertForSequenceClassification model from a BertForPreTraining model).\n",
      "- This IS NOT expected if you are initializing TableTransformerForObjectDetection from the checkpoint of a model that you expect to be exactly identical (initializing a BertForSequenceClassification model from a BertForSequenceClassification model).\n"
     ]
    }
   ],
   "source": [
    "from unstructured.partition.pdf import partition_pdf\n",
    "\n",
    "# Path to save images\n",
    "file_path = os.path.join(kit_dir, 'data', 'sample_docs', 'invoicesample.pdf')\n",
    "output_path = os.path.splitext(file_path)[0]\n",
    "\n",
    "# Get elements\n",
    "raw_pdf_elements = partition_pdf(\n",
    "    filename=file_path,\n",
    "    extract_images_in_pdf=True,\n",
    "    strategy='hi_res',\n",
    "    hi_res_model_name='yolox',\n",
    "    # Use layout model (YOLOX) to get bounding boxes (for tables) and find titles\n",
    "    # Titles are any sub-section of the document\n",
    "    infer_table_structure=True,\n",
    "    chunking_strategy='by_title',\n",
    "    max_characters=1000,\n",
    "    new_after_n_chars=800,\n",
    "    combine_text_under_n_chars=500,\n",
    "    extract_image_block_output_dir=output_path,\n",
    ")"
   ]
  },
  {
   "cell_type": "markdown",
   "metadata": {},
   "source": [
    "### View Elements"
   ]
  },
  {
   "cell_type": "code",
   "execution_count": 7,
   "metadata": {},
   "outputs": [
    {
     "name": "stdout",
     "output_type": "stream",
     "text": [
      "\u001b[95m ELEMENT 0\u001b[00m\n",
      "TYPE: <class 'unstructured.documents.elements.CompositeElement'>\n",
      "META: {'filetype': 'application/pdf', 'languages': ['eng'], 'last_modified': '2024-06-18T16:21:08', 'page_number': 1, 'orig_elements': 'eJy9ltuO2zYQhl9FUHvRAqbEM8W9K5qi2ItsUqzTm8VCoMSRl1mdIFHrbIK+eynJCXJwAsSArQsB82vGJv+PQ/LuQww1NND63Nn4KoptISosiUVY4QpxWnKkSwVIci4kUYJwUcSbKG7AG2u8CTUf4rLrButa42Fc4to8d5PPH8DtHnxQKGM61BzkvbP+IahEChbUvnOtn+vu7rSmidhEhPOE32+ijzElMhFzTARWCT0irBVBicfn0UMzz+S1ewf1bW9KiP8LHyx4KL3r2ryszTjm/dAVIQ0nVDIhQ0LlavDPPSy1r1/Gy4Db3WR2y6zuYmh38f2ijj5vOusqB4tnFFOOsEQk2xJ5RckVzubqPlTm7dQUMMyznQfh4d3sR/zHdvvXzfb61U20fTWnfvzfrfP1MtyvsYDKSFFxiipqAXEhSqRlBYhYqZgobVYIdjYsAXuigusCJ2RxfY2lEAmb44zwGdPX8Zp/GpSMye8wcc1sa2+WscbpmxGGMX3bDTvo0xddOc2mjakZH/N+KmpX5t2+TY1DozeDhwE9Op82U+1dIGjq/LHt9jXY8JMD+MHBEwzpbGA6mqavIbddOaaufepcCauUVm43DcF6RJK3/e6s6+TztXE9T/zY2qCEYVUCRpYQElq2oEhXwBDnWjBmraiUOd/awGRZDIyyFf4nQcokWwTGZaKPCUvJqU1Lsbhw076Atn2O/p5aszft52RuzDAY755gO2ceIVQWhhXChK0UCox4aQAVBjQCklGW2fBAdU5CWUI2EZfBtgOhRRCMH5AxKuaG/UZYS04jxDKqL72tUkqifyaANrr10Uuoi24aWoj+vf4zYhjjn2LGCYDl3CBeSBFe4TTMqDHISgBuJaaa2bMxkzTBm0hRvR5za5gFKGo5FoNOv43X9BP7SQt6YViEsui2a2D/AAMEYJsjxKLfMPs9Cpk8ElJlPwWQGSYEExxVuAiboSYUZaERkZSsAsWJrhg/X9MRoeY9TmbZYdM7CEqzBC8CVzJhR4S15IcYL4npV6YT+UXrvGnL4M+uG9x7sN9zH7CSDKxAWUV1aB+SBfdFgYpwr7RYF1ZxOJv74eIR8jQJjs/OHkJB1v2PK5bwI/GSflr7cBUOpAuDuV4vJdHN8vUq+oXicBFgmP+gS+7/B1S0fXo=', 'file_directory': '/Users/jorgep/Documents/ask_public_own/ai-starter-kit/multimodal_knowledge_retriever/data/sample_docs', 'filename': 'invoicesample.pdf'}\n",
      "TEXT: ATTENTION TO\n",
      "\n",
      "Denny Gunawan\n",
      "\n",
      "221 Queen St Melbourne VIC 3000\n",
      "\n",
      "123 Somewhere St, Melbourne VIC 3000 (03) 1234 5678\n",
      "\n",
      "$39.60\n",
      "\n",
      "Invoice Number: #20130304\n",
      "\n",
      "\n",
      "##########\n",
      "\n",
      "\u001b[95m ELEMENT 1\u001b[00m\n",
      "TYPE: <class 'unstructured.documents.elements.Table'>\n",
      "META: {'last_modified': '2024-06-18T16:21:08', 'text_as_html': '<table><tr><td>Apple</td><td>$5.00</td><td>1</td><td>$5.00</td></tr><tr><td>Orange</td><td>$1.99</td><td>2</td><td>$3.98</td></tr><tr><td>Watermelon</td><td>$1.69</td><td>3</td><td>$5.07</td></tr><tr><td>Mango</td><td>$9.56</td><td>2</td><td>$19.12</td></tr><tr><td>Peach</td><td>$2.99</td><td>1</td><td>$2.99</td></tr></table>', 'table_as_cells': [{'x': 0, 'y': 0, 'w': 1, 'h': 1, 'content': 'Apple'}, {'x': 0, 'y': 1, 'w': 1, 'h': 1, 'content': 'Orange'}, {'x': 0, 'y': 2, 'w': 1, 'h': 1, 'content': 'Watermelon'}, {'x': 0, 'y': 3, 'w': 1, 'h': 1, 'content': 'Mango'}, {'x': 0, 'y': 4, 'w': 1, 'h': 1, 'content': 'Peach'}, {'x': 1, 'y': 0, 'w': 1, 'h': 1, 'content': '$5.00'}, {'x': 1, 'y': 1, 'w': 1, 'h': 1, 'content': '$1.99'}, {'x': 1, 'y': 2, 'w': 1, 'h': 1, 'content': '$1.69'}, {'x': 1, 'y': 3, 'w': 1, 'h': 1, 'content': '$9.56'}, {'x': 1, 'y': 4, 'w': 1, 'h': 1, 'content': '$2.99'}, {'x': 2, 'y': 0, 'w': 1, 'h': 1, 'content': '1'}, {'x': 2, 'y': 1, 'w': 1, 'h': 1, 'content': '2'}, {'x': 2, 'y': 2, 'w': 1, 'h': 1, 'content': '3'}, {'x': 2, 'y': 3, 'w': 1, 'h': 1, 'content': '2'}, {'x': 2, 'y': 4, 'w': 1, 'h': 1, 'content': '1'}, {'x': 3, 'y': 0, 'w': 1, 'h': 1, 'content': '$5.00'}, {'x': 3, 'y': 1, 'w': 1, 'h': 1, 'content': '$3.98'}, {'x': 3, 'y': 2, 'w': 1, 'h': 1, 'content': '$5.07'}, {'x': 3, 'y': 3, 'w': 1, 'h': 1, 'content': '$19.12'}, {'x': 3, 'y': 4, 'w': 1, 'h': 1, 'content': '$2.99'}], 'filetype': 'application/pdf', 'languages': ['eng'], 'page_number': 1, 'orig_elements': 'eJyVlU1r4zAQhv+KMDnsQuNYkmNHJRT2uIeyWVrYQyhGsaeOqL+wFZpQ+t9XmqR1G8fV7iEoM9ajmXk9Hq1fPCighEonKvOuibcRMRdzBtMo4mIaChpPF2GaTkUgNyJM4xh46l0RrwQtM6mlYV68tK7bTFVSQ4d2IQ/1TidbUPlWGw/jXBjm5H5Wmd4aL43m3HibWlXacus1DYQ/vyJCxP7i4Yq82TQUzA/QMefcDy95jozxeN2h01DaWlZqD8VdI1PwXs2DDDSkWtVVkhay65KmrTdmW+BHfM7M80dVgD40gOjq1sOMq3wncyxr7UGVew/o7XRS1pl6VICisYCF0yCa0sU9ja4ZvQ4Wlm4MmVS7cgOtLdd4tNwUkMguSaEo8FArXqWN/vacH01TgCW3p/3Pp3Vv8zTrwa6mlk/Ur9Zk6cToOfbHvK62hKKuXCg7R29NwNpF8XNqBTLduqjwnJrM/SAYo+iYJhPqC+GiBpIYKnJSAzUmpkkjFzVQY8L+IcOBGnSMYGNKMBcxUIG7iIECzhiD6p11/F8f8NE+4L5YuKhhH5hYsYsa9gEVPh2Vgo9J8WUj8Hc57ODRsNd2emx1WVh0ifPkZqlb88tucHwsZ+aftVCwd4te8s8QPMLHKdLvsh/Qu8V6vxV0SPfD5OMJUX8C/xQ/Hp6AM6XfZL+pS+FR4yGNs6XfxT4mTy/5EZ4d9cPbwWp7nKa5rFRKfppLpCOrVqUwe8oJaktQO3KUiqBEpK+cYMUECyFYAMG0CIYlv3ey0kofvj3l38ndbqNrLQtCT2cygsoSjnZsbSzVbnhrkLfL6d5m7b0+/AW3xgUe', 'file_directory': '/Users/jorgep/Documents/ask_public_own/ai-starter-kit/multimodal_knowledge_retriever/data/sample_docs', 'filename': 'invoicesample.pdf'}\n",
      "TEXT: Organic Items Price/kg Apple $5.00 Orange $1.99 Watermelon $1.69 Mango $9.56 Peach $2.99 Quantity(kg) Subtotal 1 $5.00 2 $3.98 3 $5.07 2 $19.12 1 $2.99\n",
      "\n",
      "\n",
      "##########\n",
      "\n",
      "\u001b[95m ELEMENT 2\u001b[00m\n",
      "TYPE: <class 'unstructured.documents.elements.CompositeElement'>\n",
      "META: {'filetype': 'application/pdf', 'languages': ['eng'], 'last_modified': '2024-06-18T16:21:08', 'page_number': 1, 'orig_elements': 'eJzNVdtu3DYQ/RVCaIG2WAoc3um3PLVAWzdANg+FYRi8aU1AK20kqo2b5t9LaeXEaLaNU2BdP0k84hFnzpkZXr2rYhv3scs3KVQXqDLGWk80xVp5gTnVDtvoFY4EglZgTWS62qBqH7MNNtvCeVf5vh9C6myO47Ju7V0/5ZvbmHa3uSCUMVM4K/x7Cvm2oCAFK+ihT12eeVdXUtVlHxgBNb/eoHVNiVLHtVas1ieAlVGQarwbc9zPmbxMb2P76mB9rN6XDyHm6HPquxvf2nG8OQy9K9tILQ0jqmxoUhvz3SEu3Jc/V0vA3W6yuyWrqyp2u+p6Qcd8s+9DalJcNKOEckwkBr0FeUHhgiwSHQrzppv2Lg5ztnMQOb6d9ai2P7y4/BH9+svred/9oduU2yXWv3vSCEKZlgZTUA5zZhXW1AccgnNMBOEjl2fzRNAaiuQApDaz5PdrI2u6WCBNzU8CC+O/eWIo4fSJPfkO/dQPcY/SYZz2KPRtP6AxZWSLrBvk+24sscY8DciGdEijT90OxTblGr1o05vJ7tHYB9vGEQV7SG4aUROH2cZpX6PLqfMPiBu0t7vOojEGNPpi95DGN1NEfhrGadygONiM2nLg9PFv09DZzcJorE9tGtNYtvQoTAnFfIy7flhQl3Yov0m/xe2c4onCEhDBWsowE6Q0ezAGG9ASM0JFo03jtAxnKywDqiZz787PuXBWgAIzRwDA6NPISvrX4nrK2nk1udxn26I/0XZ+PqqtIw9EEdlgyZzC3JAGGyc8dpqKUFImBvjZ1AcCem5kKK12bOyPiKS1/KC2Po3Qzzb3/6H/o3R3lCswXmMaaIM5NxJbJRlWMghZrjlunXoC3Q3U6qHulDB2vNWAcqjpKWRlPRvdv3+1Rd8A+frbh8K/7nyRadcP6Y8Y/mn0hGCVoTFi6cFgTqjChpU31UQfQ1DO8nh2EyjRai3sewSoOV5jAHQp9RPIkfVsTHj8xGFGCQaeYxEBMPe0VD4xBEsaRKOKCc6db94D07RW6+xgi6AfEAnrDOJG1ew0srCejehfMVkT8sVl751pqLKAg7ccc2EENpoHXFqdNOCFNxzO5wAnrBbrFIGjukekHE9r/VDvT5GV9YwcqOWXG8ANt4H4BjvGJeZAHHaSq+JHw4QNFJy0Z2wBwde5Q+9bYEWA8XXU3xvwKXJkPSMDzOcduP4LMHEnyg==', 'file_directory': '/Users/jorgep/Documents/ask_public_own/ai-starter-kit/multimodal_knowledge_retriever/data/sample_docs', 'filename': 'invoicesample.pdf'}\n",
      "TEXT: THANK YOU\n",
      "\n",
      "* Lorem ipsum dolor sit amet, consectetur adipiscing elit. Aliquam sodales dapibus fermentum. Nunc adipiscing, magna sed scelerisque cursus, erat lectus dapibus urna, sed facilisis leo dui et ipsum.\n",
      "\n",
      "Subtotal | Total\n",
      "\n",
      "Subtotal\n",
      "\n",
      "GST (10%)\n",
      "\n",
      "Total\n",
      "\n",
      "$36.00\n",
      "\n",
      "$3.60\n",
      "\n",
      "$39.60\n",
      "\n",
      "\n",
      "##########\n",
      "\n"
     ]
    }
   ],
   "source": [
    "for i, element in enumerate(raw_pdf_elements):\n",
    "    print(f'\\033[95m ELEMENT {i}\\033[00m')\n",
    "    print(f'TYPE: {type(element)}')\n",
    "    print(f'META: {element.metadata.to_dict()}')\n",
    "    print(f'TEXT: {element.text}')\n",
    "    print('\\n\\n##########\\n')"
   ]
  },
  {
   "cell_type": "code",
   "execution_count": 8,
   "metadata": {},
   "outputs": [
    {
     "data": {
      "text/plain": [
       "{\"<class 'unstructured.documents.elements.CompositeElement'>\": 2,\n",
       " \"<class 'unstructured.documents.elements.Table'>\": 1}"
      ]
     },
     "execution_count": 8,
     "metadata": {},
     "output_type": "execute_result"
    }
   ],
   "source": [
    "# Create a dictionary to store counts of each type\n",
    "category_counts = {}\n",
    "\n",
    "for element in raw_pdf_elements:\n",
    "    category = str(type(element))\n",
    "    if category in category_counts:\n",
    "        category_counts[category] += 1\n",
    "    else:\n",
    "        category_counts[category] = 1\n",
    "\n",
    "# Unique_categories will have unique elements\n",
    "# TableChunk if Table > max chars set above\n",
    "unique_categories = set(category_counts.keys())\n",
    "category_counts"
   ]
  },
  {
   "cell_type": "code",
   "execution_count": 9,
   "metadata": {},
   "outputs": [
    {
     "name": "stdout",
     "output_type": "stream",
     "text": [
      "1\n",
      "2\n"
     ]
    }
   ],
   "source": [
    "from langchain.schema import Document\n",
    "\n",
    "\n",
    "# Categorize by type\n",
    "categorized_elements = []\n",
    "for element in raw_pdf_elements:\n",
    "    if 'unstructured.documents.elements.Table' in str(type(element)):\n",
    "        meta = element.metadata.to_dict()\n",
    "        meta['type'] = 'table'\n",
    "        categorized_elements.append(Document(page_content=element.metadata.text_as_html, metadata=meta))\n",
    "    elif 'unstructured.documents.elements.CompositeElement' in str(type(element)):\n",
    "        meta = element.metadata.to_dict()\n",
    "        meta['type'] = 'text'\n",
    "        categorized_elements.append(Document(page_content=str(element), metadata=meta))\n",
    "\n",
    "# Tables\n",
    "table_docs = [e for e in categorized_elements if e.metadata['type'] == 'table']\n",
    "print(len(table_docs))\n",
    "\n",
    "# Text\n",
    "text_docs = [e for e in categorized_elements if e.metadata['type'] == 'text']\n",
    "print(len(text_docs))"
   ]
  },
  {
   "cell_type": "markdown",
   "metadata": {},
   "source": [
    "### Text and table summaries"
   ]
  },
  {
   "cell_type": "code",
   "execution_count": 10,
   "metadata": {},
   "outputs": [],
   "source": [
    "from utils.model_wrappers.langchain_llms import SambaNovaCloud\n",
    "from langchain_core.output_parsers import StrOutputParser\n",
    "from langchain_core.prompts import load_prompt"
   ]
  },
  {
   "cell_type": "code",
   "execution_count": 11,
   "metadata": {},
   "outputs": [],
   "source": [
    "text_prompt = load_prompt(os.path.join(kit_dir, 'prompts', 'llama70b-text_summary.yaml'))\n",
    "table_prompt = load_prompt(os.path.join(kit_dir, 'prompts', 'llama70b-table_summary.yaml'))\n",
    "\n",
    "# Summary chain\n",
    "model = SambaNovaCloud(\n",
    "    max_tokens=500,\n",
    "    model='llama3-8b',\n",
    ")\n",
    "text_summarize_chain = {'element': lambda x: x} | text_prompt | model | StrOutputParser()\n",
    "table_summarize_chain = {'element': lambda x: x} | table_prompt | model | StrOutputParser()"
   ]
  },
  {
   "cell_type": "markdown",
   "metadata": {},
   "source": [
    "### Text Summaries"
   ]
  },
  {
   "cell_type": "code",
   "execution_count": 12,
   "metadata": {},
   "outputs": [],
   "source": [
    "# Apply to text\n",
    "texts = [i.page_content for i in text_docs if i.page_content != '']\n",
    "if texts:\n",
    "    text_summaries = text_summarize_chain.batch(texts, {'max_concurrency': 1})"
   ]
  },
  {
   "cell_type": "code",
   "execution_count": 13,
   "metadata": {},
   "outputs": [
    {
     "data": {
      "text/plain": [
       "['Here is a concise summary of the text chunk:\\n\\nThis is an invoice addressed to Denny Gunawan, with a total amount of $39.60, and details of two addresses in Melbourne, VIC.',\n",
       " 'A receipt summary:\\n\\nA subtotal of $36.00 is calculated, then a 10% GST (Goods and Services Tax) is added, resulting in a total of $39.60.']"
      ]
     },
     "execution_count": 13,
     "metadata": {},
     "output_type": "execute_result"
    }
   ],
   "source": [
    "text_summaries"
   ]
  },
  {
   "cell_type": "markdown",
   "metadata": {},
   "source": [
    "### Table summaries"
   ]
  },
  {
   "cell_type": "code",
   "execution_count": 14,
   "metadata": {},
   "outputs": [],
   "source": [
    "# Apply to tables\n",
    "tables = [i.page_content for i in table_docs]\n",
    "if tables:\n",
    "    table_summaries = table_summarize_chain.batch(tables, {'max_concurrency': 1})"
   ]
  },
  {
   "cell_type": "code",
   "execution_count": 15,
   "metadata": {},
   "outputs": [
    {
     "data": {
      "text/plain": [
       "['Here is a concise summary of the table:\\n\\n**Fruit Prices**\\n\\n* Total of 9 fruits\\n* Total cost: $46.34\\n* Average price per fruit: $5.15']"
      ]
     },
     "execution_count": 15,
     "metadata": {},
     "output_type": "execute_result"
    }
   ],
   "source": [
    "table_summaries"
   ]
  },
  {
   "cell_type": "markdown",
   "metadata": {},
   "source": [
    "### Image summary"
   ]
  },
  {
   "cell_type": "code",
   "execution_count": 16,
   "metadata": {},
   "outputs": [],
   "source": [
    "image_prompt = 'A chat between a curious human and an artificial intelligence assistant. The assistant gives helpful, detailed, and polite answers to the humans question. USER: <image>\\n, such as bar plots. ASSISTANT:'\n",
    "image_prompt = load_prompt(os.path.join(kit_dir, 'prompts', 'llava.yaml'))\n",
    "prompt = image_prompt.format(\n",
    "    instruction='Describe the image in detail. Be specific about graphs include name of axis, labels, legends and important numerical information'\n",
    ")\n",
    "image_paths = []\n",
    "image_paths.extend(glob.glob(os.path.join(output_path, '*.jpg')))\n",
    "image_paths.extend(glob.glob(os.path.join(output_path, '*.png')))\n",
    "\n",
    "image_summaries = []\n",
    "image_docs = []\n",
    "\n",
    "for image_path in image_paths:\n",
    "    result = llava_call(prompt, image_path)\n",
    "    image_summaries.append(result)\n",
    "    image_docs.append(\n",
    "        Document(\n",
    "            page_content=result,\n",
    "            metadata={\n",
    "                'type': 'image',\n",
    "                'file_directory': os.path.dirname(image_path),\n",
    "                'filename': os.path.basename(image_path),\n",
    "            },\n",
    "        )\n",
    "    )"
   ]
  },
  {
   "cell_type": "code",
   "execution_count": 17,
   "metadata": {},
   "outputs": [
    {
     "data": {
      "text/plain": [
       "[\"The image features a logo for Sunny Farm, a company that specializes in fresh produce. The logo is a gold and yellow color scheme, with a sun in the center, symbolizing the warmth and freshness of the products. The sun is surrounded by trees, which further emphasize the connection to nature and the source of the fresh produce.\\n\\nThe logo is placed on a white background, making it stand out and be easily recognizable. The sun in the logo is positioned at the top left corner, while the trees are located at the bottom right corner. The overall design of the logo is simple yet effective in conveying the company's message.\"]"
      ]
     },
     "execution_count": 17,
     "metadata": {},
     "output_type": "execute_result"
    }
   ],
   "source": [
    "image_summaries"
   ]
  },
  {
   "cell_type": "code",
   "execution_count": 18,
   "metadata": {},
   "outputs": [
    {
     "data": {
      "text/plain": [
       "[Document(metadata={'type': 'image', 'file_directory': '/Users/jorgep/Documents/ask_public_own/ai-starter-kit/multimodal_knowledge_retriever/data/sample_docs/invoicesample', 'filename': 'figure-1-1.jpg'}, page_content=\"The image features a logo for Sunny Farm, a company that specializes in fresh produce. The logo is a gold and yellow color scheme, with a sun in the center, symbolizing the warmth and freshness of the products. The sun is surrounded by trees, which further emphasize the connection to nature and the source of the fresh produce.\\n\\nThe logo is placed on a white background, making it stand out and be easily recognizable. The sun in the logo is positioned at the top left corner, while the trees are located at the bottom right corner. The overall design of the logo is simple yet effective in conveying the company's message.\")]"
      ]
     },
     "execution_count": 18,
     "metadata": {},
     "output_type": "execute_result"
    }
   ],
   "source": [
    "image_docs"
   ]
  },
  {
   "cell_type": "markdown",
   "metadata": {},
   "source": [
    "### add to vectorstore"
   ]
  },
  {
   "cell_type": "code",
   "execution_count": 19,
   "metadata": {},
   "outputs": [
    {
     "name": "stderr",
     "output_type": "stream",
     "text": [
      "/Users/jorgep/Documents/ask_public_own/multimodalenv/lib/python3.11/site-packages/langchain_core/_api/deprecation.py:139: LangChainDeprecationWarning: The class `Chroma` was deprecated in LangChain 0.2.9 and will be removed in 0.4. An updated version of the class exists in the langchain-chroma package and should be used instead. To use it run `pip install -U langchain-chroma` and import as `from langchain_chroma import Chroma`.\n",
      "  warn_deprecated(\n",
      "2024-09-04 13:23:00,181 [INFO] - Anonymized telemetry enabled. See                     https://docs.trychroma.com/telemetry for more information.\n"
     ]
    }
   ],
   "source": [
    "import uuid\n",
    "\n",
    "from langchain.retrievers.multi_vector import MultiVectorRetriever\n",
    "from langchain.storage import InMemoryByteStore\n",
    "from utils.model_wrappers.api_gateway import APIGateway\n",
    "from langchain_community.vectorstores import Chroma\n",
    "from langchain_core.documents import Document\n",
    "\n",
    "# The vectorstore to use to index the child chunks\n",
    "vectorstore = Chroma(\n",
    "    collection_name='summaries',\n",
    "    embedding_function=APIGateway.load_embedding_model(\n",
    "        type='sambastudio', batch_size=1, coe=True, select_expert='e5-mistral-7b-instruct-8192'\n",
    "    ),\n",
    ")\n",
    "\n",
    "# The storage layer for the parent documents\n",
    "store = InMemoryByteStore()\n",
    "id_key = 'doc_id'\n",
    "\n",
    "# The retriever (empty to start)\n",
    "retriever = MultiVectorRetriever(vectorstore=vectorstore, docstore=store, id_key=id_key, search_kwargs={'k': 2})"
   ]
  },
  {
   "cell_type": "code",
   "execution_count": 20,
   "metadata": {},
   "outputs": [],
   "source": [
    "# Add texts\n",
    "if texts:\n",
    "    doc_ids = [str(uuid.uuid4()) for _ in text_docs]\n",
    "    summary_texts = [Document(page_content=s, metadata={id_key: doc_ids[i]}) for i, s in enumerate(text_summaries)]\n",
    "    retriever.vectorstore.add_documents(summary_texts)\n",
    "    retriever.docstore.mset(list(zip(doc_ids, text_docs)))\n",
    "\n",
    "# Add tables\n",
    "if tables:\n",
    "    table_ids = [str(uuid.uuid4()) for _ in table_docs]\n",
    "    summary_tables = [Document(page_content=s, metadata={id_key: table_ids[i]}) for i, s in enumerate(table_summaries)]\n",
    "    retriever.vectorstore.add_documents(summary_tables)\n",
    "    retriever.docstore.mset(list(zip(table_ids, table_docs)))\n",
    "\n",
    "# Add images\n",
    "if image_summaries:\n",
    "    img_ids = [str(uuid.uuid4()) for _ in image_summaries]\n",
    "    summary_img = [Document(page_content=s, metadata={id_key: img_ids[i]}) for i, s in enumerate(image_summaries)]\n",
    "    retriever.vectorstore.add_documents(summary_img)\n",
    "    retriever.docstore.mset(list(zip(img_ids, image_docs)))  # Store the image summary as the raw document"
   ]
  },
  {
   "cell_type": "code",
   "execution_count": 21,
   "metadata": {},
   "outputs": [
    {
     "data": {
      "text/plain": [
       "[Document(metadata={'filetype': 'application/pdf', 'languages': ['eng'], 'last_modified': '2024-06-18T16:21:08', 'page_number': 1, 'orig_elements': 'eJy9ltuO2zYQhl9FUHvRAqbE82HviqYo9iKbFOv0ZrEwKHLkZVaWDIleZxP03UtJTpCDEyAG7Mv5NSOR/8cZ8e5DDg1soI2r4POrLAfnsMW+QqbCHnGiHaoqyRGvgUNNccUMyRdZvoFovY021XzIXdf1PrQ2wjDFjX3udnH1AGH9EJNCGTOp5iDvg48PSSVSsKRuu9DGse7uzhhaiEVGOC/4/SL7GFMiCzHGRGBV0CPCXJGUfHgeImzGnbwO76C53VoH+X/pgYcILoauXbnGDsNq23dVSsMFlUzIlFCHBuLzFqba1y/zacHtemfX067ucmjX+f2kDnG16XyoA0yeUUw5whIRvSTyipIrrMfqbapctbtNBf2423EREd6NfuR/LJd/3SyvX91ky1dj6sfvLkNspuV+jUVrpr0jGgmGAXHuNDJGc1QnHpxj0ED12bAQJQqVXBe4IJPrcyyFKNgYa8JHTF/Hc/5pUDST32ESNqOtWzutNS/fDNAP5duuX8O2fNG53WjaUNrhcbXdVU1wq27fljagIdo+Qo8eQyw3uyaGRNA2q8e22zfg0yt7iH2AJ+jL0cBysJttAyvfuaEM7VMXHMxSWYf1rgdEECnebtdnPSefn43rcePHzgYnohJACaosSS1rlUdacIecY14xU9vKVuc7G5hMh4FRNsP/JEhZ6ElgXBbmmDCVnNq0FIsLN+0LaNvn7O9da/e2/ZzMje17G8MTLMfMI4SMdE5qcMjymo/da5CVhqVvM6esdDJROichXZBFxmWy7UBoEgTjB2SMirFhvxHmktMIMU3NpccqpST7ZwfQZrcxewlN1e36FrJ/r//MGMb4p5hRy6XGliJJK4c4loAM8x4pWwMYzyTW6mzMJC3wIlPUzL+5OdQJipp+i0mn38Zz+on9ZAS9MCxCWXbbbWD/AD0kYIsjxLLfMPs9S5k8E1LpnwJIlE5TQgvkvbNpLBKBNJF1mo3OcVVLSfn5bjKECDXOOKn1YegdBGVYgSeBK1mwI8Jc8kOMl8T0KzOF/KJ13rQu+bPu+vAe/PfcB8sV58oib6RMI89jVClOEYXkIFBhDRZncz9dPFKeIcnx0dlDKMg8/7hiBT8ST+mntQ9X6ahdGMz1fCnJbqanV9kvFBOGGeY/6JL7/wHQNny1', 'file_directory': '/Users/jorgep/Documents/ask_public_own/ai-starter-kit/multimodal_knowledge_retriever/data/sample_docs', 'filename': 'invoicesample.pdf', 'type': 'text'}, page_content='ATTENTION TO\\n\\nDenny Gunawan\\n\\n221 Queen St Melbourne VIC 3000\\n\\n123 Somewhere St, Melbourne VIC 3000 (03) 1234 5678\\n\\n$39.60\\n\\nInvoice Number: #20130304'),\n",
       " Document(metadata={'filetype': 'application/pdf', 'languages': ['eng'], 'last_modified': '2024-06-18T16:21:08', 'page_number': 1, 'orig_elements': 'eJzNVltv2zYY/SuEsAHbYAq8iZe89WkDtmUF4j4MQWDw8skhIEuuRG3Nuv73UbLcGKu3pgOc5UniEY9EnvN9h7p9X0ADO2jTJobiChXCeS6VqrC3BLDQlcdW0hq7ChwhmtqaVcUKFTtINthkM+d94buuD7G1CYZ53NiHbkybe4jb+5QRxrnJnAX+PYZ0n1EqK57RfRfbNPFub6Uq8zxqKlqKuxVaxowodRhrxUt9BlgYGSmGhyHBbtrJ6/gOmpu99VB8yA8CJPApdu3GN3YYNvu+c3kaKaXhROUJdWwgPexh5r7+uZgX3G5Hu513dVtAuy3uZnRIm10XYh1h1owRJjCRmOo1lVeMXhE9sfeZuWnHnYN+2u20iATvJj2K9Q+vrn9Ev/7yZpp3/Og6pmZe69898UIACQKyJ95iwVyNLa0CtpwSZlR+7NXFPKlYSbPklJLSTJIfx0aWbLZAmlKcBWbGf/PEMCLYM3vyHfqp62GH4n4Ydyh0TdejISZks6wr5Lt2yGuFNPbIhriPg4/tFkETU4leNfHtaHdo6IJtYEDB7qMbB1RDP9k47kp0Pbb+hLhCO7ttLRogoMFnu/s4vB0B+bEfxmGFoLcJNfmD4+Pbxr61q5lRWx+bOMQhT+lQGCOCdFh3eVpQ17bPr4m/wXra4pnCEq4KXFQEa8McFkADdsFJrD1VUCvrZICLFZahqiRT707XqXAWgFFuDgClRp9HFtK/Ftdz1s7N6FKXbIP+ROvp+qS2ljQowoXAWW2GBamz+kYErLWRqjaEBS4vpj4lVE+NTHOrHRr7EZGslB/V1ucR9tnm/j/0f5LugnOtK2WwDMJgESqZjzjiMANhZDC1d5Q9g+6GlupUd0Y4P5xqlAlasnPIwnoxun9/s0bfUPL1t6fCv2l9lmnb9fEPCP8UPQY4pZ4TTGpPcvRMJijFMbBKuyAF1/JyZ9qj5FothX1EKDOHY4xSNpf6GeTAejEmPD1xhNNMeuFwsF5hYWxOHJXvvIY61FzlZ/5yonPNSrVkB58F/YhIumSQMKrk55GZ9WJE/4rLkpAvLnuZsydww7Fn+adaWMnz2UsNDmCD88wFWtnLOSAIL6slRehB3QOSk4aV+lTvT5GF9YIcKOWXG+Cot0wEwE76HP5GO2yYAlwHo2WQxmh/uV8eyiux5A47tsCCUC6WqD8a8ClyYL0gA8znHbj7CyNZKog=', 'file_directory': '/Users/jorgep/Documents/ask_public_own/ai-starter-kit/multimodal_knowledge_retriever/data/sample_docs', 'filename': 'invoicesample.pdf', 'type': 'text'}, page_content='THANK YOU\\n\\n* Lorem ipsum dolor sit amet, consectetur adipiscing elit. Aliquam sodales dapibus fermentum. Nunc adipiscing, magna sed scelerisque cursus, erat lectus dapibus urna, sed facilisis leo dui et ipsum.\\n\\nSubtotal | Total\\n\\nSubtotal\\n\\nGST (10%)\\n\\nTotal\\n\\n$36.00\\n\\n$3.60\\n\\n$39.60')]"
      ]
     },
     "execution_count": 21,
     "metadata": {},
     "output_type": "execute_result"
    }
   ],
   "source": [
    "retriever.invoke('what is the final price in the invoice?')"
   ]
  },
  {
   "cell_type": "code",
   "execution_count": 22,
   "metadata": {},
   "outputs": [
    {
     "data": {
      "text/plain": [
       "[Document(metadata={'type': 'image', 'file_directory': '/Users/jorgep/Documents/ask_public_own/ai-starter-kit/multimodal_knowledge_retriever/data/sample_docs/invoicesample', 'filename': 'figure-1-1.jpg'}, page_content=\"The image features a logo for Sunny Farm, a company that specializes in fresh produce. The logo is a gold and yellow color scheme, with a sun in the center, symbolizing the warmth and freshness of the products. The sun is surrounded by trees, which further emphasize the connection to nature and the source of the fresh produce.\\n\\nThe logo is placed on a white background, making it stand out and be easily recognizable. The sun in the logo is positioned at the top left corner, while the trees are located at the bottom right corner. The overall design of the logo is simple yet effective in conveying the company's message.\"),\n",
       " Document(metadata={'filetype': 'application/pdf', 'languages': ['eng'], 'last_modified': '2024-06-18T16:21:08', 'page_number': 1, 'orig_elements': 'eJy9ltuO2zYQhl9FUHvRAqbE82HviqYo9iKbFOv0ZrEwKHLkZVaWDIleZxP03UtJTpCDEyAG7Mv5NSOR/8cZ8e5DDg1soI2r4POrLAfnsMW+QqbCHnGiHaoqyRGvgUNNccUMyRdZvoFovY021XzIXdf1PrQ2wjDFjX3udnH1AGH9EJNCGTOp5iDvg48PSSVSsKRuu9DGse7uzhhaiEVGOC/4/SL7GFMiCzHGRGBV0CPCXJGUfHgeImzGnbwO76C53VoH+X/pgYcILoauXbnGDsNq23dVSsMFlUzIlFCHBuLzFqba1y/zacHtemfX067ucmjX+f2kDnG16XyoA0yeUUw5whIRvSTyipIrrMfqbapctbtNBf2423EREd6NfuR/LJd/3SyvX91ky1dj6sfvLkNspuV+jUVrpr0jGgmGAXHuNDJGc1QnHpxj0ED12bAQJQqVXBe4IJPrcyyFKNgYa8JHTF/Hc/5pUDST32ESNqOtWzutNS/fDNAP5duuX8O2fNG53WjaUNrhcbXdVU1wq27fljagIdo+Qo8eQyw3uyaGRNA2q8e22zfg0yt7iH2AJ+jL0cBysJttAyvfuaEM7VMXHMxSWYf1rgdEECnebtdnPSefn43rcePHzgYnohJACaosSS1rlUdacIecY14xU9vKVuc7G5hMh4FRNsP/JEhZ6ElgXBbmmDCVnNq0FIsLN+0LaNvn7O9da/e2/ZzMje17G8MTLMfMI4SMdE5qcMjymo/da5CVhqVvM6esdDJROichXZBFxmWy7UBoEgTjB2SMirFhvxHmktMIMU3NpccqpST7ZwfQZrcxewlN1e36FrJ/r//MGMb4p5hRy6XGliJJK4c4loAM8x4pWwMYzyTW6mzMJC3wIlPUzL+5OdQJipp+i0mn38Zz+on9ZAS9MCxCWXbbbWD/AD0kYIsjxLLfMPs9S5k8E1LpnwJIlE5TQgvkvbNpLBKBNJF1mo3OcVVLSfn5bjKECDXOOKn1YegdBGVYgSeBK1mwI8Jc8kOMl8T0KzOF/KJ13rQu+bPu+vAe/PfcB8sV58oib6RMI89jVClOEYXkIFBhDRZncz9dPFKeIcnx0dlDKMg8/7hiBT8ST+mntQ9X6ahdGMz1fCnJbqanV9kvFBOGGeY/6JL7/wHQNny1', 'file_directory': '/Users/jorgep/Documents/ask_public_own/ai-starter-kit/multimodal_knowledge_retriever/data/sample_docs', 'filename': 'invoicesample.pdf', 'type': 'text'}, page_content='ATTENTION TO\\n\\nDenny Gunawan\\n\\n221 Queen St Melbourne VIC 3000\\n\\n123 Somewhere St, Melbourne VIC 3000 (03) 1234 5678\\n\\n$39.60\\n\\nInvoice Number: #20130304')]"
      ]
     },
     "execution_count": 22,
     "metadata": {},
     "output_type": "execute_result"
    }
   ],
   "source": [
    "retriever.invoke('what is the logo of the company')"
   ]
  },
  {
   "cell_type": "markdown",
   "metadata": {},
   "source": [
    "## Retrieval with raw text, raw tables and image summaries"
   ]
  },
  {
   "cell_type": "code",
   "execution_count": 23,
   "metadata": {},
   "outputs": [],
   "source": [
    "from langchain.chains import RetrievalQA\n",
    "\n",
    "prompt = load_prompt(os.path.join(kit_dir, 'prompts', 'llama70b-knowledge_retriever_custom_qa_prompt.yaml'))\n",
    "\n",
    "chain = RetrievalQA.from_llm(\n",
    "    llm=model, retriever=retriever, return_source_documents=True, input_key='question', output_key='answer'\n",
    ")\n",
    "chain.combine_documents_chain.llm_chain.prompt = prompt"
   ]
  },
  {
   "cell_type": "code",
   "execution_count": 24,
   "metadata": {},
   "outputs": [
    {
     "data": {
      "text/plain": [
       "{'question': 'what is the final price in the invoice?',\n",
       " 'answer': 'Based on the provided context, the final price in the invoice is $39.60. This is stated in the \"Total\" section of the invoice.',\n",
       " 'source_documents': [Document(metadata={'filetype': 'application/pdf', 'languages': ['eng'], 'last_modified': '2024-06-18T16:21:08', 'page_number': 1, 'orig_elements': 'eJy9ltuO2zYQhl9FUHvRAqbE82HviqYo9iKbFOv0ZrEwKHLkZVaWDIleZxP03UtJTpCDEyAG7Mv5NSOR/8cZ8e5DDg1soI2r4POrLAfnsMW+QqbCHnGiHaoqyRGvgUNNccUMyRdZvoFovY021XzIXdf1PrQ2wjDFjX3udnH1AGH9EJNCGTOp5iDvg48PSSVSsKRuu9DGse7uzhhaiEVGOC/4/SL7GFMiCzHGRGBV0CPCXJGUfHgeImzGnbwO76C53VoH+X/pgYcILoauXbnGDsNq23dVSsMFlUzIlFCHBuLzFqba1y/zacHtemfX067ucmjX+f2kDnG16XyoA0yeUUw5whIRvSTyipIrrMfqbapctbtNBf2423EREd6NfuR/LJd/3SyvX91ky1dj6sfvLkNspuV+jUVrpr0jGgmGAXHuNDJGc1QnHpxj0ED12bAQJQqVXBe4IJPrcyyFKNgYa8JHTF/Hc/5pUDST32ESNqOtWzutNS/fDNAP5duuX8O2fNG53WjaUNrhcbXdVU1wq27fljagIdo+Qo8eQyw3uyaGRNA2q8e22zfg0yt7iH2AJ+jL0cBysJttAyvfuaEM7VMXHMxSWYf1rgdEECnebtdnPSefn43rcePHzgYnohJACaosSS1rlUdacIecY14xU9vKVuc7G5hMh4FRNsP/JEhZ6ElgXBbmmDCVnNq0FIsLN+0LaNvn7O9da/e2/ZzMje17G8MTLMfMI4SMdE5qcMjymo/da5CVhqVvM6esdDJROichXZBFxmWy7UBoEgTjB2SMirFhvxHmktMIMU3NpccqpST7ZwfQZrcxewlN1e36FrJ/r//MGMb4p5hRy6XGliJJK4c4loAM8x4pWwMYzyTW6mzMJC3wIlPUzL+5OdQJipp+i0mn38Zz+on9ZAS9MCxCWXbbbWD/AD0kYIsjxLLfMPs9S5k8E1LpnwJIlE5TQgvkvbNpLBKBNJF1mo3OcVVLSfn5bjKECDXOOKn1YegdBGVYgSeBK1mwI8Jc8kOMl8T0KzOF/KJ13rQu+bPu+vAe/PfcB8sV58oib6RMI89jVClOEYXkIFBhDRZncz9dPFKeIcnx0dlDKMg8/7hiBT8ST+mntQ9X6ahdGMz1fCnJbqanV9kvFBOGGeY/6JL7/wHQNny1', 'file_directory': '/Users/jorgep/Documents/ask_public_own/ai-starter-kit/multimodal_knowledge_retriever/data/sample_docs', 'filename': 'invoicesample.pdf', 'type': 'text'}, page_content='ATTENTION TO\\n\\nDenny Gunawan\\n\\n221 Queen St Melbourne VIC 3000\\n\\n123 Somewhere St, Melbourne VIC 3000 (03) 1234 5678\\n\\n$39.60\\n\\nInvoice Number: #20130304'),\n",
       "  Document(metadata={'filetype': 'application/pdf', 'languages': ['eng'], 'last_modified': '2024-06-18T16:21:08', 'page_number': 1, 'orig_elements': 'eJzNVltv2zYY/SuEsAHbYAq8iZe89WkDtmUF4j4MQWDw8skhIEuuRG3Nuv73UbLcGKu3pgOc5UniEY9EnvN9h7p9X0ADO2jTJobiChXCeS6VqrC3BLDQlcdW0hq7ChwhmtqaVcUKFTtINthkM+d94buuD7G1CYZ53NiHbkybe4jb+5QRxrnJnAX+PYZ0n1EqK57RfRfbNPFub6Uq8zxqKlqKuxVaxowodRhrxUt9BlgYGSmGhyHBbtrJ6/gOmpu99VB8yA8CJPApdu3GN3YYNvu+c3kaKaXhROUJdWwgPexh5r7+uZgX3G5Hu513dVtAuy3uZnRIm10XYh1h1owRJjCRmOo1lVeMXhE9sfeZuWnHnYN+2u20iATvJj2K9Q+vrn9Ev/7yZpp3/Og6pmZe69898UIACQKyJ95iwVyNLa0CtpwSZlR+7NXFPKlYSbPklJLSTJIfx0aWbLZAmlKcBWbGf/PEMCLYM3vyHfqp62GH4n4Ydyh0TdejISZks6wr5Lt2yGuFNPbIhriPg4/tFkETU4leNfHtaHdo6IJtYEDB7qMbB1RDP9k47kp0Pbb+hLhCO7ttLRogoMFnu/s4vB0B+bEfxmGFoLcJNfmD4+Pbxr61q5lRWx+bOMQhT+lQGCOCdFh3eVpQ17bPr4m/wXra4pnCEq4KXFQEa8McFkADdsFJrD1VUCvrZICLFZahqiRT707XqXAWgFFuDgClRp9HFtK/Ftdz1s7N6FKXbIP+ROvp+qS2ljQowoXAWW2GBamz+kYErLWRqjaEBS4vpj4lVE+NTHOrHRr7EZGslB/V1ucR9tnm/j/0f5LugnOtK2WwDMJgESqZjzjiMANhZDC1d5Q9g+6GlupUd0Y4P5xqlAlasnPIwnoxun9/s0bfUPL1t6fCv2l9lmnb9fEPCP8UPQY4pZ4TTGpPcvRMJijFMbBKuyAF1/JyZ9qj5FothX1EKDOHY4xSNpf6GeTAejEmPD1xhNNMeuFwsF5hYWxOHJXvvIY61FzlZ/5yonPNSrVkB58F/YhIumSQMKrk55GZ9WJE/4rLkpAvLnuZsydww7Fn+adaWMnz2UsNDmCD88wFWtnLOSAIL6slRehB3QOSk4aV+lTvT5GF9YIcKOWXG+Cot0wEwE76HP5GO2yYAlwHo2WQxmh/uV8eyiux5A47tsCCUC6WqD8a8ClyYL0gA8znHbj7CyNZKog=', 'file_directory': '/Users/jorgep/Documents/ask_public_own/ai-starter-kit/multimodal_knowledge_retriever/data/sample_docs', 'filename': 'invoicesample.pdf', 'type': 'text'}, page_content='THANK YOU\\n\\n* Lorem ipsum dolor sit amet, consectetur adipiscing elit. Aliquam sodales dapibus fermentum. Nunc adipiscing, magna sed scelerisque cursus, erat lectus dapibus urna, sed facilisis leo dui et ipsum.\\n\\nSubtotal | Total\\n\\nSubtotal\\n\\nGST (10%)\\n\\nTotal\\n\\n$36.00\\n\\n$3.60\\n\\n$39.60')]}"
      ]
     },
     "execution_count": 24,
     "metadata": {},
     "output_type": "execute_result"
    }
   ],
   "source": [
    "chain.invoke({'question': 'what is the final price in the invoice?'})"
   ]
  },
  {
   "cell_type": "code",
   "execution_count": 25,
   "metadata": {},
   "outputs": [
    {
     "data": {
      "text/plain": [
       "{'question': 'what is the logo of the company',\n",
       " 'answer': 'Based on the provided context, the logo of the company is described as a gold and yellow color scheme with a sun in the center, surrounded by trees. It is placed on a white background and has a simple yet effective design.',\n",
       " 'source_documents': [Document(metadata={'type': 'image', 'file_directory': '/Users/jorgep/Documents/ask_public_own/ai-starter-kit/multimodal_knowledge_retriever/data/sample_docs/invoicesample', 'filename': 'figure-1-1.jpg'}, page_content=\"The image features a logo for Sunny Farm, a company that specializes in fresh produce. The logo is a gold and yellow color scheme, with a sun in the center, symbolizing the warmth and freshness of the products. The sun is surrounded by trees, which further emphasize the connection to nature and the source of the fresh produce.\\n\\nThe logo is placed on a white background, making it stand out and be easily recognizable. The sun in the logo is positioned at the top left corner, while the trees are located at the bottom right corner. The overall design of the logo is simple yet effective in conveying the company's message.\"),\n",
       "  Document(metadata={'filetype': 'application/pdf', 'languages': ['eng'], 'last_modified': '2024-06-18T16:21:08', 'page_number': 1, 'orig_elements': 'eJy9ltuO2zYQhl9FUHvRAqbE82HviqYo9iKbFOv0ZrEwKHLkZVaWDIleZxP03UtJTpCDEyAG7Mv5NSOR/8cZ8e5DDg1soI2r4POrLAfnsMW+QqbCHnGiHaoqyRGvgUNNccUMyRdZvoFovY021XzIXdf1PrQ2wjDFjX3udnH1AGH9EJNCGTOp5iDvg48PSSVSsKRuu9DGse7uzhhaiEVGOC/4/SL7GFMiCzHGRGBV0CPCXJGUfHgeImzGnbwO76C53VoH+X/pgYcILoauXbnGDsNq23dVSsMFlUzIlFCHBuLzFqba1y/zacHtemfX067ucmjX+f2kDnG16XyoA0yeUUw5whIRvSTyipIrrMfqbapctbtNBf2423EREd6NfuR/LJd/3SyvX91ky1dj6sfvLkNspuV+jUVrpr0jGgmGAXHuNDJGc1QnHpxj0ED12bAQJQqVXBe4IJPrcyyFKNgYa8JHTF/Hc/5pUDST32ESNqOtWzutNS/fDNAP5duuX8O2fNG53WjaUNrhcbXdVU1wq27fljagIdo+Qo8eQyw3uyaGRNA2q8e22zfg0yt7iH2AJ+jL0cBysJttAyvfuaEM7VMXHMxSWYf1rgdEECnebtdnPSefn43rcePHzgYnohJACaosSS1rlUdacIecY14xU9vKVuc7G5hMh4FRNsP/JEhZ6ElgXBbmmDCVnNq0FIsLN+0LaNvn7O9da/e2/ZzMje17G8MTLMfMI4SMdE5qcMjymo/da5CVhqVvM6esdDJROichXZBFxmWy7UBoEgTjB2SMirFhvxHmktMIMU3NpccqpST7ZwfQZrcxewlN1e36FrJ/r//MGMb4p5hRy6XGliJJK4c4loAM8x4pWwMYzyTW6mzMJC3wIlPUzL+5OdQJipp+i0mn38Zz+on9ZAS9MCxCWXbbbWD/AD0kYIsjxLLfMPs9S5k8E1LpnwJIlE5TQgvkvbNpLBKBNJF1mo3OcVVLSfn5bjKECDXOOKn1YegdBGVYgSeBK1mwI8Jc8kOMl8T0KzOF/KJ13rQu+bPu+vAe/PfcB8sV58oib6RMI89jVClOEYXkIFBhDRZncz9dPFKeIcnx0dlDKMg8/7hiBT8ST+mntQ9X6ahdGMz1fCnJbqanV9kvFBOGGeY/6JL7/wHQNny1', 'file_directory': '/Users/jorgep/Documents/ask_public_own/ai-starter-kit/multimodal_knowledge_retriever/data/sample_docs', 'filename': 'invoicesample.pdf', 'type': 'text'}, page_content='ATTENTION TO\\n\\nDenny Gunawan\\n\\n221 Queen St Melbourne VIC 3000\\n\\n123 Somewhere St, Melbourne VIC 3000 (03) 1234 5678\\n\\n$39.60\\n\\nInvoice Number: #20130304')]}"
      ]
     },
     "execution_count": 25,
     "metadata": {},
     "output_type": "execute_result"
    }
   ],
   "source": [
    "chain.invoke('what is the logo of the company')"
   ]
  },
  {
   "cell_type": "markdown",
   "metadata": {},
   "source": [
    "## Retrieval with raw text, raw tables and raw images"
   ]
  },
  {
   "cell_type": "code",
   "execution_count": 26,
   "metadata": {},
   "outputs": [],
   "source": [
    "query = 'what it says the text in the logo'  # \"what is the logo of the company?\""
   ]
  },
  {
   "cell_type": "code",
   "execution_count": 27,
   "metadata": {},
   "outputs": [
    {
     "data": {
      "text/plain": [
       "[Document(metadata={'type': 'image', 'file_directory': '/Users/jorgep/Documents/ask_public_own/ai-starter-kit/multimodal_knowledge_retriever/data/sample_docs/invoicesample', 'filename': 'figure-1-1.jpg'}, page_content=\"The image features a logo for Sunny Farm, a company that specializes in fresh produce. The logo is a gold and yellow color scheme, with a sun in the center, symbolizing the warmth and freshness of the products. The sun is surrounded by trees, which further emphasize the connection to nature and the source of the fresh produce.\\n\\nThe logo is placed on a white background, making it stand out and be easily recognizable. The sun in the logo is positioned at the top left corner, while the trees are located at the bottom right corner. The overall design of the logo is simple yet effective in conveying the company's message.\"),\n",
       " Document(metadata={'filetype': 'application/pdf', 'languages': ['eng'], 'last_modified': '2024-06-18T16:21:08', 'page_number': 1, 'orig_elements': 'eJy9ltuO2zYQhl9FUHvRAqbE82HviqYo9iKbFOv0ZrEwKHLkZVaWDIleZxP03UtJTpCDEyAG7Mv5NSOR/8cZ8e5DDg1soI2r4POrLAfnsMW+QqbCHnGiHaoqyRGvgUNNccUMyRdZvoFovY021XzIXdf1PrQ2wjDFjX3udnH1AGH9EJNCGTOp5iDvg48PSSVSsKRuu9DGse7uzhhaiEVGOC/4/SL7GFMiCzHGRGBV0CPCXJGUfHgeImzGnbwO76C53VoH+X/pgYcILoauXbnGDsNq23dVSsMFlUzIlFCHBuLzFqba1y/zacHtemfX067ucmjX+f2kDnG16XyoA0yeUUw5whIRvSTyipIrrMfqbapctbtNBf2423EREd6NfuR/LJd/3SyvX91ky1dj6sfvLkNspuV+jUVrpr0jGgmGAXHuNDJGc1QnHpxj0ED12bAQJQqVXBe4IJPrcyyFKNgYa8JHTF/Hc/5pUDST32ESNqOtWzutNS/fDNAP5duuX8O2fNG53WjaUNrhcbXdVU1wq27fljagIdo+Qo8eQyw3uyaGRNA2q8e22zfg0yt7iH2AJ+jL0cBysJttAyvfuaEM7VMXHMxSWYf1rgdEECnebtdnPSefn43rcePHzgYnohJACaosSS1rlUdacIecY14xU9vKVuc7G5hMh4FRNsP/JEhZ6ElgXBbmmDCVnNq0FIsLN+0LaNvn7O9da/e2/ZzMje17G8MTLMfMI4SMdE5qcMjymo/da5CVhqVvM6esdDJROichXZBFxmWy7UBoEgTjB2SMirFhvxHmktMIMU3NpccqpST7ZwfQZrcxewlN1e36FrJ/r//MGMb4p5hRy6XGliJJK4c4loAM8x4pWwMYzyTW6mzMJC3wIlPUzL+5OdQJipp+i0mn38Zz+on9ZAS9MCxCWXbbbWD/AD0kYIsjxLLfMPs9S5k8E1LpnwJIlE5TQgvkvbNpLBKBNJF1mo3OcVVLSfn5bjKECDXOOKn1YegdBGVYgSeBK1mwI8Jc8kOMl8T0KzOF/KJ13rQu+bPu+vAe/PfcB8sV58oib6RMI89jVClOEYXkIFBhDRZncz9dPFKeIcnx0dlDKMg8/7hiBT8ST+mntQ9X6ahdGMz1fCnJbqanV9kvFBOGGeY/6JL7/wHQNny1', 'file_directory': '/Users/jorgep/Documents/ask_public_own/ai-starter-kit/multimodal_knowledge_retriever/data/sample_docs', 'filename': 'invoicesample.pdf', 'type': 'text'}, page_content='ATTENTION TO\\n\\nDenny Gunawan\\n\\n221 Queen St Melbourne VIC 3000\\n\\n123 Somewhere St, Melbourne VIC 3000 (03) 1234 5678\\n\\n$39.60\\n\\nInvoice Number: #20130304')]"
      ]
     },
     "execution_count": 27,
     "metadata": {},
     "output_type": "execute_result"
    }
   ],
   "source": [
    "retriever.invoke(query)"
   ]
  },
  {
   "cell_type": "code",
   "execution_count": 28,
   "metadata": {},
   "outputs": [
    {
     "data": {
      "text/plain": [
       "{'question': 'what it says the text in the logo',\n",
       " 'answer': \"I don't have information regarding the text in the logo. The provided context only describes the logo's design and color scheme, but does not mention any text.\",\n",
       " 'source_documents': [Document(metadata={'type': 'image', 'file_directory': '/Users/jorgep/Documents/ask_public_own/ai-starter-kit/multimodal_knowledge_retriever/data/sample_docs/invoicesample', 'filename': 'figure-1-1.jpg'}, page_content=\"The image features a logo for Sunny Farm, a company that specializes in fresh produce. The logo is a gold and yellow color scheme, with a sun in the center, symbolizing the warmth and freshness of the products. The sun is surrounded by trees, which further emphasize the connection to nature and the source of the fresh produce.\\n\\nThe logo is placed on a white background, making it stand out and be easily recognizable. The sun in the logo is positioned at the top left corner, while the trees are located at the bottom right corner. The overall design of the logo is simple yet effective in conveying the company's message.\"),\n",
       "  Document(metadata={'filetype': 'application/pdf', 'languages': ['eng'], 'last_modified': '2024-06-18T16:21:08', 'page_number': 1, 'orig_elements': 'eJy9ltuO2zYQhl9FUHvRAqbE82HviqYo9iKbFOv0ZrEwKHLkZVaWDIleZxP03UtJTpCDEyAG7Mv5NSOR/8cZ8e5DDg1soI2r4POrLAfnsMW+QqbCHnGiHaoqyRGvgUNNccUMyRdZvoFovY021XzIXdf1PrQ2wjDFjX3udnH1AGH9EJNCGTOp5iDvg48PSSVSsKRuu9DGse7uzhhaiEVGOC/4/SL7GFMiCzHGRGBV0CPCXJGUfHgeImzGnbwO76C53VoH+X/pgYcILoauXbnGDsNq23dVSsMFlUzIlFCHBuLzFqba1y/zacHtemfX067ucmjX+f2kDnG16XyoA0yeUUw5whIRvSTyipIrrMfqbapctbtNBf2423EREd6NfuR/LJd/3SyvX91ky1dj6sfvLkNspuV+jUVrpr0jGgmGAXHuNDJGc1QnHpxj0ED12bAQJQqVXBe4IJPrcyyFKNgYa8JHTF/Hc/5pUDST32ESNqOtWzutNS/fDNAP5duuX8O2fNG53WjaUNrhcbXdVU1wq27fljagIdo+Qo8eQyw3uyaGRNA2q8e22zfg0yt7iH2AJ+jL0cBysJttAyvfuaEM7VMXHMxSWYf1rgdEECnebtdnPSefn43rcePHzgYnohJACaosSS1rlUdacIecY14xU9vKVuc7G5hMh4FRNsP/JEhZ6ElgXBbmmDCVnNq0FIsLN+0LaNvn7O9da/e2/ZzMje17G8MTLMfMI4SMdE5qcMjymo/da5CVhqVvM6esdDJROichXZBFxmWy7UBoEgTjB2SMirFhvxHmktMIMU3NpccqpST7ZwfQZrcxewlN1e36FrJ/r//MGMb4p5hRy6XGliJJK4c4loAM8x4pWwMYzyTW6mzMJC3wIlPUzL+5OdQJipp+i0mn38Zz+on9ZAS9MCxCWXbbbWD/AD0kYIsjxLLfMPs9S5k8E1LpnwJIlE5TQgvkvbNpLBKBNJF1mo3OcVVLSfn5bjKECDXOOKn1YegdBGVYgSeBK1mwI8Jc8kOMl8T0KzOF/KJ13rQu+bPu+vAe/PfcB8sV58oib6RMI89jVClOEYXkIFBhDRZncz9dPFKeIcnx0dlDKMg8/7hiBT8ST+mntQ9X6ahdGMz1fCnJbqanV9kvFBOGGeY/6JL7/wHQNny1', 'file_directory': '/Users/jorgep/Documents/ask_public_own/ai-starter-kit/multimodal_knowledge_retriever/data/sample_docs', 'filename': 'invoicesample.pdf', 'type': 'text'}, page_content='ATTENTION TO\\n\\nDenny Gunawan\\n\\n221 Queen St Melbourne VIC 3000\\n\\n123 Somewhere St, Melbourne VIC 3000 (03) 1234 5678\\n\\n$39.60\\n\\nInvoice Number: #20130304')]}"
      ]
     },
     "execution_count": 28,
     "metadata": {},
     "output_type": "execute_result"
    }
   ],
   "source": [
    "chain.invoke({'question': query})"
   ]
  },
  {
   "cell_type": "markdown",
   "metadata": {},
   "source": [
    "### filter image results"
   ]
  },
  {
   "cell_type": "code",
   "execution_count": 29,
   "metadata": {},
   "outputs": [],
   "source": [
    "def get_retrieved_images(retriever, query):\n",
    "    results = retriever.invoke(query)\n",
    "    results = [result for result in results if result.metadata['type'] == 'image']\n",
    "    return results"
   ]
  },
  {
   "cell_type": "code",
   "execution_count": 30,
   "metadata": {},
   "outputs": [
    {
     "data": {
      "text/plain": [
       "[Document(metadata={'type': 'image', 'file_directory': '/Users/jorgep/Documents/ask_public_own/ai-starter-kit/multimodal_knowledge_retriever/data/sample_docs/invoicesample', 'filename': 'figure-1-1.jpg'}, page_content=\"The image features a logo for Sunny Farm, a company that specializes in fresh produce. The logo is a gold and yellow color scheme, with a sun in the center, symbolizing the warmth and freshness of the products. The sun is surrounded by trees, which further emphasize the connection to nature and the source of the fresh produce.\\n\\nThe logo is placed on a white background, making it stand out and be easily recognizable. The sun in the logo is positioned at the top left corner, while the trees are located at the bottom right corner. The overall design of the logo is simple yet effective in conveying the company's message.\")]"
      ]
     },
     "execution_count": 30,
     "metadata": {},
     "output_type": "execute_result"
    }
   ],
   "source": [
    "retrieved_images = get_retrieved_images(retriever, query)\n",
    "retrieved_images"
   ]
  },
  {
   "cell_type": "markdown",
   "metadata": {},
   "source": [
    "### Generate response over retrieved raw images "
   ]
  },
  {
   "cell_type": "code",
   "execution_count": 31,
   "metadata": {},
   "outputs": [],
   "source": [
    "def get_image_answers(retrieved_image_docs, query):\n",
    "    image_answer_prompt_template = load_prompt(os.path.join(kit_dir, 'prompts', 'llava-qa.yaml'))\n",
    "    image_answer_prompt = image_answer_prompt_template.format(question=query)\n",
    "    answers = []\n",
    "    for doc in retrieved_image_docs:\n",
    "        image_path = os.path.join(doc.metadata['file_directory'], doc.metadata['filename'])\n",
    "        answers.append(llava_call(image_answer_prompt, image_path))\n",
    "    return answers"
   ]
  },
  {
   "cell_type": "code",
   "execution_count": 32,
   "metadata": {},
   "outputs": [
    {
     "data": {
      "text/plain": [
       "['The text in the logo says \"Sunny Farm Victoria.\"']"
      ]
     },
     "execution_count": 32,
     "metadata": {},
     "output_type": "execute_result"
    }
   ],
   "source": [
    "image_answers = get_image_answers(retrieved_images, query)\n",
    "image_answers"
   ]
  },
  {
   "cell_type": "code",
   "execution_count": 33,
   "metadata": {},
   "outputs": [],
   "source": [
    "def get_retrieved_docs(retriever, query):\n",
    "    results = retriever.invoke(query)\n",
    "    results = [result for result in results if result.metadata['type'] != 'image']\n",
    "    return results"
   ]
  },
  {
   "cell_type": "code",
   "execution_count": 34,
   "metadata": {},
   "outputs": [
    {
     "data": {
      "text/plain": [
       "[Document(metadata={'filetype': 'application/pdf', 'languages': ['eng'], 'last_modified': '2024-06-18T16:21:08', 'page_number': 1, 'orig_elements': 'eJy9ltuO2zYQhl9FUHvRAqbE82HviqYo9iKbFOv0ZrEwKHLkZVaWDIleZxP03UtJTpCDEyAG7Mv5NSOR/8cZ8e5DDg1soI2r4POrLAfnsMW+QqbCHnGiHaoqyRGvgUNNccUMyRdZvoFovY021XzIXdf1PrQ2wjDFjX3udnH1AGH9EJNCGTOp5iDvg48PSSVSsKRuu9DGse7uzhhaiEVGOC/4/SL7GFMiCzHGRGBV0CPCXJGUfHgeImzGnbwO76C53VoH+X/pgYcILoauXbnGDsNq23dVSsMFlUzIlFCHBuLzFqba1y/zacHtemfX067ucmjX+f2kDnG16XyoA0yeUUw5whIRvSTyipIrrMfqbapctbtNBf2423EREd6NfuR/LJd/3SyvX91ky1dj6sfvLkNspuV+jUVrpr0jGgmGAXHuNDJGc1QnHpxj0ED12bAQJQqVXBe4IJPrcyyFKNgYa8JHTF/Hc/5pUDST32ESNqOtWzutNS/fDNAP5duuX8O2fNG53WjaUNrhcbXdVU1wq27fljagIdo+Qo8eQyw3uyaGRNA2q8e22zfg0yt7iH2AJ+jL0cBysJttAyvfuaEM7VMXHMxSWYf1rgdEECnebtdnPSefn43rcePHzgYnohJACaosSS1rlUdacIecY14xU9vKVuc7G5hMh4FRNsP/JEhZ6ElgXBbmmDCVnNq0FIsLN+0LaNvn7O9da/e2/ZzMje17G8MTLMfMI4SMdE5qcMjymo/da5CVhqVvM6esdDJROichXZBFxmWy7UBoEgTjB2SMirFhvxHmktMIMU3NpccqpST7ZwfQZrcxewlN1e36FrJ/r//MGMb4p5hRy6XGliJJK4c4loAM8x4pWwMYzyTW6mzMJC3wIlPUzL+5OdQJipp+i0mn38Zz+on9ZAS9MCxCWXbbbWD/AD0kYIsjxLLfMPs9S5k8E1LpnwJIlE5TQgvkvbNpLBKBNJF1mo3OcVVLSfn5bjKECDXOOKn1YegdBGVYgSeBK1mwI8Jc8kOMl8T0KzOF/KJ13rQu+bPu+vAe/PfcB8sV58oib6RMI89jVClOEYXkIFBhDRZncz9dPFKeIcnx0dlDKMg8/7hiBT8ST+mntQ9X6ahdGMz1fCnJbqanV9kvFBOGGeY/6JL7/wHQNny1', 'file_directory': '/Users/jorgep/Documents/ask_public_own/ai-starter-kit/multimodal_knowledge_retriever/data/sample_docs', 'filename': 'invoicesample.pdf', 'type': 'text'}, page_content='ATTENTION TO\\n\\nDenny Gunawan\\n\\n221 Queen St Melbourne VIC 3000\\n\\n123 Somewhere St, Melbourne VIC 3000 (03) 1234 5678\\n\\n$39.60\\n\\nInvoice Number: #20130304')]"
      ]
     },
     "execution_count": 34,
     "metadata": {},
     "output_type": "execute_result"
    }
   ],
   "source": [
    "context_docs = get_retrieved_docs(retriever, query)\n",
    "context_docs"
   ]
  },
  {
   "cell_type": "code",
   "execution_count": 35,
   "metadata": {},
   "outputs": [
    {
     "data": {
      "text/plain": [
       "'The text in the logo says \"Sunny Farm Victoria.\"'"
      ]
     },
     "execution_count": 35,
     "metadata": {},
     "output_type": "execute_result"
    }
   ],
   "source": [
    "prompt = load_prompt(os.path.join(kit_dir, 'prompts', 'llama70b-knowledge_retriever_custom_qa_prompt.yaml'))\n",
    "text_contexts = [doc.page_content for doc in context_docs]\n",
    "full_context = '\\n\\n'.join(image_answers) + '\\n\\n' + '\\n\\n'.join(text_contexts)\n",
    "formated_prompt = prompt.format(context=full_context, question=query)\n",
    "formated_prompt\n",
    "model.invoke(formated_prompt)"
   ]
  }
 ],
 "metadata": {
  "kernelspec": {
   "display_name": "multimodalenv",
   "language": "python",
   "name": "python3"
  },
  "language_info": {
   "codemirror_mode": {
    "name": "ipython",
    "version": 3
   },
   "file_extension": ".py",
   "mimetype": "text/x-python",
   "name": "python",
   "nbconvert_exporter": "python",
   "pygments_lexer": "ipython3",
   "version": "3.11.3"
  }
 },
 "nbformat": 4,
 "nbformat_minor": 2
}
