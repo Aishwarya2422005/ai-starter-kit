{
 "cells": [
  {
   "cell_type": "code",
   "execution_count": 1,
   "metadata": {},
   "outputs": [
    {
     "name": "stderr",
     "output_type": "stream",
     "text": [
      "/Users/luiss/.pyenv/versions/3.11.3/lib/python3.11/site-packages/tqdm/auto.py:21: TqdmWarning: IProgress not found. Please update jupyter and ipywidgets. See https://ipywidgets.readthedocs.io/en/stable/user_install.html\n",
      "  from .autonotebook import tqdm as notebook_tqdm\n"
     ]
    }
   ],
   "source": [
    "import os\n",
    "import sys\n",
    "\n",
    "current_dir = os.getcwd()\n",
    "kit_dir = os.path.abspath(os.path.join(current_dir, \"..\"))\n",
    "repo_dir = os.path.abspath(os.path.join(kit_dir, \"..\"))\n",
    "\n",
    "sys.path.append(kit_dir)\n",
    "sys.path.append(repo_dir)\n",
    "\n",
    "from src.multimodal import MultimodalRetrieval"
   ]
  },
  {
   "cell_type": "code",
   "execution_count": 2,
   "metadata": {},
   "outputs": [],
   "source": [
    "multimodal = MultimodalRetrieval()\n",
    "\n",
    "filepath = os.path.join(kit_dir,\"data/sample_docs/invoicesample.pdf\")"
   ]
  },
  {
   "cell_type": "code",
   "execution_count": 3,
   "metadata": {},
   "outputs": [
    {
     "name": "stderr",
     "output_type": "stream",
     "text": [
      "2024-08-27 08:47:47,619 [INFO] - pikepdf C++ to Python logger bridge initialized\n",
      "2024-08-27 08:47:49,708 [INFO] - Reading PDF for file: /Users/luiss/Documents/projects/ai-starter-kit/multimodal_knowledge_retriever/data/sample_docs/invoicesample.pdf ...\n",
      "2024-08-27 08:47:53,697 [INFO] - Loading the Table agent ...\n",
      "2024-08-27 08:47:53,698 [INFO] - Loading the table structure model ...\n",
      "2024-08-27 08:47:54,258 [INFO] - Loading pretrained weights from Hugging Face hub (timm/resnet18.a1_in1k)\n",
      "2024-08-27 08:47:54,485 [INFO] - [timm/resnet18.a1_in1k] Safe alternative available for 'pytorch_model.bin' (as 'model.safetensors'). Loading weights using safetensors.\n",
      "2024-08-27 08:47:54,551 [INFO] - Missing keys (fc.weight, fc.bias) discovered while loading pretrained weights. This is expected if model is being adapted.\n",
      "Some weights of the model checkpoint at microsoft/table-transformer-structure-recognition were not used when initializing TableTransformerForObjectDetection: ['model.backbone.conv_encoder.model.layer2.0.downsample.1.num_batches_tracked', 'model.backbone.conv_encoder.model.layer3.0.downsample.1.num_batches_tracked', 'model.backbone.conv_encoder.model.layer4.0.downsample.1.num_batches_tracked']\n",
      "- This IS expected if you are initializing TableTransformerForObjectDetection from the checkpoint of a model trained on another task or with another architecture (e.g. initializing a BertForSequenceClassification model from a BertForPreTraining model).\n",
      "- This IS NOT expected if you are initializing TableTransformerForObjectDetection from the checkpoint of a model that you expect to be exactly identical (initializing a BertForSequenceClassification model from a BertForSequenceClassification model).\n"
     ]
    }
   ],
   "source": [
    "raw_pdf_elements, output_path = multimodal.extract_pdf(filepath)"
   ]
  },
  {
   "cell_type": "code",
   "execution_count": 4,
   "metadata": {},
   "outputs": [],
   "source": [
    "text_docs, table_docs, image_paths = multimodal.process_raw_elements(raw_pdf_elements, output_path)"
   ]
  },
  {
   "cell_type": "code",
   "execution_count": 5,
   "metadata": {},
   "outputs": [
    {
     "name": "stderr",
     "output_type": "stream",
     "text": [
      "/Users/luiss/.pyenv/versions/3.11.3/lib/python3.11/site-packages/langchain_core/_api/deprecation.py:139: LangChainDeprecationWarning: The class `Chroma` was deprecated in LangChain 0.2.9 and will be removed in 0.4. An updated version of the class exists in the langchain-chroma package and should be used instead. To use it run `pip install -U langchain-chroma` and import as `from langchain_chroma import Chroma`.\n",
      "  warn_deprecated(\n"
     ]
    }
   ],
   "source": [
    "retriever = multimodal.create_vectorstore()"
   ]
  },
  {
   "cell_type": "code",
   "execution_count": 6,
   "metadata": {},
   "outputs": [],
   "source": [
    "retriever = multimodal.vectorstore_ingest(retriever, text_docs, table_docs, image_paths, summarize_texts=True, summarize_tables=True)"
   ]
  },
  {
   "cell_type": "code",
   "execution_count": 7,
   "metadata": {},
   "outputs": [],
   "source": [
    "qachain = multimodal.get_retrieval_chain(retriever, image_retrieval_type=\"summary\")"
   ]
  },
  {
   "cell_type": "code",
   "execution_count": 8,
   "metadata": {},
   "outputs": [
    {
     "data": {
      "text/plain": [
       "{'question': 'how many apples they bought',\n",
       " 'answer': 'According to the provided context, they bought 1 apple.',\n",
       " 'source_documents': [Document(metadata={'filetype': 'application/pdf', 'languages': ['eng'], 'last_modified': '2024-07-29T09:07:11', 'page_number': 1, 'orig_elements': 'eJzNV11v2zYU/SuEsALbYAq8JMWPvPVpA7ZlBeI+DEFgUCLlEJAlV6K2Zl3/+65kuTVWr00HOMuTzGMeiTznnivq9l0WmrALbdpEn12RrPBClQqAlowpKn1VUOMNo0prxmxpQHuRrUi2C8l5lxxy3mVV1/U+ti6FYR437qEb0+Y+xO19QoQLYZGzwH9En+4RBVUIRPddbNPEu71VOsd5YAvI5d2KLGPOtD6MjRa5OQMsDESy4WFIYTft5FV8G5qbvatC9h7/8CGFKsWu3VSNG4bNvu9KnMZyZQXTOKGOTUgP+zBzX/2SzQtut6Pbzru6zUK7ze5mdEibXedjHcOsGWdcUqYpt2tmr5i+ApjYe2Ru2nFXhn7a7bSIFN5OemTrH19e/0R++/X1NO/40HVMzbzWf3oCzGpdg6FO6YJKNIEaWQNFc3StpQq1got5UvAcUHIAlttJ8uPYqpzPFiiby7PAzPhvnljOJH9iT74nP3d92JG4H8Yd8V3T9WSIiTiUdUWqrh1wrSGNPXE+7uNQxXZLQhNTTl428c3odmTovGvCQLzbx3IcSB36ycZxl5Prsa1OiCuyc9vWkSF4MlRodx+HN2Mg1dgP47AioXeJNPjA8ePdxr51q5lRuyo2cYgDTumIHyMJ6bDu/LSgrl2Pt4m/h/W0xTOFpUDxmjOg2mkMe+0FtUoZWuraYdpVsN5frLAs6JxN2Z2uU+EsAAdhDwCANeeRhfTZ4nrK2rkZy9Ql15C/yHq6PirWFmpbeO4oMIax9qGkxhmPZlQ21CXUGPSLqQ8MzBRkwKgdgv0RUTxXH9Q25xH+xXD/H/o/SndTgPJGOFpjF6WycJqW3HAqguFggGmm5BPobiHXp7pzJsThrQZcQs7PIQvr2ej+w82afAvsxXenwr9uK5Rp2/Xxz+D/rfW4UGpnTE2FlYJK9IQ6Ji2tvPWlc6qqVXFxEzgzeinsIwLcHl5jAHwu9TPIgfVsTHh8xwmF5bqsUXSlAQ8ShaKmxF94BNIouvM6XLDjCMNzvfQOMQv6AVGw9CBpdS7OIzPr2Yj+jVA5Y19d9gCyrEACrTk2INybpY6bgvICD6FC6Krk5eUckEzkxdJF4KDuAcFOw3NzqvenyMJ6Rg7k6usN4KL0rraBGqvQgEJW+KWDiSgFnoG0dR64vmAECrn0HX6MwIKAkEurPxrwKXJgPSMD7JcduPsbV10nqQ==', 'file_directory': '/Users/luiss/Documents/projects/ai-starter-kit/multimodal_knowledge_retriever/data/sample_docs', 'filename': 'invoicesample.pdf', 'type': 'text'}, page_content='THANK YOU\\n\\n* Lorem ipsum dolor sit amet, consectetur adipiscing elit. Aliquam sodales dapibus fermentum. Nunc adipiscing, magna sed scelerisque cursus, erat lectus dapibus urna, sed facilisis leo dui et ipsum.\\n\\nSubtotal | Total\\n\\nSubtotal\\n\\nGST (10%)\\n\\nTotal\\n\\n$36.00\\n\\n$3.60\\n\\n$39.60'),\n",
       "  Document(metadata={'last_modified': '2024-07-29T09:07:11', 'text_as_html': '<table><tbody><tr><td>Apple</td><td>$5.00</td><td>1</td><td>$5.00</td></tr><tr><td>Orange</td><td>$1.99</td><td>2</td><td>$3.98</td></tr><tr><td>Watermelon</td><td>$1.69</td><td>3</td><td>$5.07</td></tr><tr><td>Mango</td><td>$9.56</td><td>2</td><td>$19.12</td></tr><tr><td>Peach</td><td>$2.99</td><td>1</td><td>$2.99</td></tr></tbody></table>', 'filetype': 'application/pdf', 'languages': ['eng'], 'page_number': 1, 'orig_elements': 'eJxtkk1r4zAQhv+KEHvYhcTRR2xHIRT2uIfSLC3sIQQj2xNH1LaMPWYbSv/7SkpaZ0kOxp7X88zHK+3eKdTQQIuZKema0LxMGEsTPc+Xh2S+jFM5zxOxnK9WGlKRqFJJTWeENoC61Kgd804La/vStBphCHGtT3bE7AimOqJThJTKMRf5rynx6FSexNKpnTUtem6340xF8YwolUar/Yx8xnypRMSCEEsZLe8pZ8YpdDgNCI3fZWveoH7udAH0w/0oAaFAY9usqPUwZF1vc5fGokTGwv0/mBrw1EFAt480TNxWo67CWjsKbUX3QR0wa2xpDgaCaYI5h1g6F+qFqTVL15x7unNk1o5NDr1f1ykIb5jpITtiU3twgzqv4WGDuS1P7tW7p3z42XU1bBbuy0ff4oixr4jf0xcBPMNPvZv5iuaRUl+RmHQZqdUt/cedYd9AbdvrCslUQf7XP72t8Oja2ynJHWByrz1XERe39BZ0cZyyxPXw/J4e4MXFv8XZznDa3mpv8VNf6dYU5Je7FAPZ9qaAxWtFgsckeEjOlpFgFZkcIGFzEhYiYRESxiOhPfk96hYNnr6/Vj/I85ijRV0TfqkpSHCYyBCnPg4r+wSP+/vxedle/NT0Y/8PKR8JYA==', 'file_directory': '/Users/luiss/Documents/projects/ai-starter-kit/multimodal_knowledge_retriever/data/sample_docs', 'filename': 'invoicesample.pdf', 'type': 'table'}, page_content='<table><tbody><tr><td>Apple</td><td>$5.00</td><td>1</td><td>$5.00</td></tr><tr><td>Orange</td><td>$1.99</td><td>2</td><td>$3.98</td></tr><tr><td>Watermelon</td><td>$1.69</td><td>3</td><td>$5.07</td></tr><tr><td>Mango</td><td>$9.56</td><td>2</td><td>$19.12</td></tr><tr><td>Peach</td><td>$2.99</td><td>1</td><td>$2.99</td></tr></tbody></table>'),\n",
       "  Document(metadata={'type': 'image', 'file_directory': '/Users/luiss/Documents/projects/ai-starter-kit/multimodal_knowledge_retriever/data/sample_docs/invoicesample', 'filename': 'figure-1-1.jpg'}, page_content=\"The image features a logo for Sunny Farm, a company that specializes in fresh produce. The logo is a gold and yellow color scheme, with a sun in the center. The sun is surrounded by a green field, which represents the company's focus on fresh, high-quality produce. The logo is displayed on a white background, making it stand out.\"),\n",
       "  Document(metadata={'filetype': 'application/pdf', 'languages': ['eng'], 'last_modified': '2024-07-29T09:07:11', 'page_number': 1, 'orig_elements': 'eJy9Vk2P2zYQ/SuE2kMLmBK/P/ZWNEWxh2xSrNPLYmGQ0sjLRJYMidrNJuh/LyU5RZo4AWLAPs7TDEW+N2/Iu48ZNLCDNm5ClV2hjAtHtTGAfQUGC2EZ9kZZXAlasopRzliVrVC2g+gqF12q+ZiVXddXoXURhjlu3HM3xs0DhO1DTAjj3KaaA/wUqviQUKokT+i+C22c6u7urGW5XCEqRC7uV+hTzKjK5RRTSXTOjgBLRUKy4XmIsJtO8jq8h+Z270rI/kkfKohQxtC1m7Jxw7DZ951PaSRnikuVEurQQHzew1z7+mU2b7jdjm47n+oug3ab3c/oEDe7rgp1gJkzRpjARGNm18ReEX1F6VS9T5Wbdtx56KfTTpuI8H7iI/ttvf7jZn396gatX02pn/67DrGZt/ulLJKC8bLUmFqusVBSYW9BYyuldtLYUpP6bLJQLXOdWJckpzPrS6ykzPkUGyommb6Ml/zTRDFcfUOTsJto3bt5r1nxZoB+KJoxDEPxoivHibOhSOu8TQsPhQt4iK6P0ON3IRa7sYkhSeeazbu2e2qgSmv1EPsAj9AXE3PF4Hb7BjZVVw5FaB+7UMICFXXYjj1gimn+dr89a4N83hTX04mPNQVT3jMuKdaEpaYglcCeKoEFJ9QYSoWncL6mIHTuAs74ovp/gFK5mQEuVG6PAXPJqW5lRF7YrS+gbZ/Rn2Prnlz7uTI3ru9dDI+wnjKP2ba03HilMPFQYVFbkhxba+woMUaZNL6oPadCJqcrJFSi7aDQDEguDpJxJienfgUsJacpxA2zl56njFH01wjQotuIXkLju7FvAf19/TvihJAf0oyBNeBFiUtRMSw8s9jUALgWVAKvmXL8fKNWsZyskGZ2ud+W0CRR9HwfJpx9HS/pJ/rJSnZhsSjj6LbbwdMD9JAEWx1RDP1C+K8oZQoklTY/JKDRYGuoLJZMOCxKEDgJ6nFdG8sFUcRX/nymo1JPM04Zcxh6B0BbnpMZEFrl/AiwlHxXxkvK9DO3ufqfdd60ZeJn2/XhA1TfYt/WyUBVSTFxzqcHpEkjzxOH0yvF0dpL6ow6G/vpxZHyLE2MT8weQkmX+Sc0z8WReE4/zT5CpwvpwsJcL48SdDN/vUI/MUI54UR8xyX3/wKoenj1', 'file_directory': '/Users/luiss/Documents/projects/ai-starter-kit/multimodal_knowledge_retriever/data/sample_docs', 'filename': 'invoicesample.pdf', 'type': 'text'}, page_content='ATTENTION TO\\n\\nDenny Gunawan\\n\\n221 Queen St Melbourne VIC 3000\\n\\n123 Somewhere St, Melbourne VIC 3000 (03) 1234 5678\\n\\n$39.60\\n\\nInvoice Number: #20130304')]}"
      ]
     },
     "execution_count": 8,
     "metadata": {},
     "output_type": "execute_result"
    }
   ],
   "source": [
    "qachain(\"how many apples they bought\")"
   ]
  },
  {
   "cell_type": "code",
   "execution_count": 9,
   "metadata": {},
   "outputs": [
    {
     "data": {
      "text/plain": [
       "{'question': 'whats the address of the store',\n",
       " 'answer': 'Sure, I can help you with that! The address of the store is 221 Queen St Melbourne VIC 3000.',\n",
       " 'source_documents': [Document(page_content='ATTENTION TO\\n\\nDenny Gunawan\\n\\n221 Queen St Melbourne VIC 3000\\n\\n123 Somewhere St, Melbourne VIC 3000 (03) 1234 5678\\n\\n$39.60\\n\\nInvoice Number: #20130304', metadata={'filetype': 'application/pdf', 'languages': ['eng'], 'last_modified': '2024-05-08T08:57:57', 'page_number': 1, 'orig_elements': 'eJy9ltuO2zYQhl9FUHvRAqbE82HviqYo9iKbFOv0ZrEQKGrkZVaWBIleZxP03UtJTpCDEyAGbMAwML9mJHI+zgzvPqTQwBbaUPgqvUpSbRyRWilEMWDEa6mQkVQip4krZQlGaJ2uknQLwVY22BjzIXVdN1S+tQHG2W7sc7cLxQP4zUOICmXMxJiDvPdVeIgqkYJFte98G6a4uztjaCZWCeE84/er5KNNiczEZBOBVUaPCEtEVNLxeQywnXby2r+D5ra3DtL/4oMKArjgu7ZwjR3Hoh+6MrrhjEomZHSofQPhuYc59vXLdF5wu9nZzbyruxTaTXo/q2Motl3law9zziimHGGBsF5jfSVU/E3RfYws2t22hGHa7bSIAO+mfKR/rNd/3ayvX90k61eT68fvrn1o5uV+jUU5kFJpgSopKOLARMRC4h9lBAzllTsjFqJEpmLWBc7InPXFlkJkbLI14ROmr+3F/zQomsnvMPHbKa29ndea5m9GGMb8bTdsoM9fdG43JW3M7fhY9Luy8a7o9m1uPRqDHQIM6NGHfLtrgo8EbVM8tt2+gSq+coAweHiCIZ8SmI922zdQVJ0bc98+dd7BIuW13+wGQASR7G2/Oes5+fxsXE8bP3Y2KoMppaREtCwrxHmtkbHYICUJKM4qWVJyvrOByXwYGGUL/E+ClJmeBcZlZo4Jc8ipRUuxuHDRvoC2fU7+3rV2b9vPydzYYbDBP8F68jxWvaosFa0ZYrqOhGpiUAmWo7qCUsTe5Yxy5ySkM7JKuIxpOxCaBcH4ARmjYirYb4Ql5DRCTFNz6bYaqyD5ZwfQJrcheQlN2e2GFpJ/r/9MGMb4p5iVWMXKKSF23FogXmqM4lgUCKh2FdU1qTA9GzNJM7xKFDXLmFtMHaGoeSxGnX5rL+4n1pMR9MKwCGXJbbeF/QMMEIGtjhBLfsPs9yR68kTE8fdTAAmlTgvMkK0cR5zKCpVOOaRq7eIQreN1Rp6v6IhQU4+TWh+a3kFQhmV4FriSGTsiLCE/xHhJTL8yk8kvSudN62J+Nt3g30P1vexbwqnWtZnSTRBnoJCVik4zyhBlS8zU+S4s8eIR/eJ3MjNl9mAKsvQ/rljGj9iz+2nlw1UcSBcGc71cSpKb+elV8gvFhGGG+Q+q5P5/3HF75g==', 'file_directory': '/Users/jorgep/Documents/ask_public_own/ai-starter-kit/multimodal_knowledge_retriever/data/sample_docs', 'filename': 'invoicesample.pdf', 'type': 'text'}),\n",
       "  Document(page_content='THANK YOU\\n\\n* Lorem ipsum dolor sit amet, consectetur adipiscing elit. Aliquam sodales dapibus fermentum. Nunc adipiscing, magna sed scelerisque cursus, erat lectus dapibus urna, sed facilisis leo dui et ipsum.\\n\\nSubtotal | Total\\n\\nSubtotal\\n\\nGST (10%)\\n\\nTotal\\n\\n$36.00\\n\\n$3.60\\n\\n$39.60', metadata={'filetype': 'application/pdf', 'languages': ['eng'], 'last_modified': '2024-05-08T08:57:57', 'page_number': 1, 'orig_elements': 'eJzNVluL3DYY/SvCtNCWkdDNuuQtTy203QZ28lCWZZClz7MCjz2x5TbbNP+98mWSpZk2m8JsF4axddCxpXPO98k37wpo4ABt2sVQvEBFADCKm4ApDxZLXZXYWhbyH3gutS2p58UGFQdILrjkMudd4buuD7F1CYZ53Lj7bky7O4j7u5QRLoTNnBX+PYZ0l1GmSpHRYxfbNPFubpQmeR6zJSPydoPWMadaL2OjBTFngJWRkWK4HxIcpp28im+huT46D8X7zbSxBD7Frt35xg3D7th3VZ5GibKC6jyhjg2k+yPM3Fc/F/OC2/3o9vOubgpo98XtjA5pd+hCrCPMmnHKJaYlpmZLzYtS59/EPmbmrh0PFfTTbqdFJHg76VFsf3h59SP69ZfX07zTS7cxNfNa/+6JtVYDpRxTpzWWNHjsDHfYByGdqwyURl3Mk5ITliVnjBI7SX4aW0X4bIGyRJ4FZsZ/88RyKvkTe/Id+qnr4YDicRgPKHRN16MhJuSyrBvku3bIa4U09siFeIyDj+0eQRMTQS+b+GZ0BzR0wTUwoOCOsRoHVEM/2TgeCLoaW/+AuEEHt28dGiCgwWe7+zi8GQH5sR/GYYOgdwk1+YXjx6eNfes2M6N2PjZxiEOe0qEwRgRpWTd5GKgr1+fHxN9gO23xTLCYD5UVssa5fhiWSuY6r+oaQ8k89dqXvq4vFizLNKFT7U7XKTgrwJmwC8CYNeeRlfSv4XrK7FyPVeqSa9CfaDtdH1XWwFTNBfdYAVS51eaXmppRTKkLQdBaaFpeTH1GmZkKmeVSWwr7I6I4UR/UNucR/tni/j/0f5TuZc3KYJTGoqYhp94x7KiQGFyOla+rilbsCXS3jOiHunMqxHKqMS4Z4eeQlfVsdP/+eou+YfTrbx8K/7r1WaZ918c/IPxT66lyBVtX50MsH19YelZjxzxgKRxUTJlS0eriJnBq9BrsE8K4XY4xxvgc9TPIwno2Jjy+47A69xUqLVZKSixz2LErQWOfv/CssMo4GS4nujCc6LV3iFnQD4hiaw+SVhNxHplZz0b0r4QilH5x7ENVydJLjaFyuefXXGEbIGDDfWlcaSut7OUckFSQcu0ibFF3QXKn4cQ81PtTZGU9IweI+nID8oe0BKU4DgxoPnQNxa7Kdz54Y0E4VS8PvVAJlHLtO/xUAivChFxb/cmAT5GF9YwMsJ934PYv5F4rAA==', 'file_directory': '/Users/jorgep/Documents/ask_public_own/ai-starter-kit/multimodal_knowledge_retriever/data/sample_docs', 'filename': 'invoicesample.pdf', 'type': 'text'})]}"
      ]
     },
     "execution_count": 9,
     "metadata": {},
     "output_type": "execute_result"
    }
   ],
   "source": [
    "qachain(\"whats the address of the store\")"
   ]
  },
  {
   "cell_type": "code",
   "execution_count": 10,
   "metadata": {},
   "outputs": [
    {
     "data": {
      "text/plain": [
       "{'question': 'what is the main color in the business logo',\n",
       " 'answer': 'The main color in the business logo is gold and yellow.',\n",
       " 'source_documents': [Document(page_content=\"The image features a logo for Sunny Farm, a company that specializes in fresh produce. The logo is a gold and yellow color scheme, with a sun in the center. The sun is surrounded by a green field, which represents the company's focus on fresh, high-quality produce. The logo is displayed on a white background, making it stand out.\", metadata={'type': 'image', 'file_directory': '/Users/jorgep/Documents/ask_public_own/ai-starter-kit/multimodal_knowledge_retriever/data/sample_docs/invoicesample', 'filename': 'figure-1-1.jpg'}),\n",
       "  Document(page_content='ATTENTION TO\\n\\nDenny Gunawan\\n\\n221 Queen St Melbourne VIC 3000\\n\\n123 Somewhere St, Melbourne VIC 3000 (03) 1234 5678\\n\\n$39.60\\n\\nInvoice Number: #20130304', metadata={'filetype': 'application/pdf', 'languages': ['eng'], 'last_modified': '2024-05-08T08:57:57', 'page_number': 1, 'orig_elements': 'eJy9ltuO2zYQhl9FUHvRAqbE82HviqYo9iKbFOv0ZrEQKGrkZVaWBIleZxP03UtJTpCDEyAGbMAwML9mJHI+zgzvPqTQwBbaUPgqvUpSbRyRWilEMWDEa6mQkVQip4krZQlGaJ2uknQLwVY22BjzIXVdN1S+tQHG2W7sc7cLxQP4zUOICmXMxJiDvPdVeIgqkYJFte98G6a4uztjaCZWCeE84/er5KNNiczEZBOBVUaPCEtEVNLxeQywnXby2r+D5ra3DtL/4oMKArjgu7ZwjR3Hoh+6MrrhjEomZHSofQPhuYc59vXLdF5wu9nZzbyruxTaTXo/q2Motl3law9zziimHGGBsF5jfSVU/E3RfYws2t22hGHa7bSIAO+mfKR/rNd/3ayvX90k61eT68fvrn1o5uV+jUU5kFJpgSopKOLARMRC4h9lBAzllTsjFqJEpmLWBc7InPXFlkJkbLI14ROmr+3F/zQomsnvMPHbKa29ndea5m9GGMb8bTdsoM9fdG43JW3M7fhY9Luy8a7o9m1uPRqDHQIM6NGHfLtrgo8EbVM8tt2+gSq+coAweHiCIZ8SmI922zdQVJ0bc98+dd7BIuW13+wGQASR7G2/Oes5+fxsXE8bP3Y2KoMppaREtCwrxHmtkbHYICUJKM4qWVJyvrOByXwYGGUL/E+ClJmeBcZlZo4Jc8ipRUuxuHDRvoC2fU7+3rV2b9vPydzYYbDBP8F68jxWvaosFa0ZYrqOhGpiUAmWo7qCUsTe5Yxy5ySkM7JKuIxpOxCaBcH4ARmjYirYb4Ql5DRCTFNz6bYaqyD5ZwfQJrcheQlN2e2GFpJ/r/9MGMb4p5iVWMXKKSF23FogXmqM4lgUCKh2FdU1qTA9GzNJM7xKFDXLmFtMHaGoeSxGnX5rL+4n1pMR9MKwCGXJbbeF/QMMEIGtjhBLfsPs9yR68kTE8fdTAAmlTgvMkK0cR5zKCpVOOaRq7eIQreN1Rp6v6IhQU4+TWh+a3kFQhmV4FriSGTsiLCE/xHhJTL8yk8kvSudN62J+Nt3g30P1vexbwqnWtZnSTRBnoJCVik4zyhBlS8zU+S4s8eIR/eJ3MjNl9mAKsvQ/rljGj9iz+2nlw1UcSBcGc71cSpKb+elV8gvFhGGG+Q+q5P5/3HF75g==', 'file_directory': '/Users/jorgep/Documents/ask_public_own/ai-starter-kit/multimodal_knowledge_retriever/data/sample_docs', 'filename': 'invoicesample.pdf', 'type': 'text'})]}"
      ]
     },
     "execution_count": 10,
     "metadata": {},
     "output_type": "execute_result"
    }
   ],
   "source": [
    "qachain(\"what is the main color in the business logo\")"
   ]
  },
  {
   "cell_type": "code",
   "execution_count": 11,
   "metadata": {},
   "outputs": [
    {
     "data": {
      "text/plain": [
       "{'question': 'what is written in the logo',\n",
       " 'answer': 'The logo features the name \"Sunny Farm\" in a gold and yellow color scheme, with a sun in the center, surrounded by a green field.',\n",
       " 'source_documents': [Document(page_content=\"The image features a logo for Sunny Farm, a company that specializes in fresh produce. The logo is a gold and yellow color scheme, with a sun in the center. The sun is surrounded by a green field, which represents the company's focus on fresh, high-quality produce. The logo is displayed on a white background, making it stand out.\", metadata={'type': 'image', 'file_directory': '/Users/jorgep/Documents/ask_public_own/ai-starter-kit/multimodal_knowledge_retriever/data/sample_docs/invoicesample', 'filename': 'figure-1-1.jpg'}),\n",
       "  Document(page_content='THANK YOU\\n\\n* Lorem ipsum dolor sit amet, consectetur adipiscing elit. Aliquam sodales dapibus fermentum. Nunc adipiscing, magna sed scelerisque cursus, erat lectus dapibus urna, sed facilisis leo dui et ipsum.\\n\\nSubtotal | Total\\n\\nSubtotal\\n\\nGST (10%)\\n\\nTotal\\n\\n$36.00\\n\\n$3.60\\n\\n$39.60', metadata={'filetype': 'application/pdf', 'languages': ['eng'], 'last_modified': '2024-05-08T08:57:57', 'page_number': 1, 'orig_elements': 'eJzNVluL3DYY/SvCtNCWkdDNuuQtTy203QZ28lCWZZClz7MCjz2x5TbbNP+98mWSpZk2m8JsF4axddCxpXPO98k37wpo4ABt2sVQvEBFADCKm4ApDxZLXZXYWhbyH3gutS2p58UGFQdILrjkMudd4buuD7F1CYZ53Lj7bky7O4j7u5QRLoTNnBX+PYZ0l1GmSpHRYxfbNPFubpQmeR6zJSPydoPWMadaL2OjBTFngJWRkWK4HxIcpp28im+huT46D8X7zbSxBD7Frt35xg3D7th3VZ5GibKC6jyhjg2k+yPM3Fc/F/OC2/3o9vOubgpo98XtjA5pd+hCrCPMmnHKJaYlpmZLzYtS59/EPmbmrh0PFfTTbqdFJHg76VFsf3h59SP69ZfX07zTS7cxNfNa/+6JtVYDpRxTpzWWNHjsDHfYByGdqwyURl3Mk5ITliVnjBI7SX4aW0X4bIGyRJ4FZsZ/88RyKvkTe/Id+qnr4YDicRgPKHRN16MhJuSyrBvku3bIa4U09siFeIyDj+0eQRMTQS+b+GZ0BzR0wTUwoOCOsRoHVEM/2TgeCLoaW/+AuEEHt28dGiCgwWe7+zi8GQH5sR/GYYOgdwk1+YXjx6eNfes2M6N2PjZxiEOe0qEwRgRpWTd5GKgr1+fHxN9gO23xTLCYD5UVssa5fhiWSuY6r+oaQ8k89dqXvq4vFizLNKFT7U7XKTgrwJmwC8CYNeeRlfSv4XrK7FyPVeqSa9CfaDtdH1XWwFTNBfdYAVS51eaXmppRTKkLQdBaaFpeTH1GmZkKmeVSWwr7I6I4UR/UNucR/tni/j/0f5TuZc3KYJTGoqYhp94x7KiQGFyOla+rilbsCXS3jOiHunMqxHKqMS4Z4eeQlfVsdP/+eou+YfTrbx8K/7r1WaZ918c/IPxT66lyBVtX50MsH19YelZjxzxgKRxUTJlS0eriJnBq9BrsE8K4XY4xxvgc9TPIwno2Jjy+47A69xUqLVZKSixz2LErQWOfv/CssMo4GS4nujCc6LV3iFnQD4hiaw+SVhNxHplZz0b0r4QilH5x7ENVydJLjaFyuefXXGEbIGDDfWlcaSut7OUckFSQcu0ibFF3QXKn4cQ81PtTZGU9IweI+nID8oe0BKU4DgxoPnQNxa7Kdz54Y0E4VS8PvVAJlHLtO/xUAivChFxb/cmAT5GF9YwMsJ934PYv5F4rAA==', 'file_directory': '/Users/jorgep/Documents/ask_public_own/ai-starter-kit/multimodal_knowledge_retriever/data/sample_docs', 'filename': 'invoicesample.pdf', 'type': 'text'})]}"
      ]
     },
     "execution_count": 11,
     "metadata": {},
     "output_type": "execute_result"
    }
   ],
   "source": [
    "qachain(\"what is written in the logo\")"
   ]
  },
  {
   "cell_type": "code",
   "execution_count": 12,
   "metadata": {},
   "outputs": [],
   "source": [
    "qachain = multimodal.get_retrieval_chain(retriever, image_retrieval_type=\"raw\")"
   ]
  },
  {
   "cell_type": "code",
   "execution_count": 13,
   "metadata": {},
   "outputs": [
    {
     "data": {
      "text/plain": [
       "{'question': 'how many apples they bought',\n",
       " 'answer': 'Sure, I can help you with that! Based on the provided context, it appears that the customer bought 1 apple, which is reflected in the third column of the table. Therefore, the answer to your question is 1.',\n",
       " 'source_documents': [Document(page_content='<table><tr><td>Apple</td><td>$5.00</td><td>1</td><td>$5.00</td></tr><tr><td>Orange</td><td>$1.99</td><td>2</td><td>$3.98</td></tr><tr><td>Watermelon</td><td>$1.69</td><td>3</td><td>$5.07</td></tr><tr><td>Mango</td><td>$9.56</td><td>2</td><td>$19.12</td></tr><tr><td>Peach</td><td>$2.99</td><td>1</td><td>$2.99</td></tr></table>', metadata={'last_modified': '2024-05-08T08:57:57', 'text_as_html': '<table><tr><td>Apple</td><td>$5.00</td><td>1</td><td>$5.00</td></tr><tr><td>Orange</td><td>$1.99</td><td>2</td><td>$3.98</td></tr><tr><td>Watermelon</td><td>$1.69</td><td>3</td><td>$5.07</td></tr><tr><td>Mango</td><td>$9.56</td><td>2</td><td>$19.12</td></tr><tr><td>Peach</td><td>$2.99</td><td>1</td><td>$2.99</td></tr></table>', 'table_as_cells': [{'x': 0, 'y': 0, 'w': 1, 'h': 1, 'content': 'Apple'}, {'x': 0, 'y': 1, 'w': 1, 'h': 1, 'content': 'Orange'}, {'x': 0, 'y': 2, 'w': 1, 'h': 1, 'content': 'Watermelon'}, {'x': 0, 'y': 3, 'w': 1, 'h': 1, 'content': 'Mango'}, {'x': 0, 'y': 4, 'w': 1, 'h': 1, 'content': 'Peach'}, {'x': 1, 'y': 0, 'w': 1, 'h': 1, 'content': '$5.00'}, {'x': 1, 'y': 1, 'w': 1, 'h': 1, 'content': '$1.99'}, {'x': 1, 'y': 2, 'w': 1, 'h': 1, 'content': '$1.69'}, {'x': 1, 'y': 3, 'w': 1, 'h': 1, 'content': '$9.56'}, {'x': 1, 'y': 4, 'w': 1, 'h': 1, 'content': '$2.99'}, {'x': 2, 'y': 0, 'w': 1, 'h': 1, 'content': '1'}, {'x': 2, 'y': 1, 'w': 1, 'h': 1, 'content': '2'}, {'x': 2, 'y': 2, 'w': 1, 'h': 1, 'content': '3'}, {'x': 2, 'y': 3, 'w': 1, 'h': 1, 'content': '2'}, {'x': 2, 'y': 4, 'w': 1, 'h': 1, 'content': '1'}, {'x': 3, 'y': 0, 'w': 1, 'h': 1, 'content': '$5.00'}, {'x': 3, 'y': 1, 'w': 1, 'h': 1, 'content': '$3.98'}, {'x': 3, 'y': 2, 'w': 1, 'h': 1, 'content': '$5.07'}, {'x': 3, 'y': 3, 'w': 1, 'h': 1, 'content': '$19.12'}, {'x': 3, 'y': 4, 'w': 1, 'h': 1, 'content': '$2.99'}], 'filetype': 'application/pdf', 'languages': ['eng'], 'page_number': 1, 'orig_elements': 'eJyVldtq4zAQhl9FmFzsQuNYUmzHpRT2ci/KZmlhL0Ixsj21RX3CVmhD6buvNDm4jeNqFxKUGc8nzfwZjzZvDpRQQa1imTnXxPGWWRh4iZj7kKXzZcTpPAEazlce40kY0MQPnpwr4lSgRCaU0MybkzZNl8laKOjRLsWu2aq4AJkXSnsY55FmDu4XmalCe2ngc+1tG1krw2021Itc/4pEUeiuHq/I0abLiLkeOnzO3eUlz57RHqff9QoqU8tavkJ534oUnHf9IAMFqZJNHael6Pu47ZpEh3luwH2mnz/JEtSuBUTXdw5mXOdbkWNZGwfq3HlEb6/iqsnkkwQUjXlsOff8ubd68FbXfqg/hm41GdfbKoHOlKs9SiQlxKKPUyhL3NSIVyutv9nnR9uWYMjiEP9yWF9NnnrdmVXX8on61eksrRg9x/7ov6uroGxqG8rO0Tt9YGOj+Dm1BpEWNmp5Ts181/OmKDqlyYy6UWSjRpJoKrBSIzVmukkDGzVSY8b+IcORGnSKYFNKMBsxUoHbiJEC1jNG1Vvr+L8+4JN9wN1oZaPGfaDPCm3UuA9o5NJJKfiUFF82Aj/JYQaPgldlpkehqtKgNzhPbm9Up7/ZLY6Pm4X+ZSwU7GTRS/4Fgnt4P0WGKPMCnSw2+I2gY3oYJh93CIYd+Kfzw/EOOFOGIPNOXToeNR7TOFuGKPYxeXrJj/Birx/eDkbb/TTNRS1T8lNfIj1ZdzKFxXNOUFuC2pG9VAQlIkPlBCsmWAjBAgimRfBY8nsraiXV7ttz/p3cbxPVKFESetiTEVSWcLRDY2OpJuDYIMfL6cFk7bw//gXObQVl', 'file_directory': '/Users/jorgep/Documents/ask_public_own/ai-starter-kit/multimodal_knowledge_retriever/data/sample_docs', 'filename': 'invoicesample.pdf', 'type': 'table'}),\n",
       "  Document(page_content='THANK YOU\\n\\n* Lorem ipsum dolor sit amet, consectetur adipiscing elit. Aliquam sodales dapibus fermentum. Nunc adipiscing, magna sed scelerisque cursus, erat lectus dapibus urna, sed facilisis leo dui et ipsum.\\n\\nSubtotal | Total\\n\\nSubtotal\\n\\nGST (10%)\\n\\nTotal\\n\\n$36.00\\n\\n$3.60\\n\\n$39.60', metadata={'filetype': 'application/pdf', 'languages': ['eng'], 'last_modified': '2024-05-08T08:57:57', 'page_number': 1, 'orig_elements': 'eJzNVluL3DYY/SvCtNCWkdDNuuQtTy203QZ28lCWZZClz7MCjz2x5TbbNP+98mWSpZk2m8JsF4axddCxpXPO98k37wpo4ABt2sVQvEBFADCKm4ApDxZLXZXYWhbyH3gutS2p58UGFQdILrjkMudd4buuD7F1CYZ53Lj7bky7O4j7u5QRLoTNnBX+PYZ0l1GmSpHRYxfbNPFubpQmeR6zJSPydoPWMadaL2OjBTFngJWRkWK4HxIcpp28im+huT46D8X7zbSxBD7Frt35xg3D7th3VZ5GibKC6jyhjg2k+yPM3Fc/F/OC2/3o9vOubgpo98XtjA5pd+hCrCPMmnHKJaYlpmZLzYtS59/EPmbmrh0PFfTTbqdFJHg76VFsf3h59SP69ZfX07zTS7cxNfNa/+6JtVYDpRxTpzWWNHjsDHfYByGdqwyURl3Mk5ITliVnjBI7SX4aW0X4bIGyRJ4FZsZ/88RyKvkTe/Id+qnr4YDicRgPKHRN16MhJuSyrBvku3bIa4U09siFeIyDj+0eQRMTQS+b+GZ0BzR0wTUwoOCOsRoHVEM/2TgeCLoaW/+AuEEHt28dGiCgwWe7+zi8GQH5sR/GYYOgdwk1+YXjx6eNfes2M6N2PjZxiEOe0qEwRgRpWTd5GKgr1+fHxN9gO23xTLCYD5UVssa5fhiWSuY6r+oaQ8k89dqXvq4vFizLNKFT7U7XKTgrwJmwC8CYNeeRlfSv4XrK7FyPVeqSa9CfaDtdH1XWwFTNBfdYAVS51eaXmppRTKkLQdBaaFpeTH1GmZkKmeVSWwr7I6I4UR/UNucR/tni/j/0f5TuZc3KYJTGoqYhp94x7KiQGFyOla+rilbsCXS3jOiHunMqxHKqMS4Z4eeQlfVsdP/+eou+YfTrbx8K/7r1WaZ918c/IPxT66lyBVtX50MsH19YelZjxzxgKRxUTJlS0eriJnBq9BrsE8K4XY4xxvgc9TPIwno2Jjy+47A69xUqLVZKSixz2LErQWOfv/CssMo4GS4nujCc6LV3iFnQD4hiaw+SVhNxHplZz0b0r4QilH5x7ENVydJLjaFyuefXXGEbIGDDfWlcaSut7OUckFSQcu0ibFF3QXKn4cQ81PtTZGU9IweI+nID8oe0BKU4DgxoPnQNxa7Kdz54Y0E4VS8PvVAJlHLtO/xUAivChFxb/cmAT5GF9YwMsJ934PYv5F4rAA==', 'file_directory': '/Users/jorgep/Documents/ask_public_own/ai-starter-kit/multimodal_knowledge_retriever/data/sample_docs', 'filename': 'invoicesample.pdf', 'type': 'text'})]}"
      ]
     },
     "execution_count": 13,
     "metadata": {},
     "output_type": "execute_result"
    }
   ],
   "source": [
    "qachain(\"how many apples they bought\")"
   ]
  },
  {
   "cell_type": "code",
   "execution_count": 14,
   "metadata": {},
   "outputs": [
    {
     "data": {
      "text/plain": [
       "{'question': 'what is the main color in the business logo',\n",
       " 'answer': 'Sure, I can help you with that! Based on the provided context, the main color in the business logo is yellow.',\n",
       " 'source_documents': [Document(page_content=\"The image features a logo for Sunny Farm, a company that specializes in fresh produce. The logo is a gold and yellow color scheme, with a sun in the center. The sun is surrounded by a green field, which represents the company's focus on fresh, high-quality produce. The logo is displayed on a white background, making it stand out.\", metadata={'type': 'image', 'file_directory': '/Users/jorgep/Documents/ask_public_own/ai-starter-kit/multimodal_knowledge_retriever/data/sample_docs/invoicesample', 'filename': 'figure-1-1.jpg'}),\n",
       "  Document(page_content='ATTENTION TO\\n\\nDenny Gunawan\\n\\n221 Queen St Melbourne VIC 3000\\n\\n123 Somewhere St, Melbourne VIC 3000 (03) 1234 5678\\n\\n$39.60\\n\\nInvoice Number: #20130304', metadata={'filetype': 'application/pdf', 'languages': ['eng'], 'last_modified': '2024-05-08T08:57:57', 'page_number': 1, 'orig_elements': 'eJy9ltuO2zYQhl9FUHvRAqbE82HviqYo9iKbFOv0ZrEQKGrkZVaWBIleZxP03UtJTpCDEyAGbMAwML9mJHI+zgzvPqTQwBbaUPgqvUpSbRyRWilEMWDEa6mQkVQip4krZQlGaJ2uknQLwVY22BjzIXVdN1S+tQHG2W7sc7cLxQP4zUOICmXMxJiDvPdVeIgqkYJFte98G6a4uztjaCZWCeE84/er5KNNiczEZBOBVUaPCEtEVNLxeQywnXby2r+D5ra3DtL/4oMKArjgu7ZwjR3Hoh+6MrrhjEomZHSofQPhuYc59vXLdF5wu9nZzbyruxTaTXo/q2Motl3law9zziimHGGBsF5jfSVU/E3RfYws2t22hGHa7bSIAO+mfKR/rNd/3ayvX90k61eT68fvrn1o5uV+jUU5kFJpgSopKOLARMRC4h9lBAzllTsjFqJEpmLWBc7InPXFlkJkbLI14ROmr+3F/zQomsnvMPHbKa29ndea5m9GGMb8bTdsoM9fdG43JW3M7fhY9Luy8a7o9m1uPRqDHQIM6NGHfLtrgo8EbVM8tt2+gSq+coAweHiCIZ8SmI922zdQVJ0bc98+dd7BIuW13+wGQASR7G2/Oes5+fxsXE8bP3Y2KoMppaREtCwrxHmtkbHYICUJKM4qWVJyvrOByXwYGGUL/E+ClJmeBcZlZo4Jc8ipRUuxuHDRvoC2fU7+3rV2b9vPydzYYbDBP8F68jxWvaosFa0ZYrqOhGpiUAmWo7qCUsTe5Yxy5ySkM7JKuIxpOxCaBcH4ARmjYirYb4Ql5DRCTFNz6bYaqyD5ZwfQJrcheQlN2e2GFpJ/r/9MGMb4p5iVWMXKKSF23FogXmqM4lgUCKh2FdU1qTA9GzNJM7xKFDXLmFtMHaGoeSxGnX5rL+4n1pMR9MKwCGXJbbeF/QMMEIGtjhBLfsPs9yR68kTE8fdTAAmlTgvMkK0cR5zKCpVOOaRq7eIQreN1Rp6v6IhQU4+TWh+a3kFQhmV4FriSGTsiLCE/xHhJTL8yk8kvSudN62J+Nt3g30P1vexbwqnWtZnSTRBnoJCVik4zyhBlS8zU+S4s8eIR/eJ3MjNl9mAKsvQ/rljGj9iz+2nlw1UcSBcGc71cSpKb+elV8gvFhGGG+Q+q5P5/3HF75g==', 'file_directory': '/Users/jorgep/Documents/ask_public_own/ai-starter-kit/multimodal_knowledge_retriever/data/sample_docs', 'filename': 'invoicesample.pdf', 'type': 'text'})]}"
      ]
     },
     "execution_count": 14,
     "metadata": {},
     "output_type": "execute_result"
    }
   ],
   "source": [
    "qachain(\"what is the main color in the business logo\")"
   ]
  },
  {
   "cell_type": "code",
   "execution_count": 15,
   "metadata": {},
   "outputs": [
    {
     "data": {
      "text/plain": [
       "{'question': 'what is written in the logo',\n",
       " 'answer': 'Sure, I can help you with that! Based on the context you provided, the logo says \"Sunny Farm Victoria.\"',\n",
       " 'source_documents': [Document(page_content=\"The image features a logo for Sunny Farm, a company that specializes in fresh produce. The logo is a gold and yellow color scheme, with a sun in the center. The sun is surrounded by a green field, which represents the company's focus on fresh, high-quality produce. The logo is displayed on a white background, making it stand out.\", metadata={'type': 'image', 'file_directory': '/Users/jorgep/Documents/ask_public_own/ai-starter-kit/multimodal_knowledge_retriever/data/sample_docs/invoicesample', 'filename': 'figure-1-1.jpg'}),\n",
       "  Document(page_content='THANK YOU\\n\\n* Lorem ipsum dolor sit amet, consectetur adipiscing elit. Aliquam sodales dapibus fermentum. Nunc adipiscing, magna sed scelerisque cursus, erat lectus dapibus urna, sed facilisis leo dui et ipsum.\\n\\nSubtotal | Total\\n\\nSubtotal\\n\\nGST (10%)\\n\\nTotal\\n\\n$36.00\\n\\n$3.60\\n\\n$39.60', metadata={'filetype': 'application/pdf', 'languages': ['eng'], 'last_modified': '2024-05-08T08:57:57', 'page_number': 1, 'orig_elements': 'eJzNVluL3DYY/SvCtNCWkdDNuuQtTy203QZ28lCWZZClz7MCjz2x5TbbNP+98mWSpZk2m8JsF4axddCxpXPO98k37wpo4ABt2sVQvEBFADCKm4ApDxZLXZXYWhbyH3gutS2p58UGFQdILrjkMudd4buuD7F1CYZ53Lj7bky7O4j7u5QRLoTNnBX+PYZ0l1GmSpHRYxfbNPFubpQmeR6zJSPydoPWMadaL2OjBTFngJWRkWK4HxIcpp28im+huT46D8X7zbSxBD7Frt35xg3D7th3VZ5GibKC6jyhjg2k+yPM3Fc/F/OC2/3o9vOubgpo98XtjA5pd+hCrCPMmnHKJaYlpmZLzYtS59/EPmbmrh0PFfTTbqdFJHg76VFsf3h59SP69ZfX07zTS7cxNfNa/+6JtVYDpRxTpzWWNHjsDHfYByGdqwyURl3Mk5ITliVnjBI7SX4aW0X4bIGyRJ4FZsZ/88RyKvkTe/Id+qnr4YDicRgPKHRN16MhJuSyrBvku3bIa4U09siFeIyDj+0eQRMTQS+b+GZ0BzR0wTUwoOCOsRoHVEM/2TgeCLoaW/+AuEEHt28dGiCgwWe7+zi8GQH5sR/GYYOgdwk1+YXjx6eNfes2M6N2PjZxiEOe0qEwRgRpWTd5GKgr1+fHxN9gO23xTLCYD5UVssa5fhiWSuY6r+oaQ8k89dqXvq4vFizLNKFT7U7XKTgrwJmwC8CYNeeRlfSv4XrK7FyPVeqSa9CfaDtdH1XWwFTNBfdYAVS51eaXmppRTKkLQdBaaFpeTH1GmZkKmeVSWwr7I6I4UR/UNucR/tni/j/0f5TuZc3KYJTGoqYhp94x7KiQGFyOla+rilbsCXS3jOiHunMqxHKqMS4Z4eeQlfVsdP/+eou+YfTrbx8K/7r1WaZ918c/IPxT66lyBVtX50MsH19YelZjxzxgKRxUTJlS0eriJnBq9BrsE8K4XY4xxvgc9TPIwno2Jjy+47A69xUqLVZKSixz2LErQWOfv/CssMo4GS4nujCc6LV3iFnQD4hiaw+SVhNxHplZz0b0r4QilH5x7ENVydJLjaFyuefXXGEbIGDDfWlcaSut7OUckFSQcu0ibFF3QXKn4cQ81PtTZGU9IweI+nID8oe0BKU4DgxoPnQNxa7Kdz54Y0E4VS8PvVAJlHLtO/xUAivChFxb/cmAT5GF9YwMsJ934PYv5F4rAA==', 'file_directory': '/Users/jorgep/Documents/ask_public_own/ai-starter-kit/multimodal_knowledge_retriever/data/sample_docs', 'filename': 'invoicesample.pdf', 'type': 'text'})]}"
      ]
     },
     "execution_count": 15,
     "metadata": {},
     "output_type": "execute_result"
    }
   ],
   "source": [
    "qachain(\"what is written in the logo\")"
   ]
  },
  {
   "cell_type": "code",
   "execution_count": null,
   "metadata": {},
   "outputs": [],
   "source": []
  }
 ],
 "metadata": {
  "kernelspec": {
   "display_name": "multimodalenv",
   "language": "python",
   "name": "python3"
  },
  "language_info": {
   "codemirror_mode": {
    "name": "ipython",
    "version": 3
   },
   "file_extension": ".py",
   "mimetype": "text/x-python",
   "name": "python",
   "nbconvert_exporter": "python",
   "pygments_lexer": "ipython3",
   "version": "3.11.3"
  }
 },
 "nbformat": 4,
 "nbformat_minor": 2
}
