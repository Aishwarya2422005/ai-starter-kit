{
 "cells": [
  {
   "cell_type": "code",
   "execution_count": 1,
   "metadata": {},
   "outputs": [
    {
     "name": "stderr",
     "output_type": "stream",
     "text": [
      "/Users/codym/CAP/aisk_forked/ai-starter-kit/genai_env/lib/python3.11/site-packages/tqdm/auto.py:21: TqdmWarning: IProgress not found. Please update jupyter and ipywidgets. See https://ipywidgets.readthedocs.io/en/stable/user_install.html\n",
      "  from .autonotebook import tqdm as notebook_tqdm\n"
     ]
    }
   ],
   "source": [
    "### REMOVE WHEN PUSHING TO MAIN\n",
    "\n",
    "from datasets import load_dataset\n",
    "import os\n",
    "import sys\n",
    "from langchain_text_splitters import RecursiveCharacterTextSplitter\n",
    "import dotenv\n",
    "\n",
    "current_dir = os.getcwd()\n",
    "kit_dir = os.path.abspath(os.path.join(current_dir, \"..\"))\n",
    "repo_dir = os.path.abspath(os.path.join(kit_dir, \"..\"))\n",
    "\n",
    "sys.path.append(kit_dir)\n",
    "sys.path.append(repo_dir)\n",
    "\n",
    "dotenv.load_dotenv()\n",
    "\n",
    "rag_dataset = load_dataset(\"neural-bridge/rag-dataset-12000\")"
   ]
  },
  {
   "cell_type": "code",
   "execution_count": 2,
   "metadata": {},
   "outputs": [
    {
     "data": {
      "text/plain": [
       "DatasetDict({\n",
       "    train: Dataset({\n",
       "        features: ['context', 'question', 'answer'],\n",
       "        num_rows: 9600\n",
       "    })\n",
       "    test: Dataset({\n",
       "        features: ['context', 'question', 'answer'],\n",
       "        num_rows: 2400\n",
       "    })\n",
       "})"
      ]
     },
     "execution_count": 2,
     "metadata": {},
     "output_type": "execute_result"
    }
   ],
   "source": [
    "rag_dataset"
   ]
  },
  {
   "cell_type": "code",
   "execution_count": 3,
   "metadata": {},
   "outputs": [],
   "source": [
    "len(rag_dataset[\"train\"][\"context\"][0])\n",
    "subset = rag_dataset[\"train\"][\"context\"][:100]"
   ]
  },
  {
   "cell_type": "code",
   "execution_count": 4,
   "metadata": {},
   "outputs": [
    {
     "data": {
      "text/plain": [
       "'/Users/codym/CAP/aisk_forked/ai-starter-kit/complex_rag'"
      ]
     },
     "execution_count": 4,
     "metadata": {},
     "output_type": "execute_result"
    }
   ],
   "source": [
    "kit_dir"
   ]
  },
  {
   "cell_type": "code",
   "execution_count": 5,
   "metadata": {},
   "outputs": [
    {
     "name": "stdout",
     "output_type": "stream",
     "text": [
      "/Users/codym/CAP/aisk_forked/ai-starter-kit/complex_rag/data/subset.txt\n"
     ]
    }
   ],
   "source": [
    "text_path = kit_dir + \"/data/\"\n",
    "text_file = \"subset.txt\"\n",
    "\n",
    "full_path = text_path + text_file\n",
    "if not os.path.exists(text_path):\n",
    "    os.makedirs(text_path)\n",
    "\n",
    "print(full_path)\n",
    "\n",
    "with open(full_path, \"w\") as f:\n",
    "    [f.write(\"\\n\\n\".join([l for l in subset]))]"
   ]
  },
  {
   "cell_type": "code",
   "execution_count": 6,
   "metadata": {},
   "outputs": [],
   "source": [
    "from langchain_community.embeddings.sambanova import SambaStudioEmbeddings\n",
    "from langchain.vectorstores import Chroma\n",
    "\n",
    "# # Set the environment variables\n",
    "# os.environ[\"SAMBASTUDIO_EMBEDDINGS_BASE_URL\"] =\n",
    "# os.environ[\"SAMBASTUDIO_EMBEDDINGS_PROJECT_ID\"] =\n",
    "# os.environ[\"SAMBASTUDIO_EMBEDDINGS_ENDPOINT_ID\"] =\n",
    "# os.environ[\"SAMBASTUDIO_EMBEDDINGS_API_KEY\"] =\n",
    "\n",
    "from langchain_community.embeddings.sambanova import SambaStudioEmbeddings\n",
    "\n",
    "embeddings = SambaStudioEmbeddings()\n",
    "\n",
    "with open(full_path, \"r\") as f:\n",
    "    txts = f.read()\n",
    "\n",
    "# for l in [1000]:\n",
    "\n",
    "text_splitter = RecursiveCharacterTextSplitter(\n",
    "    chunk_size=1000,\n",
    "    chunk_overlap=100,\n",
    "    length_function=len,\n",
    "    is_separator_regex=False,\n",
    ")\n",
    "\n",
    "texts = text_splitter.create_documents([txts])\n",
    "\n",
    "# To save\n",
    "vectorstore = Chroma.from_documents(\n",
    "    documents=texts,\n",
    "    embedding=embeddings,\n",
    "    persist_directory=kit_dir\n",
    "    + \"/data/\"\n",
    "    + \"rag_dataset_12000_train_100samples_1000_100.chromadb\",\n",
    ")\n",
    "\n",
    "# To load\n",
    "# vectorstore = Chroma(persist_directory=\"kit_dir+ \"/data/\"+ \"rag_dataset_12000_train_100samples_1000_100.chromadb\", embedding_function=embeddings)"
   ]
  },
  {
   "cell_type": "code",
   "execution_count": null,
   "metadata": {},
   "outputs": [],
   "source": []
  }
 ],
 "metadata": {
  "kernelspec": {
   "display_name": "lg_env",
   "language": "python",
   "name": "python3"
  },
  "language_info": {
   "codemirror_mode": {
    "name": "ipython",
    "version": 3
   },
   "file_extension": ".py",
   "mimetype": "text/x-python",
   "name": "python",
   "nbconvert_exporter": "python",
   "pygments_lexer": "ipython3",
   "version": "3.11.6"
  }
 },
 "nbformat": 4,
 "nbformat_minor": 2
}
