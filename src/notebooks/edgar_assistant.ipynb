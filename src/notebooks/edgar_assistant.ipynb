{
 "cells": [
  {
   "cell_type": "markdown",
   "id": "4129f9b5",
   "metadata": {},
   "source": [
    "# Edgar Q&A Demo"
   ]
  },
  {
   "cell_type": "code",
   "execution_count": null,
   "id": "c99735fb",
   "metadata": {},
   "outputs": [],
   "source": [
    "import sys\n",
    "\n",
    "sys.path.append(\"..\")\n",
    "from langchain.text_splitter import (\n",
    "    CharacterTextSplitter,\n",
    "    RecursiveCharacterTextSplitter,\n",
    "    TokenTextSplitter,\n",
    ")\n",
    "from langchain.document_loaders import DirectoryLoader, TextLoader\n",
    "from langchain.vectorstores import Chroma\n",
    "from langchain.chains import RetrievalQA\n",
    "from langchain.embeddings.huggingface import HuggingFaceInstructEmbeddings\n",
    "from langchain.prompts import PromptTemplate\n",
    "from llama_index import download_loader\n",
    "from models.sambanova_endpoint import SambaNovaEndpoint"
   ]
  },
  {
   "cell_type": "markdown",
   "id": "5d5f7e3f",
   "metadata": {},
   "source": [
    "## TO BE FILLED TO ACCESS THE LLM ENDPOINT"
   ]
  },
  {
   "cell_type": "code",
   "execution_count": null,
   "id": "58b32bcf",
   "metadata": {},
   "outputs": [],
   "source": [
    "# # PROVIDE: API Info\n",
    "# base_url=f'https://sjc1-demo1.sambanova.net'\n",
    "# project_id=\n",
    "# endpoint_id=\n",
    "# api_key="
   ]
  },
  {
   "cell_type": "markdown",
   "id": "79bb3c6a",
   "metadata": {},
   "source": [
    "### Fetch latest Annual report \n",
    "https://www.sec.gov/edgar/searchedgar/companysearch"
   ]
  },
  {
   "cell_type": "code",
   "execution_count": null,
   "id": "c11ebecf",
   "metadata": {},
   "outputs": [],
   "source": [
    "from llama_hub.sec_filings.base import SECFilingsLoader\n",
    "\n",
    "ticker = \"TSLA\"\n",
    "last_n = 1\n",
    "ticker = ticker.lower()\n",
    "loader = SECFilingsLoader(tickers=[ticker], amount=last_n, filing_type=\"10-K\")\n",
    "loader.load_data()"
   ]
  },
  {
   "cell_type": "markdown",
   "id": "529c3804",
   "metadata": {},
   "source": [
    "### Load SEC filings data data "
   ]
  },
  {
   "cell_type": "code",
   "execution_count": null,
   "id": "79554c96",
   "metadata": {},
   "outputs": [],
   "source": [
    "sec_dir = f\"data/{ticker}\"\n",
    "dir_loader = DirectoryLoader(sec_dir, glob=\"**/*.json\", loader_cls=TextLoader)\n",
    "documents = dir_loader.load()"
   ]
  },
  {
   "cell_type": "markdown",
   "id": "aa297fb1",
   "metadata": {},
   "source": [
    "### Choose LLM and embedding model"
   ]
  },
  {
   "cell_type": "code",
   "execution_count": null,
   "id": "315ad58c",
   "metadata": {},
   "outputs": [],
   "source": [
    "llm = SambaNovaEndpoint(\n",
    "    base_url=base_url,\n",
    "    project_id=project_id,\n",
    "    endpoint_id=endpoint_id,\n",
    "    api_key=api_key,\n",
    "    model_kwargs={\"do_sample\": True, \"temperature\": 0.1},\n",
    ")\n",
    "embedding = HuggingFaceInstructEmbeddings(\n",
    "    query_instruction=\"Represent the query for retrieval: \"\n",
    ")"
   ]
  },
  {
   "cell_type": "markdown",
   "id": "b0144fbb",
   "metadata": {},
   "source": [
    "### Tokenize/Embed and store documents in DB"
   ]
  },
  {
   "cell_type": "code",
   "execution_count": null,
   "id": "d3279b03",
   "metadata": {},
   "outputs": [],
   "source": [
    "## 2. Split the texts\n",
    "text_splitter = RecursiveCharacterTextSplitter(chunk_size=1000, chunk_overlap=10)\n",
    "texts = text_splitter.split_documents(documents)\n",
    "\n",
    "## 3. Create Embeddings and add to chroma store\n",
    "vectordb = Chroma.from_documents(documents=texts, embedding=embedding)"
   ]
  },
  {
   "cell_type": "markdown",
   "id": "70cd358e",
   "metadata": {},
   "source": [
    "### Q&A on annual report"
   ]
  },
  {
   "cell_type": "code",
   "execution_count": null,
   "id": "bd3d7031",
   "metadata": {},
   "outputs": [],
   "source": [
    "from langchain.chains import RetrievalQA\n",
    "\n",
    "retriever = vectordb.as_retriever(search_kwargs={\"k\": 2})\n",
    "qa = RetrievalQA.from_chain_type(\n",
    "    llm=llm,\n",
    "    chain_type=\"stuff\",\n",
    "    retriever=retriever,\n",
    "    input_key=\"question\",\n",
    "    output_key=\"response\",\n",
    "    return_source_documents=True,\n",
    ")\n",
    "custom_prompt_template = \"\"\"Use the following pieces of context about company anual/quarterly report filing to answer the question at the end. \n",
    "If the answer is not in context for answering, say that you don't know, don't try to make up an answer or provide an answer not extracted from provided context. \n",
    "Cross check if the answer is contained in provided context. If not than say \"I do not have information regarding this.\"\n",
    "\n",
    "{context}\n",
    "\n",
    "Question: {question}\n",
    "Helpful Answer:\"\"\"\n",
    "CUSTOMPROMPT = PromptTemplate(\n",
    "    template=custom_prompt_template, input_variables=[\"context\", \"question\"]\n",
    ")\n",
    "## Inject custom prompt\n",
    "qa.combine_documents_chain.llm_chain.prompt = CUSTOMPROMPT\n",
    "query = \"What are the risk factors of Tesla for the year 2022?\"\n",
    "res = qa(query)\n",
    "print(res[\"response\"])"
   ]
  }
 ],
 "metadata": {
  "kernelspec": {
   "display_name": "Python 3 (ipykernel)",
   "language": "python",
   "name": "python3"
  },
  "language_info": {
   "codemirror_mode": {
    "name": "ipython",
    "version": 3
   },
   "file_extension": ".py",
   "mimetype": "text/x-python",
   "name": "python",
   "nbconvert_exporter": "python",
   "pygments_lexer": "ipython3",
   "version": "3.9.0"
  }
 },
 "nbformat": 4,
 "nbformat_minor": 5
}
