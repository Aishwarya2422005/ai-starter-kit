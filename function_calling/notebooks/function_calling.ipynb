{
 "cells": [
  {
   "cell_type": "markdown",
   "metadata": {},
   "source": [
    "# Function Calling"
   ]
  },
  {
   "cell_type": "code",
   "execution_count": 100,
   "metadata": {},
   "outputs": [],
   "source": [
    "import os\n",
    "import re\n",
    "import sys\n",
    "import json\n",
    "import operator\n",
    "from pprint import pprint\n",
    "from datetime import datetime\n",
    "from dotenv import load_dotenv\n",
    "from typing import  Optional, Union\n",
    "from langchain_community.llms.sambanova import SambaStudio, Sambaverse\n",
    "from langchain_core.output_parsers import StrOutputParser, JsonOutputParser\n",
    "from langchain_core.prompts import PromptTemplate, ChatPromptTemplate\n",
    "from langchain_core.tools import StructuredTool\n",
    "from langchain_core.tools import ToolException\n",
    "from langchain_core.tools import tool\n",
    "from langchain_core.pydantic_v1 import BaseModel, Field\n",
    "from langchain_core.tools import Tool\n",
    "from langchain_experimental.utilities import PythonREPL\n",
    "from langchain_core.runnables import Runnable, RunnableLambda, RunnablePassthrough\n",
    "\n",
    "current_dir = os.getcwd()\n",
    "kit_dir = os.path.abspath(os.path.join(current_dir, \"..\")) \n",
    "repo_dir = os.path.abspath(os.path.join(kit_dir, \"..\"))\n",
    "\n",
    "sys.path.append(kit_dir)\n",
    "sys.path.append(repo_dir)\n",
    "\n",
    "load_dotenv(os.path.join(repo_dir, \".env\")) \n",
    "\n"
   ]
  },
  {
   "cell_type": "markdown",
   "metadata": {},
   "source": [
    "## Tools Definitions"
   ]
  },
  {
   "cell_type": "markdown",
   "metadata": {},
   "source": [
    "### Basic tools"
   ]
  },
  {
   "cell_type": "markdown",
   "metadata": {},
   "source": [
    "#### Get time"
   ]
  },
  {
   "cell_type": "code",
   "execution_count": 2,
   "metadata": {},
   "outputs": [],
   "source": [
    "# tool schema\n",
    "class GetTimeSchema(BaseModel):\n",
    "    \"\"\"Returns current date, current time or both.\"\"\"\n",
    "    kind: Optional[str] = Field(description='kind of information to retrieve \"date\", \"time\" or \"both\"')"
   ]
  },
  {
   "cell_type": "code",
   "execution_count": 3,
   "metadata": {},
   "outputs": [],
   "source": [
    "# definition using @tool decorator\n",
    "@tool(args_schema=GetTimeSchema)\n",
    "def get_time(kind: str = \"both\") -> str:\n",
    "    \"\"\"Returns current date, current time or both.\n",
    "\n",
    "    Args:\n",
    "        kind: date, time or both\n",
    "    \"\"\"\n",
    "    if kind == \"date\":\n",
    "        date = datetime.now().strftime(\"%d/%m/%Y\")\n",
    "        return f\"Current date: {date}\"\n",
    "    elif kind == \"time\":\n",
    "        time = datetime.now().strftime(\"%H:%M:%S\")\n",
    "        return f\"Current time: {time}\"\n",
    "    else:\n",
    "        date = datetime.now().strftime(\"%d/%m/%Y\")\n",
    "        time = datetime.now().strftime(\"%H:%M:%S\")\n",
    "        return f\"Current date: {date}, Current time: {time}\"\n"
   ]
  },
  {
   "cell_type": "code",
   "execution_count": 4,
   "metadata": {},
   "outputs": [
    {
     "data": {
      "text/plain": [
       "'Current time: 13:18:43'"
      ]
     },
     "execution_count": 4,
     "metadata": {},
     "output_type": "execute_result"
    }
   ],
   "source": [
    "get_time.invoke({\"kind\":\"time\"})"
   ]
  },
  {
   "cell_type": "code",
   "execution_count": 5,
   "metadata": {},
   "outputs": [
    {
     "data": {
      "text/plain": [
       "{'title': 'GetTimeSchema',\n",
       " 'description': 'Returns current date, current time or both.',\n",
       " 'type': 'object',\n",
       " 'properties': {'kind': {'title': 'Kind',\n",
       "   'description': 'kind of information to retrieve \"date\", \"time\" or \"both\"',\n",
       "   'type': 'string'}}}"
      ]
     },
     "execution_count": 5,
     "metadata": {},
     "output_type": "execute_result"
    }
   ],
   "source": [
    "get_time.get_input_schema().schema()"
   ]
  },
  {
   "cell_type": "markdown",
   "metadata": {},
   "source": [
    "### Customized error handling tools"
   ]
  },
  {
   "cell_type": "markdown",
   "metadata": {},
   "source": [
    "#### Calculator"
   ]
  },
  {
   "cell_type": "code",
   "execution_count": 6,
   "metadata": {},
   "outputs": [],
   "source": [
    "# tool schema\n",
    "class CalculatorSchema(BaseModel):\n",
    "    \"\"\"allow calculation of only basic operations: + - * and /\n",
    "    with a string input expression \"\"\"\n",
    "    expression: str = Field(..., description=\"expression to calculate, example '12 * 3'\")"
   ]
  },
  {
   "cell_type": "code",
   "execution_count": 36,
   "metadata": {},
   "outputs": [],
   "source": [
    "#function to use in the tool\n",
    "def calculator(expression: str ) -> Union[str, int, float]:\n",
    "    \"\"\"\n",
    "    allow calculation of basic operations\n",
    "    with a string input expression\n",
    "    Args:\n",
    "        expression: expression to calculate \n",
    "    \"\"\"\n",
    "    ops = {\n",
    "        '+': operator.add,\n",
    "        '-': operator.sub,\n",
    "        '*': operator.mul,\n",
    "        'x': operator.mul,\n",
    "        'X': operator.mul,\n",
    "        '÷': operator.truediv,\n",
    "        '/': operator.truediv\n",
    "    }\n",
    "    tokens = re.findall(r'\\d+\\.?\\d*|\\+|\\-|\\*|\\/|÷|x|X', expression)\n",
    "    \n",
    "    if not tokens:\n",
    "        raise ToolException(f\"Invalid expression '{expression}', should only contain one of the following operators + - * and /\")\n",
    "    \n",
    "    current_value = float(tokens.pop(0))\n",
    "    \n",
    "    while tokens:\n",
    "        # The next token should be an operator\n",
    "        op = tokens.pop(0)\n",
    "        \n",
    "        # The next token should be a number\n",
    "        if not tokens:\n",
    "            raise ToolException(f\"Incomplete expression '{expression}'\")\n",
    "        try:\n",
    "            next_value = float(tokens.pop(0))\n",
    "            \n",
    "        except ValueError:\n",
    "            raise ToolException(\"Invalid number format\")\n",
    "        \n",
    "        except:\n",
    "            raise ToolException(\"Invalid operation\")\n",
    "        \n",
    "        # check division by 0\n",
    "        if op in ['/','÷'] and next_value == 0:\n",
    "            raise ToolException(\"cannot divide by 0\")\n",
    "        \n",
    "        current_value = ops[op](current_value, next_value)\n",
    "    \n",
    "    return current_value\n",
    "\n",
    "\n",
    "# tool error handler\n",
    "def _handle_error(error: ToolException) -> str:\n",
    "    return f\"The following errors occurred during Calculator tool execution: `{error.args}`\"\n",
    "\n",
    "\n",
    "# tool definition\n",
    "calculator = StructuredTool.from_function(\n",
    "    func=calculator,\n",
    "    args_schema=CalculatorSchema,\n",
    "    handle_tool_error=_handle_error,#True,\n",
    ")"
   ]
  },
  {
   "cell_type": "code",
   "execution_count": 37,
   "metadata": {},
   "outputs": [
    {
     "data": {
      "text/plain": [
       "\"The following errors occurred during Calculator tool execution: `('cannot divide by 0',)`\""
      ]
     },
     "execution_count": 37,
     "metadata": {},
     "output_type": "execute_result"
    }
   ],
   "source": [
    "calculator.invoke(\"7 / 0\")"
   ]
  },
  {
   "cell_type": "code",
   "execution_count": 38,
   "metadata": {},
   "outputs": [
    {
     "data": {
      "text/plain": [
       "{'title': 'CalculatorSchema',\n",
       " 'description': 'allow calculation of only basic operations: + - * and /\\nwith a string input expression ',\n",
       " 'type': 'object',\n",
       " 'properties': {'expression': {'title': 'Expression',\n",
       "   'description': \"expression to calculate, example '12 * 3'\",\n",
       "   'type': 'string'}},\n",
       " 'required': ['expression']}"
      ]
     },
     "execution_count": 38,
     "metadata": {},
     "output_type": "execute_result"
    }
   ],
   "source": [
    "calculator.get_input_schema().schema()"
   ]
  },
  {
   "cell_type": "markdown",
   "metadata": {},
   "source": [
    "### Langchain Tools"
   ]
  },
  {
   "cell_type": "markdown",
   "metadata": {},
   "source": [
    "#### Python repl"
   ]
  },
  {
   "cell_type": "code",
   "execution_count": 39,
   "metadata": {},
   "outputs": [],
   "source": [
    "# tool schema\n",
    "class ReplSchema(BaseModel):\n",
    "    \"A Python shell. Use this to execute python commands. Input should be a valid python commands and expressions. If you want to see the output of a value, you should print it out with `print(...), if you need a specific module you should import it`.\"\n",
    "    command: str = Field(..., description=\"python code to execute to evaluate\")"
   ]
  },
  {
   "cell_type": "code",
   "execution_count": 40,
   "metadata": {},
   "outputs": [],
   "source": [
    "# tool definition\n",
    "python_repl = PythonREPL()\n",
    "python_repl = Tool(\n",
    "    name=\"python_repl\",\n",
    "    description=\"A Python shell. Use this to execute python commands. Input should be a valid python command. If you want to see the output of a value, you should print it out with `print(...)`.\",\n",
    "    func=python_repl.run,\n",
    "    args_schema=ReplSchema\n",
    ")"
   ]
  },
  {
   "cell_type": "code",
   "execution_count": 41,
   "metadata": {},
   "outputs": [
    {
     "data": {
      "text/plain": [
       "'0\\n1\\n2\\n3\\n4\\n'"
      ]
     },
     "execution_count": 41,
     "metadata": {},
     "output_type": "execute_result"
    }
   ],
   "source": [
    "python_repl.invoke({\"command\" : \"for i in range(0,5):\\n\\tprint(i)\"})"
   ]
  },
  {
   "cell_type": "code",
   "execution_count": 42,
   "metadata": {},
   "outputs": [
    {
     "data": {
      "text/plain": [
       "{'title': 'ReplSchema',\n",
       " 'description': 'A Python shell. Use this to execute python commands. Input should be a valid python commands and expressions. If you want to see the output of a value, you should print it out with `print(...), if you need a specific module you should import it`.',\n",
       " 'type': 'object',\n",
       " 'properties': {'command': {'title': 'Command',\n",
       "   'description': 'python code to execute to evaluate',\n",
       "   'type': 'string'}},\n",
       " 'required': ['command']}"
      ]
     },
     "execution_count": 42,
     "metadata": {},
     "output_type": "execute_result"
    }
   ],
   "source": [
    "python_repl.get_input_schema().schema()"
   ]
  },
  {
   "cell_type": "markdown",
   "metadata": {},
   "source": [
    "#### SQL calling"
   ]
  },
  {
   "cell_type": "code",
   "execution_count": null,
   "metadata": {},
   "outputs": [],
   "source": []
  },
  {
   "cell_type": "markdown",
   "metadata": {},
   "source": [
    "### Default response tool"
   ]
  },
  {
   "cell_type": "code",
   "execution_count": 139,
   "metadata": {},
   "outputs": [
    {
     "data": {
      "text/plain": [
       "{'title': 'ConversationalResponse',\n",
       " 'description': 'Respond conversationally only if no other tools should be called for a given query, or if you have a final answer.',\n",
       " 'type': 'object',\n",
       " 'properties': {'response': {'title': 'Response',\n",
       "   'description': 'Conversational response to the user.',\n",
       "   'type': 'string'}},\n",
       " 'required': ['response']}"
      ]
     },
     "execution_count": 139,
     "metadata": {},
     "output_type": "execute_result"
    }
   ],
   "source": [
    "# tool schema\n",
    "class ConversationalResponse(BaseModel):\n",
    "    \"Respond conversationally only if no other tools should be called for a given query, or if you have a final answer.\"\n",
    "    response: str = Field(..., description=\"Conversational response to the user.\")\n",
    "    \n",
    "ConversationalResponse.schema()"
   ]
  },
  {
   "cell_type": "code",
   "execution_count": 140,
   "metadata": {},
   "outputs": [],
   "source": [
    "def get_tools_schemas(tools: Union[Tool, list] = None, default: Union[Tool, BaseModel]= None):\n",
    "    \n",
    "    if tools is None:\n",
    "        pass\n",
    "    elif isinstance(tools, Tool):\n",
    "        tools = [tools]\n",
    "    tools_schemas = []\n",
    "    \n",
    "    for tool in tools:\n",
    "        tool_schema = tool.get_input_schema().schema()\n",
    "        schema = {\"name\": tool.name, \"description\": tool_schema[\"description\"], \"properties\": tool_schema[\"properties\"]}\n",
    "        if \"required\" in schema:\n",
    "            schema[\"required\"] = tool_schema[\"required\"]\n",
    "        tools_schemas.append(schema)  \n",
    "        \n",
    "    if default is not None:\n",
    "        if isinstance(default, Tool):\n",
    "            tool_schema=default.get_input_schema().schema()\n",
    "        else:\n",
    "            tool_schema = default.schema()\n",
    "        schema = {\"name\": tool_schema[\"title\"], \"description\": tool_schema[\"description\"], \"properties\": tool_schema[\"properties\"]}\n",
    "        if \"required\" in schema:\n",
    "            schema[\"required\"] = tool_schema[\"required\"]\n",
    "        tools_schemas.append(schema)\n",
    "              \n",
    "    return tools_schemas"
   ]
  },
  {
   "cell_type": "code",
   "execution_count": 141,
   "metadata": {},
   "outputs": [],
   "source": [
    "tools = [get_time, calculator, python_repl]"
   ]
  },
  {
   "cell_type": "code",
   "execution_count": 142,
   "metadata": {},
   "outputs": [
    {
     "name": "stdout",
     "output_type": "stream",
     "text": [
      "('{\\n'\n",
      " '  \"name\": \"get_time\",\\n'\n",
      " '  \"description\": \"Returns current date, current time or both.\",\\n'\n",
      " '  \"properties\": {\\n'\n",
      " '    \"kind\": {\\n'\n",
      " '      \"title\": \"Kind\",\\n'\n",
      " '      \"description\": \"kind of information to retrieve \\\\\"date\\\\\", \\\\\"time\\\\\" '\n",
      " 'or \\\\\"both\\\\\"\",\\n'\n",
      " '      \"type\": \"string\"\\n'\n",
      " '    }\\n'\n",
      " '  }\\n'\n",
      " '}\\n'\n",
      " '{\\n'\n",
      " '  \"name\": \"calculator\",\\n'\n",
      " '  \"description\": \"allow calculation of only basic operations: + - * and '\n",
      " '/\\\\nwith a string input expression \",\\n'\n",
      " '  \"properties\": {\\n'\n",
      " '    \"expression\": {\\n'\n",
      " '      \"title\": \"Expression\",\\n'\n",
      " '      \"description\": \"expression to calculate, example \\'12 * 3\\'\",\\n'\n",
      " '      \"type\": \"string\"\\n'\n",
      " '    }\\n'\n",
      " '  }\\n'\n",
      " '}\\n'\n",
      " '{\\n'\n",
      " '  \"name\": \"python_repl\",\\n'\n",
      " '  \"description\": \"A Python shell. Use this to execute python commands. Input '\n",
      " 'should be a valid python commands and expressions. If you want to see the '\n",
      " 'output of a value, you should print it out with `print(...), if you need a '\n",
      " 'specific module you should import it`.\",\\n'\n",
      " '  \"properties\": {\\n'\n",
      " '    \"command\": {\\n'\n",
      " '      \"title\": \"Command\",\\n'\n",
      " '      \"description\": \"python code to execute to evaluate\",\\n'\n",
      " '      \"type\": \"string\"\\n'\n",
      " '    }\\n'\n",
      " '  }\\n'\n",
      " '}\\n'\n",
      " '{\\n'\n",
      " '  \"name\": \"ConversationalResponse\",\\n'\n",
      " '  \"description\": \"Respond conversationally only if no other tools should be '\n",
      " 'called for a given query, or if you have a final answer.\",\\n'\n",
      " '  \"properties\": {\\n'\n",
      " '    \"response\": {\\n'\n",
      " '      \"title\": \"Response\",\\n'\n",
      " '      \"description\": \"Conversational response to the user.\",\\n'\n",
      " '      \"type\": \"string\"\\n'\n",
      " '    }\\n'\n",
      " '  }\\n'\n",
      " '}')\n"
     ]
    }
   ],
   "source": [
    "tools_schemas = get_tools_schemas(tools, default = ConversationalResponse)\n",
    "tools_schemas = \"\\n\".join([json.dumps(tool, indent=2) for tool  in tools_schemas])\n",
    "pprint(tools_schemas)"
   ]
  },
  {
   "cell_type": "markdown",
   "metadata": {},
   "source": [
    "## Function Calling "
   ]
  },
  {
   "cell_type": "markdown",
   "metadata": {},
   "source": [
    "### LLM definition"
   ]
  },
  {
   "cell_type": "code",
   "execution_count": 349,
   "metadata": {},
   "outputs": [],
   "source": [
    "llm = Sambaverse(\n",
    "    sambaverse_model_name=\"Meta/Meta-Llama-3-70B-Instruct\",\n",
    "    model_kwargs={       \n",
    "            \"max_tokens_to_generate\": 2048,\n",
    "            \"select_expert\": \"Meta-Llama-3-70B-Instruct\",\n",
    "            \"process_prompt\": True,\n",
    "            \"temperature\": 0.01\n",
    "        }\n",
    ")\n",
    "\n",
    "# llm= SambaStudio(\n",
    "#     model_kwargs={       \n",
    "#             \"max_tokens_to_generate\": 2048,\n",
    "#             \"select_expert\": \"Meta-Llama-3-8B-Instruct\",\n",
    "#             \"process_prompt\": False\n",
    "#         }\n",
    "# )\n"
   ]
  },
  {
   "cell_type": "markdown",
   "metadata": {},
   "source": [
    "### Chain"
   ]
  },
  {
   "cell_type": "code",
   "execution_count": 351,
   "metadata": {},
   "outputs": [],
   "source": [
    "function_calling_prompt =  \"\"\"<|begin_of_text|><|start_header_id|>system<|end_header_id|> You are an helpful assistant and you have access to the following tools:\n",
    "\n",
    "{tools}\n",
    "\n",
    "You must always select one or more of the above tools and answer with only a list of JSON objects matching the following schema:\n",
    "\n",
    "```json\n",
    "[{{\n",
    "  \"tool\": <name of the selected tool>,\n",
    "  \"tool_input\": <parameters for the selected tool, matching the tool's JSON schema>\n",
    "}}]\n",
    "```\n",
    "\n",
    "Think step by step\n",
    "Do not call a tool if the input depends on another tool output you dont have yet\n",
    "Do not try to answer until you get tools output, if you dont have an answer yet you can continue calling tools\n",
    "\n",
    "<|eot_id|><|start_header_id|>user<|end_header_id|>\n",
    "User: {usr_msg} \n",
    "<|eot_id|><|start_header_id|>assistant<|end_header_id|>\n",
    "Assistant:\"\"\" \n",
    "#You must wait to have a tools output before generating a final response, or calling other tools\n",
    "function_calling_prompt_template = PromptTemplate.from_template(function_calling_prompt)"
   ]
  },
  {
   "cell_type": "code",
   "execution_count": 412,
   "metadata": {},
   "outputs": [],
   "source": [
    "def jsonFinder(input_string):\n",
    "    json_pattern = re.compile(r'(\\{.*\\}|\\[.*\\])', re.DOTALL)\n",
    "    # Find the first JSON structure in the string\n",
    "    json_match = json_pattern.search(input_string)\n",
    "    if json_match:\n",
    "        json_str = json_match.group(1)\n",
    "        try: \n",
    "            json.loads(json_str)\n",
    "        except:\n",
    "            json_correction_prompt = \"\"\"|begin_of_text|><|start_header_id|>system<|end_header_id|> You are a json format corrector tool<|eot_id|><|start_header_id|>user<|end_header_id|>\n",
    "            fix the following json file: {json} \n",
    "            <|eot_id|><|start_header_id|>assistant<|end_header_id|>\n",
    "            fixed json: \"\"\"\n",
    "            json_correction_prompt_template = PromptTemplate.from_template(json_correction_prompt)\n",
    "            json_correction_chain = json_correction_prompt_template | llm \n",
    "            json_str=json_correction_chain.invoke(json_str)\n",
    "    else:\n",
    "        json_str = None #TODO convert to a conversational tool\n",
    "    return(json_str)"
   ]
  },
  {
   "cell_type": "code",
   "execution_count": 413,
   "metadata": {},
   "outputs": [],
   "source": [
    "parser = RunnableLambda(jsonFinder) | JsonOutputParser()"
   ]
  },
  {
   "cell_type": "code",
   "execution_count": 414,
   "metadata": {},
   "outputs": [],
   "source": [
    "prompt_template = {\"tools\" : lambda x:tools_schemas, \"usr_msg\" : RunnablePassthrough()} | function_calling_prompt_template"
   ]
  },
  {
   "cell_type": "code",
   "execution_count": 415,
   "metadata": {},
   "outputs": [],
   "source": [
    "default_fc_chain = prompt_template | llm | parser"
   ]
  },
  {
   "cell_type": "markdown",
   "metadata": {},
   "source": [
    "### Tool execution"
   ]
  },
  {
   "cell_type": "code",
   "execution_count": 416,
   "metadata": {},
   "outputs": [],
   "source": [
    "tools_map = {\n",
    "    \"get_time\": get_time, \n",
    "    \"calculator\": calculator, \n",
    "    \"python_repl\": python_repl,\n",
    "}\n",
    "\n",
    "def execute(tools):\n",
    "    tool_msg = \"Tool '{name}'response: {response}\"\n",
    "    tools_msgs = []\n",
    "    if len(tools)==1 and tools[0][\"tool\"].lower() == \"conversationalresponse\":\n",
    "        final_answer = True\n",
    "        return final_answer, tools[0][\"tool_input\"][\"response\"]\n",
    "    for tool in tools:\n",
    "        final_answer = False\n",
    "        if tool[\"tool\"].lower()!=\"conversationalresponse\":\n",
    "            response = tools_map[tool[\"tool\"].lower()](tool[\"tool_input\"])\n",
    "            tools_msgs.append(tool_msg.format(name=tool[\"tool\"], response=str(response)))\n",
    "    return final_answer, tools_msgs"
   ]
  },
  {
   "cell_type": "code",
   "execution_count": 417,
   "metadata": {},
   "outputs": [
    {
     "name": "stdout",
     "output_type": "stream",
     "text": [
      "[{'tool': 'ConversationalResponse', 'tool_input': {'response': 'Hi! How can I assist you today?'}}]\n",
      "Hi! How can I assist you today?\n"
     ]
    }
   ],
   "source": [
    "query = \"hi\"\n",
    "response_tools = default_fc_chain.invoke(query)\n",
    "print(response_tools)\n",
    "final_answer, response_tools = execute(response_tools)\n",
    "print(response_tools)"
   ]
  },
  {
   "cell_type": "code",
   "execution_count": 418,
   "metadata": {},
   "outputs": [
    {
     "name": "stdout",
     "output_type": "stream",
     "text": [
      "[{'tool': 'get_time', 'tool_input': {'kind': 'time'}}]\n",
      "[\"Tool 'get_time'response: Current time: 16:51:18\"]\n"
     ]
    }
   ],
   "source": [
    "query = \"it is time to go to sleep?\"\n",
    "response_tools = default_fc_chain.invoke(query)\n",
    "pprint(response_tools)\n",
    "final_answer, response_tools = execute(response_tools)\n",
    "print(response_tools)"
   ]
  },
  {
   "cell_type": "code",
   "execution_count": 419,
   "metadata": {},
   "outputs": [
    {
     "name": "stdout",
     "output_type": "stream",
     "text": [
      "[{'tool': 'calculator', 'tool_input': {'expression': '347 / 60'}}]\n",
      "[\"Tool 'calculator'response: 5.783333333333333\"]\n"
     ]
    }
   ],
   "source": [
    "query = \"whats is 347 min in hours and minutes?\"\n",
    "response_tools = default_fc_chain.invoke(query)\n",
    "print(response_tools)\n",
    "final_answer, response_tools = execute(response_tools)\n",
    "print(response_tools)"
   ]
  },
  {
   "cell_type": "code",
   "execution_count": 420,
   "metadata": {},
   "outputs": [
    {
     "name": "stdout",
     "output_type": "stream",
     "text": [
      "[{'tool': 'python_repl',\n",
      "  'tool_input': {'command': \"print('saippuakivikauppias' \"\n",
      "                            \"=='saippuakivikauppias'[::-1])\"}}]\n",
      "[\"Tool 'python_repl'response: True\\n\"]\n"
     ]
    }
   ],
   "source": [
    "query =  \"is this word is a palindrome? 'saippuakivikauppias'\"\n",
    "response_tools = default_fc_chain.invoke(query)\n",
    "pprint(response_tools)\n",
    "final_answer, response_tools = execute(response_tools)\n",
    "print(response_tools)"
   ]
  },
  {
   "cell_type": "code",
   "execution_count": 421,
   "metadata": {},
   "outputs": [
    {
     "name": "stdout",
     "output_type": "stream",
     "text": [
      "[{'tool': 'python_repl',\n",
      "  'tool_input': {'command': \"print(sorted(['screwdriver', 'pliers', \"\n",
      "                            \"'hammer']))\"}}]\n",
      "[\"Tool 'python_repl'response: ['hammer', 'pliers', 'screwdriver']\\n\"]\n"
     ]
    }
   ],
   "source": [
    "query = \"sort this list of elements alphabetically ['screwdriver', 'pliers', 'hammer']\"\n",
    "response_tools = default_fc_chain.invoke(query)\n",
    "pprint(response_tools)\n",
    "final_answer, response_tools = execute(response_tools)\n",
    "print(response_tools)"
   ]
  },
  {
   "cell_type": "markdown",
   "metadata": {},
   "source": [
    "## Pipeline function calling generation"
   ]
  },
  {
   "cell_type": "code",
   "execution_count": 422,
   "metadata": {},
   "outputs": [
    {
     "name": "stdout",
     "output_type": "stream",
     "text": [
      "[{'tool': 'get_time', 'tool_input': {'kind': 'time'}}]\n",
      "[\"Tool 'get_time'response: Current time: 16:51:26\"]\n"
     ]
    }
   ],
   "source": [
    "query =   \"it is time to go to sleep, how many hours last to 10pm?\"\n",
    "response_tools = default_fc_chain.invoke(query)\n",
    "final_answer, tools_msgs = execute(response_tools)\n",
    "print(response_tools)\n",
    "print(tools_msgs)"
   ]
  },
  {
   "cell_type": "code",
   "execution_count": 423,
   "metadata": {},
   "outputs": [],
   "source": [
    "response_prompt =  \"\"\"|begin_of_text|><|start_header_id|>system<|end_header_id|> You are an helpful assistant and you have access to the following tools:\n",
    "\n",
    "{tools}\n",
    "\n",
    "You must always select one or more of the above tools and answer with only a list of JSON objects matching the following schema:\n",
    "\n",
    "```json\n",
    "[{{\n",
    "  \"tool\": <name of the selected tool>,\n",
    "  \"tool_input\": <parameters for the selected tool, matching the tool's JSON schema>\n",
    "}}]\n",
    "```\n",
    "\n",
    "Think step by step\n",
    "Do not call a tool if the input depends on another tool output you dont have yet\n",
    "Do not try to answer until you get tools output, if you dont have an answer yet you can continue calling tools\n",
    "\n",
    "<|eot_id|><|start_header_id|>user<|end_header_id|>\n",
    "User: {usr_msg} \n",
    "<|eot_id|><|start_header_id|>assistant<|end_header_id|>\n",
    "Assistant: {response_tools}\n",
    "\n",
    "<|eot_id|><|start_header_id|>tools<|end_header_id|>\n",
    "\n",
    "{tools_msgs}\n",
    "\n",
    "<|eot_id|><|start_header_id|>assistant<|end_header_id|>\n",
    "Assistant: \n",
    "\"\"\"\n",
    "response_prompt_template = PromptTemplate.from_template(response_prompt)\n",
    "\n",
    "new_prompt_template = {\"tools\" : lambda x:tools_schemas, \"usr_msg\" : lambda x:query, \"response_tools\": lambda x:response_tools, \"tools_msgs\":RunnablePassthrough()} | response_prompt_template\n",
    "new_chain =  new_prompt_template | llm | parser\n",
    "\n"
   ]
  },
  {
   "cell_type": "code",
   "execution_count": 424,
   "metadata": {},
   "outputs": [
    {
     "name": "stdout",
     "output_type": "stream",
     "text": [
      "[{'tool': 'calculator', 'tool_input': {'expression': '22 - 16'}}]\n"
     ]
    }
   ],
   "source": [
    "print(str(new_chain.invoke(tools_msgs)))"
   ]
  },
  {
   "cell_type": "code",
   "execution_count": 381,
   "metadata": {},
   "outputs": [],
   "source": []
  },
  {
   "cell_type": "code",
   "execution_count": null,
   "metadata": {},
   "outputs": [],
   "source": []
  }
 ],
 "metadata": {
  "language_info": {
   "name": "python"
  }
 },
 "nbformat": 4,
 "nbformat_minor": 2
}
