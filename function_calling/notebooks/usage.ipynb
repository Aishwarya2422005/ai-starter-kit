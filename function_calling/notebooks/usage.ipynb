{
 "cells": [
  {
   "cell_type": "code",
   "execution_count": 1,
   "metadata": {},
   "outputs": [],
   "source": [
    "import os\n",
    "import sys\n",
    "\n",
    "current_dir = os.getcwd()\n",
    "kit_dir = os.path.abspath(os.path.join(current_dir, \"..\")) \n",
    "repo_dir = os.path.abspath(os.path.join(kit_dir, \"..\"))\n",
    "\n",
    "sys.path.append(kit_dir)\n",
    "sys.path.append(repo_dir)"
   ]
  },
  {
   "cell_type": "code",
   "execution_count": 2,
   "metadata": {},
   "outputs": [],
   "source": [
    "from function_calling.src.function_calling  import FunctionCallingLlm\n",
    "from function_calling.src.tools import get_time, calculator, python_repl"
   ]
  },
  {
   "cell_type": "code",
   "execution_count": 3,
   "metadata": {},
   "outputs": [],
   "source": [
    "tools = [get_time, calculator, python_repl]"
   ]
  },
  {
   "cell_type": "code",
   "execution_count": 4,
   "metadata": {},
   "outputs": [],
   "source": [
    "fc = FunctionCallingLlm(\"sambaverse\", tools)"
   ]
  },
  {
   "cell_type": "code",
   "execution_count": 5,
   "metadata": {},
   "outputs": [
    {
     "name": "stdout",
     "output_type": "stream",
     "text": [
      "[SystemMessage(content='you are an helpful assistant and you have access to the following tools:\\n\\n{\\n  \"name\": \"get_time\",\\n  \"description\": \"Returns current date, current time or both.\",\\n  \"properties\": {\\n    \"kind\": {\\n      \"title\": \"Kind\",\\n      \"description\": \"kind of information to retrieve \\\\\"date\\\\\", \\\\\"time\\\\\" or \\\\\"both\\\\\"\",\\n      \"type\": \"string\"\\n    }\\n  }\\n}\\n{\\n  \"name\": \"calculator\",\\n  \"description\": \"allow calculation of only basic operations: + - * and /\\\\nwith a string input expression \",\\n  \"properties\": {\\n    \"expression\": {\\n      \"title\": \"Expression\",\\n      \"description\": \"expression to calculate, example \\'12 * 3\\'\",\\n      \"type\": \"string\"\\n    }\\n  }\\n}\\n{\\n  \"name\": \"python_repl\",\\n  \"description\": \"A Python shell. Use this to execute python commands. Input should be a valid python commands and expressions. If you want to see the output of a value, you should print it out with `print(...), if you need a specific module you should import it`.\",\\n  \"properties\": {\\n    \"command\": {\\n      \"title\": \"Command\",\\n      \"description\": \"python code to execute to evaluate\",\\n      \"type\": \"string\"\\n    }\\n  }\\n}\\n{\\n  \"name\": \"ConversationalResponse\",\\n  \"description\": \"Respond conversationally only if no other tools should be called for a given query, or if you have a final answer.\",\\n  \"properties\": {\\n    \"response\": {\\n      \"title\": \"Response\",\\n      \"description\": \"Conversational response to the user.\",\\n      \"type\": \"string\"\\n    }\\n  }\\n}\\n\\nYou must always select one or more of the above tools and answer with only a list of JSON objects matching the following schema:\\n\\n```json\\n[{\\n  \"tool\": <name of the selected tool>,\\n  \"tool_input\": <parameters for the selected tool, matching the tool\\'s JSON schema>\\n}]\\n```\\n\\nThink step by step\\nDo not call a tool if the input depends on another tool output you dont have yet\\nDo not try to answer until you get tools output, if you dont have an answer yet you can continue calling tools\\n\\n'),\n",
      " HumanMessage(content='hi'),\n",
      " AIMessage(content='[{\\n  \"tool\": \"ConversationalResponse\",\\n  \"tool_input\": {\\n    \"response\": \"Hi! How can I assist you today?\"\\n  }\\n}]')]\n"
     ]
    },
    {
     "data": {
      "text/plain": [
       "'Hi! How can I assist you today?'"
      ]
     },
     "execution_count": 5,
     "metadata": {},
     "output_type": "execute_result"
    }
   ],
   "source": [
    "fc.function_call_llm(\"hi\", debug=True)"
   ]
  },
  {
   "cell_type": "code",
   "execution_count": 6,
   "metadata": {},
   "outputs": [
    {
     "name": "stderr",
     "output_type": "stream",
     "text": [
      "/Users/jorgep/Documents/ask_public_own/fcenv/lib/python3.10/site-packages/langchain_core/_api/deprecation.py:119: LangChainDeprecationWarning: The method `BaseTool.__call__` was deprecated in langchain-core 0.1.47 and will be removed in 0.3.0. Use invoke instead.\n",
      "  warn_deprecated(\n",
      "Python REPL can execute arbitrary code. Use with caution.\n"
     ]
    },
    {
     "name": "stdout",
     "output_type": "stream",
     "text": [
      "[SystemMessage(content='you are an helpful assistant and you have access to the following tools:\\n\\n{\\n  \"name\": \"get_time\",\\n  \"description\": \"Returns current date, current time or both.\",\\n  \"properties\": {\\n    \"kind\": {\\n      \"title\": \"Kind\",\\n      \"description\": \"kind of information to retrieve \\\\\"date\\\\\", \\\\\"time\\\\\" or \\\\\"both\\\\\"\",\\n      \"type\": \"string\"\\n    }\\n  }\\n}\\n{\\n  \"name\": \"calculator\",\\n  \"description\": \"allow calculation of only basic operations: + - * and /\\\\nwith a string input expression \",\\n  \"properties\": {\\n    \"expression\": {\\n      \"title\": \"Expression\",\\n      \"description\": \"expression to calculate, example \\'12 * 3\\'\",\\n      \"type\": \"string\"\\n    }\\n  }\\n}\\n{\\n  \"name\": \"python_repl\",\\n  \"description\": \"A Python shell. Use this to execute python commands. Input should be a valid python commands and expressions. If you want to see the output of a value, you should print it out with `print(...), if you need a specific module you should import it`.\",\\n  \"properties\": {\\n    \"command\": {\\n      \"title\": \"Command\",\\n      \"description\": \"python code to execute to evaluate\",\\n      \"type\": \"string\"\\n    }\\n  }\\n}\\n{\\n  \"name\": \"ConversationalResponse\",\\n  \"description\": \"Respond conversationally only if no other tools should be called for a given query, or if you have a final answer.\",\\n  \"properties\": {\\n    \"response\": {\\n      \"title\": \"Response\",\\n      \"description\": \"Conversational response to the user.\",\\n      \"type\": \"string\"\\n    }\\n  }\\n}\\n\\nYou must always select one or more of the above tools and answer with only a list of JSON objects matching the following schema:\\n\\n```json\\n[{\\n  \"tool\": <name of the selected tool>,\\n  \"tool_input\": <parameters for the selected tool, matching the tool\\'s JSON schema>\\n}]\\n```\\n\\nThink step by step\\nDo not call a tool if the input depends on another tool output you dont have yet\\nDo not try to answer until you get tools output, if you dont have an answer yet you can continue calling tools\\n\\n'),\n",
      " HumanMessage(content=\"sort this list of elements alphabetically ['screwdriver', 'pliers', 'hammer']\"),\n",
      " AIMessage(content='[\\n  {\\n    \"tool\": \"python_repl\",\\n    \"tool_input\": {\\n      \"command\": \"print(sorted([\\'screwdriver\\', \\'pliers\\', \\'hammer\\']))\"\\n    }\\n  }\\n]'),\n",
      " ToolMessage(content=\"Tool 'python_repl'response: ['hammer', 'pliers', 'screwdriver']\\n\", tool_call_id='0'),\n",
      " AIMessage(content='[\\n  {\\n    \"tool\": \"ConversationalResponse\",\\n    \"tool_input\": {\\n      \"response\": \"The sorted list is: [\\'hammer\\', \\'pliers\\',\\'screwdriver\\']\"\\n    }\\n  }\\n]')]\n"
     ]
    },
    {
     "data": {
      "text/plain": [
       "\"The sorted list is: ['hammer', 'pliers','screwdriver']\""
      ]
     },
     "execution_count": 6,
     "metadata": {},
     "output_type": "execute_result"
    }
   ],
   "source": [
    "fc.function_call_llm(\"sort this list of elements alphabetically ['screwdriver', 'pliers', 'hammer']\", debug=True)"
   ]
  },
  {
   "cell_type": "code",
   "execution_count": null,
   "metadata": {},
   "outputs": [],
   "source": []
  }
 ],
 "metadata": {
  "kernelspec": {
   "display_name": "fcenv",
   "language": "python",
   "name": "python3"
  },
  "language_info": {
   "codemirror_mode": {
    "name": "ipython",
    "version": 3
   },
   "file_extension": ".py",
   "mimetype": "text/x-python",
   "name": "python",
   "nbconvert_exporter": "python",
   "pygments_lexer": "ipython3",
   "version": "3.10.11"
  }
 },
 "nbformat": 4,
 "nbformat_minor": 2
}
